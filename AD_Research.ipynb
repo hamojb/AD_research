{
  "nbformat": 4,
  "nbformat_minor": 0,
  "metadata": {
    "accelerator": "GPU",
    "colab": {
      "name": "AD Research.ipynb",
      "provenance": [],
      "collapsed_sections": [],
      "machine_shape": "hm",
      "mount_file_id": "1361K1Nw5_onthiXzaUHTL9jfZs0qB1M8",
      "authorship_tag": "ABX9TyOVmsO44PE3Ch2STn2V4Gyq",
      "include_colab_link": true
    },
    "kernelspec": {
      "display_name": "Python 3",
      "name": "python3"
    },
    "language_info": {
      "name": "python"
    },
    "widgets": {
      "application/vnd.jupyter.widget-state+json": {
        "150fd919beae487480cacb2a3a6f312b": {
          "model_module": "@jupyter-widgets/controls",
          "model_name": "HBoxModel",
          "model_module_version": "1.5.0",
          "state": {
            "_view_name": "HBoxView",
            "_dom_classes": [],
            "_model_name": "HBoxModel",
            "_view_module": "@jupyter-widgets/controls",
            "_model_module_version": "1.5.0",
            "_view_count": null,
            "_view_module_version": "1.5.0",
            "box_style": "",
            "layout": "IPY_MODEL_bf2294e28b4844118cb14f71f8fd2ca6",
            "_model_module": "@jupyter-widgets/controls",
            "children": [
              "IPY_MODEL_9f96752d8ded43c38cfec3c6e74e34da",
              "IPY_MODEL_adaa1da7199a4bc7aa9d95f5ab0d1448",
              "IPY_MODEL_a92473c295d34402953346be37b520c4"
            ]
          }
        },
        "bf2294e28b4844118cb14f71f8fd2ca6": {
          "model_module": "@jupyter-widgets/base",
          "model_name": "LayoutModel",
          "model_module_version": "1.2.0",
          "state": {
            "_view_name": "LayoutView",
            "grid_template_rows": null,
            "right": null,
            "justify_content": null,
            "_view_module": "@jupyter-widgets/base",
            "overflow": null,
            "_model_module_version": "1.2.0",
            "_view_count": null,
            "flex_flow": null,
            "width": null,
            "min_width": null,
            "border": null,
            "align_items": null,
            "bottom": null,
            "_model_module": "@jupyter-widgets/base",
            "top": null,
            "grid_column": null,
            "overflow_y": null,
            "overflow_x": null,
            "grid_auto_flow": null,
            "grid_area": null,
            "grid_template_columns": null,
            "flex": null,
            "_model_name": "LayoutModel",
            "justify_items": null,
            "grid_row": null,
            "max_height": null,
            "align_content": null,
            "visibility": null,
            "align_self": null,
            "height": null,
            "min_height": null,
            "padding": null,
            "grid_auto_rows": null,
            "grid_gap": null,
            "max_width": null,
            "order": null,
            "_view_module_version": "1.2.0",
            "grid_template_areas": null,
            "object_position": null,
            "object_fit": null,
            "grid_auto_columns": null,
            "margin": null,
            "display": null,
            "left": null
          }
        },
        "9f96752d8ded43c38cfec3c6e74e34da": {
          "model_module": "@jupyter-widgets/controls",
          "model_name": "HTMLModel",
          "model_module_version": "1.5.0",
          "state": {
            "_view_name": "HTMLView",
            "style": "IPY_MODEL_6f89a25f9b564aca8bc0c238caa47649",
            "_dom_classes": [],
            "description": "",
            "_model_name": "HTMLModel",
            "placeholder": "​",
            "_view_module": "@jupyter-widgets/controls",
            "_model_module_version": "1.5.0",
            "value": "100%",
            "_view_count": null,
            "_view_module_version": "1.5.0",
            "description_tooltip": null,
            "_model_module": "@jupyter-widgets/controls",
            "layout": "IPY_MODEL_597899f269dc42a493281a2909a972e1"
          }
        },
        "adaa1da7199a4bc7aa9d95f5ab0d1448": {
          "model_module": "@jupyter-widgets/controls",
          "model_name": "FloatProgressModel",
          "model_module_version": "1.5.0",
          "state": {
            "_view_name": "ProgressView",
            "style": "IPY_MODEL_25a126eed9b046bb860cf4c4e2254a3a",
            "_dom_classes": [],
            "description": "",
            "_model_name": "FloatProgressModel",
            "bar_style": "success",
            "max": 56,
            "_view_module": "@jupyter-widgets/controls",
            "_model_module_version": "1.5.0",
            "value": 56,
            "_view_count": null,
            "_view_module_version": "1.5.0",
            "orientation": "horizontal",
            "min": 0,
            "description_tooltip": null,
            "_model_module": "@jupyter-widgets/controls",
            "layout": "IPY_MODEL_383116bd6d114869af1bf61694eb7338"
          }
        },
        "a92473c295d34402953346be37b520c4": {
          "model_module": "@jupyter-widgets/controls",
          "model_name": "HTMLModel",
          "model_module_version": "1.5.0",
          "state": {
            "_view_name": "HTMLView",
            "style": "IPY_MODEL_eee2a254abf847b991adac3169dbbcac",
            "_dom_classes": [],
            "description": "",
            "_model_name": "HTMLModel",
            "placeholder": "​",
            "_view_module": "@jupyter-widgets/controls",
            "_model_module_version": "1.5.0",
            "value": " 56/56 [05:36&lt;00:00,  6.01s/it]",
            "_view_count": null,
            "_view_module_version": "1.5.0",
            "description_tooltip": null,
            "_model_module": "@jupyter-widgets/controls",
            "layout": "IPY_MODEL_1add0b7b4052462e9018e769c38ef54a"
          }
        },
        "6f89a25f9b564aca8bc0c238caa47649": {
          "model_module": "@jupyter-widgets/controls",
          "model_name": "DescriptionStyleModel",
          "model_module_version": "1.5.0",
          "state": {
            "_view_name": "StyleView",
            "_model_name": "DescriptionStyleModel",
            "description_width": "",
            "_view_module": "@jupyter-widgets/base",
            "_model_module_version": "1.5.0",
            "_view_count": null,
            "_view_module_version": "1.2.0",
            "_model_module": "@jupyter-widgets/controls"
          }
        },
        "597899f269dc42a493281a2909a972e1": {
          "model_module": "@jupyter-widgets/base",
          "model_name": "LayoutModel",
          "model_module_version": "1.2.0",
          "state": {
            "_view_name": "LayoutView",
            "grid_template_rows": null,
            "right": null,
            "justify_content": null,
            "_view_module": "@jupyter-widgets/base",
            "overflow": null,
            "_model_module_version": "1.2.0",
            "_view_count": null,
            "flex_flow": null,
            "width": null,
            "min_width": null,
            "border": null,
            "align_items": null,
            "bottom": null,
            "_model_module": "@jupyter-widgets/base",
            "top": null,
            "grid_column": null,
            "overflow_y": null,
            "overflow_x": null,
            "grid_auto_flow": null,
            "grid_area": null,
            "grid_template_columns": null,
            "flex": null,
            "_model_name": "LayoutModel",
            "justify_items": null,
            "grid_row": null,
            "max_height": null,
            "align_content": null,
            "visibility": null,
            "align_self": null,
            "height": null,
            "min_height": null,
            "padding": null,
            "grid_auto_rows": null,
            "grid_gap": null,
            "max_width": null,
            "order": null,
            "_view_module_version": "1.2.0",
            "grid_template_areas": null,
            "object_position": null,
            "object_fit": null,
            "grid_auto_columns": null,
            "margin": null,
            "display": null,
            "left": null
          }
        },
        "25a126eed9b046bb860cf4c4e2254a3a": {
          "model_module": "@jupyter-widgets/controls",
          "model_name": "ProgressStyleModel",
          "model_module_version": "1.5.0",
          "state": {
            "_view_name": "StyleView",
            "_model_name": "ProgressStyleModel",
            "description_width": "",
            "_view_module": "@jupyter-widgets/base",
            "_model_module_version": "1.5.0",
            "_view_count": null,
            "_view_module_version": "1.2.0",
            "bar_color": null,
            "_model_module": "@jupyter-widgets/controls"
          }
        },
        "383116bd6d114869af1bf61694eb7338": {
          "model_module": "@jupyter-widgets/base",
          "model_name": "LayoutModel",
          "model_module_version": "1.2.0",
          "state": {
            "_view_name": "LayoutView",
            "grid_template_rows": null,
            "right": null,
            "justify_content": null,
            "_view_module": "@jupyter-widgets/base",
            "overflow": null,
            "_model_module_version": "1.2.0",
            "_view_count": null,
            "flex_flow": null,
            "width": null,
            "min_width": null,
            "border": null,
            "align_items": null,
            "bottom": null,
            "_model_module": "@jupyter-widgets/base",
            "top": null,
            "grid_column": null,
            "overflow_y": null,
            "overflow_x": null,
            "grid_auto_flow": null,
            "grid_area": null,
            "grid_template_columns": null,
            "flex": null,
            "_model_name": "LayoutModel",
            "justify_items": null,
            "grid_row": null,
            "max_height": null,
            "align_content": null,
            "visibility": null,
            "align_self": null,
            "height": null,
            "min_height": null,
            "padding": null,
            "grid_auto_rows": null,
            "grid_gap": null,
            "max_width": null,
            "order": null,
            "_view_module_version": "1.2.0",
            "grid_template_areas": null,
            "object_position": null,
            "object_fit": null,
            "grid_auto_columns": null,
            "margin": null,
            "display": null,
            "left": null
          }
        },
        "eee2a254abf847b991adac3169dbbcac": {
          "model_module": "@jupyter-widgets/controls",
          "model_name": "DescriptionStyleModel",
          "model_module_version": "1.5.0",
          "state": {
            "_view_name": "StyleView",
            "_model_name": "DescriptionStyleModel",
            "description_width": "",
            "_view_module": "@jupyter-widgets/base",
            "_model_module_version": "1.5.0",
            "_view_count": null,
            "_view_module_version": "1.2.0",
            "_model_module": "@jupyter-widgets/controls"
          }
        },
        "1add0b7b4052462e9018e769c38ef54a": {
          "model_module": "@jupyter-widgets/base",
          "model_name": "LayoutModel",
          "model_module_version": "1.2.0",
          "state": {
            "_view_name": "LayoutView",
            "grid_template_rows": null,
            "right": null,
            "justify_content": null,
            "_view_module": "@jupyter-widgets/base",
            "overflow": null,
            "_model_module_version": "1.2.0",
            "_view_count": null,
            "flex_flow": null,
            "width": null,
            "min_width": null,
            "border": null,
            "align_items": null,
            "bottom": null,
            "_model_module": "@jupyter-widgets/base",
            "top": null,
            "grid_column": null,
            "overflow_y": null,
            "overflow_x": null,
            "grid_auto_flow": null,
            "grid_area": null,
            "grid_template_columns": null,
            "flex": null,
            "_model_name": "LayoutModel",
            "justify_items": null,
            "grid_row": null,
            "max_height": null,
            "align_content": null,
            "visibility": null,
            "align_self": null,
            "height": null,
            "min_height": null,
            "padding": null,
            "grid_auto_rows": null,
            "grid_gap": null,
            "max_width": null,
            "order": null,
            "_view_module_version": "1.2.0",
            "grid_template_areas": null,
            "object_position": null,
            "object_fit": null,
            "grid_auto_columns": null,
            "margin": null,
            "display": null,
            "left": null
          }
        },
        "dc636d79ffe249818635be559d4c5b75": {
          "model_module": "@jupyter-widgets/controls",
          "model_name": "HBoxModel",
          "model_module_version": "1.5.0",
          "state": {
            "_view_name": "HBoxView",
            "_dom_classes": [],
            "_model_name": "HBoxModel",
            "_view_module": "@jupyter-widgets/controls",
            "_model_module_version": "1.5.0",
            "_view_count": null,
            "_view_module_version": "1.5.0",
            "box_style": "",
            "layout": "IPY_MODEL_0e230d7f5eb94f24b4a37fdcf3a1db32",
            "_model_module": "@jupyter-widgets/controls",
            "children": [
              "IPY_MODEL_d5ea4410c9a34b40b5658b3630374244",
              "IPY_MODEL_3bf1091f4fc84ab4a4516d197bad7078",
              "IPY_MODEL_7cbb7308d0eb491284fd4f2e5c463bd7"
            ]
          }
        },
        "0e230d7f5eb94f24b4a37fdcf3a1db32": {
          "model_module": "@jupyter-widgets/base",
          "model_name": "LayoutModel",
          "model_module_version": "1.2.0",
          "state": {
            "_view_name": "LayoutView",
            "grid_template_rows": null,
            "right": null,
            "justify_content": null,
            "_view_module": "@jupyter-widgets/base",
            "overflow": null,
            "_model_module_version": "1.2.0",
            "_view_count": null,
            "flex_flow": null,
            "width": null,
            "min_width": null,
            "border": null,
            "align_items": null,
            "bottom": null,
            "_model_module": "@jupyter-widgets/base",
            "top": null,
            "grid_column": null,
            "overflow_y": null,
            "overflow_x": null,
            "grid_auto_flow": null,
            "grid_area": null,
            "grid_template_columns": null,
            "flex": null,
            "_model_name": "LayoutModel",
            "justify_items": null,
            "grid_row": null,
            "max_height": null,
            "align_content": null,
            "visibility": null,
            "align_self": null,
            "height": null,
            "min_height": null,
            "padding": null,
            "grid_auto_rows": null,
            "grid_gap": null,
            "max_width": null,
            "order": null,
            "_view_module_version": "1.2.0",
            "grid_template_areas": null,
            "object_position": null,
            "object_fit": null,
            "grid_auto_columns": null,
            "margin": null,
            "display": null,
            "left": null
          }
        },
        "d5ea4410c9a34b40b5658b3630374244": {
          "model_module": "@jupyter-widgets/controls",
          "model_name": "HTMLModel",
          "model_module_version": "1.5.0",
          "state": {
            "_view_name": "HTMLView",
            "style": "IPY_MODEL_5da11f7ae5cd4952932aaa953bf30056",
            "_dom_classes": [],
            "description": "",
            "_model_name": "HTMLModel",
            "placeholder": "​",
            "_view_module": "@jupyter-widgets/controls",
            "_model_module_version": "1.5.0",
            "value": "100%",
            "_view_count": null,
            "_view_module_version": "1.5.0",
            "description_tooltip": null,
            "_model_module": "@jupyter-widgets/controls",
            "layout": "IPY_MODEL_a465740850104cf1888762d6d3079e97"
          }
        },
        "3bf1091f4fc84ab4a4516d197bad7078": {
          "model_module": "@jupyter-widgets/controls",
          "model_name": "FloatProgressModel",
          "model_module_version": "1.5.0",
          "state": {
            "_view_name": "ProgressView",
            "style": "IPY_MODEL_e8b0e8f7151a4615abaaca12a15187df",
            "_dom_classes": [],
            "description": "",
            "_model_name": "FloatProgressModel",
            "bar_style": "success",
            "max": 171,
            "_view_module": "@jupyter-widgets/controls",
            "_model_module_version": "1.5.0",
            "value": 171,
            "_view_count": null,
            "_view_module_version": "1.5.0",
            "orientation": "horizontal",
            "min": 0,
            "description_tooltip": null,
            "_model_module": "@jupyter-widgets/controls",
            "layout": "IPY_MODEL_fb1b0ba035434000843b746e07832cf3"
          }
        },
        "7cbb7308d0eb491284fd4f2e5c463bd7": {
          "model_module": "@jupyter-widgets/controls",
          "model_name": "HTMLModel",
          "model_module_version": "1.5.0",
          "state": {
            "_view_name": "HTMLView",
            "style": "IPY_MODEL_2f25223e29514a12a1b20df609753e84",
            "_dom_classes": [],
            "description": "",
            "_model_name": "HTMLModel",
            "placeholder": "​",
            "_view_module": "@jupyter-widgets/controls",
            "_model_module_version": "1.5.0",
            "value": " 171/171 [14:06&lt;00:00,  4.67s/it]",
            "_view_count": null,
            "_view_module_version": "1.5.0",
            "description_tooltip": null,
            "_model_module": "@jupyter-widgets/controls",
            "layout": "IPY_MODEL_72156f1a187544d69e14f49bb0d0d829"
          }
        },
        "5da11f7ae5cd4952932aaa953bf30056": {
          "model_module": "@jupyter-widgets/controls",
          "model_name": "DescriptionStyleModel",
          "model_module_version": "1.5.0",
          "state": {
            "_view_name": "StyleView",
            "_model_name": "DescriptionStyleModel",
            "description_width": "",
            "_view_module": "@jupyter-widgets/base",
            "_model_module_version": "1.5.0",
            "_view_count": null,
            "_view_module_version": "1.2.0",
            "_model_module": "@jupyter-widgets/controls"
          }
        },
        "a465740850104cf1888762d6d3079e97": {
          "model_module": "@jupyter-widgets/base",
          "model_name": "LayoutModel",
          "model_module_version": "1.2.0",
          "state": {
            "_view_name": "LayoutView",
            "grid_template_rows": null,
            "right": null,
            "justify_content": null,
            "_view_module": "@jupyter-widgets/base",
            "overflow": null,
            "_model_module_version": "1.2.0",
            "_view_count": null,
            "flex_flow": null,
            "width": null,
            "min_width": null,
            "border": null,
            "align_items": null,
            "bottom": null,
            "_model_module": "@jupyter-widgets/base",
            "top": null,
            "grid_column": null,
            "overflow_y": null,
            "overflow_x": null,
            "grid_auto_flow": null,
            "grid_area": null,
            "grid_template_columns": null,
            "flex": null,
            "_model_name": "LayoutModel",
            "justify_items": null,
            "grid_row": null,
            "max_height": null,
            "align_content": null,
            "visibility": null,
            "align_self": null,
            "height": null,
            "min_height": null,
            "padding": null,
            "grid_auto_rows": null,
            "grid_gap": null,
            "max_width": null,
            "order": null,
            "_view_module_version": "1.2.0",
            "grid_template_areas": null,
            "object_position": null,
            "object_fit": null,
            "grid_auto_columns": null,
            "margin": null,
            "display": null,
            "left": null
          }
        },
        "e8b0e8f7151a4615abaaca12a15187df": {
          "model_module": "@jupyter-widgets/controls",
          "model_name": "ProgressStyleModel",
          "model_module_version": "1.5.0",
          "state": {
            "_view_name": "StyleView",
            "_model_name": "ProgressStyleModel",
            "description_width": "",
            "_view_module": "@jupyter-widgets/base",
            "_model_module_version": "1.5.0",
            "_view_count": null,
            "_view_module_version": "1.2.0",
            "bar_color": null,
            "_model_module": "@jupyter-widgets/controls"
          }
        },
        "fb1b0ba035434000843b746e07832cf3": {
          "model_module": "@jupyter-widgets/base",
          "model_name": "LayoutModel",
          "model_module_version": "1.2.0",
          "state": {
            "_view_name": "LayoutView",
            "grid_template_rows": null,
            "right": null,
            "justify_content": null,
            "_view_module": "@jupyter-widgets/base",
            "overflow": null,
            "_model_module_version": "1.2.0",
            "_view_count": null,
            "flex_flow": null,
            "width": null,
            "min_width": null,
            "border": null,
            "align_items": null,
            "bottom": null,
            "_model_module": "@jupyter-widgets/base",
            "top": null,
            "grid_column": null,
            "overflow_y": null,
            "overflow_x": null,
            "grid_auto_flow": null,
            "grid_area": null,
            "grid_template_columns": null,
            "flex": null,
            "_model_name": "LayoutModel",
            "justify_items": null,
            "grid_row": null,
            "max_height": null,
            "align_content": null,
            "visibility": null,
            "align_self": null,
            "height": null,
            "min_height": null,
            "padding": null,
            "grid_auto_rows": null,
            "grid_gap": null,
            "max_width": null,
            "order": null,
            "_view_module_version": "1.2.0",
            "grid_template_areas": null,
            "object_position": null,
            "object_fit": null,
            "grid_auto_columns": null,
            "margin": null,
            "display": null,
            "left": null
          }
        },
        "2f25223e29514a12a1b20df609753e84": {
          "model_module": "@jupyter-widgets/controls",
          "model_name": "DescriptionStyleModel",
          "model_module_version": "1.5.0",
          "state": {
            "_view_name": "StyleView",
            "_model_name": "DescriptionStyleModel",
            "description_width": "",
            "_view_module": "@jupyter-widgets/base",
            "_model_module_version": "1.5.0",
            "_view_count": null,
            "_view_module_version": "1.2.0",
            "_model_module": "@jupyter-widgets/controls"
          }
        },
        "72156f1a187544d69e14f49bb0d0d829": {
          "model_module": "@jupyter-widgets/base",
          "model_name": "LayoutModel",
          "model_module_version": "1.2.0",
          "state": {
            "_view_name": "LayoutView",
            "grid_template_rows": null,
            "right": null,
            "justify_content": null,
            "_view_module": "@jupyter-widgets/base",
            "overflow": null,
            "_model_module_version": "1.2.0",
            "_view_count": null,
            "flex_flow": null,
            "width": null,
            "min_width": null,
            "border": null,
            "align_items": null,
            "bottom": null,
            "_model_module": "@jupyter-widgets/base",
            "top": null,
            "grid_column": null,
            "overflow_y": null,
            "overflow_x": null,
            "grid_auto_flow": null,
            "grid_area": null,
            "grid_template_columns": null,
            "flex": null,
            "_model_name": "LayoutModel",
            "justify_items": null,
            "grid_row": null,
            "max_height": null,
            "align_content": null,
            "visibility": null,
            "align_self": null,
            "height": null,
            "min_height": null,
            "padding": null,
            "grid_auto_rows": null,
            "grid_gap": null,
            "max_width": null,
            "order": null,
            "_view_module_version": "1.2.0",
            "grid_template_areas": null,
            "object_position": null,
            "object_fit": null,
            "grid_auto_columns": null,
            "margin": null,
            "display": null,
            "left": null
          }
        },
        "d2bac85c59744f4cbb139cb97233d984": {
          "model_module": "@jupyter-widgets/controls",
          "model_name": "HBoxModel",
          "model_module_version": "1.5.0",
          "state": {
            "_view_name": "HBoxView",
            "_dom_classes": [],
            "_model_name": "HBoxModel",
            "_view_module": "@jupyter-widgets/controls",
            "_model_module_version": "1.5.0",
            "_view_count": null,
            "_view_module_version": "1.5.0",
            "box_style": "",
            "layout": "IPY_MODEL_7ce65a08e9cc435a95dd7fb920662cb8",
            "_model_module": "@jupyter-widgets/controls",
            "children": [
              "IPY_MODEL_68e3c4522cd74fc4b4b1b6593299c40a",
              "IPY_MODEL_5a26efe126b248838085da1e6f54b390",
              "IPY_MODEL_9811e248f7494cb7ba89d8950cb47a35"
            ]
          }
        },
        "7ce65a08e9cc435a95dd7fb920662cb8": {
          "model_module": "@jupyter-widgets/base",
          "model_name": "LayoutModel",
          "model_module_version": "1.2.0",
          "state": {
            "_view_name": "LayoutView",
            "grid_template_rows": null,
            "right": null,
            "justify_content": null,
            "_view_module": "@jupyter-widgets/base",
            "overflow": null,
            "_model_module_version": "1.2.0",
            "_view_count": null,
            "flex_flow": null,
            "width": null,
            "min_width": null,
            "border": null,
            "align_items": null,
            "bottom": null,
            "_model_module": "@jupyter-widgets/base",
            "top": null,
            "grid_column": null,
            "overflow_y": null,
            "overflow_x": null,
            "grid_auto_flow": null,
            "grid_area": null,
            "grid_template_columns": null,
            "flex": null,
            "_model_name": "LayoutModel",
            "justify_items": null,
            "grid_row": null,
            "max_height": null,
            "align_content": null,
            "visibility": null,
            "align_self": null,
            "height": null,
            "min_height": null,
            "padding": null,
            "grid_auto_rows": null,
            "grid_gap": null,
            "max_width": null,
            "order": null,
            "_view_module_version": "1.2.0",
            "grid_template_areas": null,
            "object_position": null,
            "object_fit": null,
            "grid_auto_columns": null,
            "margin": null,
            "display": null,
            "left": null
          }
        },
        "68e3c4522cd74fc4b4b1b6593299c40a": {
          "model_module": "@jupyter-widgets/controls",
          "model_name": "HTMLModel",
          "model_module_version": "1.5.0",
          "state": {
            "_view_name": "HTMLView",
            "style": "IPY_MODEL_d9b537333c134db6bd0d90839c5fa7d1",
            "_dom_classes": [],
            "description": "",
            "_model_name": "HTMLModel",
            "placeholder": "​",
            "_view_module": "@jupyter-widgets/controls",
            "_model_module_version": "1.5.0",
            "value": "Downloading: 100%",
            "_view_count": null,
            "_view_module_version": "1.5.0",
            "description_tooltip": null,
            "_model_module": "@jupyter-widgets/controls",
            "layout": "IPY_MODEL_f7cacfe5d8f24918b6800ec46f1eec78"
          }
        },
        "5a26efe126b248838085da1e6f54b390": {
          "model_module": "@jupyter-widgets/controls",
          "model_name": "FloatProgressModel",
          "model_module_version": "1.5.0",
          "state": {
            "_view_name": "ProgressView",
            "style": "IPY_MODEL_94d22e4309e945fb9cf670e7a62906c9",
            "_dom_classes": [],
            "description": "",
            "_model_name": "FloatProgressModel",
            "bar_style": "success",
            "max": 287,
            "_view_module": "@jupyter-widgets/controls",
            "_model_module_version": "1.5.0",
            "value": 287,
            "_view_count": null,
            "_view_module_version": "1.5.0",
            "orientation": "horizontal",
            "min": 0,
            "description_tooltip": null,
            "_model_module": "@jupyter-widgets/controls",
            "layout": "IPY_MODEL_4ca484d451864cc38216e0458d5d29b7"
          }
        },
        "9811e248f7494cb7ba89d8950cb47a35": {
          "model_module": "@jupyter-widgets/controls",
          "model_name": "HTMLModel",
          "model_module_version": "1.5.0",
          "state": {
            "_view_name": "HTMLView",
            "style": "IPY_MODEL_91088efcc4e0462987d35689afc68503",
            "_dom_classes": [],
            "description": "",
            "_model_name": "HTMLModel",
            "placeholder": "​",
            "_view_module": "@jupyter-widgets/controls",
            "_model_module_version": "1.5.0",
            "value": " 287/287 [00:00&lt;00:00, 9.85kB/s]",
            "_view_count": null,
            "_view_module_version": "1.5.0",
            "description_tooltip": null,
            "_model_module": "@jupyter-widgets/controls",
            "layout": "IPY_MODEL_a109be336ede4034a04d1f02d044e7a1"
          }
        },
        "d9b537333c134db6bd0d90839c5fa7d1": {
          "model_module": "@jupyter-widgets/controls",
          "model_name": "DescriptionStyleModel",
          "model_module_version": "1.5.0",
          "state": {
            "_view_name": "StyleView",
            "_model_name": "DescriptionStyleModel",
            "description_width": "",
            "_view_module": "@jupyter-widgets/base",
            "_model_module_version": "1.5.0",
            "_view_count": null,
            "_view_module_version": "1.2.0",
            "_model_module": "@jupyter-widgets/controls"
          }
        },
        "f7cacfe5d8f24918b6800ec46f1eec78": {
          "model_module": "@jupyter-widgets/base",
          "model_name": "LayoutModel",
          "model_module_version": "1.2.0",
          "state": {
            "_view_name": "LayoutView",
            "grid_template_rows": null,
            "right": null,
            "justify_content": null,
            "_view_module": "@jupyter-widgets/base",
            "overflow": null,
            "_model_module_version": "1.2.0",
            "_view_count": null,
            "flex_flow": null,
            "width": null,
            "min_width": null,
            "border": null,
            "align_items": null,
            "bottom": null,
            "_model_module": "@jupyter-widgets/base",
            "top": null,
            "grid_column": null,
            "overflow_y": null,
            "overflow_x": null,
            "grid_auto_flow": null,
            "grid_area": null,
            "grid_template_columns": null,
            "flex": null,
            "_model_name": "LayoutModel",
            "justify_items": null,
            "grid_row": null,
            "max_height": null,
            "align_content": null,
            "visibility": null,
            "align_self": null,
            "height": null,
            "min_height": null,
            "padding": null,
            "grid_auto_rows": null,
            "grid_gap": null,
            "max_width": null,
            "order": null,
            "_view_module_version": "1.2.0",
            "grid_template_areas": null,
            "object_position": null,
            "object_fit": null,
            "grid_auto_columns": null,
            "margin": null,
            "display": null,
            "left": null
          }
        },
        "94d22e4309e945fb9cf670e7a62906c9": {
          "model_module": "@jupyter-widgets/controls",
          "model_name": "ProgressStyleModel",
          "model_module_version": "1.5.0",
          "state": {
            "_view_name": "StyleView",
            "_model_name": "ProgressStyleModel",
            "description_width": "",
            "_view_module": "@jupyter-widgets/base",
            "_model_module_version": "1.5.0",
            "_view_count": null,
            "_view_module_version": "1.2.0",
            "bar_color": null,
            "_model_module": "@jupyter-widgets/controls"
          }
        },
        "4ca484d451864cc38216e0458d5d29b7": {
          "model_module": "@jupyter-widgets/base",
          "model_name": "LayoutModel",
          "model_module_version": "1.2.0",
          "state": {
            "_view_name": "LayoutView",
            "grid_template_rows": null,
            "right": null,
            "justify_content": null,
            "_view_module": "@jupyter-widgets/base",
            "overflow": null,
            "_model_module_version": "1.2.0",
            "_view_count": null,
            "flex_flow": null,
            "width": null,
            "min_width": null,
            "border": null,
            "align_items": null,
            "bottom": null,
            "_model_module": "@jupyter-widgets/base",
            "top": null,
            "grid_column": null,
            "overflow_y": null,
            "overflow_x": null,
            "grid_auto_flow": null,
            "grid_area": null,
            "grid_template_columns": null,
            "flex": null,
            "_model_name": "LayoutModel",
            "justify_items": null,
            "grid_row": null,
            "max_height": null,
            "align_content": null,
            "visibility": null,
            "align_self": null,
            "height": null,
            "min_height": null,
            "padding": null,
            "grid_auto_rows": null,
            "grid_gap": null,
            "max_width": null,
            "order": null,
            "_view_module_version": "1.2.0",
            "grid_template_areas": null,
            "object_position": null,
            "object_fit": null,
            "grid_auto_columns": null,
            "margin": null,
            "display": null,
            "left": null
          }
        },
        "91088efcc4e0462987d35689afc68503": {
          "model_module": "@jupyter-widgets/controls",
          "model_name": "DescriptionStyleModel",
          "model_module_version": "1.5.0",
          "state": {
            "_view_name": "StyleView",
            "_model_name": "DescriptionStyleModel",
            "description_width": "",
            "_view_module": "@jupyter-widgets/base",
            "_model_module_version": "1.5.0",
            "_view_count": null,
            "_view_module_version": "1.2.0",
            "_model_module": "@jupyter-widgets/controls"
          }
        },
        "a109be336ede4034a04d1f02d044e7a1": {
          "model_module": "@jupyter-widgets/base",
          "model_name": "LayoutModel",
          "model_module_version": "1.2.0",
          "state": {
            "_view_name": "LayoutView",
            "grid_template_rows": null,
            "right": null,
            "justify_content": null,
            "_view_module": "@jupyter-widgets/base",
            "overflow": null,
            "_model_module_version": "1.2.0",
            "_view_count": null,
            "flex_flow": null,
            "width": null,
            "min_width": null,
            "border": null,
            "align_items": null,
            "bottom": null,
            "_model_module": "@jupyter-widgets/base",
            "top": null,
            "grid_column": null,
            "overflow_y": null,
            "overflow_x": null,
            "grid_auto_flow": null,
            "grid_area": null,
            "grid_template_columns": null,
            "flex": null,
            "_model_name": "LayoutModel",
            "justify_items": null,
            "grid_row": null,
            "max_height": null,
            "align_content": null,
            "visibility": null,
            "align_self": null,
            "height": null,
            "min_height": null,
            "padding": null,
            "grid_auto_rows": null,
            "grid_gap": null,
            "max_width": null,
            "order": null,
            "_view_module_version": "1.2.0",
            "grid_template_areas": null,
            "object_position": null,
            "object_fit": null,
            "grid_auto_columns": null,
            "margin": null,
            "display": null,
            "left": null
          }
        }
      }
    }
  },
  "cells": [
    {
      "cell_type": "markdown",
      "metadata": {
        "id": "view-in-github",
        "colab_type": "text"
      },
      "source": [
        "<a href=\"https://colab.research.google.com/github/hamojb/AD_research/blob/main/AD_Research.ipynb\" target=\"_parent\"><img src=\"https://colab.research.google.com/assets/colab-badge.svg\" alt=\"Open In Colab\"/></a>"
      ]
    },
    {
      "cell_type": "markdown",
      "metadata": {
        "id": "xssThehrxsOQ"
      },
      "source": [
        "# Final Notebook\n",
        "\n",
        "## Contents\n",
        "\n",
        "1. Helper Functions \n",
        "\n",
        "2. Data Exploration\n",
        "\n",
        "3. Patient Data Cleaning and Manipulation \n",
        "\n",
        "4. Reading Scans\n",
        "\n",
        "5. Build Model Architecture"
      ]
    },
    {
      "cell_type": "code",
      "metadata": {
        "colab": {
          "base_uri": "https://localhost:8080/"
        },
        "id": "99QqNvOvxn5n",
        "outputId": "739f7b41-82a1-4f5a-c017-22258d05db3f"
      },
      "source": [
        "from google.colab import drive\n",
        "drive.mount('/drive')"
      ],
      "execution_count": 1,
      "outputs": [
        {
          "output_type": "stream",
          "name": "stdout",
          "text": [
            "Mounted at /drive\n"
          ]
        }
      ]
    },
    {
      "cell_type": "code",
      "metadata": {
        "colab": {
          "base_uri": "https://localhost:8080/"
        },
        "id": "0_lA9fNidWgP",
        "outputId": "b3e0e4a3-75c9-43a1-e7be-9422a359beff"
      },
      "source": [
        "!pip install transformers "
      ],
      "execution_count": 2,
      "outputs": [
        {
          "output_type": "stream",
          "name": "stdout",
          "text": [
            "Collecting transformers\n",
            "  Downloading transformers-4.11.3-py3-none-any.whl (2.9 MB)\n",
            "\u001b[K     |████████████████████████████████| 2.9 MB 6.7 MB/s \n",
            "\u001b[?25hRequirement already satisfied: packaging>=20.0 in /usr/local/lib/python3.7/dist-packages (from transformers) (21.0)\n",
            "Requirement already satisfied: requests in /usr/local/lib/python3.7/dist-packages (from transformers) (2.23.0)\n",
            "Collecting huggingface-hub>=0.0.17\n",
            "  Downloading huggingface_hub-0.0.19-py3-none-any.whl (56 kB)\n",
            "\u001b[K     |████████████████████████████████| 56 kB 5.8 MB/s \n",
            "\u001b[?25hCollecting pyyaml>=5.1\n",
            "  Downloading PyYAML-5.4.1-cp37-cp37m-manylinux1_x86_64.whl (636 kB)\n",
            "\u001b[K     |████████████████████████████████| 636 kB 74.5 MB/s \n",
            "\u001b[?25hCollecting sacremoses\n",
            "  Downloading sacremoses-0.0.46-py3-none-any.whl (895 kB)\n",
            "\u001b[K     |████████████████████████████████| 895 kB 93.4 MB/s \n",
            "\u001b[?25hRequirement already satisfied: importlib-metadata in /usr/local/lib/python3.7/dist-packages (from transformers) (4.8.1)\n",
            "Requirement already satisfied: regex!=2019.12.17 in /usr/local/lib/python3.7/dist-packages (from transformers) (2019.12.20)\n",
            "Requirement already satisfied: filelock in /usr/local/lib/python3.7/dist-packages (from transformers) (3.3.0)\n",
            "Requirement already satisfied: numpy>=1.17 in /usr/local/lib/python3.7/dist-packages (from transformers) (1.19.5)\n",
            "Requirement already satisfied: tqdm>=4.27 in /usr/local/lib/python3.7/dist-packages (from transformers) (4.62.3)\n",
            "Collecting tokenizers<0.11,>=0.10.1\n",
            "  Downloading tokenizers-0.10.3-cp37-cp37m-manylinux_2_5_x86_64.manylinux1_x86_64.manylinux_2_12_x86_64.manylinux2010_x86_64.whl (3.3 MB)\n",
            "\u001b[K     |████████████████████████████████| 3.3 MB 73.3 MB/s \n",
            "\u001b[?25hRequirement already satisfied: typing-extensions in /usr/local/lib/python3.7/dist-packages (from huggingface-hub>=0.0.17->transformers) (3.7.4.3)\n",
            "Requirement already satisfied: pyparsing>=2.0.2 in /usr/local/lib/python3.7/dist-packages (from packaging>=20.0->transformers) (2.4.7)\n",
            "Requirement already satisfied: zipp>=0.5 in /usr/local/lib/python3.7/dist-packages (from importlib-metadata->transformers) (3.6.0)\n",
            "Requirement already satisfied: urllib3!=1.25.0,!=1.25.1,<1.26,>=1.21.1 in /usr/local/lib/python3.7/dist-packages (from requests->transformers) (1.24.3)\n",
            "Requirement already satisfied: idna<3,>=2.5 in /usr/local/lib/python3.7/dist-packages (from requests->transformers) (2.10)\n",
            "Requirement already satisfied: certifi>=2017.4.17 in /usr/local/lib/python3.7/dist-packages (from requests->transformers) (2021.5.30)\n",
            "Requirement already satisfied: chardet<4,>=3.0.2 in /usr/local/lib/python3.7/dist-packages (from requests->transformers) (3.0.4)\n",
            "Requirement already satisfied: click in /usr/local/lib/python3.7/dist-packages (from sacremoses->transformers) (7.1.2)\n",
            "Requirement already satisfied: six in /usr/local/lib/python3.7/dist-packages (from sacremoses->transformers) (1.15.0)\n",
            "Requirement already satisfied: joblib in /usr/local/lib/python3.7/dist-packages (from sacremoses->transformers) (1.0.1)\n",
            "Installing collected packages: pyyaml, tokenizers, sacremoses, huggingface-hub, transformers\n",
            "  Attempting uninstall: pyyaml\n",
            "    Found existing installation: PyYAML 3.13\n",
            "    Uninstalling PyYAML-3.13:\n",
            "      Successfully uninstalled PyYAML-3.13\n",
            "Successfully installed huggingface-hub-0.0.19 pyyaml-5.4.1 sacremoses-0.0.46 tokenizers-0.10.3 transformers-4.11.3\n"
          ]
        }
      ]
    },
    {
      "cell_type": "code",
      "metadata": {
        "id": "AP3R2mmyydXo"
      },
      "source": [
        "import os\n",
        "import numpy as np\n",
        "import pandas as pd\n",
        "import matplotlib.pyplot as plt \n",
        "from nibabel.testing import data_path\n",
        "import tensorflow as tf\n",
        "import nibabel as nib\n",
        "import os, psutil\n",
        "from collections import Counter\n",
        "import nibabel as nib\n",
        "from scipy import ndimage\n",
        "from tqdm.notebook import tqdm, trange\n",
        "import time\n",
        "import os\n",
        "import zipfile\n",
        "import numpy as np\n",
        "import tensorflow as tf\n",
        "from tensorflow import keras\n",
        "from tensorflow.keras import layers\n",
        "from tensorflow.keras.preprocessing.image import ImageDataGenerator\n",
        "from sklearn.preprocessing import scale\n",
        "import torch \n",
        "from torch.utils.data import TensorDataset, DataLoader\n",
        "from transformers import DeiTModel\n",
        "from transformers.modeling_outputs import SequenceClassifierOutput\n",
        "import torch.nn as nn\n",
        "import torch.nn.functional as F\n",
        "from transformers import DeiTFeatureExtractor\n",
        "import torch.nn as nn\n",
        "import torch\n",
        "import torch.utils.data as data\n",
        "from torch.autograd import Variable\n",
        "import numpy as np\n",
        "from PIL import Image\n",
        "from torchvision import transforms\n",
        "from sklearn.tree import DecisionTreeClassifier, plot_tree\n",
        "from sklearn.model_selection import train_test_split\n",
        "from sklearn.preprocessing import LabelEncoder\n",
        "from sklearn.metrics import confusion_matrix, ConfusionMatrixDisplay, classification_report\n",
        "from psutil import virtual_memory\n",
        "from random import shuffle"
      ],
      "execution_count": 3,
      "outputs": []
    },
    {
      "cell_type": "markdown",
      "metadata": {
        "id": "2Si5lHxHywaX"
      },
      "source": [
        "Get information about the GPU and RAM in the current runtime. "
      ]
    },
    {
      "cell_type": "code",
      "metadata": {
        "colab": {
          "base_uri": "https://localhost:8080/"
        },
        "id": "o4d7ayIOyulP",
        "outputId": "b7f86acd-7e67-4913-f3bc-4b6e27139067"
      },
      "source": [
        "gpu_info = !nvidia-smi\n",
        "gpu_info = '\\n'.join(gpu_info)\n",
        "if gpu_info.find('failed') >= 0:\n",
        "  print('Select the Runtime > \"Change runtime type\" menu to enable a GPU accelerator, ')\n",
        "  print('and then re-execute this cell.')\n",
        "else:\n",
        "  print(gpu_info)"
      ],
      "execution_count": 4,
      "outputs": [
        {
          "output_type": "stream",
          "name": "stdout",
          "text": [
            "Tue Oct 12 22:58:56 2021       \n",
            "+-----------------------------------------------------------------------------+\n",
            "| NVIDIA-SMI 470.74       Driver Version: 460.32.03    CUDA Version: 11.2     |\n",
            "|-------------------------------+----------------------+----------------------+\n",
            "| GPU  Name        Persistence-M| Bus-Id        Disp.A | Volatile Uncorr. ECC |\n",
            "| Fan  Temp  Perf  Pwr:Usage/Cap|         Memory-Usage | GPU-Util  Compute M. |\n",
            "|                               |                      |               MIG M. |\n",
            "|===============================+======================+======================|\n",
            "|   0  Tesla P100-PCIE...  Off  | 00000000:00:04.0 Off |                    0 |\n",
            "| N/A   33C    P0    27W / 250W |      0MiB / 16280MiB |      0%      Default |\n",
            "|                               |                      |                  N/A |\n",
            "+-------------------------------+----------------------+----------------------+\n",
            "                                                                               \n",
            "+-----------------------------------------------------------------------------+\n",
            "| Processes:                                                                  |\n",
            "|  GPU   GI   CI        PID   Type   Process name                  GPU Memory |\n",
            "|        ID   ID                                                   Usage      |\n",
            "|=============================================================================|\n",
            "|  No running processes found                                                 |\n",
            "+-----------------------------------------------------------------------------+\n"
          ]
        }
      ]
    },
    {
      "cell_type": "code",
      "metadata": {
        "colab": {
          "base_uri": "https://localhost:8080/"
        },
        "id": "2rYgs5cKyu-m",
        "outputId": "10f34ac0-66df-4ac6-c70d-c09d16293f9d"
      },
      "source": [
        "ram_gb = virtual_memory().total / 1e9\n",
        "print('Your runtime has {:.1f} gigabytes of available RAM\\n'.format(ram_gb))\n",
        "\n",
        "if ram_gb < 20:\n",
        "  print('To enable a high-RAM runtime, select the Runtime > \"Change runtime type\"')\n",
        "  print('menu, and then select High-RAM in the Runtime shape dropdown. Then, ')\n",
        "  print('re-execute this cell.')\n",
        "else:\n",
        "  print('You are using a high-RAM runtime!')"
      ],
      "execution_count": 5,
      "outputs": [
        {
          "output_type": "stream",
          "name": "stdout",
          "text": [
            "Your runtime has 27.3 gigabytes of available RAM\n",
            "\n",
            "You are using a high-RAM runtime!\n"
          ]
        }
      ]
    },
    {
      "cell_type": "markdown",
      "metadata": {
        "id": "RjYFaab_zHRf"
      },
      "source": [
        "# Helper Functions "
      ]
    },
    {
      "cell_type": "code",
      "metadata": {
        "id": "QgxqSMS6zFLP"
      },
      "source": [
        "def read_nifti_file(filepath):\n",
        "    \"\"\"Read and load volume\"\"\"\n",
        "    # Read file\n",
        "    scan = nib.load(filepath)\n",
        "    # Get raw data\n",
        "    scan = scan.get_fdata()\n",
        "    return scan\n",
        "\n",
        "def resize_volume(img):\n",
        "    \"\"\"Resize across z-axis\"\"\"\n",
        "    # Set the desired depth\n",
        "    desired_depth = 224\n",
        "    desired_width = 224\n",
        "    desired_height = 224\n",
        "    # Get current depth\n",
        "    current_depth = img.shape[-1]\n",
        "    current_width = img.shape[0]\n",
        "    current_height = img.shape[1]\n",
        "    # Compute depth factor\n",
        "    depth = current_depth / desired_depth\n",
        "    width = current_width / desired_width\n",
        "    height = current_height / desired_height\n",
        "    depth_factor = 1 / depth\n",
        "    width_factor = 1 / width\n",
        "    height_factor = 1 / height\n",
        "    # Rotate\n",
        "    img = ndimage.rotate(img, 90, reshape=False)\n",
        "    # Resize across z-axis\n",
        "    img = ndimage.zoom(img, (width_factor, height_factor, depth_factor), order=1)\n",
        "    return img\n",
        "\n",
        "def crop(img):\n",
        "    blank_val = img[0].sum()\n",
        "    x = [] \n",
        "    for i in range(len(img)): \n",
        "      if img[i,:,:].sum() != blank_val: \n",
        "        x.append(i)\n",
        "    y = [] \n",
        "    for i in range(len(img)): \n",
        "      if img[i,:,:].sum() != blank_val: \n",
        "        y.append(i)\n",
        "    z = [] \n",
        "    for i in range(len(img)): \n",
        "      if img[i,:,:].sum() != blank_val: \n",
        "        z.append(i)\n",
        "    img = np.squeeze(img[min(x):max(x), min(y):max(y), min(z):max(z)])\n",
        "\n",
        "    # Set the desired depth\n",
        "    desired_depth = 224\n",
        "    desired_width = 224\n",
        "    desired_height = 224\n",
        "    # Get current depth\n",
        "    current_depth = img.shape[-1]\n",
        "    current_width = img.shape[0]\n",
        "    current_height = img.shape[1]\n",
        "    # Compute depth factor\n",
        "    depth = current_depth / desired_depth\n",
        "    width = current_width / desired_width\n",
        "    height = current_height / desired_height\n",
        "    depth_factor = 1 / depth\n",
        "    width_factor = 1 / width\n",
        "    height_factor = 1 / height\n",
        "    # Resize across z-axis\n",
        "    img = ndimage.zoom(img, (width_factor, height_factor, depth_factor), order=1)\n",
        "    return img\n",
        "\n",
        "@tf.function\n",
        "def rotate(volume):\n",
        "    \"\"\"Rotate the volume by a few degrees\"\"\"\n",
        "\n",
        "    def scipy_rotate(volume):\n",
        "        # define some rotation angles\n",
        "        angles = [-5, -4, -3, -2, -1, 0, 1, 2, 3, 4, 5]\n",
        "        # pick angles at random\n",
        "        angle = random.choice(angles)\n",
        "        # rotate volume\n",
        "        volume = ndimage.rotate(volume, angle, reshape=False)\n",
        "        volume[volume < 0] = 0\n",
        "        volume[volume > 1] = 1\n",
        "        return volume\n",
        "\n",
        "    augmented_volume = tf.numpy_function(scipy_rotate, [volume], tf.float32)\n",
        "    return augmented_volume\n",
        "\n",
        "def process_scan(path):\n",
        "    \"\"\"Read and resize volume\"\"\"\n",
        "    # Read scan\n",
        "    volume = read_nifti_file(path)\n",
        "    volume = tf.image.per_image_standardization(volume)\n",
        "    volume = resize_volume(volume)\n",
        "    volume = crop(volume)\n",
        "    return volume\n",
        "\n",
        "def show_slices(slices, col = None):\n",
        "  \"\"\" Function to display row of image slices \"\"\"\n",
        "  fig, axes = plt.subplots(1, len(slices))\n",
        "  for i, slice in enumerate(slices):\n",
        "      axes[i].imshow(slice.T, cmap=col, origin=\"lower\")\n",
        "  return\n",
        "\n",
        "def match_data(scan_data, diagnosis_data): \n",
        "  empty_df = pd.DataFrame()\n",
        "  scan_patients = list(set(scan_data.Subject.values))\n",
        "  for patient in scan_patients:\n",
        "    temp_scans = scan_data[scan_data['Subject'] == patient]\n",
        "    temp_scans = temp_scans.sort_values('ID')\n",
        "    temp_diag = diagnosis_data[diagnosis_data['Subject'] == patient]\n",
        "    temp_diag = temp_diag.sort_values('ID')\n",
        "    test = pd.merge_asof(temp_scans, temp_diag, on=\"ID\", allow_exact_matches=True, direction = \"forward\")\n",
        "    empty_df = empty_df.append(test)\n",
        "  empty_df = empty_df.drop(columns = ['Inserted_x', 'Inserted_y', 'Subject_y', 'ageAtEntry'])\n",
        "  empty_df = empty_df.rename(columns = {\"Subject_x\":\"Subject\",\"FS_FSDATA ID\":\"MRI_ID\"})\n",
        "  empty_df = empty_df.reset_index().drop(columns = [\"index\"])\n",
        "  empty_df = empty_df.dropna()\n",
        "  return empty_df\n",
        "\n",
        "def return_scan_paths(data, data_def:str):\n",
        "  cdr_HC = data[data['cdr'] == 'HC']\n",
        "  cdr_MCI = data[data['cdr'] == 'MCI']\n",
        "  cdr_AD = data[data['cdr'] == 'AD']\n",
        "\n",
        "  HC_scan_paths = list(cdr_HC['MRI_ID'].values)\n",
        "  MCI_scan_paths = list(cdr_MCI['MRI_ID'].values)\n",
        "  AD_scan_paths = list(cdr_AD['MRI_ID'].values)\n",
        "\n",
        "  print(\"MRI scans of AD cases in {} data: {}\".format(data_def, str(len(AD_scan_paths))))\n",
        "  print(\"MRI scans of MCI cases in {} data: {}\".format(data_def, str(len(MCI_scan_paths))))\n",
        "  print(\"MRI scans of HC cases in {} data: {}\".format(data_def, str(len(HC_scan_paths))))\n",
        "  return HC_scan_paths, MCI_scan_paths, AD_scan_paths\n",
        "\n",
        "def split_HC(lst): \n",
        "  return lst[:int(len(lst) * 5)]\n",
        "\n",
        "def return_labels(data):\n",
        "  cdr_HC = data[data['cdr'] == 'HC']\n",
        "  cdr_MCI = data[data['cdr'] == 'MCI']\n",
        "  cdr_AD = data[data['cdr'] == 'AD']\n",
        "\n",
        "  HC_labels = list(cdr_HC['cdr'].values)\n",
        "  MCI_labels = list(cdr_MCI['cdr'].values)\n",
        "  AD_labels = list(cdr_AD['cdr'].values)\n",
        "  ydata = np.concatenate((HC_labels, MCI_labels, AD_labels))\n",
        "  dummies = pd.get_dummies(ydata, columns=[\"Bridge_Types\"], prefix=[\"Type_is\"] )\n",
        "  return HC_labels, MCI_labels, AD_labels"
      ],
      "execution_count": 6,
      "outputs": []
    },
    {
      "cell_type": "markdown",
      "metadata": {
        "id": "tLtuGV_Sz38g"
      },
      "source": [
        "# Data Exploration"
      ]
    },
    {
      "cell_type": "code",
      "metadata": {
        "id": "lnTcKzTezJYO"
      },
      "source": [
        "path = os.path.join(\"/drive/MyDrive/oasis_original/OAS30001_Freesurfer53_d0129.mgz.nii.gz\")\n",
        "img = nib.load(path)\n",
        "data = img.get_fdata()"
      ],
      "execution_count": 7,
      "outputs": []
    },
    {
      "cell_type": "code",
      "metadata": {
        "colab": {
          "base_uri": "https://localhost:8080/",
          "height": 145
        },
        "id": "dM9zM7JczmSY",
        "outputId": "2fcaae5c-e846-4f8c-b9d5-c20395df62c3"
      },
      "source": [
        "slice_0 = data[128, :, :]\n",
        "slice_1 = data[:, 128, :]\n",
        "slice_2 = data[:, :, 128]\n",
        "show_slices([slice_0, slice_1, slice_2], \"gray\")"
      ],
      "execution_count": 8,
      "outputs": [
        {
          "output_type": "display_data",
          "data": {
            "image/png": "[encoded data removed]",
            "text/plain": [
              "<Figure size 432x288 with 3 Axes>"
            ]
          },
          "metadata": {
            "needs_background": "light"
          }
        }
      ]
    },
    {
      "cell_type": "code",
      "metadata": {
        "id": "DpyP1mJ-0A5_"
      },
      "source": [
        ""
      ],
      "execution_count": 8,
      "outputs": []
    },
    {
      "cell_type": "markdown",
      "metadata": {
        "id": "YbJqn1re0iYf"
      },
      "source": [
        "# Read Clinical Data\n",
        "\n",
        "This data contains the associated CDR score for each scan. During this cleaning process we deal with the following issues: \n",
        "\n",
        "- The 'day' of diagnosis does not match the 'day' of the scan. We deal with this by making the assumption that the first CDR score (closest match watch with CDR days > scan days) after the scan is the true diagnoses. \n",
        "- Patients may have mutliple scans (lonitudinal data). This is dealt with by splitting the training/validation/test sets on the patient ID rather than the scan itself. This is to ensure that we are not training on the same patient's scan that will later be used for testing. "
      ]
    },
    {
      "cell_type": "code",
      "metadata": {
        "colab": {
          "base_uri": "https://localhost:8080/",
          "height": 414
        },
        "id": "4my1iaTh1i63",
        "outputId": "b4f415cb-3a87-4839-82a4-e35f02d49936"
      },
      "source": [
        "clinical_data = pd.read_csv(\"/drive/MyDrive/extra_data/clinical_data.csv\")\n",
        "clinical_data['ID'] = clinical_data['ADRC_ADRCCLINICALDATA ID'].str.split('_ClinicalData_', 1, expand=True)[1]\n",
        "clinical_data = clinical_data.drop(columns = ['ADRC_ADRCCLINICALDATA ID', 'Date', 'Subject.1', 'id'])\n",
        "clinical_data['Inserted'] = pd.to_datetime(clinical_data['Inserted'])\n",
        "clinical_data['ID'] = clinical_data['ID'].str.extract('(\\d+)', expand=False).astype(int)\n",
        "clinical_data"
      ],
      "execution_count": 9,
      "outputs": [
        {
          "output_type": "execute_result",
          "data": {
            "text/html": [
              "<div>\n",
              "<style scoped>\n",
              "    .dataframe tbody tr th:only-of-type {\n",
              "        vertical-align: middle;\n",
              "    }\n",
              "\n",
              "    .dataframe tbody tr th {\n",
              "        vertical-align: top;\n",
              "    }\n",
              "\n",
              "    .dataframe thead th {\n",
              "        text-align: right;\n",
              "    }\n",
              "</style>\n",
              "<table border=\"1\" class=\"dataframe\">\n",
              "  <thead>\n",
              "    <tr style=\"text-align: right;\">\n",
              "      <th></th>\n",
              "      <th>Subject</th>\n",
              "      <th>ageAtEntry</th>\n",
              "      <th>cdr</th>\n",
              "      <th>Inserted</th>\n",
              "      <th>ID</th>\n",
              "    </tr>\n",
              "  </thead>\n",
              "  <tbody>\n",
              "    <tr>\n",
              "      <th>0</th>\n",
              "      <td>OAS30001</td>\n",
              "      <td>65.149895</td>\n",
              "      <td>0.0</td>\n",
              "      <td>2017-12-20 10:54:32.956</td>\n",
              "      <td>0</td>\n",
              "    </tr>\n",
              "    <tr>\n",
              "      <th>1</th>\n",
              "      <td>OAS30001</td>\n",
              "      <td>65.149895</td>\n",
              "      <td>0.0</td>\n",
              "      <td>2017-12-20 10:54:33.466</td>\n",
              "      <td>339</td>\n",
              "    </tr>\n",
              "    <tr>\n",
              "      <th>2</th>\n",
              "      <td>OAS30001</td>\n",
              "      <td>65.149895</td>\n",
              "      <td>0.0</td>\n",
              "      <td>2017-12-20 10:54:33.673</td>\n",
              "      <td>722</td>\n",
              "    </tr>\n",
              "    <tr>\n",
              "      <th>3</th>\n",
              "      <td>OAS30001</td>\n",
              "      <td>65.149895</td>\n",
              "      <td>0.0</td>\n",
              "      <td>2017-12-20 10:54:33.891</td>\n",
              "      <td>1106</td>\n",
              "    </tr>\n",
              "    <tr>\n",
              "      <th>4</th>\n",
              "      <td>OAS30001</td>\n",
              "      <td>65.149895</td>\n",
              "      <td>0.0</td>\n",
              "      <td>2017-12-20 10:54:34.117</td>\n",
              "      <td>1456</td>\n",
              "    </tr>\n",
              "    <tr>\n",
              "      <th>...</th>\n",
              "      <td>...</td>\n",
              "      <td>...</td>\n",
              "      <td>...</td>\n",
              "      <td>...</td>\n",
              "      <td>...</td>\n",
              "    </tr>\n",
              "    <tr>\n",
              "      <th>6219</th>\n",
              "      <td>OAS31172</td>\n",
              "      <td>70.902120</td>\n",
              "      <td>0.0</td>\n",
              "      <td>2017-12-20 14:50:44.860</td>\n",
              "      <td>1215</td>\n",
              "    </tr>\n",
              "    <tr>\n",
              "      <th>6220</th>\n",
              "      <td>OAS31172</td>\n",
              "      <td>70.902120</td>\n",
              "      <td>0.0</td>\n",
              "      <td>2017-12-20 14:50:45.131</td>\n",
              "      <td>1565</td>\n",
              "    </tr>\n",
              "    <tr>\n",
              "      <th>6221</th>\n",
              "      <td>OAS31172</td>\n",
              "      <td>70.902120</td>\n",
              "      <td>0.0</td>\n",
              "      <td>2017-12-20 14:50:45.404</td>\n",
              "      <td>1908</td>\n",
              "    </tr>\n",
              "    <tr>\n",
              "      <th>6222</th>\n",
              "      <td>OAS31172</td>\n",
              "      <td>70.902120</td>\n",
              "      <td>0.0</td>\n",
              "      <td>2017-12-20 14:50:45.679</td>\n",
              "      <td>2816</td>\n",
              "    </tr>\n",
              "    <tr>\n",
              "      <th>6223</th>\n",
              "      <td>OAS31172</td>\n",
              "      <td>70.902120</td>\n",
              "      <td>0.0</td>\n",
              "      <td>2017-12-20 14:50:45.983</td>\n",
              "      <td>3294</td>\n",
              "    </tr>\n",
              "  </tbody>\n",
              "</table>\n",
              "<p>6224 rows × 5 columns</p>\n",
              "</div>"
            ],
            "text/plain": [
              "       Subject  ageAtEntry  cdr                Inserted    ID\n",
              "0     OAS30001   65.149895  0.0 2017-12-20 10:54:32.956     0\n",
              "1     OAS30001   65.149895  0.0 2017-12-20 10:54:33.466   339\n",
              "2     OAS30001   65.149895  0.0 2017-12-20 10:54:33.673   722\n",
              "3     OAS30001   65.149895  0.0 2017-12-20 10:54:33.891  1106\n",
              "4     OAS30001   65.149895  0.0 2017-12-20 10:54:34.117  1456\n",
              "...        ...         ...  ...                     ...   ...\n",
              "6219  OAS31172   70.902120  0.0 2017-12-20 14:50:44.860  1215\n",
              "6220  OAS31172   70.902120  0.0 2017-12-20 14:50:45.131  1565\n",
              "6221  OAS31172   70.902120  0.0 2017-12-20 14:50:45.404  1908\n",
              "6222  OAS31172   70.902120  0.0 2017-12-20 14:50:45.679  2816\n",
              "6223  OAS31172   70.902120  0.0 2017-12-20 14:50:45.983  3294\n",
              "\n",
              "[6224 rows x 5 columns]"
            ]
          },
          "metadata": {},
          "execution_count": 9
        }
      ]
    },
    {
      "cell_type": "markdown",
      "metadata": {
        "id": "Md9KX-E719Jh"
      },
      "source": [
        "# Scan Information Data"
      ]
    },
    {
      "cell_type": "code",
      "metadata": {
        "colab": {
          "base_uri": "https://localhost:8080/",
          "height": 414
        },
        "id": "8lzY-Nn22AU-",
        "outputId": "1fcf3b66-5960-42b2-c503-ad9f65c2274d"
      },
      "source": [
        "scan_info = pd.read_csv(\"/drive/MyDrive/extra_data/freesurfers_mri_info.csv\")\n",
        "scan_info['ID'] = scan_info['FS_FSDATA ID'].str.split('_Freesurfer', 1, expand = True)[1]\n",
        "scan_info = scan_info.drop(columns = ['Session', 'FS Date'])\n",
        "scan_info.ID = scan_info.ID.str[3:]\n",
        "scan_info['Inserted'] = pd.to_datetime(scan_info['Inserted'])\n",
        "scan_info['ID'] = scan_info['ID'].str.extract('(\\d+)', expand=False).astype(int)\n",
        "scan_info"
      ],
      "execution_count": 10,
      "outputs": [
        {
          "output_type": "execute_result",
          "data": {
            "text/html": [
              "<div>\n",
              "<style scoped>\n",
              "    .dataframe tbody tr th:only-of-type {\n",
              "        vertical-align: middle;\n",
              "    }\n",
              "\n",
              "    .dataframe tbody tr th {\n",
              "        vertical-align: top;\n",
              "    }\n",
              "\n",
              "    .dataframe thead th {\n",
              "        text-align: right;\n",
              "    }\n",
              "</style>\n",
              "<table border=\"1\" class=\"dataframe\">\n",
              "  <thead>\n",
              "    <tr style=\"text-align: right;\">\n",
              "      <th></th>\n",
              "      <th>FS_FSDATA ID</th>\n",
              "      <th>Subject</th>\n",
              "      <th>Inserted</th>\n",
              "      <th>ID</th>\n",
              "    </tr>\n",
              "  </thead>\n",
              "  <tbody>\n",
              "    <tr>\n",
              "      <th>0</th>\n",
              "      <td>OAS30001_Freesurfer53_d0129</td>\n",
              "      <td>OAS30001</td>\n",
              "      <td>2017-11-15 13:26:34.150</td>\n",
              "      <td>129</td>\n",
              "    </tr>\n",
              "    <tr>\n",
              "      <th>1</th>\n",
              "      <td>OAS30001_Freesurfer53_d0757</td>\n",
              "      <td>OAS30001</td>\n",
              "      <td>2017-12-13 13:44:44.891</td>\n",
              "      <td>757</td>\n",
              "    </tr>\n",
              "    <tr>\n",
              "      <th>2</th>\n",
              "      <td>OAS30001_Freesurfer53_d2430</td>\n",
              "      <td>OAS30001</td>\n",
              "      <td>2017-11-15 11:10:13.939</td>\n",
              "      <td>2430</td>\n",
              "    </tr>\n",
              "    <tr>\n",
              "      <th>3</th>\n",
              "      <td>OAS30001_Freesurfer53_d3132</td>\n",
              "      <td>OAS30001</td>\n",
              "      <td>2017-10-20 12:44:27.928</td>\n",
              "      <td>3132</td>\n",
              "    </tr>\n",
              "    <tr>\n",
              "      <th>4</th>\n",
              "      <td>OAS30002_Freesurfer53_d0653</td>\n",
              "      <td>OAS30002</td>\n",
              "      <td>2017-11-10 12:45:42.205</td>\n",
              "      <td>653</td>\n",
              "    </tr>\n",
              "    <tr>\n",
              "      <th>...</th>\n",
              "      <td>...</td>\n",
              "      <td>...</td>\n",
              "      <td>...</td>\n",
              "      <td>...</td>\n",
              "    </tr>\n",
              "    <tr>\n",
              "      <th>2042</th>\n",
              "      <td>OAS31168_Freesurfer53_d2526</td>\n",
              "      <td>OAS31168</td>\n",
              "      <td>2017-11-09 14:22:52.248</td>\n",
              "      <td>2526</td>\n",
              "    </tr>\n",
              "    <tr>\n",
              "      <th>2043</th>\n",
              "      <td>OAS31169_Freesurfer53_d0620</td>\n",
              "      <td>OAS31169</td>\n",
              "      <td>2017-10-18 15:15:06.880</td>\n",
              "      <td>620</td>\n",
              "    </tr>\n",
              "    <tr>\n",
              "      <th>2044</th>\n",
              "      <td>OAS31170_Freesurfer53_d2410</td>\n",
              "      <td>OAS31170</td>\n",
              "      <td>2017-10-18 15:15:06.574</td>\n",
              "      <td>2410</td>\n",
              "    </tr>\n",
              "    <tr>\n",
              "      <th>2045</th>\n",
              "      <td>OAS31172_Freesurfer53_d0407</td>\n",
              "      <td>OAS31172</td>\n",
              "      <td>2017-10-18 15:15:06.817</td>\n",
              "      <td>407</td>\n",
              "    </tr>\n",
              "    <tr>\n",
              "      <th>2046</th>\n",
              "      <td>OAS31172_Freesurfer53_d1717</td>\n",
              "      <td>OAS31172</td>\n",
              "      <td>2017-10-18 15:15:06.584</td>\n",
              "      <td>1717</td>\n",
              "    </tr>\n",
              "  </tbody>\n",
              "</table>\n",
              "<p>2047 rows × 4 columns</p>\n",
              "</div>"
            ],
            "text/plain": [
              "                     FS_FSDATA ID   Subject                Inserted    ID\n",
              "0     OAS30001_Freesurfer53_d0129  OAS30001 2017-11-15 13:26:34.150   129\n",
              "1     OAS30001_Freesurfer53_d0757  OAS30001 2017-12-13 13:44:44.891   757\n",
              "2     OAS30001_Freesurfer53_d2430  OAS30001 2017-11-15 11:10:13.939  2430\n",
              "3     OAS30001_Freesurfer53_d3132  OAS30001 2017-10-20 12:44:27.928  3132\n",
              "4     OAS30002_Freesurfer53_d0653  OAS30002 2017-11-10 12:45:42.205   653\n",
              "...                           ...       ...                     ...   ...\n",
              "2042  OAS31168_Freesurfer53_d2526  OAS31168 2017-11-09 14:22:52.248  2526\n",
              "2043  OAS31169_Freesurfer53_d0620  OAS31169 2017-10-18 15:15:06.880   620\n",
              "2044  OAS31170_Freesurfer53_d2410  OAS31170 2017-10-18 15:15:06.574  2410\n",
              "2045  OAS31172_Freesurfer53_d0407  OAS31172 2017-10-18 15:15:06.817   407\n",
              "2046  OAS31172_Freesurfer53_d1717  OAS31172 2017-10-18 15:15:06.584  1717\n",
              "\n",
              "[2047 rows x 4 columns]"
            ]
          },
          "metadata": {},
          "execution_count": 10
        }
      ]
    },
    {
      "cell_type": "markdown",
      "metadata": {
        "id": "8TRKxMrQ2EcI"
      },
      "source": [
        "# Combining Clinical and Scan Information Data"
      ]
    },
    {
      "cell_type": "code",
      "metadata": {
        "colab": {
          "base_uri": "https://localhost:8080/",
          "height": 414
        },
        "id": "lmxaXz092HTO",
        "outputId": "e705963a-57fe-4a75-92aa-f4dd534875a5"
      },
      "source": [
        "scan_and_diag = match_data(scan_info, clinical_data)\n",
        "scans_sorted = scan_and_diag.sort_values([\"Subject\", \"ID\"]).reset_index().drop(columns = [\"index\", \"ID\"])\n",
        "scans_sorted['cdr'] = scans_sorted['cdr'].astype(str).replace({'0.0':'HC', '0.5': 'MCI', '1.0': 'AD', '2.0': 'AD', '3.0': 'AD'})\n",
        "scans_sorted"
      ],
      "execution_count": 11,
      "outputs": [
        {
          "output_type": "execute_result",
          "data": {
            "text/html": [
              "<div>\n",
              "<style scoped>\n",
              "    .dataframe tbody tr th:only-of-type {\n",
              "        vertical-align: middle;\n",
              "    }\n",
              "\n",
              "    .dataframe tbody tr th {\n",
              "        vertical-align: top;\n",
              "    }\n",
              "\n",
              "    .dataframe thead th {\n",
              "        text-align: right;\n",
              "    }\n",
              "</style>\n",
              "<table border=\"1\" class=\"dataframe\">\n",
              "  <thead>\n",
              "    <tr style=\"text-align: right;\">\n",
              "      <th></th>\n",
              "      <th>MRI_ID</th>\n",
              "      <th>Subject</th>\n",
              "      <th>cdr</th>\n",
              "    </tr>\n",
              "  </thead>\n",
              "  <tbody>\n",
              "    <tr>\n",
              "      <th>0</th>\n",
              "      <td>OAS30001_Freesurfer53_d0129</td>\n",
              "      <td>OAS30001</td>\n",
              "      <td>HC</td>\n",
              "    </tr>\n",
              "    <tr>\n",
              "      <th>1</th>\n",
              "      <td>OAS30001_Freesurfer53_d0757</td>\n",
              "      <td>OAS30001</td>\n",
              "      <td>HC</td>\n",
              "    </tr>\n",
              "    <tr>\n",
              "      <th>2</th>\n",
              "      <td>OAS30001_Freesurfer53_d2430</td>\n",
              "      <td>OAS30001</td>\n",
              "      <td>HC</td>\n",
              "    </tr>\n",
              "    <tr>\n",
              "      <th>3</th>\n",
              "      <td>OAS30001_Freesurfer53_d3132</td>\n",
              "      <td>OAS30001</td>\n",
              "      <td>HC</td>\n",
              "    </tr>\n",
              "    <tr>\n",
              "      <th>4</th>\n",
              "      <td>OAS30002_Freesurfer53_d0653</td>\n",
              "      <td>OAS30002</td>\n",
              "      <td>HC</td>\n",
              "    </tr>\n",
              "    <tr>\n",
              "      <th>...</th>\n",
              "      <td>...</td>\n",
              "      <td>...</td>\n",
              "      <td>...</td>\n",
              "    </tr>\n",
              "    <tr>\n",
              "      <th>1824</th>\n",
              "      <td>OAS31168_Freesurfer53_d2526</td>\n",
              "      <td>OAS31168</td>\n",
              "      <td>HC</td>\n",
              "    </tr>\n",
              "    <tr>\n",
              "      <th>1825</th>\n",
              "      <td>OAS31169_Freesurfer53_d0620</td>\n",
              "      <td>OAS31169</td>\n",
              "      <td>MCI</td>\n",
              "    </tr>\n",
              "    <tr>\n",
              "      <th>1826</th>\n",
              "      <td>OAS31170_Freesurfer53_d2410</td>\n",
              "      <td>OAS31170</td>\n",
              "      <td>AD</td>\n",
              "    </tr>\n",
              "    <tr>\n",
              "      <th>1827</th>\n",
              "      <td>OAS31172_Freesurfer53_d0407</td>\n",
              "      <td>OAS31172</td>\n",
              "      <td>HC</td>\n",
              "    </tr>\n",
              "    <tr>\n",
              "      <th>1828</th>\n",
              "      <td>OAS31172_Freesurfer53_d1717</td>\n",
              "      <td>OAS31172</td>\n",
              "      <td>HC</td>\n",
              "    </tr>\n",
              "  </tbody>\n",
              "</table>\n",
              "<p>1829 rows × 3 columns</p>\n",
              "</div>"
            ],
            "text/plain": [
              "                           MRI_ID   Subject  cdr\n",
              "0     OAS30001_Freesurfer53_d0129  OAS30001   HC\n",
              "1     OAS30001_Freesurfer53_d0757  OAS30001   HC\n",
              "2     OAS30001_Freesurfer53_d2430  OAS30001   HC\n",
              "3     OAS30001_Freesurfer53_d3132  OAS30001   HC\n",
              "4     OAS30002_Freesurfer53_d0653  OAS30002   HC\n",
              "...                           ...       ...  ...\n",
              "1824  OAS31168_Freesurfer53_d2526  OAS31168   HC\n",
              "1825  OAS31169_Freesurfer53_d0620  OAS31169  MCI\n",
              "1826  OAS31170_Freesurfer53_d2410  OAS31170   AD\n",
              "1827  OAS31172_Freesurfer53_d0407  OAS31172   HC\n",
              "1828  OAS31172_Freesurfer53_d1717  OAS31172   HC\n",
              "\n",
              "[1829 rows x 3 columns]"
            ]
          },
          "metadata": {},
          "execution_count": 11
        }
      ]
    },
    {
      "cell_type": "code",
      "metadata": {
        "colab": {
          "base_uri": "https://localhost:8080/"
        },
        "id": "3gcEDnCA2ihy",
        "outputId": "ec1921fb-b0ac-4693-be9c-ac71512f9f2a"
      },
      "source": [
        "lst_scans = list(os.listdir(r'/drive/MyDrive/oasis_original/'))\n",
        "our_scans =[] \n",
        "for i in lst_scans: \n",
        "  our_scans.append(i.split('.')[0])\n",
        "our_scans[:5]"
      ],
      "execution_count": 12,
      "outputs": [
        {
          "output_type": "execute_result",
          "data": {
            "text/plain": [
              "['OAS31054_Freesurfer53_d2787',\n",
              " 'OAS31052_Freesurfer53_d0093',\n",
              " 'OAS31056_Freesurfer53_d0100',\n",
              " 'OAS31056_Freesurfer53_d0808',\n",
              " 'OAS31056_Freesurfer53_d1912']"
            ]
          },
          "metadata": {},
          "execution_count": 12
        }
      ]
    },
    {
      "cell_type": "code",
      "metadata": {
        "colab": {
          "base_uri": "https://localhost:8080/"
        },
        "id": "If7gFDKe27g3",
        "outputId": "affedb1c-9ebb-4f32-83da-14c89d4750bc"
      },
      "source": [
        "copy_scans_sorted = scans_sorted.copy()\n",
        "copy_scans_sorted = copy_scans_sorted[copy_scans_sorted['MRI_ID'].isin(our_scans)]\n",
        "copy_scans_sorted['MRI_ID'] = '/drive/MyDrive/oasis_original/' + copy_scans_sorted['MRI_ID'] + \".mgz.nii.gz\"\n",
        "cdr_HC = copy_scans_sorted[copy_scans_sorted['cdr'] == 'HC']\n",
        "cdr_MCI = copy_scans_sorted[copy_scans_sorted['cdr'] == 'MCI']\n",
        "cdr_AD = copy_scans_sorted[copy_scans_sorted['cdr'] == 'AD']\n",
        "\n",
        "HC_scan_paths = list(cdr_HC['MRI_ID'].values)\n",
        "MCI_scan_paths = list(cdr_MCI['MRI_ID'].values)\n",
        "AD_scan_paths = list(cdr_AD['MRI_ID'].values)\n",
        "\n",
        "print(\"MRI scans of AD cases: {}\".format(str(len(AD_scan_paths))))\n",
        "print(\"MRI scans of MCI cases: {}\".format(str(len(MCI_scan_paths))))\n",
        "print(\"MRI scans of HC cases: {}\".format(str(len(HC_scan_paths))))"
      ],
      "execution_count": 13,
      "outputs": [
        {
          "output_type": "stream",
          "name": "stdout",
          "text": [
            "MRI scans of AD cases: 102\n",
            "MRI scans of MCI cases: 266\n",
            "MRI scans of HC cases: 1456\n"
          ]
        }
      ]
    },
    {
      "cell_type": "code",
      "metadata": {
        "colab": {
          "base_uri": "https://localhost:8080/"
        },
        "id": "lElwUlhZ3T_H",
        "outputId": "3da448bc-3722-4950-e21f-599145e06221"
      },
      "source": [
        "subj_ids = list(set(copy_scans_sorted[\"Subject\"]))\n",
        "shuffle(subj_ids)\n",
        "print('There are {} patients in the data'.format(len(subj_ids)))"
      ],
      "execution_count": 14,
      "outputs": [
        {
          "output_type": "stream",
          "name": "stdout",
          "text": [
            "There are 937 patients in the data\n"
          ]
        }
      ]
    },
    {
      "cell_type": "code",
      "metadata": {
        "colab": {
          "base_uri": "https://localhost:8080/"
        },
        "id": "bVi3K1Jd3Xtn",
        "outputId": "5318930d-3789-4e42-f1ca-f0e652a7e88c"
      },
      "source": [
        "train_num_subs = int(len(subj_ids)*.7)\n",
        "valid_num_subs = int(len(subj_ids)*.15)\n",
        "test_num_subs = int(len(subj_ids)*.15)\n",
        "print(\"Desired training patients: {}\".format(train_num_subs))\n",
        "print(\"Desired validation patients: {}\".format(valid_num_subs))\n",
        "print(\"Desired test patients: {}\".format(test_num_subs))"
      ],
      "execution_count": 15,
      "outputs": [
        {
          "output_type": "stream",
          "name": "stdout",
          "text": [
            "Desired training patients: 655\n",
            "Desired validation patients: 140\n",
            "Desired test patients: 140\n"
          ]
        }
      ]
    },
    {
      "cell_type": "code",
      "metadata": {
        "colab": {
          "base_uri": "https://localhost:8080/"
        },
        "id": "c6sAnpaG3aD_",
        "outputId": "6858bdb9-a759-4637-ee2b-012e426e7c2c"
      },
      "source": [
        "ad_subjs = cdr_AD.Subject.values\n",
        "use_this_val = len(list(set(ad_subjs)))\n",
        "print('There are {} patients with AD, this value will be used to ensure that we always have\\\n",
        " enough data across all dementia types'.format(use_this_val))"
      ],
      "execution_count": 16,
      "outputs": [
        {
          "output_type": "stream",
          "name": "stdout",
          "text": [
            "There are 95 patients with AD, this value will be used to ensure that we always have enough data across all dementia types\n"
          ]
        }
      ]
    },
    {
      "cell_type": "code",
      "metadata": {
        "id": "TIEVuurk3rSv"
      },
      "source": [
        "try: \n",
        "  training_data = pd.read_csv('/drive/MyDrive/new_data/training.csv')\n",
        "  validation_data = pd.read_csv('/drive/MyDrive/new_data/val.csv')\n",
        "  test_data = pd.read_csv('/drive/MyDrive/new_data/test.csv')\n",
        "except:   \n",
        "  training_subjs = list(ad_subjs[:int(use_this_val * 0.7)])\n",
        "  validation_subjs = list(ad_subjs[int(use_this_val * 0.7):int(use_this_val * 0.85)])\n",
        "  test_subjs = list(ad_subjs[int(use_this_val * 0.85):])\n",
        "  union = list(set().union(training_subjs, validation_subjs, test_subjs)) \n",
        "  for i in subj_ids: \n",
        "    if i not in union: \n",
        "      if len(test_subjs) < test_num_subs: \n",
        "        test_subjs.append(i)\n",
        "      elif len(validation_subjs) < valid_num_subs: \n",
        "        validation_subjs.append(i)\n",
        "      else: \n",
        "        training_subjs.append(i)\n",
        "      union.append(i)\n",
        "  cdr_HC = copy_scans_sorted[copy_scans_sorted['cdr'] == 'HC']\n",
        "  cdr_MCI = copy_scans_sorted[copy_scans_sorted['cdr'] == 'MCI']\n",
        "  cdr_AD = copy_scans_sorted[copy_scans_sorted['cdr'] == 'AD']\n",
        "  training_data = copy_scans_sorted[copy_scans_sorted['Subject'].isin(training_subjs)]\n",
        "  validation_data = copy_scans_sorted[copy_scans_sorted['Subject'].isin(validation_subjs)]\n",
        "  test_data = copy_scans_sorted[copy_scans_sorted['Subject'].isin(test_subjs)]\n",
        "  training_data.to_csv('/drive/MyDrive/new_data/training.csv')\n",
        "  validation_data.to_csv('/drive/MyDrive/new_data/val.csv')\n",
        "  test_data.to_csv('/drive/MyDrive/new_data/test.csv')"
      ],
      "execution_count": 17,
      "outputs": []
    },
    {
      "cell_type": "code",
      "metadata": {
        "id": "ugVPRwKAOKef"
      },
      "source": [
        "SPLITS = 20"
      ],
      "execution_count": 18,
      "outputs": []
    },
    {
      "cell_type": "code",
      "metadata": {
        "id": "LZ94ymMhN48W"
      },
      "source": [
        "training_splits = np.array_split(training_data, SPLITS)\n",
        "val_splits = np.array_split(validation_data, SPLITS)"
      ],
      "execution_count": 19,
      "outputs": []
    },
    {
      "cell_type": "code",
      "metadata": {
        "id": "9deaOJyPL6h-"
      },
      "source": [
        "class DeiTForImageClassification(nn.Module):\n",
        "      def __init__(self, num_labels=3):\n",
        "          super(DeiTForImageClassification, self).__init__()\n",
        "          # self.deit = DeiTModel.from_pretrained('flozi00/alzheimer-deit-base-distilled')\n",
        "          self.deit = DeiTModel.from_pretrained('facebook/deit-base-distilled-patch16-384')\n",
        "          self.dropout = nn.Dropout(0.7)\n",
        "          self.classifier = nn.Linear(self.deit.config.hidden_size, num_labels)\n",
        "          self.num_labels = num_labels\n",
        "\n",
        "      def forward(self, pixel_values, labels):\n",
        "          outputs = self.deit(pixel_values=pixel_values)\n",
        "          output = self.dropout(outputs.last_hidden_state[:,0])\n",
        "          logits = self.classifier(output)\n",
        "\n",
        "          loss = None\n",
        "          if labels is not None:\n",
        "            loss_fct = nn.CrossEntropyLoss()\n",
        "            loss = loss_fct(logits.view(-1, self.num_labels), labels.view(-1))\n",
        "          if loss is not None:\n",
        "            return logits, loss.item()\n",
        "          else:\n",
        "            return logits, None\n"
      ],
      "execution_count": 7,
      "outputs": []
    },
    {
      "cell_type": "code",
      "metadata": {
        "colab": {
          "base_uri": "https://localhost:8080/",
          "height": 1000,
          "referenced_widgets": [
            "150fd919beae487480cacb2a3a6f312b",
            "bf2294e28b4844118cb14f71f8fd2ca6",
            "9f96752d8ded43c38cfec3c6e74e34da",
            "adaa1da7199a4bc7aa9d95f5ab0d1448",
            "a92473c295d34402953346be37b520c4",
            "6f89a25f9b564aca8bc0c238caa47649",
            "597899f269dc42a493281a2909a972e1",
            "25a126eed9b046bb860cf4c4e2254a3a",
            "383116bd6d114869af1bf61694eb7338",
            "eee2a254abf847b991adac3169dbbcac",
            "1add0b7b4052462e9018e769c38ef54a"
          ]
        },
        "id": "6Vfet1qWLPG3",
        "outputId": "027e65ac-f1ce-4007-dfd4-883ab3e6534d"
      },
      "source": [
        "import torch.utils.data as data\n",
        "\n",
        "EPOCHS = 5\n",
        "BATCH_SIZE = 1\n",
        "LEARNING_RATE = 2e-5\n",
        "full_ML_results = pd.DataFrame()\n",
        "label_encoder = LabelEncoder()\n",
        "\n",
        "for RUN in range(SPLITS): \n",
        "  print('For run {}, we have:'.format(RUN))\n",
        "  train_HC, train_MCI, train_AD = return_scan_paths(training_splits[RUN], 'training')\n",
        "\n",
        "  if len(train_AD) < 10: \n",
        "    temp = training_data[training_data['cdr'] == 'AD'].sample(10, random_state=6)\n",
        "    training_splits[RUN] = pd.concat([training_splits[RUN], temp])\n",
        "    train_HC, train_MCI, train_AD = return_scan_paths(training_splits[RUN], 'training')\n",
        "  \n",
        "  if len(train_MCI) < 10: \n",
        "    temp = training_data[training_data['cdr'] == 'MCI'].sample(10, random_state=6)\n",
        "    training_splits[RUN] = pd.concat([training_splits[RUN], temp])\n",
        "    train_HC, train_MCI, train_AD = return_scan_paths(training_splits[RUN], 'training')\n",
        "  \n",
        "  print('Loading the scans for the training data...')\n",
        "  x_train = np.array([process_scan(path) for path in tqdm(train_HC)])\n",
        "  x_train = np.concatenate((x_train, np.array([process_scan(path) for path in tqdm(train_MCI)])))\n",
        "  x_train = np.concatenate((x_train, np.array([process_scan(path) for path in tqdm(train_AD)])))\n",
        "  y_train_HC, y_train_MCI, y_train_AD = return_labels(training_splits[RUN])\n",
        "  y_train = y_train_HC + y_train_MCI + y_train_AD\n",
        "\n",
        "  val_HC, val_MCI, val_AD = return_scan_paths(val_splits[RUN], 'validation')\n",
        "\n",
        "  if len(val_MCI) < 10: \n",
        "    temp = validation_data[validation_data['cdr'] == 'MCI'].sample(10, random_state=6)\n",
        "    val_splits[RUN] = pd.concat([val_splits[RUN], temp])\n",
        "    val_HC, val_MCI, val_AD = return_scan_paths(val_splits[RUN], 'validation')\n",
        "  \n",
        "  if len(val_AD) < 10: \n",
        "    temp = validation_data[validation_data['cdr'] == 'AD'].sample(10, random_state=6)\n",
        "    val_splits[RUN] = pd.concat([val_splits[RUN], temp])\n",
        "    val_HC, val_MCI, val_AD = return_scan_paths(val_splits[RUN], 'validation')\n",
        "  \n",
        "  print('Loading the scans for the validation data...')\n",
        "  x_val = np.array([process_scan(path) for path in tqdm(val_HC)])\n",
        "  x_val = np.concatenate((x_val, np.array([process_scan(path) for path in tqdm(val_MCI)])))\n",
        "  x_val = np.concatenate((x_val, np.array([process_scan(path) for path in tqdm(val_AD)])))\n",
        "  y_val = return_labels(val_splits[RUN])\n",
        "  y_val = [item for sublist in y_val for item in sublist]\n",
        "\n",
        "  y_train = np.array(label_encoder.fit_transform(y_train))\n",
        "  y_val = np.array(label_encoder.fit_transform(y_val))\n",
        "\n",
        "  mapping = dict(zip(label_encoder.classes_, range(len(label_encoder.classes_))))\n",
        "\n",
        "  tens_x_train = torch.Tensor(x_train)\n",
        "  tens_y_train = torch.Tensor(y_train)\n",
        "\n",
        "  tens_x_val = torch.Tensor(x_val)\n",
        "  tens_y_val = torch.Tensor(y_val)\n",
        "\n",
        "  train_ds2 = TensorDataset(tens_x_train, tens_y_train)\n",
        "  val_ds2 = TensorDataset(tens_x_val, tens_y_val)\n",
        "  if RUN == 0: \n",
        "    model = DeiTForImageClassification(3)   \n",
        "  else: \n",
        "    previous_model = 'transformer' + str(RUN-1)\n",
        "    model = torch.load('/drive/MyDrive/models/'+previous_model+'.pt')\n",
        "  feature_extractor = DeiTFeatureExtractor.from_pretrained('facebook/deit-base-distilled-patch16-384')\n",
        "  optimizer = torch.optim.Adam(model.parameters(), lr=LEARNING_RATE)\n",
        "  loss_func = nn.CrossEntropyLoss()\n",
        "  device = torch.device('cuda' if torch.cuda.is_available() else 'cpu') \n",
        "  if torch.cuda.is_available():\n",
        "      model.cuda() \n",
        "\n",
        "  num_samples = len(y_train)\n",
        "  counts = Counter(y_train)\n",
        "  class_count = np.array([counts[0], counts[1], counts[2]])\n",
        "  weights = 1./class_count\n",
        "  samples_weight = np.array([weights[t] for t in y_train])\n",
        "  samples_weight=torch.from_numpy(samples_weight)\n",
        "  sampler = torch.utils.data.sampler.WeightedRandomSampler(samples_weight, len(train_ds2))\n",
        "\n",
        "  print(\"Number of train samples: \", len(train_ds2))\n",
        "  print(\"Number of validation samples: \", len(val_ds2))\n",
        "  print('Classes are {}'.format(mapping))\n",
        "  train_loader = data.DataLoader(train_ds2, batch_size=BATCH_SIZE, sampler = sampler, num_workers=1)\n",
        "  val_loader  = data.DataLoader(val_ds2, batch_size=BATCH_SIZE, shuffle = True, num_workers=1) \n",
        "  results = pd.DataFrame()\n",
        "  for epoch in range(EPOCHS):        \n",
        "    print('Training EPOCH {} in RUN {}'.format(epoch+1, RUN))\n",
        "    for step, (x, y) in enumerate(train_loader):    \n",
        "      val = next(iter(val_loader))\n",
        "      for index, array in enumerate(x):\n",
        "        x[index] = np.squeeze(array)\n",
        "      results_temp = pd.DataFrame()\n",
        "      for slic in range(112-20,112+21):\n",
        "        new_x = x[:,:,:,slic]\n",
        "        new_x = Image.fromarray(np.array(new_x).astype('uint8'), 'RGB')\n",
        "        new_x = torch.tensor(np.stack(feature_extractor(new_x)['pixel_values'], axis=0))\n",
        "        new_x = transforms.ToPILImage()(np.squeeze(new_x)).convert()\n",
        "        new_x = torch.tensor(np.stack(feature_extractor(new_x)['pixel_values'], axis=0))\n",
        "        new_x, y  = new_x.to(device), y.to(device)\n",
        "        b_x = Variable(new_x)   \n",
        "        y = y.long()\n",
        "        b_y = Variable(y)  \n",
        "        output, loss = model(b_x, b_y)\n",
        "\n",
        "        if loss is None: \n",
        "          loss = loss_func(output, b_y)   \n",
        "          optimizer.zero_grad()           \n",
        "          loss.backward()                 \n",
        "          optimizer.step()\n",
        "\n",
        "        val_x = val[0]\n",
        "\n",
        "        for index, array in enumerate(val_x):\n",
        "          val_x[index] = np.squeeze(array)\n",
        "\n",
        "        new_val_x = val_x[:,:,:,slic]\n",
        "        new_val_x = Image.fromarray(np.array(new_val_x).astype('uint8'), 'RGB')\n",
        "        new_val_x = torch.tensor(np.stack(feature_extractor(new_val_x)['pixel_values'], axis=0))\n",
        "\n",
        "        new_val_x = new_val_x.to(device)\n",
        "        val_y = val[1].to(device).long()\n",
        "\n",
        "        val_output, loss = model(new_val_x, val_y)\n",
        "        pred = np.array(tf.nn.softmax(val_output.cpu().detach().numpy()))\n",
        "        val_output = val_output.argmax(1)\n",
        "\n",
        "        accuracy = (val_output == val_y).sum().item() / BATCH_SIZE\n",
        "        # print(\"Prediction: {} Actual: {} Probabilities: {}\".format(val_output.item(), val_y.item(), pred[0]))\n",
        "        col_name_ad = str(slic) + 'AD'\n",
        "        col_name_hc = str(slic) + 'HC'\n",
        "        col_name_mci = str(slic) + 'MCI'\n",
        "\n",
        "        temp_df = pd.DataFrame([pred[0]], columns =[col_name_ad, col_name_hc, col_name_mci], dtype = float)\n",
        "        results_temp = pd.concat([results_temp, temp_df], axis = 1)\n",
        "\n",
        "      actual_df = pd.DataFrame([val_y.item()], columns = ['Actual'])\n",
        "      results_temp = pd.concat([results_temp, actual_df], axis = 1)\n",
        "      results = pd.concat([results, results_temp])\n",
        "\n",
        "  full_ML_results = pd.concat([full_ML_results, results])\n",
        "\n",
        "  model_str = 'transformer' + str(RUN)\n",
        "  torch.save(model, '/drive/MyDrive/models/'+model_str+'.pt')\n",
        "  torch.cuda.empty_cache()"
      ],
      "execution_count": 21,
      "outputs": [
        {
          "output_type": "stream",
          "name": "stdout",
          "text": [
            "For run 0, we have:\n",
            "MRI scans of AD cases in training data: 2\n",
            "MRI scans of MCI cases in training data: 7\n",
            "MRI scans of HC cases in training data: 56\n",
            "MRI scans of AD cases in training data: 12\n",
            "MRI scans of MCI cases in training data: 7\n",
            "MRI scans of HC cases in training data: 56\n",
            "MRI scans of AD cases in training data: 12\n",
            "MRI scans of MCI cases in training data: 17\n",
            "MRI scans of HC cases in training data: 56\n",
            "Loading the scans for the training data...\n"
          ]
        },
        {
          "output_type": "display_data",
          "data": {
            "application/vnd.jupyter.widget-view+json": {
              "model_id": "150fd919beae487480cacb2a3a6f312b",
              "version_minor": 0,
              "version_major": 2
            },
            "text/plain": [
              "  0%|          | 0/56 [00:00<?, ?it/s]"
            ]
          },
          "metadata": {}
        },
        {
          "output_type": "display_data",
          "data": {
            "application/vnd.jupyter.widget-view+json": {
              "model_id": "d4884681b211434097bdf602db86cb80",
              "version_minor": 0,
              "version_major": 2
            },
            "text/plain": [
              "  0%|          | 0/17 [00:00<?, ?it/s]"
            ]
          },
          "metadata": {}
        },
        {
          "output_type": "display_data",
          "data": {
            "application/vnd.jupyter.widget-view+json": {
              "model_id": "33a3ccd94c104a29a9a37122912c48f1",
              "version_minor": 0,
              "version_major": 2
            },
            "text/plain": [
              "  0%|          | 0/12 [00:00<?, ?it/s]"
            ]
          },
          "metadata": {}
        },
        {
          "output_type": "stream",
          "name": "stdout",
          "text": [
            "MRI scans of AD cases in validation data: 0\n",
            "MRI scans of MCI cases in validation data: 2\n",
            "MRI scans of HC cases in validation data: 14\n",
            "MRI scans of AD cases in validation data: 0\n",
            "MRI scans of MCI cases in validation data: 12\n",
            "MRI scans of HC cases in validation data: 14\n",
            "MRI scans of AD cases in validation data: 10\n",
            "MRI scans of MCI cases in validation data: 12\n",
            "MRI scans of HC cases in validation data: 14\n",
            "Loading the scans for the validation data...\n"
          ]
        },
        {
          "output_type": "display_data",
          "data": {
            "application/vnd.jupyter.widget-view+json": {
              "model_id": "c57da2a1b08543939ef8cadb2716f75f",
              "version_minor": 0,
              "version_major": 2
            },
            "text/plain": [
              "  0%|          | 0/14 [00:00<?, ?it/s]"
            ]
          },
          "metadata": {}
        },
        {
          "output_type": "display_data",
          "data": {
            "application/vnd.jupyter.widget-view+json": {
              "model_id": "3098fd48af554350b7ddb65c7967cbe2",
              "version_minor": 0,
              "version_major": 2
            },
            "text/plain": [
              "  0%|          | 0/12 [00:00<?, ?it/s]"
            ]
          },
          "metadata": {}
        },
        {
          "output_type": "display_data",
          "data": {
            "application/vnd.jupyter.widget-view+json": {
              "model_id": "9a771e0bfd0c469cab91dac0e7a612cb",
              "version_minor": 0,
              "version_major": 2
            },
            "text/plain": [
              "  0%|          | 0/10 [00:00<?, ?it/s]"
            ]
          },
          "metadata": {}
        },
        {
          "output_type": "stream",
          "name": "stderr",
          "text": [
            "Some weights of the model checkpoint at facebook/deit-base-distilled-patch16-384 were not used when initializing DeiTModel: ['distillation_classifier.weight', 'cls_classifier.weight', 'distillation_classifier.bias', 'cls_classifier.bias']\n",
            "- This IS expected if you are initializing DeiTModel from the checkpoint of a model trained on another task or with another architecture (e.g. initializing a BertForSequenceClassification model from a BertForPreTraining model).\n",
            "- This IS NOT expected if you are initializing DeiTModel from the checkpoint of a model that you expect to be exactly identical (initializing a BertForSequenceClassification model from a BertForSequenceClassification model).\n",
            "Some weights of DeiTModel were not initialized from the model checkpoint at facebook/deit-base-distilled-patch16-384 and are newly initialized: ['deit.pooler.dense.weight', 'deit.pooler.dense.bias']\n",
            "You should probably TRAIN this model on a down-stream task to be able to use it for predictions and inference.\n"
          ]
        },
        {
          "output_type": "stream",
          "name": "stdout",
          "text": [
            "Number of train samples:  85\n",
            "Number of validation samples:  36\n",
            "Classes are {'AD': 0, 'HC': 1, 'MCI': 2}\n",
            "Training EPOCH 1 in RUN 0\n",
            "Training EPOCH 2 in RUN 0\n",
            "Training EPOCH 3 in RUN 0\n",
            "Training EPOCH 4 in RUN 0\n",
            "Training EPOCH 5 in RUN 0\n",
            "For run 1, we have:\n",
            "MRI scans of AD cases in training data: 3\n",
            "MRI scans of MCI cases in training data: 9\n",
            "MRI scans of HC cases in training data: 53\n",
            "MRI scans of AD cases in training data: 13\n",
            "MRI scans of MCI cases in training data: 9\n",
            "MRI scans of HC cases in training data: 53\n",
            "MRI scans of AD cases in training data: 13\n",
            "MRI scans of MCI cases in training data: 19\n",
            "MRI scans of HC cases in training data: 53\n",
            "Loading the scans for the training data...\n"
          ]
        },
        {
          "output_type": "display_data",
          "data": {
            "application/vnd.jupyter.widget-view+json": {
              "model_id": "735cf180ad2b471ab3bb5e1d09fd83fb",
              "version_minor": 0,
              "version_major": 2
            },
            "text/plain": [
              "  0%|          | 0/53 [00:00<?, ?it/s]"
            ]
          },
          "metadata": {}
        },
        {
          "output_type": "display_data",
          "data": {
            "application/vnd.jupyter.widget-view+json": {
              "model_id": "e1f9676e7f92459b8ef559f3ac8960a2",
              "version_minor": 0,
              "version_major": 2
            },
            "text/plain": [
              "  0%|          | 0/19 [00:00<?, ?it/s]"
            ]
          },
          "metadata": {}
        },
        {
          "output_type": "display_data",
          "data": {
            "application/vnd.jupyter.widget-view+json": {
              "model_id": "23510fa7fa074b9c94cb2d489a304d3a",
              "version_minor": 0,
              "version_major": 2
            },
            "text/plain": [
              "  0%|          | 0/13 [00:00<?, ?it/s]"
            ]
          },
          "metadata": {}
        },
        {
          "output_type": "stream",
          "name": "stdout",
          "text": [
            "MRI scans of AD cases in validation data: 0\n",
            "MRI scans of MCI cases in validation data: 2\n",
            "MRI scans of HC cases in validation data: 14\n",
            "MRI scans of AD cases in validation data: 0\n",
            "MRI scans of MCI cases in validation data: 12\n",
            "MRI scans of HC cases in validation data: 14\n",
            "MRI scans of AD cases in validation data: 10\n",
            "MRI scans of MCI cases in validation data: 12\n",
            "MRI scans of HC cases in validation data: 14\n",
            "Loading the scans for the validation data...\n"
          ]
        },
        {
          "output_type": "display_data",
          "data": {
            "application/vnd.jupyter.widget-view+json": {
              "model_id": "49db476e29d44ee09def6fd2369085d7",
              "version_minor": 0,
              "version_major": 2
            },
            "text/plain": [
              "  0%|          | 0/14 [00:00<?, ?it/s]"
            ]
          },
          "metadata": {}
        },
        {
          "output_type": "display_data",
          "data": {
            "application/vnd.jupyter.widget-view+json": {
              "model_id": "c656b9b9933c453fb8558b1f23b933f8",
              "version_minor": 0,
              "version_major": 2
            },
            "text/plain": [
              "  0%|          | 0/12 [00:00<?, ?it/s]"
            ]
          },
          "metadata": {}
        },
        {
          "output_type": "display_data",
          "data": {
            "application/vnd.jupyter.widget-view+json": {
              "model_id": "3c533f6683284356aa16e3aa8687337b",
              "version_minor": 0,
              "version_major": 2
            },
            "text/plain": [
              "  0%|          | 0/10 [00:00<?, ?it/s]"
            ]
          },
          "metadata": {}
        },
        {
          "output_type": "stream",
          "name": "stdout",
          "text": [
            "Number of train samples:  85\n",
            "Number of validation samples:  36\n",
            "Classes are {'AD': 0, 'HC': 1, 'MCI': 2}\n",
            "Training EPOCH 1 in RUN 1\n",
            "Training EPOCH 2 in RUN 1\n",
            "Training EPOCH 3 in RUN 1\n",
            "Training EPOCH 4 in RUN 1\n",
            "Training EPOCH 5 in RUN 1\n",
            "For run 2, we have:\n",
            "MRI scans of AD cases in training data: 4\n",
            "MRI scans of MCI cases in training data: 8\n",
            "MRI scans of HC cases in training data: 53\n",
            "MRI scans of AD cases in training data: 14\n",
            "MRI scans of MCI cases in training data: 8\n",
            "MRI scans of HC cases in training data: 53\n",
            "MRI scans of AD cases in training data: 14\n",
            "MRI scans of MCI cases in training data: 18\n",
            "MRI scans of HC cases in training data: 53\n",
            "Loading the scans for the training data...\n"
          ]
        },
        {
          "output_type": "display_data",
          "data": {
            "application/vnd.jupyter.widget-view+json": {
              "model_id": "de6b9653d31846fb996270d858972068",
              "version_minor": 0,
              "version_major": 2
            },
            "text/plain": [
              "  0%|          | 0/53 [00:00<?, ?it/s]"
            ]
          },
          "metadata": {}
        },
        {
          "output_type": "display_data",
          "data": {
            "application/vnd.jupyter.widget-view+json": {
              "model_id": "a273406525ec46a19b0ec86192478a5a",
              "version_minor": 0,
              "version_major": 2
            },
            "text/plain": [
              "  0%|          | 0/18 [00:00<?, ?it/s]"
            ]
          },
          "metadata": {}
        },
        {
          "output_type": "display_data",
          "data": {
            "application/vnd.jupyter.widget-view+json": {
              "model_id": "2a35a983312a411c8be52b8d76302a8c",
              "version_minor": 0,
              "version_major": 2
            },
            "text/plain": [
              "  0%|          | 0/14 [00:00<?, ?it/s]"
            ]
          },
          "metadata": {}
        },
        {
          "output_type": "stream",
          "name": "stdout",
          "text": [
            "MRI scans of AD cases in validation data: 0\n",
            "MRI scans of MCI cases in validation data: 2\n",
            "MRI scans of HC cases in validation data: 13\n",
            "MRI scans of AD cases in validation data: 0\n",
            "MRI scans of MCI cases in validation data: 12\n",
            "MRI scans of HC cases in validation data: 13\n",
            "MRI scans of AD cases in validation data: 10\n",
            "MRI scans of MCI cases in validation data: 12\n",
            "MRI scans of HC cases in validation data: 13\n",
            "Loading the scans for the validation data...\n"
          ]
        },
        {
          "output_type": "display_data",
          "data": {
            "application/vnd.jupyter.widget-view+json": {
              "model_id": "b92995de7d814bbfb61e1f60cfdd7891",
              "version_minor": 0,
              "version_major": 2
            },
            "text/plain": [
              "  0%|          | 0/13 [00:00<?, ?it/s]"
            ]
          },
          "metadata": {}
        },
        {
          "output_type": "display_data",
          "data": {
            "application/vnd.jupyter.widget-view+json": {
              "model_id": "671bff5784e640938c953853243745a0",
              "version_minor": 0,
              "version_major": 2
            },
            "text/plain": [
              "  0%|          | 0/12 [00:00<?, ?it/s]"
            ]
          },
          "metadata": {}
        },
        {
          "output_type": "display_data",
          "data": {
            "application/vnd.jupyter.widget-view+json": {
              "model_id": "70dc4b25074a40c8936f3bcb10943141",
              "version_minor": 0,
              "version_major": 2
            },
            "text/plain": [
              "  0%|          | 0/10 [00:00<?, ?it/s]"
            ]
          },
          "metadata": {}
        },
        {
          "output_type": "stream",
          "name": "stdout",
          "text": [
            "Number of train samples:  85\n",
            "Number of validation samples:  35\n",
            "Classes are {'AD': 0, 'HC': 1, 'MCI': 2}\n",
            "Training EPOCH 1 in RUN 2\n",
            "Training EPOCH 2 in RUN 2\n",
            "Training EPOCH 3 in RUN 2\n",
            "Training EPOCH 4 in RUN 2\n",
            "Training EPOCH 5 in RUN 2\n",
            "For run 3, we have:\n",
            "MRI scans of AD cases in training data: 5\n",
            "MRI scans of MCI cases in training data: 7\n",
            "MRI scans of HC cases in training data: 52\n",
            "MRI scans of AD cases in training data: 15\n",
            "MRI scans of MCI cases in training data: 7\n",
            "MRI scans of HC cases in training data: 52\n",
            "MRI scans of AD cases in training data: 15\n",
            "MRI scans of MCI cases in training data: 17\n",
            "MRI scans of HC cases in training data: 52\n",
            "Loading the scans for the training data...\n"
          ]
        },
        {
          "output_type": "display_data",
          "data": {
            "application/vnd.jupyter.widget-view+json": {
              "model_id": "7192bed24e4546b2bf3148606c47cde0",
              "version_minor": 0,
              "version_major": 2
            },
            "text/plain": [
              "  0%|          | 0/52 [00:00<?, ?it/s]"
            ]
          },
          "metadata": {}
        },
        {
          "output_type": "display_data",
          "data": {
            "application/vnd.jupyter.widget-view+json": {
              "model_id": "8d4364156b53485fad39aada64f6d9cf",
              "version_minor": 0,
              "version_major": 2
            },
            "text/plain": [
              "  0%|          | 0/17 [00:00<?, ?it/s]"
            ]
          },
          "metadata": {}
        },
        {
          "output_type": "display_data",
          "data": {
            "application/vnd.jupyter.widget-view+json": {
              "model_id": "c80a2b17d7dc405085fb94eaa7a503b6",
              "version_minor": 0,
              "version_major": 2
            },
            "text/plain": [
              "  0%|          | 0/15 [00:00<?, ?it/s]"
            ]
          },
          "metadata": {}
        },
        {
          "output_type": "stream",
          "name": "stdout",
          "text": [
            "MRI scans of AD cases in validation data: 0\n",
            "MRI scans of MCI cases in validation data: 0\n",
            "MRI scans of HC cases in validation data: 15\n",
            "MRI scans of AD cases in validation data: 0\n",
            "MRI scans of MCI cases in validation data: 10\n",
            "MRI scans of HC cases in validation data: 15\n",
            "MRI scans of AD cases in validation data: 10\n",
            "MRI scans of MCI cases in validation data: 10\n",
            "MRI scans of HC cases in validation data: 15\n",
            "Loading the scans for the validation data...\n"
          ]
        },
        {
          "output_type": "display_data",
          "data": {
            "application/vnd.jupyter.widget-view+json": {
              "model_id": "9b9b8a2e7fb640f89a7f344f577bf3cc",
              "version_minor": 0,
              "version_major": 2
            },
            "text/plain": [
              "  0%|          | 0/15 [00:00<?, ?it/s]"
            ]
          },
          "metadata": {}
        },
        {
          "output_type": "display_data",
          "data": {
            "application/vnd.jupyter.widget-view+json": {
              "model_id": "29578d459b524214b60268c2c6536ef9",
              "version_minor": 0,
              "version_major": 2
            },
            "text/plain": [
              "  0%|          | 0/10 [00:00<?, ?it/s]"
            ]
          },
          "metadata": {}
        },
        {
          "output_type": "display_data",
          "data": {
            "application/vnd.jupyter.widget-view+json": {
              "model_id": "ca70eac417ce410a8ef073379db220a1",
              "version_minor": 0,
              "version_major": 2
            },
            "text/plain": [
              "  0%|          | 0/10 [00:00<?, ?it/s]"
            ]
          },
          "metadata": {}
        },
        {
          "output_type": "stream",
          "name": "stdout",
          "text": [
            "Number of train samples:  84\n",
            "Number of validation samples:  35\n",
            "Classes are {'AD': 0, 'HC': 1, 'MCI': 2}\n",
            "Training EPOCH 1 in RUN 3\n",
            "Training EPOCH 2 in RUN 3\n",
            "Training EPOCH 3 in RUN 3\n",
            "Training EPOCH 4 in RUN 3\n",
            "Training EPOCH 5 in RUN 3\n",
            "For run 4, we have:\n",
            "MRI scans of AD cases in training data: 6\n",
            "MRI scans of MCI cases in training data: 15\n",
            "MRI scans of HC cases in training data: 43\n",
            "MRI scans of AD cases in training data: 16\n",
            "MRI scans of MCI cases in training data: 15\n",
            "MRI scans of HC cases in training data: 43\n",
            "Loading the scans for the training data...\n"
          ]
        },
        {
          "output_type": "display_data",
          "data": {
            "application/vnd.jupyter.widget-view+json": {
              "model_id": "7f813463bd544a788652097b1fddd21a",
              "version_minor": 0,
              "version_major": 2
            },
            "text/plain": [
              "  0%|          | 0/43 [00:00<?, ?it/s]"
            ]
          },
          "metadata": {}
        },
        {
          "output_type": "display_data",
          "data": {
            "application/vnd.jupyter.widget-view+json": {
              "model_id": "2c64b676f56c49ce8cba47b6e160103b",
              "version_minor": 0,
              "version_major": 2
            },
            "text/plain": [
              "  0%|          | 0/15 [00:00<?, ?it/s]"
            ]
          },
          "metadata": {}
        },
        {
          "output_type": "display_data",
          "data": {
            "application/vnd.jupyter.widget-view+json": {
              "model_id": "f7d043cff4344c6794c6bfdc9c0485a1",
              "version_minor": 0,
              "version_major": 2
            },
            "text/plain": [
              "  0%|          | 0/16 [00:00<?, ?it/s]"
            ]
          },
          "metadata": {}
        },
        {
          "output_type": "stream",
          "name": "stdout",
          "text": [
            "MRI scans of AD cases in validation data: 0\n",
            "MRI scans of MCI cases in validation data: 1\n",
            "MRI scans of HC cases in validation data: 14\n",
            "MRI scans of AD cases in validation data: 0\n",
            "MRI scans of MCI cases in validation data: 11\n",
            "MRI scans of HC cases in validation data: 14\n",
            "MRI scans of AD cases in validation data: 10\n",
            "MRI scans of MCI cases in validation data: 11\n",
            "MRI scans of HC cases in validation data: 14\n",
            "Loading the scans for the validation data...\n"
          ]
        },
        {
          "output_type": "display_data",
          "data": {
            "application/vnd.jupyter.widget-view+json": {
              "model_id": "b5d8dbf7e20141ab8f6d1529d7327019",
              "version_minor": 0,
              "version_major": 2
            },
            "text/plain": [
              "  0%|          | 0/14 [00:00<?, ?it/s]"
            ]
          },
          "metadata": {}
        },
        {
          "output_type": "display_data",
          "data": {
            "application/vnd.jupyter.widget-view+json": {
              "model_id": "1de922a92e9c4e3faba731b40482b832",
              "version_minor": 0,
              "version_major": 2
            },
            "text/plain": [
              "  0%|          | 0/11 [00:00<?, ?it/s]"
            ]
          },
          "metadata": {}
        },
        {
          "output_type": "display_data",
          "data": {
            "application/vnd.jupyter.widget-view+json": {
              "model_id": "49f818803a5e4e7685679235730f4bdf",
              "version_minor": 0,
              "version_major": 2
            },
            "text/plain": [
              "  0%|          | 0/10 [00:00<?, ?it/s]"
            ]
          },
          "metadata": {}
        },
        {
          "output_type": "stream",
          "name": "stdout",
          "text": [
            "Number of train samples:  74\n",
            "Number of validation samples:  35\n",
            "Classes are {'AD': 0, 'HC': 1, 'MCI': 2}\n",
            "Training EPOCH 1 in RUN 4\n",
            "Training EPOCH 2 in RUN 4\n",
            "Training EPOCH 3 in RUN 4\n",
            "Training EPOCH 4 in RUN 4\n",
            "Training EPOCH 5 in RUN 4\n",
            "For run 5, we have:\n",
            "MRI scans of AD cases in training data: 6\n",
            "MRI scans of MCI cases in training data: 7\n",
            "MRI scans of HC cases in training data: 51\n",
            "MRI scans of AD cases in training data: 16\n",
            "MRI scans of MCI cases in training data: 7\n",
            "MRI scans of HC cases in training data: 51\n",
            "MRI scans of AD cases in training data: 16\n",
            "MRI scans of MCI cases in training data: 17\n",
            "MRI scans of HC cases in training data: 51\n",
            "Loading the scans for the training data...\n"
          ]
        },
        {
          "output_type": "display_data",
          "data": {
            "application/vnd.jupyter.widget-view+json": {
              "model_id": "414de3ec798c4b639f026dcaeb96cb39",
              "version_minor": 0,
              "version_major": 2
            },
            "text/plain": [
              "  0%|          | 0/51 [00:00<?, ?it/s]"
            ]
          },
          "metadata": {}
        },
        {
          "output_type": "display_data",
          "data": {
            "application/vnd.jupyter.widget-view+json": {
              "model_id": "bdedf1de6077451db58ca37d57a74c7b",
              "version_minor": 0,
              "version_major": 2
            },
            "text/plain": [
              "  0%|          | 0/17 [00:00<?, ?it/s]"
            ]
          },
          "metadata": {}
        },
        {
          "output_type": "display_data",
          "data": {
            "application/vnd.jupyter.widget-view+json": {
              "model_id": "2c53cc1aeae647c887eb4502825c497f",
              "version_minor": 0,
              "version_major": 2
            },
            "text/plain": [
              "  0%|          | 0/16 [00:00<?, ?it/s]"
            ]
          },
          "metadata": {}
        },
        {
          "output_type": "stream",
          "name": "stdout",
          "text": [
            "MRI scans of AD cases in validation data: 0\n",
            "MRI scans of MCI cases in validation data: 2\n",
            "MRI scans of HC cases in validation data: 13\n",
            "MRI scans of AD cases in validation data: 0\n",
            "MRI scans of MCI cases in validation data: 12\n",
            "MRI scans of HC cases in validation data: 13\n",
            "MRI scans of AD cases in validation data: 10\n",
            "MRI scans of MCI cases in validation data: 12\n",
            "MRI scans of HC cases in validation data: 13\n",
            "Loading the scans for the validation data...\n"
          ]
        },
        {
          "output_type": "display_data",
          "data": {
            "application/vnd.jupyter.widget-view+json": {
              "model_id": "cd51ccaf324b4e0d86fc45d43cbeb335",
              "version_minor": 0,
              "version_major": 2
            },
            "text/plain": [
              "  0%|          | 0/13 [00:00<?, ?it/s]"
            ]
          },
          "metadata": {}
        },
        {
          "output_type": "display_data",
          "data": {
            "application/vnd.jupyter.widget-view+json": {
              "model_id": "f8a591290ed24184aae0a5ff422a0d2d",
              "version_minor": 0,
              "version_major": 2
            },
            "text/plain": [
              "  0%|          | 0/12 [00:00<?, ?it/s]"
            ]
          },
          "metadata": {}
        },
        {
          "output_type": "display_data",
          "data": {
            "application/vnd.jupyter.widget-view+json": {
              "model_id": "78b44bfde9e4489cb24ba7d0999cacb3",
              "version_minor": 0,
              "version_major": 2
            },
            "text/plain": [
              "  0%|          | 0/10 [00:00<?, ?it/s]"
            ]
          },
          "metadata": {}
        },
        {
          "output_type": "stream",
          "name": "stdout",
          "text": [
            "Number of train samples:  84\n",
            "Number of validation samples:  35\n",
            "Classes are {'AD': 0, 'HC': 1, 'MCI': 2}\n",
            "Training EPOCH 1 in RUN 5\n",
            "Training EPOCH 2 in RUN 5\n",
            "Training EPOCH 3 in RUN 5\n",
            "Training EPOCH 4 in RUN 5\n",
            "Training EPOCH 5 in RUN 5\n",
            "For run 6, we have:\n",
            "MRI scans of AD cases in training data: 3\n",
            "MRI scans of MCI cases in training data: 11\n",
            "MRI scans of HC cases in training data: 50\n",
            "MRI scans of AD cases in training data: 13\n",
            "MRI scans of MCI cases in training data: 11\n",
            "MRI scans of HC cases in training data: 50\n",
            "Loading the scans for the training data...\n"
          ]
        },
        {
          "output_type": "display_data",
          "data": {
            "application/vnd.jupyter.widget-view+json": {
              "model_id": "c4e3dadc3f1045858726e590e2d7a84d",
              "version_minor": 0,
              "version_major": 2
            },
            "text/plain": [
              "  0%|          | 0/50 [00:00<?, ?it/s]"
            ]
          },
          "metadata": {}
        },
        {
          "output_type": "display_data",
          "data": {
            "application/vnd.jupyter.widget-view+json": {
              "model_id": "12f4b22d972a43c09eb333736ba68cff",
              "version_minor": 0,
              "version_major": 2
            },
            "text/plain": [
              "  0%|          | 0/11 [00:00<?, ?it/s]"
            ]
          },
          "metadata": {}
        },
        {
          "output_type": "display_data",
          "data": {
            "application/vnd.jupyter.widget-view+json": {
              "model_id": "fee7be5a4fb34ef6be667ac467e97078",
              "version_minor": 0,
              "version_major": 2
            },
            "text/plain": [
              "  0%|          | 0/13 [00:00<?, ?it/s]"
            ]
          },
          "metadata": {}
        },
        {
          "output_type": "stream",
          "name": "stdout",
          "text": [
            "MRI scans of AD cases in validation data: 0\n",
            "MRI scans of MCI cases in validation data: 6\n",
            "MRI scans of HC cases in validation data: 9\n",
            "MRI scans of AD cases in validation data: 0\n",
            "MRI scans of MCI cases in validation data: 16\n",
            "MRI scans of HC cases in validation data: 9\n",
            "MRI scans of AD cases in validation data: 10\n",
            "MRI scans of MCI cases in validation data: 16\n",
            "MRI scans of HC cases in validation data: 9\n",
            "Loading the scans for the validation data...\n"
          ]
        },
        {
          "output_type": "display_data",
          "data": {
            "application/vnd.jupyter.widget-view+json": {
              "model_id": "c66fd1aecac5466c826108b8e9370882",
              "version_minor": 0,
              "version_major": 2
            },
            "text/plain": [
              "  0%|          | 0/9 [00:00<?, ?it/s]"
            ]
          },
          "metadata": {}
        },
        {
          "output_type": "display_data",
          "data": {
            "application/vnd.jupyter.widget-view+json": {
              "model_id": "27653502c3be4a0c9af3812233bcf2eb",
              "version_minor": 0,
              "version_major": 2
            },
            "text/plain": [
              "  0%|          | 0/16 [00:00<?, ?it/s]"
            ]
          },
          "metadata": {}
        },
        {
          "output_type": "display_data",
          "data": {
            "application/vnd.jupyter.widget-view+json": {
              "model_id": "be0c7ac8f0964901b818c12c778d3d4d",
              "version_minor": 0,
              "version_major": 2
            },
            "text/plain": [
              "  0%|          | 0/10 [00:00<?, ?it/s]"
            ]
          },
          "metadata": {}
        },
        {
          "output_type": "stream",
          "name": "stdout",
          "text": [
            "Number of train samples:  74\n",
            "Number of validation samples:  35\n",
            "Classes are {'AD': 0, 'HC': 1, 'MCI': 2}\n",
            "Training EPOCH 1 in RUN 6\n",
            "Training EPOCH 2 in RUN 6\n",
            "Training EPOCH 3 in RUN 6\n",
            "Training EPOCH 4 in RUN 6\n",
            "Training EPOCH 5 in RUN 6\n",
            "For run 7, we have:\n",
            "MRI scans of AD cases in training data: 8\n",
            "MRI scans of MCI cases in training data: 6\n",
            "MRI scans of HC cases in training data: 50\n",
            "MRI scans of AD cases in training data: 18\n",
            "MRI scans of MCI cases in training data: 6\n",
            "MRI scans of HC cases in training data: 50\n",
            "MRI scans of AD cases in training data: 18\n",
            "MRI scans of MCI cases in training data: 16\n",
            "MRI scans of HC cases in training data: 50\n",
            "Loading the scans for the training data...\n"
          ]
        },
        {
          "output_type": "display_data",
          "data": {
            "application/vnd.jupyter.widget-view+json": {
              "model_id": "18e5cb5bf58b4e1d9fea46724a5b2ccb",
              "version_minor": 0,
              "version_major": 2
            },
            "text/plain": [
              "  0%|          | 0/50 [00:00<?, ?it/s]"
            ]
          },
          "metadata": {}
        },
        {
          "output_type": "display_data",
          "data": {
            "application/vnd.jupyter.widget-view+json": {
              "model_id": "9cb8dd6a2df3401f9c745e98d75b20e6",
              "version_minor": 0,
              "version_major": 2
            },
            "text/plain": [
              "  0%|          | 0/16 [00:00<?, ?it/s]"
            ]
          },
          "metadata": {}
        },
        {
          "output_type": "display_data",
          "data": {
            "application/vnd.jupyter.widget-view+json": {
              "model_id": "cbf42126f42542e99d468e9b4fe68abf",
              "version_minor": 0,
              "version_major": 2
            },
            "text/plain": [
              "  0%|          | 0/18 [00:00<?, ?it/s]"
            ]
          },
          "metadata": {}
        },
        {
          "output_type": "stream",
          "name": "stdout",
          "text": [
            "MRI scans of AD cases in validation data: 0\n",
            "MRI scans of MCI cases in validation data: 3\n",
            "MRI scans of HC cases in validation data: 12\n",
            "MRI scans of AD cases in validation data: 0\n",
            "MRI scans of MCI cases in validation data: 13\n",
            "MRI scans of HC cases in validation data: 12\n",
            "MRI scans of AD cases in validation data: 10\n",
            "MRI scans of MCI cases in validation data: 13\n",
            "MRI scans of HC cases in validation data: 12\n",
            "Loading the scans for the validation data...\n"
          ]
        },
        {
          "output_type": "display_data",
          "data": {
            "application/vnd.jupyter.widget-view+json": {
              "model_id": "7b2a49a845d749a3814b4342d4af912e",
              "version_minor": 0,
              "version_major": 2
            },
            "text/plain": [
              "  0%|          | 0/12 [00:00<?, ?it/s]"
            ]
          },
          "metadata": {}
        },
        {
          "output_type": "display_data",
          "data": {
            "application/vnd.jupyter.widget-view+json": {
              "model_id": "723f232e72d94fc0b6836a141f03cfd4",
              "version_minor": 0,
              "version_major": 2
            },
            "text/plain": [
              "  0%|          | 0/13 [00:00<?, ?it/s]"
            ]
          },
          "metadata": {}
        },
        {
          "output_type": "display_data",
          "data": {
            "application/vnd.jupyter.widget-view+json": {
              "model_id": "a7499613a824477280b2459e087d3a3e",
              "version_minor": 0,
              "version_major": 2
            },
            "text/plain": [
              "  0%|          | 0/10 [00:00<?, ?it/s]"
            ]
          },
          "metadata": {}
        },
        {
          "output_type": "stream",
          "name": "stdout",
          "text": [
            "Number of train samples:  84\n",
            "Number of validation samples:  35\n",
            "Classes are {'AD': 0, 'HC': 1, 'MCI': 2}\n",
            "Training EPOCH 1 in RUN 7\n",
            "Training EPOCH 2 in RUN 7\n",
            "Training EPOCH 3 in RUN 7\n",
            "Training EPOCH 4 in RUN 7\n",
            "Training EPOCH 5 in RUN 7\n",
            "For run 8, we have:\n",
            "MRI scans of AD cases in training data: 4\n",
            "MRI scans of MCI cases in training data: 8\n",
            "MRI scans of HC cases in training data: 52\n",
            "MRI scans of AD cases in training data: 14\n",
            "MRI scans of MCI cases in training data: 8\n",
            "MRI scans of HC cases in training data: 52\n",
            "MRI scans of AD cases in training data: 14\n",
            "MRI scans of MCI cases in training data: 18\n",
            "MRI scans of HC cases in training data: 52\n",
            "Loading the scans for the training data...\n"
          ]
        },
        {
          "output_type": "display_data",
          "data": {
            "application/vnd.jupyter.widget-view+json": {
              "model_id": "398dfccd2d834d519ed10c67ba6c1a91",
              "version_minor": 0,
              "version_major": 2
            },
            "text/plain": [
              "  0%|          | 0/52 [00:00<?, ?it/s]"
            ]
          },
          "metadata": {}
        },
        {
          "output_type": "display_data",
          "data": {
            "application/vnd.jupyter.widget-view+json": {
              "model_id": "4478bf1363cd4a38b0d10aaca6bba6af",
              "version_minor": 0,
              "version_major": 2
            },
            "text/plain": [
              "  0%|          | 0/18 [00:00<?, ?it/s]"
            ]
          },
          "metadata": {}
        },
        {
          "output_type": "display_data",
          "data": {
            "application/vnd.jupyter.widget-view+json": {
              "model_id": "d81901efe87749fb8a22ec08a6a6c1e6",
              "version_minor": 0,
              "version_major": 2
            },
            "text/plain": [
              "  0%|          | 0/14 [00:00<?, ?it/s]"
            ]
          },
          "metadata": {}
        },
        {
          "output_type": "stream",
          "name": "stdout",
          "text": [
            "MRI scans of AD cases in validation data: 0\n",
            "MRI scans of MCI cases in validation data: 4\n",
            "MRI scans of HC cases in validation data: 11\n",
            "MRI scans of AD cases in validation data: 0\n",
            "MRI scans of MCI cases in validation data: 14\n",
            "MRI scans of HC cases in validation data: 11\n",
            "MRI scans of AD cases in validation data: 10\n",
            "MRI scans of MCI cases in validation data: 14\n",
            "MRI scans of HC cases in validation data: 11\n",
            "Loading the scans for the validation data...\n"
          ]
        },
        {
          "output_type": "display_data",
          "data": {
            "application/vnd.jupyter.widget-view+json": {
              "model_id": "c8825c1aa4e34d018ee3d5d90da1025c",
              "version_minor": 0,
              "version_major": 2
            },
            "text/plain": [
              "  0%|          | 0/11 [00:00<?, ?it/s]"
            ]
          },
          "metadata": {}
        },
        {
          "output_type": "display_data",
          "data": {
            "application/vnd.jupyter.widget-view+json": {
              "model_id": "ac50a7d0a15c48fca7cd3e07d567fd26",
              "version_minor": 0,
              "version_major": 2
            },
            "text/plain": [
              "  0%|          | 0/14 [00:00<?, ?it/s]"
            ]
          },
          "metadata": {}
        },
        {
          "output_type": "display_data",
          "data": {
            "application/vnd.jupyter.widget-view+json": {
              "model_id": "62bfa1397de64f3cbdcd4d57edc51faf",
              "version_minor": 0,
              "version_major": 2
            },
            "text/plain": [
              "  0%|          | 0/10 [00:00<?, ?it/s]"
            ]
          },
          "metadata": {}
        },
        {
          "output_type": "stream",
          "name": "stdout",
          "text": [
            "Number of train samples:  84\n",
            "Number of validation samples:  35\n",
            "Classes are {'AD': 0, 'HC': 1, 'MCI': 2}\n",
            "Training EPOCH 1 in RUN 8\n",
            "Training EPOCH 2 in RUN 8\n",
            "Training EPOCH 3 in RUN 8\n",
            "Training EPOCH 4 in RUN 8\n",
            "Training EPOCH 5 in RUN 8\n",
            "For run 9, we have:\n",
            "MRI scans of AD cases in training data: 4\n",
            "MRI scans of MCI cases in training data: 8\n",
            "MRI scans of HC cases in training data: 52\n",
            "MRI scans of AD cases in training data: 14\n",
            "MRI scans of MCI cases in training data: 8\n",
            "MRI scans of HC cases in training data: 52\n",
            "MRI scans of AD cases in training data: 14\n",
            "MRI scans of MCI cases in training data: 18\n",
            "MRI scans of HC cases in training data: 52\n",
            "Loading the scans for the training data...\n"
          ]
        },
        {
          "output_type": "display_data",
          "data": {
            "application/vnd.jupyter.widget-view+json": {
              "model_id": "a98eca89d90c4a3a9d490cc150a329f5",
              "version_minor": 0,
              "version_major": 2
            },
            "text/plain": [
              "  0%|          | 0/52 [00:00<?, ?it/s]"
            ]
          },
          "metadata": {}
        },
        {
          "output_type": "display_data",
          "data": {
            "application/vnd.jupyter.widget-view+json": {
              "model_id": "16a7546433e5490f8536ba6de3dea559",
              "version_minor": 0,
              "version_major": 2
            },
            "text/plain": [
              "  0%|          | 0/18 [00:00<?, ?it/s]"
            ]
          },
          "metadata": {}
        },
        {
          "output_type": "display_data",
          "data": {
            "application/vnd.jupyter.widget-view+json": {
              "model_id": "c9dd4100d5534dd0985ddb5284c19ac3",
              "version_minor": 0,
              "version_major": 2
            },
            "text/plain": [
              "  0%|          | 0/14 [00:00<?, ?it/s]"
            ]
          },
          "metadata": {}
        },
        {
          "output_type": "stream",
          "name": "stdout",
          "text": [
            "MRI scans of AD cases in validation data: 0\n",
            "MRI scans of MCI cases in validation data: 0\n",
            "MRI scans of HC cases in validation data: 15\n",
            "MRI scans of AD cases in validation data: 0\n",
            "MRI scans of MCI cases in validation data: 10\n",
            "MRI scans of HC cases in validation data: 15\n",
            "MRI scans of AD cases in validation data: 10\n",
            "MRI scans of MCI cases in validation data: 10\n",
            "MRI scans of HC cases in validation data: 15\n",
            "Loading the scans for the validation data...\n"
          ]
        },
        {
          "output_type": "display_data",
          "data": {
            "application/vnd.jupyter.widget-view+json": {
              "model_id": "2cb51f149478439aa778fbdaff5c3ed5",
              "version_minor": 0,
              "version_major": 2
            },
            "text/plain": [
              "  0%|          | 0/15 [00:00<?, ?it/s]"
            ]
          },
          "metadata": {}
        },
        {
          "output_type": "display_data",
          "data": {
            "application/vnd.jupyter.widget-view+json": {
              "model_id": "6addd52279964bf2aed8132fff43d1fd",
              "version_minor": 0,
              "version_major": 2
            },
            "text/plain": [
              "  0%|          | 0/10 [00:00<?, ?it/s]"
            ]
          },
          "metadata": {}
        },
        {
          "output_type": "display_data",
          "data": {
            "application/vnd.jupyter.widget-view+json": {
              "model_id": "a251d436bd214112bb0b2f162445da56",
              "version_minor": 0,
              "version_major": 2
            },
            "text/plain": [
              "  0%|          | 0/10 [00:00<?, ?it/s]"
            ]
          },
          "metadata": {}
        },
        {
          "output_type": "stream",
          "name": "stdout",
          "text": [
            "Number of train samples:  84\n",
            "Number of validation samples:  35\n",
            "Classes are {'AD': 0, 'HC': 1, 'MCI': 2}\n",
            "Training EPOCH 1 in RUN 9\n",
            "Training EPOCH 2 in RUN 9\n",
            "Training EPOCH 3 in RUN 9\n",
            "Training EPOCH 4 in RUN 9\n",
            "Training EPOCH 5 in RUN 9\n",
            "For run 10, we have:\n",
            "MRI scans of AD cases in training data: 7\n",
            "MRI scans of MCI cases in training data: 8\n",
            "MRI scans of HC cases in training data: 49\n",
            "MRI scans of AD cases in training data: 17\n",
            "MRI scans of MCI cases in training data: 8\n",
            "MRI scans of HC cases in training data: 49\n",
            "MRI scans of AD cases in training data: 17\n",
            "MRI scans of MCI cases in training data: 18\n",
            "MRI scans of HC cases in training data: 49\n",
            "Loading the scans for the training data...\n"
          ]
        },
        {
          "output_type": "display_data",
          "data": {
            "application/vnd.jupyter.widget-view+json": {
              "model_id": "4faff4cc72d34985960b5b80e5b51f62",
              "version_minor": 0,
              "version_major": 2
            },
            "text/plain": [
              "  0%|          | 0/49 [00:00<?, ?it/s]"
            ]
          },
          "metadata": {}
        },
        {
          "output_type": "display_data",
          "data": {
            "application/vnd.jupyter.widget-view+json": {
              "model_id": "9d5bcfb84efd43b5a798942c388e9e16",
              "version_minor": 0,
              "version_major": 2
            },
            "text/plain": [
              "  0%|          | 0/18 [00:00<?, ?it/s]"
            ]
          },
          "metadata": {}
        },
        {
          "output_type": "display_data",
          "data": {
            "application/vnd.jupyter.widget-view+json": {
              "model_id": "42f471c25e424bf891e3e81a731447ff",
              "version_minor": 0,
              "version_major": 2
            },
            "text/plain": [
              "  0%|          | 0/17 [00:00<?, ?it/s]"
            ]
          },
          "metadata": {}
        },
        {
          "output_type": "stream",
          "name": "stdout",
          "text": [
            "MRI scans of AD cases in validation data: 0\n",
            "MRI scans of MCI cases in validation data: 3\n",
            "MRI scans of HC cases in validation data: 12\n",
            "MRI scans of AD cases in validation data: 0\n",
            "MRI scans of MCI cases in validation data: 13\n",
            "MRI scans of HC cases in validation data: 12\n",
            "MRI scans of AD cases in validation data: 10\n",
            "MRI scans of MCI cases in validation data: 13\n",
            "MRI scans of HC cases in validation data: 12\n",
            "Loading the scans for the validation data...\n"
          ]
        },
        {
          "output_type": "display_data",
          "data": {
            "application/vnd.jupyter.widget-view+json": {
              "model_id": "ea5f81a350774397be2d35059cdea4ca",
              "version_minor": 0,
              "version_major": 2
            },
            "text/plain": [
              "  0%|          | 0/12 [00:00<?, ?it/s]"
            ]
          },
          "metadata": {}
        },
        {
          "output_type": "display_data",
          "data": {
            "application/vnd.jupyter.widget-view+json": {
              "model_id": "64e797a442754bb1abd4970ece379e5a",
              "version_minor": 0,
              "version_major": 2
            },
            "text/plain": [
              "  0%|          | 0/13 [00:00<?, ?it/s]"
            ]
          },
          "metadata": {}
        },
        {
          "output_type": "display_data",
          "data": {
            "application/vnd.jupyter.widget-view+json": {
              "model_id": "0b92c341f26e485786b9ea7c15a9a282",
              "version_minor": 0,
              "version_major": 2
            },
            "text/plain": [
              "  0%|          | 0/10 [00:00<?, ?it/s]"
            ]
          },
          "metadata": {}
        },
        {
          "output_type": "stream",
          "name": "stdout",
          "text": [
            "Number of train samples:  84\n",
            "Number of validation samples:  35\n",
            "Classes are {'AD': 0, 'HC': 1, 'MCI': 2}\n",
            "Training EPOCH 1 in RUN 10\n",
            "Training EPOCH 2 in RUN 10\n",
            "Training EPOCH 3 in RUN 10\n",
            "Training EPOCH 4 in RUN 10\n",
            "Training EPOCH 5 in RUN 10\n",
            "For run 11, we have:\n",
            "MRI scans of AD cases in training data: 4\n",
            "MRI scans of MCI cases in training data: 13\n",
            "MRI scans of HC cases in training data: 47\n",
            "MRI scans of AD cases in training data: 14\n",
            "MRI scans of MCI cases in training data: 13\n",
            "MRI scans of HC cases in training data: 47\n",
            "Loading the scans for the training data...\n"
          ]
        },
        {
          "output_type": "display_data",
          "data": {
            "application/vnd.jupyter.widget-view+json": {
              "model_id": "2c4ad668c6e64b02ad072453252060cc",
              "version_minor": 0,
              "version_major": 2
            },
            "text/plain": [
              "  0%|          | 0/47 [00:00<?, ?it/s]"
            ]
          },
          "metadata": {}
        },
        {
          "output_type": "display_data",
          "data": {
            "application/vnd.jupyter.widget-view+json": {
              "model_id": "9b95c468486041a196e26bfe2b55368a",
              "version_minor": 0,
              "version_major": 2
            },
            "text/plain": [
              "  0%|          | 0/13 [00:00<?, ?it/s]"
            ]
          },
          "metadata": {}
        },
        {
          "output_type": "display_data",
          "data": {
            "application/vnd.jupyter.widget-view+json": {
              "model_id": "d575b3bb36f8476b816c6c7e84a712e9",
              "version_minor": 0,
              "version_major": 2
            },
            "text/plain": [
              "  0%|          | 0/14 [00:00<?, ?it/s]"
            ]
          },
          "metadata": {}
        },
        {
          "output_type": "stream",
          "name": "stdout",
          "text": [
            "MRI scans of AD cases in validation data: 0\n",
            "MRI scans of MCI cases in validation data: 0\n",
            "MRI scans of HC cases in validation data: 15\n",
            "MRI scans of AD cases in validation data: 0\n",
            "MRI scans of MCI cases in validation data: 10\n",
            "MRI scans of HC cases in validation data: 15\n",
            "MRI scans of AD cases in validation data: 10\n",
            "MRI scans of MCI cases in validation data: 10\n",
            "MRI scans of HC cases in validation data: 15\n",
            "Loading the scans for the validation data...\n"
          ]
        },
        {
          "output_type": "display_data",
          "data": {
            "application/vnd.jupyter.widget-view+json": {
              "model_id": "d3675e77b4564d5294858dfe11850479",
              "version_minor": 0,
              "version_major": 2
            },
            "text/plain": [
              "  0%|          | 0/15 [00:00<?, ?it/s]"
            ]
          },
          "metadata": {}
        },
        {
          "output_type": "display_data",
          "data": {
            "application/vnd.jupyter.widget-view+json": {
              "model_id": "74089a7e3e434a2884c800ecbb8b9d57",
              "version_minor": 0,
              "version_major": 2
            },
            "text/plain": [
              "  0%|          | 0/10 [00:00<?, ?it/s]"
            ]
          },
          "metadata": {}
        },
        {
          "output_type": "display_data",
          "data": {
            "application/vnd.jupyter.widget-view+json": {
              "model_id": "ae2ab902f0134264b5dfb412cdfba13d",
              "version_minor": 0,
              "version_major": 2
            },
            "text/plain": [
              "  0%|          | 0/10 [00:00<?, ?it/s]"
            ]
          },
          "metadata": {}
        },
        {
          "output_type": "stream",
          "name": "stdout",
          "text": [
            "Number of train samples:  74\n",
            "Number of validation samples:  35\n",
            "Classes are {'AD': 0, 'HC': 1, 'MCI': 2}\n",
            "Training EPOCH 1 in RUN 11\n",
            "Training EPOCH 2 in RUN 11\n",
            "Training EPOCH 3 in RUN 11\n",
            "Training EPOCH 4 in RUN 11\n",
            "Training EPOCH 5 in RUN 11\n",
            "For run 12, we have:\n",
            "MRI scans of AD cases in training data: 3\n",
            "MRI scans of MCI cases in training data: 9\n",
            "MRI scans of HC cases in training data: 52\n",
            "MRI scans of AD cases in training data: 13\n",
            "MRI scans of MCI cases in training data: 9\n",
            "MRI scans of HC cases in training data: 52\n",
            "MRI scans of AD cases in training data: 13\n",
            "MRI scans of MCI cases in training data: 19\n",
            "MRI scans of HC cases in training data: 52\n",
            "Loading the scans for the training data...\n"
          ]
        },
        {
          "output_type": "display_data",
          "data": {
            "application/vnd.jupyter.widget-view+json": {
              "model_id": "53e0fa9c68f84d7294d26ba93cce12ef",
              "version_minor": 0,
              "version_major": 2
            },
            "text/plain": [
              "  0%|          | 0/52 [00:00<?, ?it/s]"
            ]
          },
          "metadata": {}
        },
        {
          "output_type": "display_data",
          "data": {
            "application/vnd.jupyter.widget-view+json": {
              "model_id": "15e58f234b274b7483337dceecce7f2f",
              "version_minor": 0,
              "version_major": 2
            },
            "text/plain": [
              "  0%|          | 0/19 [00:00<?, ?it/s]"
            ]
          },
          "metadata": {}
        },
        {
          "output_type": "display_data",
          "data": {
            "application/vnd.jupyter.widget-view+json": {
              "model_id": "e389cc6542604b58a9c381d8076ce789",
              "version_minor": 0,
              "version_major": 2
            },
            "text/plain": [
              "  0%|          | 0/13 [00:00<?, ?it/s]"
            ]
          },
          "metadata": {}
        },
        {
          "output_type": "stream",
          "name": "stdout",
          "text": [
            "MRI scans of AD cases in validation data: 0\n",
            "MRI scans of MCI cases in validation data: 3\n",
            "MRI scans of HC cases in validation data: 12\n",
            "MRI scans of AD cases in validation data: 0\n",
            "MRI scans of MCI cases in validation data: 13\n",
            "MRI scans of HC cases in validation data: 12\n",
            "MRI scans of AD cases in validation data: 10\n",
            "MRI scans of MCI cases in validation data: 13\n",
            "MRI scans of HC cases in validation data: 12\n",
            "Loading the scans for the validation data...\n"
          ]
        },
        {
          "output_type": "display_data",
          "data": {
            "application/vnd.jupyter.widget-view+json": {
              "model_id": "80c71e30928d4cde8e5cda0067c38c83",
              "version_minor": 0,
              "version_major": 2
            },
            "text/plain": [
              "  0%|          | 0/12 [00:00<?, ?it/s]"
            ]
          },
          "metadata": {}
        },
        {
          "output_type": "display_data",
          "data": {
            "application/vnd.jupyter.widget-view+json": {
              "model_id": "3117b10ce7a9408fa57da88535a1ac8b",
              "version_minor": 0,
              "version_major": 2
            },
            "text/plain": [
              "  0%|          | 0/13 [00:00<?, ?it/s]"
            ]
          },
          "metadata": {}
        },
        {
          "output_type": "display_data",
          "data": {
            "application/vnd.jupyter.widget-view+json": {
              "model_id": "9a9156debe604e93a9df2e412e38e41d",
              "version_minor": 0,
              "version_major": 2
            },
            "text/plain": [
              "  0%|          | 0/10 [00:00<?, ?it/s]"
            ]
          },
          "metadata": {}
        },
        {
          "output_type": "stream",
          "name": "stdout",
          "text": [
            "Number of train samples:  84\n",
            "Number of validation samples:  35\n",
            "Classes are {'AD': 0, 'HC': 1, 'MCI': 2}\n",
            "Training EPOCH 1 in RUN 12\n",
            "Training EPOCH 2 in RUN 12\n",
            "Training EPOCH 3 in RUN 12\n",
            "Training EPOCH 4 in RUN 12\n",
            "Training EPOCH 5 in RUN 12\n",
            "For run 13, we have:\n",
            "MRI scans of AD cases in training data: 5\n",
            "MRI scans of MCI cases in training data: 11\n",
            "MRI scans of HC cases in training data: 48\n",
            "MRI scans of AD cases in training data: 15\n",
            "MRI scans of MCI cases in training data: 11\n",
            "MRI scans of HC cases in training data: 48\n",
            "Loading the scans for the training data...\n"
          ]
        },
        {
          "output_type": "display_data",
          "data": {
            "application/vnd.jupyter.widget-view+json": {
              "model_id": "14ff55f79bd74ee894d642b8da144ccd",
              "version_minor": 0,
              "version_major": 2
            },
            "text/plain": [
              "  0%|          | 0/48 [00:00<?, ?it/s]"
            ]
          },
          "metadata": {}
        },
        {
          "output_type": "display_data",
          "data": {
            "application/vnd.jupyter.widget-view+json": {
              "model_id": "be4ae08e4a4645d18357b8cba4890964",
              "version_minor": 0,
              "version_major": 2
            },
            "text/plain": [
              "  0%|          | 0/11 [00:00<?, ?it/s]"
            ]
          },
          "metadata": {}
        },
        {
          "output_type": "display_data",
          "data": {
            "application/vnd.jupyter.widget-view+json": {
              "model_id": "ab8a3946f32a4257995625d4fbecd466",
              "version_minor": 0,
              "version_major": 2
            },
            "text/plain": [
              "  0%|          | 0/15 [00:00<?, ?it/s]"
            ]
          },
          "metadata": {}
        },
        {
          "output_type": "stream",
          "name": "stdout",
          "text": [
            "MRI scans of AD cases in validation data: 7\n",
            "MRI scans of MCI cases in validation data: 1\n",
            "MRI scans of HC cases in validation data: 7\n",
            "MRI scans of AD cases in validation data: 7\n",
            "MRI scans of MCI cases in validation data: 11\n",
            "MRI scans of HC cases in validation data: 7\n",
            "MRI scans of AD cases in validation data: 17\n",
            "MRI scans of MCI cases in validation data: 11\n",
            "MRI scans of HC cases in validation data: 7\n",
            "Loading the scans for the validation data...\n"
          ]
        },
        {
          "output_type": "display_data",
          "data": {
            "application/vnd.jupyter.widget-view+json": {
              "model_id": "ed5163ac81074497b183d229498eb35f",
              "version_minor": 0,
              "version_major": 2
            },
            "text/plain": [
              "  0%|          | 0/7 [00:00<?, ?it/s]"
            ]
          },
          "metadata": {}
        },
        {
          "output_type": "display_data",
          "data": {
            "application/vnd.jupyter.widget-view+json": {
              "model_id": "c8f638aa3a4e42b5ab9c8ed76fcc88ad",
              "version_minor": 0,
              "version_major": 2
            },
            "text/plain": [
              "  0%|          | 0/11 [00:00<?, ?it/s]"
            ]
          },
          "metadata": {}
        },
        {
          "output_type": "display_data",
          "data": {
            "application/vnd.jupyter.widget-view+json": {
              "model_id": "64a1af1b53c04936813578519e986573",
              "version_minor": 0,
              "version_major": 2
            },
            "text/plain": [
              "  0%|          | 0/17 [00:00<?, ?it/s]"
            ]
          },
          "metadata": {}
        },
        {
          "output_type": "stream",
          "name": "stdout",
          "text": [
            "Number of train samples:  74\n",
            "Number of validation samples:  35\n",
            "Classes are {'AD': 0, 'HC': 1, 'MCI': 2}\n",
            "Training EPOCH 1 in RUN 13\n",
            "Training EPOCH 2 in RUN 13\n",
            "Training EPOCH 3 in RUN 13\n",
            "Training EPOCH 4 in RUN 13\n",
            "Training EPOCH 5 in RUN 13\n",
            "For run 14, we have:\n",
            "MRI scans of AD cases in training data: 2\n",
            "MRI scans of MCI cases in training data: 9\n",
            "MRI scans of HC cases in training data: 53\n",
            "MRI scans of AD cases in training data: 12\n",
            "MRI scans of MCI cases in training data: 9\n",
            "MRI scans of HC cases in training data: 53\n",
            "MRI scans of AD cases in training data: 12\n",
            "MRI scans of MCI cases in training data: 19\n",
            "MRI scans of HC cases in training data: 53\n",
            "Loading the scans for the training data...\n"
          ]
        },
        {
          "output_type": "display_data",
          "data": {
            "application/vnd.jupyter.widget-view+json": {
              "model_id": "b5eddb6fbd0a4e5fb5b87308149b9fff",
              "version_minor": 0,
              "version_major": 2
            },
            "text/plain": [
              "  0%|          | 0/53 [00:00<?, ?it/s]"
            ]
          },
          "metadata": {}
        },
        {
          "output_type": "display_data",
          "data": {
            "application/vnd.jupyter.widget-view+json": {
              "model_id": "5b7ed7b144d6489c867aad70b5122781",
              "version_minor": 0,
              "version_major": 2
            },
            "text/plain": [
              "  0%|          | 0/19 [00:00<?, ?it/s]"
            ]
          },
          "metadata": {}
        },
        {
          "output_type": "display_data",
          "data": {
            "application/vnd.jupyter.widget-view+json": {
              "model_id": "4b6ac430a8f04676b6468e483d5bcca1",
              "version_minor": 0,
              "version_major": 2
            },
            "text/plain": [
              "  0%|          | 0/12 [00:00<?, ?it/s]"
            ]
          },
          "metadata": {}
        },
        {
          "output_type": "stream",
          "name": "stdout",
          "text": [
            "MRI scans of AD cases in validation data: 6\n",
            "MRI scans of MCI cases in validation data: 1\n",
            "MRI scans of HC cases in validation data: 8\n",
            "MRI scans of AD cases in validation data: 6\n",
            "MRI scans of MCI cases in validation data: 11\n",
            "MRI scans of HC cases in validation data: 8\n",
            "MRI scans of AD cases in validation data: 16\n",
            "MRI scans of MCI cases in validation data: 11\n",
            "MRI scans of HC cases in validation data: 8\n",
            "Loading the scans for the validation data...\n"
          ]
        },
        {
          "output_type": "display_data",
          "data": {
            "application/vnd.jupyter.widget-view+json": {
              "model_id": "c9a1ebca7cdf463ea62a3fe9c3b8d104",
              "version_minor": 0,
              "version_major": 2
            },
            "text/plain": [
              "  0%|          | 0/8 [00:00<?, ?it/s]"
            ]
          },
          "metadata": {}
        },
        {
          "output_type": "display_data",
          "data": {
            "application/vnd.jupyter.widget-view+json": {
              "model_id": "0739527d650a42598a6b452124fef7b6",
              "version_minor": 0,
              "version_major": 2
            },
            "text/plain": [
              "  0%|          | 0/11 [00:00<?, ?it/s]"
            ]
          },
          "metadata": {}
        },
        {
          "output_type": "display_data",
          "data": {
            "application/vnd.jupyter.widget-view+json": {
              "model_id": "6810e6142ef747479c4a2f49fadb7aaf",
              "version_minor": 0,
              "version_major": 2
            },
            "text/plain": [
              "  0%|          | 0/16 [00:00<?, ?it/s]"
            ]
          },
          "metadata": {}
        },
        {
          "output_type": "stream",
          "name": "stdout",
          "text": [
            "Number of train samples:  84\n",
            "Number of validation samples:  35\n",
            "Classes are {'AD': 0, 'HC': 1, 'MCI': 2}\n",
            "Training EPOCH 1 in RUN 14\n",
            "Training EPOCH 2 in RUN 14\n",
            "Training EPOCH 3 in RUN 14\n",
            "Training EPOCH 4 in RUN 14\n",
            "Training EPOCH 5 in RUN 14\n",
            "For run 15, we have:\n",
            "MRI scans of AD cases in training data: 0\n",
            "MRI scans of MCI cases in training data: 10\n",
            "MRI scans of HC cases in training data: 54\n",
            "MRI scans of AD cases in training data: 10\n",
            "MRI scans of MCI cases in training data: 10\n",
            "MRI scans of HC cases in training data: 54\n",
            "Loading the scans for the training data...\n"
          ]
        },
        {
          "output_type": "display_data",
          "data": {
            "application/vnd.jupyter.widget-view+json": {
              "model_id": "8960cf2e977947c3b7b7745c1d2677af",
              "version_minor": 0,
              "version_major": 2
            },
            "text/plain": [
              "  0%|          | 0/54 [00:00<?, ?it/s]"
            ]
          },
          "metadata": {}
        },
        {
          "output_type": "display_data",
          "data": {
            "application/vnd.jupyter.widget-view+json": {
              "model_id": "519ec707c0da49febcef84a2929c628e",
              "version_minor": 0,
              "version_major": 2
            },
            "text/plain": [
              "  0%|          | 0/10 [00:00<?, ?it/s]"
            ]
          },
          "metadata": {}
        },
        {
          "output_type": "display_data",
          "data": {
            "application/vnd.jupyter.widget-view+json": {
              "model_id": "bde0d83e15494e82a8febe046aa1e1d4",
              "version_minor": 0,
              "version_major": 2
            },
            "text/plain": [
              "  0%|          | 0/10 [00:00<?, ?it/s]"
            ]
          },
          "metadata": {}
        },
        {
          "output_type": "stream",
          "name": "stdout",
          "text": [
            "MRI scans of AD cases in validation data: 1\n",
            "MRI scans of MCI cases in validation data: 3\n",
            "MRI scans of HC cases in validation data: 11\n",
            "MRI scans of AD cases in validation data: 1\n",
            "MRI scans of MCI cases in validation data: 13\n",
            "MRI scans of HC cases in validation data: 11\n",
            "MRI scans of AD cases in validation data: 11\n",
            "MRI scans of MCI cases in validation data: 13\n",
            "MRI scans of HC cases in validation data: 11\n",
            "Loading the scans for the validation data...\n"
          ]
        },
        {
          "output_type": "display_data",
          "data": {
            "application/vnd.jupyter.widget-view+json": {
              "model_id": "b9bb850037c64bdab142631e19fca61d",
              "version_minor": 0,
              "version_major": 2
            },
            "text/plain": [
              "  0%|          | 0/11 [00:00<?, ?it/s]"
            ]
          },
          "metadata": {}
        },
        {
          "output_type": "display_data",
          "data": {
            "application/vnd.jupyter.widget-view+json": {
              "model_id": "d36d51251488450c99cf5a0fc9b2f943",
              "version_minor": 0,
              "version_major": 2
            },
            "text/plain": [
              "  0%|          | 0/13 [00:00<?, ?it/s]"
            ]
          },
          "metadata": {}
        },
        {
          "output_type": "display_data",
          "data": {
            "application/vnd.jupyter.widget-view+json": {
              "model_id": "5a4b4123e1d14f16ae11da192978eb30",
              "version_minor": 0,
              "version_major": 2
            },
            "text/plain": [
              "  0%|          | 0/11 [00:00<?, ?it/s]"
            ]
          },
          "metadata": {}
        },
        {
          "output_type": "stream",
          "name": "stdout",
          "text": [
            "Number of train samples:  74\n",
            "Number of validation samples:  35\n",
            "Classes are {'AD': 0, 'HC': 1, 'MCI': 2}\n",
            "Training EPOCH 1 in RUN 15\n",
            "Training EPOCH 2 in RUN 15\n",
            "Training EPOCH 3 in RUN 15\n",
            "Training EPOCH 4 in RUN 15\n",
            "Training EPOCH 5 in RUN 15\n",
            "For run 16, we have:\n",
            "MRI scans of AD cases in training data: 0\n",
            "MRI scans of MCI cases in training data: 7\n",
            "MRI scans of HC cases in training data: 57\n",
            "MRI scans of AD cases in training data: 10\n",
            "MRI scans of MCI cases in training data: 7\n",
            "MRI scans of HC cases in training data: 57\n",
            "MRI scans of AD cases in training data: 10\n",
            "MRI scans of MCI cases in training data: 17\n",
            "MRI scans of HC cases in training data: 57\n",
            "Loading the scans for the training data...\n"
          ]
        },
        {
          "output_type": "display_data",
          "data": {
            "application/vnd.jupyter.widget-view+json": {
              "model_id": "322bc7c17547437d811bb401a941fbd6",
              "version_minor": 0,
              "version_major": 2
            },
            "text/plain": [
              "  0%|          | 0/57 [00:00<?, ?it/s]"
            ]
          },
          "metadata": {}
        },
        {
          "output_type": "display_data",
          "data": {
            "application/vnd.jupyter.widget-view+json": {
              "model_id": "80f38fcc4bd44fd9b85a6fcdb3cd6a7f",
              "version_minor": 0,
              "version_major": 2
            },
            "text/plain": [
              "  0%|          | 0/17 [00:00<?, ?it/s]"
            ]
          },
          "metadata": {}
        },
        {
          "output_type": "display_data",
          "data": {
            "application/vnd.jupyter.widget-view+json": {
              "model_id": "42618e875df64c668335055d4f6994e2",
              "version_minor": 0,
              "version_major": 2
            },
            "text/plain": [
              "  0%|          | 0/10 [00:00<?, ?it/s]"
            ]
          },
          "metadata": {}
        },
        {
          "output_type": "stream",
          "name": "stdout",
          "text": [
            "MRI scans of AD cases in validation data: 0\n",
            "MRI scans of MCI cases in validation data: 3\n",
            "MRI scans of HC cases in validation data: 12\n",
            "MRI scans of AD cases in validation data: 0\n",
            "MRI scans of MCI cases in validation data: 13\n",
            "MRI scans of HC cases in validation data: 12\n",
            "MRI scans of AD cases in validation data: 10\n",
            "MRI scans of MCI cases in validation data: 13\n",
            "MRI scans of HC cases in validation data: 12\n",
            "Loading the scans for the validation data...\n"
          ]
        },
        {
          "output_type": "display_data",
          "data": {
            "application/vnd.jupyter.widget-view+json": {
              "model_id": "9b9f1822a5b4483a879cf38a69b7c622",
              "version_minor": 0,
              "version_major": 2
            },
            "text/plain": [
              "  0%|          | 0/12 [00:00<?, ?it/s]"
            ]
          },
          "metadata": {}
        },
        {
          "output_type": "display_data",
          "data": {
            "application/vnd.jupyter.widget-view+json": {
              "model_id": "78e0bd7a88434120a5d5e2f6575c697b",
              "version_minor": 0,
              "version_major": 2
            },
            "text/plain": [
              "  0%|          | 0/13 [00:00<?, ?it/s]"
            ]
          },
          "metadata": {}
        },
        {
          "output_type": "display_data",
          "data": {
            "application/vnd.jupyter.widget-view+json": {
              "model_id": "a9de91b167164046b6adb89f7d82b95e",
              "version_minor": 0,
              "version_major": 2
            },
            "text/plain": [
              "  0%|          | 0/10 [00:00<?, ?it/s]"
            ]
          },
          "metadata": {}
        },
        {
          "output_type": "stream",
          "name": "stdout",
          "text": [
            "Number of train samples:  84\n",
            "Number of validation samples:  35\n",
            "Classes are {'AD': 0, 'HC': 1, 'MCI': 2}\n",
            "Training EPOCH 1 in RUN 16\n",
            "Training EPOCH 2 in RUN 16\n",
            "Training EPOCH 3 in RUN 16\n",
            "Training EPOCH 4 in RUN 16\n",
            "Training EPOCH 5 in RUN 16\n",
            "For run 17, we have:\n",
            "MRI scans of AD cases in training data: 0\n",
            "MRI scans of MCI cases in training data: 12\n",
            "MRI scans of HC cases in training data: 52\n",
            "MRI scans of AD cases in training data: 10\n",
            "MRI scans of MCI cases in training data: 12\n",
            "MRI scans of HC cases in training data: 52\n",
            "Loading the scans for the training data...\n"
          ]
        },
        {
          "output_type": "display_data",
          "data": {
            "application/vnd.jupyter.widget-view+json": {
              "model_id": "a67825252c754f57ab1d936c51dc7152",
              "version_minor": 0,
              "version_major": 2
            },
            "text/plain": [
              "  0%|          | 0/52 [00:00<?, ?it/s]"
            ]
          },
          "metadata": {}
        },
        {
          "output_type": "display_data",
          "data": {
            "application/vnd.jupyter.widget-view+json": {
              "model_id": "33f2dcca526845cf9f9404180c62eaa3",
              "version_minor": 0,
              "version_major": 2
            },
            "text/plain": [
              "  0%|          | 0/12 [00:00<?, ?it/s]"
            ]
          },
          "metadata": {}
        },
        {
          "output_type": "display_data",
          "data": {
            "application/vnd.jupyter.widget-view+json": {
              "model_id": "f38add7e55fd413992338088450cbecb",
              "version_minor": 0,
              "version_major": 2
            },
            "text/plain": [
              "  0%|          | 0/10 [00:00<?, ?it/s]"
            ]
          },
          "metadata": {}
        },
        {
          "output_type": "stream",
          "name": "stdout",
          "text": [
            "MRI scans of AD cases in validation data: 0\n",
            "MRI scans of MCI cases in validation data: 0\n",
            "MRI scans of HC cases in validation data: 15\n",
            "MRI scans of AD cases in validation data: 0\n",
            "MRI scans of MCI cases in validation data: 10\n",
            "MRI scans of HC cases in validation data: 15\n",
            "MRI scans of AD cases in validation data: 10\n",
            "MRI scans of MCI cases in validation data: 10\n",
            "MRI scans of HC cases in validation data: 15\n",
            "Loading the scans for the validation data...\n"
          ]
        },
        {
          "output_type": "display_data",
          "data": {
            "application/vnd.jupyter.widget-view+json": {
              "model_id": "87f36fe35ee8420199757d7590ce5381",
              "version_minor": 0,
              "version_major": 2
            },
            "text/plain": [
              "  0%|          | 0/15 [00:00<?, ?it/s]"
            ]
          },
          "metadata": {}
        },
        {
          "output_type": "display_data",
          "data": {
            "application/vnd.jupyter.widget-view+json": {
              "model_id": "35eedfaf865f49129889d88984090830",
              "version_minor": 0,
              "version_major": 2
            },
            "text/plain": [
              "  0%|          | 0/10 [00:00<?, ?it/s]"
            ]
          },
          "metadata": {}
        },
        {
          "output_type": "display_data",
          "data": {
            "application/vnd.jupyter.widget-view+json": {
              "model_id": "7c501700c7ed4fd8a79a363010e989d3",
              "version_minor": 0,
              "version_major": 2
            },
            "text/plain": [
              "  0%|          | 0/10 [00:00<?, ?it/s]"
            ]
          },
          "metadata": {}
        },
        {
          "output_type": "stream",
          "name": "stdout",
          "text": [
            "Number of train samples:  74\n",
            "Number of validation samples:  35\n",
            "Classes are {'AD': 0, 'HC': 1, 'MCI': 2}\n",
            "Training EPOCH 1 in RUN 17\n",
            "Training EPOCH 2 in RUN 17\n",
            "Training EPOCH 3 in RUN 17\n",
            "Training EPOCH 4 in RUN 17\n",
            "Training EPOCH 5 in RUN 17\n",
            "For run 18, we have:\n",
            "MRI scans of AD cases in training data: 0\n",
            "MRI scans of MCI cases in training data: 8\n",
            "MRI scans of HC cases in training data: 56\n",
            "MRI scans of AD cases in training data: 10\n",
            "MRI scans of MCI cases in training data: 8\n",
            "MRI scans of HC cases in training data: 56\n",
            "MRI scans of AD cases in training data: 10\n",
            "MRI scans of MCI cases in training data: 18\n",
            "MRI scans of HC cases in training data: 56\n",
            "Loading the scans for the training data...\n"
          ]
        },
        {
          "output_type": "display_data",
          "data": {
            "application/vnd.jupyter.widget-view+json": {
              "model_id": "1291c330f6d44ccaa617c8ab64c894a6",
              "version_minor": 0,
              "version_major": 2
            },
            "text/plain": [
              "  0%|          | 0/56 [00:00<?, ?it/s]"
            ]
          },
          "metadata": {}
        },
        {
          "output_type": "display_data",
          "data": {
            "application/vnd.jupyter.widget-view+json": {
              "model_id": "73b56714c75e49798fca23a9ab34c91d",
              "version_minor": 0,
              "version_major": 2
            },
            "text/plain": [
              "  0%|          | 0/18 [00:00<?, ?it/s]"
            ]
          },
          "metadata": {}
        },
        {
          "output_type": "display_data",
          "data": {
            "application/vnd.jupyter.widget-view+json": {
              "model_id": "c95827c02035452daa75569aa6e9d42c",
              "version_minor": 0,
              "version_major": 2
            },
            "text/plain": [
              "  0%|          | 0/10 [00:00<?, ?it/s]"
            ]
          },
          "metadata": {}
        },
        {
          "output_type": "stream",
          "name": "stdout",
          "text": [
            "MRI scans of AD cases in validation data: 0\n",
            "MRI scans of MCI cases in validation data: 0\n",
            "MRI scans of HC cases in validation data: 15\n",
            "MRI scans of AD cases in validation data: 0\n",
            "MRI scans of MCI cases in validation data: 10\n",
            "MRI scans of HC cases in validation data: 15\n",
            "MRI scans of AD cases in validation data: 10\n",
            "MRI scans of MCI cases in validation data: 10\n",
            "MRI scans of HC cases in validation data: 15\n",
            "Loading the scans for the validation data...\n"
          ]
        },
        {
          "output_type": "display_data",
          "data": {
            "application/vnd.jupyter.widget-view+json": {
              "model_id": "20cb09816d5742cbb32a41975cdf32e4",
              "version_minor": 0,
              "version_major": 2
            },
            "text/plain": [
              "  0%|          | 0/15 [00:00<?, ?it/s]"
            ]
          },
          "metadata": {}
        },
        {
          "output_type": "display_data",
          "data": {
            "application/vnd.jupyter.widget-view+json": {
              "model_id": "1b6d399b5bbe4b96a633791e2e1dde5c",
              "version_minor": 0,
              "version_major": 2
            },
            "text/plain": [
              "  0%|          | 0/10 [00:00<?, ?it/s]"
            ]
          },
          "metadata": {}
        },
        {
          "output_type": "display_data",
          "data": {
            "application/vnd.jupyter.widget-view+json": {
              "model_id": "b2342472be92422e80b3937e30280446",
              "version_minor": 0,
              "version_major": 2
            },
            "text/plain": [
              "  0%|          | 0/10 [00:00<?, ?it/s]"
            ]
          },
          "metadata": {}
        },
        {
          "output_type": "stream",
          "name": "stdout",
          "text": [
            "Number of train samples:  84\n",
            "Number of validation samples:  35\n",
            "Classes are {'AD': 0, 'HC': 1, 'MCI': 2}\n",
            "Training EPOCH 1 in RUN 18\n",
            "Training EPOCH 2 in RUN 18\n",
            "Training EPOCH 3 in RUN 18\n",
            "Training EPOCH 4 in RUN 18\n",
            "Training EPOCH 5 in RUN 18\n",
            "For run 19, we have:\n",
            "MRI scans of AD cases in training data: 0\n",
            "MRI scans of MCI cases in training data: 10\n",
            "MRI scans of HC cases in training data: 54\n",
            "MRI scans of AD cases in training data: 10\n",
            "MRI scans of MCI cases in training data: 10\n",
            "MRI scans of HC cases in training data: 54\n",
            "Loading the scans for the training data...\n"
          ]
        },
        {
          "output_type": "display_data",
          "data": {
            "application/vnd.jupyter.widget-view+json": {
              "model_id": "ea1a69acc22848f692ae1ed1d06f4c91",
              "version_minor": 0,
              "version_major": 2
            },
            "text/plain": [
              "  0%|          | 0/54 [00:00<?, ?it/s]"
            ]
          },
          "metadata": {}
        },
        {
          "output_type": "display_data",
          "data": {
            "application/vnd.jupyter.widget-view+json": {
              "model_id": "e21a971a69374ee5befe783a5557fef6",
              "version_minor": 0,
              "version_major": 2
            },
            "text/plain": [
              "  0%|          | 0/10 [00:00<?, ?it/s]"
            ]
          },
          "metadata": {}
        },
        {
          "output_type": "display_data",
          "data": {
            "application/vnd.jupyter.widget-view+json": {
              "model_id": "6b0d1eb3205c455f952559cbce11489f",
              "version_minor": 0,
              "version_major": 2
            },
            "text/plain": [
              "  0%|          | 0/10 [00:00<?, ?it/s]"
            ]
          },
          "metadata": {}
        },
        {
          "output_type": "stream",
          "name": "stdout",
          "text": [
            "MRI scans of AD cases in validation data: 0\n",
            "MRI scans of MCI cases in validation data: 1\n",
            "MRI scans of HC cases in validation data: 14\n",
            "MRI scans of AD cases in validation data: 0\n",
            "MRI scans of MCI cases in validation data: 11\n",
            "MRI scans of HC cases in validation data: 14\n",
            "MRI scans of AD cases in validation data: 10\n",
            "MRI scans of MCI cases in validation data: 11\n",
            "MRI scans of HC cases in validation data: 14\n",
            "Loading the scans for the validation data...\n"
          ]
        },
        {
          "output_type": "display_data",
          "data": {
            "application/vnd.jupyter.widget-view+json": {
              "model_id": "063f13cfbaf44b6fbad38dc2eb1e709b",
              "version_minor": 0,
              "version_major": 2
            },
            "text/plain": [
              "  0%|          | 0/14 [00:00<?, ?it/s]"
            ]
          },
          "metadata": {}
        },
        {
          "output_type": "display_data",
          "data": {
            "application/vnd.jupyter.widget-view+json": {
              "model_id": "19038a7bcd1749dcbda6f0cfc792ab03",
              "version_minor": 0,
              "version_major": 2
            },
            "text/plain": [
              "  0%|          | 0/11 [00:00<?, ?it/s]"
            ]
          },
          "metadata": {}
        },
        {
          "output_type": "display_data",
          "data": {
            "application/vnd.jupyter.widget-view+json": {
              "model_id": "95b3bfd74a174b37895b379f3f038374",
              "version_minor": 0,
              "version_major": 2
            },
            "text/plain": [
              "  0%|          | 0/10 [00:00<?, ?it/s]"
            ]
          },
          "metadata": {}
        },
        {
          "output_type": "stream",
          "name": "stdout",
          "text": [
            "Number of train samples:  74\n",
            "Number of validation samples:  35\n",
            "Classes are {'AD': 0, 'HC': 1, 'MCI': 2}\n",
            "Training EPOCH 1 in RUN 19\n",
            "Training EPOCH 2 in RUN 19\n",
            "Training EPOCH 3 in RUN 19\n",
            "Training EPOCH 4 in RUN 19\n",
            "Training EPOCH 5 in RUN 19\n"
          ]
        }
      ]
    },
    {
      "cell_type": "code",
      "metadata": {
        "id": "mYjG0FvLDGyw"
      },
      "source": [
        "full_ML_results['meanAD'] = full_ML_results.filter(like='AD').mean(axis = 1)\n",
        "full_ML_results['meanMCI'] = full_ML_results.filter(like='MCI').mean(axis = 1)\n",
        "full_ML_results['meanHC'] = full_ML_results.filter(like='HC').mean(axis = 1)\n",
        "\n",
        "full_ML_results['maxAD'] = full_ML_results.filter(like='AD').max(axis = 1)\n",
        "full_ML_results['maxMCI'] = full_ML_results.filter(like='MCI').max(axis = 1)\n",
        "full_ML_results['maxHC'] = full_ML_results.filter(like='HC').max(axis = 1)\n",
        "\n",
        "full_ML_results['minAD'] = full_ML_results.filter(like='AD').min(axis = 1)\n",
        "full_ML_results['minMCI'] = full_ML_results.filter(like='MCI').min(axis = 1)\n",
        "full_ML_results['minHC'] = full_ML_results.filter(like='HC').min(axis = 1)\n",
        "\n",
        "full_ML_results['spreadAD'] = full_ML_results['maxAD'] - full_ML_results['minAD']\n",
        "full_ML_results['spreadMCI'] = full_ML_results['maxMCI'] - full_ML_results['minMCI']\n",
        "full_ML_results['spreadHC'] = full_ML_results['maxHC'] - full_ML_results['minHC']"
      ],
      "execution_count": 22,
      "outputs": []
    },
    {
      "cell_type": "code",
      "metadata": {
        "id": "WcCOW1C5DNNn",
        "colab": {
          "base_uri": "https://localhost:8080/",
          "height": 434
        },
        "outputId": "e2703fac-b7bd-4827-d3a6-0f19f32b343e"
      },
      "source": [
        "full_ML_results"
      ],
      "execution_count": 23,
      "outputs": [
        {
          "output_type": "execute_result",
          "data": {
            "text/html": [
              "<div>\n",
              "<style scoped>\n",
              "    .dataframe tbody tr th:only-of-type {\n",
              "        vertical-align: middle;\n",
              "    }\n",
              "\n",
              "    .dataframe tbody tr th {\n",
              "        vertical-align: top;\n",
              "    }\n",
              "\n",
              "    .dataframe thead th {\n",
              "        text-align: right;\n",
              "    }\n",
              "</style>\n",
              "<table border=\"1\" class=\"dataframe\">\n",
              "  <thead>\n",
              "    <tr style=\"text-align: right;\">\n",
              "      <th></th>\n",
              "      <th>92AD</th>\n",
              "      <th>92HC</th>\n",
              "      <th>92MCI</th>\n",
              "      <th>93AD</th>\n",
              "      <th>93HC</th>\n",
              "      <th>93MCI</th>\n",
              "      <th>94AD</th>\n",
              "      <th>94HC</th>\n",
              "      <th>94MCI</th>\n",
              "      <th>95AD</th>\n",
              "      <th>95HC</th>\n",
              "      <th>95MCI</th>\n",
              "      <th>96AD</th>\n",
              "      <th>96HC</th>\n",
              "      <th>96MCI</th>\n",
              "      <th>97AD</th>\n",
              "      <th>97HC</th>\n",
              "      <th>97MCI</th>\n",
              "      <th>98AD</th>\n",
              "      <th>98HC</th>\n",
              "      <th>98MCI</th>\n",
              "      <th>99AD</th>\n",
              "      <th>99HC</th>\n",
              "      <th>99MCI</th>\n",
              "      <th>100AD</th>\n",
              "      <th>100HC</th>\n",
              "      <th>100MCI</th>\n",
              "      <th>101AD</th>\n",
              "      <th>101HC</th>\n",
              "      <th>101MCI</th>\n",
              "      <th>102AD</th>\n",
              "      <th>102HC</th>\n",
              "      <th>102MCI</th>\n",
              "      <th>103AD</th>\n",
              "      <th>103HC</th>\n",
              "      <th>103MCI</th>\n",
              "      <th>104AD</th>\n",
              "      <th>104HC</th>\n",
              "      <th>104MCI</th>\n",
              "      <th>105AD</th>\n",
              "      <th>...</th>\n",
              "      <th>124AD</th>\n",
              "      <th>124HC</th>\n",
              "      <th>124MCI</th>\n",
              "      <th>125AD</th>\n",
              "      <th>125HC</th>\n",
              "      <th>125MCI</th>\n",
              "      <th>126AD</th>\n",
              "      <th>126HC</th>\n",
              "      <th>126MCI</th>\n",
              "      <th>127AD</th>\n",
              "      <th>127HC</th>\n",
              "      <th>127MCI</th>\n",
              "      <th>128AD</th>\n",
              "      <th>128HC</th>\n",
              "      <th>128MCI</th>\n",
              "      <th>129AD</th>\n",
              "      <th>129HC</th>\n",
              "      <th>129MCI</th>\n",
              "      <th>130AD</th>\n",
              "      <th>130HC</th>\n",
              "      <th>130MCI</th>\n",
              "      <th>131AD</th>\n",
              "      <th>131HC</th>\n",
              "      <th>131MCI</th>\n",
              "      <th>132AD</th>\n",
              "      <th>132HC</th>\n",
              "      <th>132MCI</th>\n",
              "      <th>Actual</th>\n",
              "      <th>meanAD</th>\n",
              "      <th>meanMCI</th>\n",
              "      <th>meanHC</th>\n",
              "      <th>maxAD</th>\n",
              "      <th>maxMCI</th>\n",
              "      <th>maxHC</th>\n",
              "      <th>minAD</th>\n",
              "      <th>minMCI</th>\n",
              "      <th>minHC</th>\n",
              "      <th>spreadAD</th>\n",
              "      <th>spreadMCI</th>\n",
              "      <th>spreadHC</th>\n",
              "    </tr>\n",
              "  </thead>\n",
              "  <tbody>\n",
              "    <tr>\n",
              "      <th>0</th>\n",
              "      <td>0.226881</td>\n",
              "      <td>0.364463</td>\n",
              "      <td>0.408656</td>\n",
              "      <td>0.252036</td>\n",
              "      <td>0.264853</td>\n",
              "      <td>0.483111</td>\n",
              "      <td>0.261106</td>\n",
              "      <td>0.275795</td>\n",
              "      <td>0.463099</td>\n",
              "      <td>0.303121</td>\n",
              "      <td>0.258891</td>\n",
              "      <td>0.437988</td>\n",
              "      <td>0.279978</td>\n",
              "      <td>0.296073</td>\n",
              "      <td>0.423948</td>\n",
              "      <td>0.292416</td>\n",
              "      <td>0.297622</td>\n",
              "      <td>0.409963</td>\n",
              "      <td>0.279853</td>\n",
              "      <td>0.301739</td>\n",
              "      <td>0.418407</td>\n",
              "      <td>0.288718</td>\n",
              "      <td>0.384575</td>\n",
              "      <td>0.326707</td>\n",
              "      <td>0.392498</td>\n",
              "      <td>0.239532</td>\n",
              "      <td>0.367970</td>\n",
              "      <td>0.332179</td>\n",
              "      <td>0.357788</td>\n",
              "      <td>0.310033</td>\n",
              "      <td>0.355183</td>\n",
              "      <td>0.238221</td>\n",
              "      <td>0.406595</td>\n",
              "      <td>0.156370</td>\n",
              "      <td>0.534630</td>\n",
              "      <td>0.309000</td>\n",
              "      <td>0.349037</td>\n",
              "      <td>0.164118</td>\n",
              "      <td>0.486845</td>\n",
              "      <td>0.298682</td>\n",
              "      <td>...</td>\n",
              "      <td>0.173962</td>\n",
              "      <td>0.194813</td>\n",
              "      <td>0.631225</td>\n",
              "      <td>0.414404</td>\n",
              "      <td>0.262367</td>\n",
              "      <td>0.323229</td>\n",
              "      <td>0.396052</td>\n",
              "      <td>0.383512</td>\n",
              "      <td>0.220436</td>\n",
              "      <td>0.206558</td>\n",
              "      <td>0.271553</td>\n",
              "      <td>0.521889</td>\n",
              "      <td>0.301089</td>\n",
              "      <td>0.386799</td>\n",
              "      <td>0.312112</td>\n",
              "      <td>0.263129</td>\n",
              "      <td>0.298368</td>\n",
              "      <td>0.438502</td>\n",
              "      <td>0.410767</td>\n",
              "      <td>0.229084</td>\n",
              "      <td>0.360149</td>\n",
              "      <td>0.327246</td>\n",
              "      <td>0.245934</td>\n",
              "      <td>0.426819</td>\n",
              "      <td>0.282964</td>\n",
              "      <td>0.307362</td>\n",
              "      <td>0.409674</td>\n",
              "      <td>0</td>\n",
              "      <td>0.297950</td>\n",
              "      <td>0.398937</td>\n",
              "      <td>0.303113</td>\n",
              "      <td>0.442903</td>\n",
              "      <td>0.631225</td>\n",
              "      <td>0.534630</td>\n",
              "      <td>0.141309</td>\n",
              "      <td>0.220436</td>\n",
              "      <td>0.132435</td>\n",
              "      <td>0.301595</td>\n",
              "      <td>0.410789</td>\n",
              "      <td>0.402196</td>\n",
              "    </tr>\n",
              "    <tr>\n",
              "      <th>0</th>\n",
              "      <td>0.335544</td>\n",
              "      <td>0.350035</td>\n",
              "      <td>0.314421</td>\n",
              "      <td>0.240618</td>\n",
              "      <td>0.457726</td>\n",
              "      <td>0.301656</td>\n",
              "      <td>0.226976</td>\n",
              "      <td>0.482196</td>\n",
              "      <td>0.290828</td>\n",
              "      <td>0.437267</td>\n",
              "      <td>0.271255</td>\n",
              "      <td>0.291478</td>\n",
              "      <td>0.337447</td>\n",
              "      <td>0.278682</td>\n",
              "      <td>0.383872</td>\n",
              "      <td>0.273600</td>\n",
              "      <td>0.241766</td>\n",
              "      <td>0.484634</td>\n",
              "      <td>0.230622</td>\n",
              "      <td>0.292041</td>\n",
              "      <td>0.477337</td>\n",
              "      <td>0.338482</td>\n",
              "      <td>0.208626</td>\n",
              "      <td>0.452892</td>\n",
              "      <td>0.366768</td>\n",
              "      <td>0.414309</td>\n",
              "      <td>0.218922</td>\n",
              "      <td>0.370271</td>\n",
              "      <td>0.260739</td>\n",
              "      <td>0.368989</td>\n",
              "      <td>0.265539</td>\n",
              "      <td>0.395761</td>\n",
              "      <td>0.338700</td>\n",
              "      <td>0.308452</td>\n",
              "      <td>0.271023</td>\n",
              "      <td>0.420526</td>\n",
              "      <td>0.231486</td>\n",
              "      <td>0.442767</td>\n",
              "      <td>0.325748</td>\n",
              "      <td>0.326982</td>\n",
              "      <td>...</td>\n",
              "      <td>0.343442</td>\n",
              "      <td>0.262813</td>\n",
              "      <td>0.393745</td>\n",
              "      <td>0.385113</td>\n",
              "      <td>0.273333</td>\n",
              "      <td>0.341553</td>\n",
              "      <td>0.374628</td>\n",
              "      <td>0.321338</td>\n",
              "      <td>0.304034</td>\n",
              "      <td>0.355159</td>\n",
              "      <td>0.283984</td>\n",
              "      <td>0.360857</td>\n",
              "      <td>0.262815</td>\n",
              "      <td>0.232654</td>\n",
              "      <td>0.504531</td>\n",
              "      <td>0.409870</td>\n",
              "      <td>0.208655</td>\n",
              "      <td>0.381476</td>\n",
              "      <td>0.216163</td>\n",
              "      <td>0.403514</td>\n",
              "      <td>0.380324</td>\n",
              "      <td>0.279364</td>\n",
              "      <td>0.217171</td>\n",
              "      <td>0.503465</td>\n",
              "      <td>0.425036</td>\n",
              "      <td>0.279455</td>\n",
              "      <td>0.295509</td>\n",
              "      <td>1</td>\n",
              "      <td>0.315601</td>\n",
              "      <td>0.366179</td>\n",
              "      <td>0.318221</td>\n",
              "      <td>0.527379</td>\n",
              "      <td>0.586200</td>\n",
              "      <td>0.569272</td>\n",
              "      <td>0.184538</td>\n",
              "      <td>0.196281</td>\n",
              "      <td>0.208626</td>\n",
              "      <td>0.342841</td>\n",
              "      <td>0.389919</td>\n",
              "      <td>0.360646</td>\n",
              "    </tr>\n",
              "    <tr>\n",
              "      <th>0</th>\n",
              "      <td>0.406022</td>\n",
              "      <td>0.346012</td>\n",
              "      <td>0.247966</td>\n",
              "      <td>0.393108</td>\n",
              "      <td>0.333795</td>\n",
              "      <td>0.273098</td>\n",
              "      <td>0.462162</td>\n",
              "      <td>0.219649</td>\n",
              "      <td>0.318189</td>\n",
              "      <td>0.256805</td>\n",
              "      <td>0.326784</td>\n",
              "      <td>0.416411</td>\n",
              "      <td>0.300227</td>\n",
              "      <td>0.399930</td>\n",
              "      <td>0.299843</td>\n",
              "      <td>0.396909</td>\n",
              "      <td>0.359567</td>\n",
              "      <td>0.243524</td>\n",
              "      <td>0.317119</td>\n",
              "      <td>0.316561</td>\n",
              "      <td>0.366320</td>\n",
              "      <td>0.353597</td>\n",
              "      <td>0.319592</td>\n",
              "      <td>0.326811</td>\n",
              "      <td>0.279862</td>\n",
              "      <td>0.334979</td>\n",
              "      <td>0.385160</td>\n",
              "      <td>0.229451</td>\n",
              "      <td>0.483194</td>\n",
              "      <td>0.287354</td>\n",
              "      <td>0.449256</td>\n",
              "      <td>0.293013</td>\n",
              "      <td>0.257731</td>\n",
              "      <td>0.364239</td>\n",
              "      <td>0.298453</td>\n",
              "      <td>0.337308</td>\n",
              "      <td>0.329098</td>\n",
              "      <td>0.224174</td>\n",
              "      <td>0.446728</td>\n",
              "      <td>0.200794</td>\n",
              "      <td>...</td>\n",
              "      <td>0.553577</td>\n",
              "      <td>0.188252</td>\n",
              "      <td>0.258170</td>\n",
              "      <td>0.189398</td>\n",
              "      <td>0.485974</td>\n",
              "      <td>0.324627</td>\n",
              "      <td>0.471723</td>\n",
              "      <td>0.129259</td>\n",
              "      <td>0.399018</td>\n",
              "      <td>0.361825</td>\n",
              "      <td>0.096511</td>\n",
              "      <td>0.541664</td>\n",
              "      <td>0.179460</td>\n",
              "      <td>0.276681</td>\n",
              "      <td>0.543859</td>\n",
              "      <td>0.251497</td>\n",
              "      <td>0.245967</td>\n",
              "      <td>0.502536</td>\n",
              "      <td>0.286290</td>\n",
              "      <td>0.201280</td>\n",
              "      <td>0.512430</td>\n",
              "      <td>0.344683</td>\n",
              "      <td>0.455499</td>\n",
              "      <td>0.199818</td>\n",
              "      <td>0.373030</td>\n",
              "      <td>0.367658</td>\n",
              "      <td>0.259312</td>\n",
              "      <td>2</td>\n",
              "      <td>0.329871</td>\n",
              "      <td>0.375016</td>\n",
              "      <td>0.295113</td>\n",
              "      <td>0.588945</td>\n",
              "      <td>0.592959</td>\n",
              "      <td>0.595771</td>\n",
              "      <td>0.179460</td>\n",
              "      <td>0.191836</td>\n",
              "      <td>0.096511</td>\n",
              "      <td>0.409485</td>\n",
              "      <td>0.401123</td>\n",
              "      <td>0.499259</td>\n",
              "    </tr>\n",
              "    <tr>\n",
              "      <th>0</th>\n",
              "      <td>0.394586</td>\n",
              "      <td>0.228308</td>\n",
              "      <td>0.377107</td>\n",
              "      <td>0.268782</td>\n",
              "      <td>0.463527</td>\n",
              "      <td>0.267691</td>\n",
              "      <td>0.298105</td>\n",
              "      <td>0.220607</td>\n",
              "      <td>0.481287</td>\n",
              "      <td>0.434364</td>\n",
              "      <td>0.239812</td>\n",
              "      <td>0.325824</td>\n",
              "      <td>0.335964</td>\n",
              "      <td>0.255701</td>\n",
              "      <td>0.408335</td>\n",
              "      <td>0.326075</td>\n",
              "      <td>0.255131</td>\n",
              "      <td>0.418794</td>\n",
              "      <td>0.323350</td>\n",
              "      <td>0.161265</td>\n",
              "      <td>0.515384</td>\n",
              "      <td>0.326388</td>\n",
              "      <td>0.348596</td>\n",
              "      <td>0.325015</td>\n",
              "      <td>0.299974</td>\n",
              "      <td>0.225560</td>\n",
              "      <td>0.474466</td>\n",
              "      <td>0.185496</td>\n",
              "      <td>0.418126</td>\n",
              "      <td>0.396378</td>\n",
              "      <td>0.446771</td>\n",
              "      <td>0.301542</td>\n",
              "      <td>0.251686</td>\n",
              "      <td>0.348758</td>\n",
              "      <td>0.221918</td>\n",
              "      <td>0.429324</td>\n",
              "      <td>0.381209</td>\n",
              "      <td>0.317283</td>\n",
              "      <td>0.301508</td>\n",
              "      <td>0.311912</td>\n",
              "      <td>...</td>\n",
              "      <td>0.272887</td>\n",
              "      <td>0.517509</td>\n",
              "      <td>0.209604</td>\n",
              "      <td>0.197286</td>\n",
              "      <td>0.389899</td>\n",
              "      <td>0.412815</td>\n",
              "      <td>0.388968</td>\n",
              "      <td>0.265819</td>\n",
              "      <td>0.345213</td>\n",
              "      <td>0.251672</td>\n",
              "      <td>0.342295</td>\n",
              "      <td>0.406033</td>\n",
              "      <td>0.346103</td>\n",
              "      <td>0.288590</td>\n",
              "      <td>0.365307</td>\n",
              "      <td>0.225056</td>\n",
              "      <td>0.471040</td>\n",
              "      <td>0.303905</td>\n",
              "      <td>0.330886</td>\n",
              "      <td>0.298453</td>\n",
              "      <td>0.370661</td>\n",
              "      <td>0.378116</td>\n",
              "      <td>0.291092</td>\n",
              "      <td>0.330792</td>\n",
              "      <td>0.454920</td>\n",
              "      <td>0.388388</td>\n",
              "      <td>0.156692</td>\n",
              "      <td>2</td>\n",
              "      <td>0.315165</td>\n",
              "      <td>0.374065</td>\n",
              "      <td>0.310770</td>\n",
              "      <td>0.454920</td>\n",
              "      <td>0.591229</td>\n",
              "      <td>0.517509</td>\n",
              "      <td>0.161527</td>\n",
              "      <td>0.156692</td>\n",
              "      <td>0.159207</td>\n",
              "      <td>0.293393</td>\n",
              "      <td>0.434538</td>\n",
              "      <td>0.358302</td>\n",
              "    </tr>\n",
              "    <tr>\n",
              "      <th>0</th>\n",
              "      <td>0.313203</td>\n",
              "      <td>0.281335</td>\n",
              "      <td>0.405462</td>\n",
              "      <td>0.180916</td>\n",
              "      <td>0.503903</td>\n",
              "      <td>0.315181</td>\n",
              "      <td>0.324804</td>\n",
              "      <td>0.324258</td>\n",
              "      <td>0.350938</td>\n",
              "      <td>0.293225</td>\n",
              "      <td>0.325926</td>\n",
              "      <td>0.380848</td>\n",
              "      <td>0.267143</td>\n",
              "      <td>0.333066</td>\n",
              "      <td>0.399791</td>\n",
              "      <td>0.360620</td>\n",
              "      <td>0.285442</td>\n",
              "      <td>0.353938</td>\n",
              "      <td>0.426202</td>\n",
              "      <td>0.386422</td>\n",
              "      <td>0.187377</td>\n",
              "      <td>0.395585</td>\n",
              "      <td>0.387910</td>\n",
              "      <td>0.216505</td>\n",
              "      <td>0.384461</td>\n",
              "      <td>0.304343</td>\n",
              "      <td>0.311196</td>\n",
              "      <td>0.392562</td>\n",
              "      <td>0.265697</td>\n",
              "      <td>0.341741</td>\n",
              "      <td>0.505541</td>\n",
              "      <td>0.291079</td>\n",
              "      <td>0.203380</td>\n",
              "      <td>0.407885</td>\n",
              "      <td>0.186480</td>\n",
              "      <td>0.405635</td>\n",
              "      <td>0.151017</td>\n",
              "      <td>0.384919</td>\n",
              "      <td>0.464064</td>\n",
              "      <td>0.363752</td>\n",
              "      <td>...</td>\n",
              "      <td>0.359230</td>\n",
              "      <td>0.249788</td>\n",
              "      <td>0.390982</td>\n",
              "      <td>0.382424</td>\n",
              "      <td>0.292844</td>\n",
              "      <td>0.324732</td>\n",
              "      <td>0.315070</td>\n",
              "      <td>0.369432</td>\n",
              "      <td>0.315497</td>\n",
              "      <td>0.181809</td>\n",
              "      <td>0.440124</td>\n",
              "      <td>0.378067</td>\n",
              "      <td>0.299100</td>\n",
              "      <td>0.198690</td>\n",
              "      <td>0.502210</td>\n",
              "      <td>0.327864</td>\n",
              "      <td>0.305081</td>\n",
              "      <td>0.367054</td>\n",
              "      <td>0.404329</td>\n",
              "      <td>0.248022</td>\n",
              "      <td>0.347649</td>\n",
              "      <td>0.311823</td>\n",
              "      <td>0.192293</td>\n",
              "      <td>0.495884</td>\n",
              "      <td>0.330052</td>\n",
              "      <td>0.270773</td>\n",
              "      <td>0.399175</td>\n",
              "      <td>1</td>\n",
              "      <td>0.345737</td>\n",
              "      <td>0.350263</td>\n",
              "      <td>0.303999</td>\n",
              "      <td>0.512593</td>\n",
              "      <td>0.502210</td>\n",
              "      <td>0.505060</td>\n",
              "      <td>0.151017</td>\n",
              "      <td>0.187377</td>\n",
              "      <td>0.103305</td>\n",
              "      <td>0.361575</td>\n",
              "      <td>0.314833</td>\n",
              "      <td>0.401755</td>\n",
              "    </tr>\n",
              "    <tr>\n",
              "      <th>...</th>\n",
              "      <td>...</td>\n",
              "      <td>...</td>\n",
              "      <td>...</td>\n",
              "      <td>...</td>\n",
              "      <td>...</td>\n",
              "      <td>...</td>\n",
              "      <td>...</td>\n",
              "      <td>...</td>\n",
              "      <td>...</td>\n",
              "      <td>...</td>\n",
              "      <td>...</td>\n",
              "      <td>...</td>\n",
              "      <td>...</td>\n",
              "      <td>...</td>\n",
              "      <td>...</td>\n",
              "      <td>...</td>\n",
              "      <td>...</td>\n",
              "      <td>...</td>\n",
              "      <td>...</td>\n",
              "      <td>...</td>\n",
              "      <td>...</td>\n",
              "      <td>...</td>\n",
              "      <td>...</td>\n",
              "      <td>...</td>\n",
              "      <td>...</td>\n",
              "      <td>...</td>\n",
              "      <td>...</td>\n",
              "      <td>...</td>\n",
              "      <td>...</td>\n",
              "      <td>...</td>\n",
              "      <td>...</td>\n",
              "      <td>...</td>\n",
              "      <td>...</td>\n",
              "      <td>...</td>\n",
              "      <td>...</td>\n",
              "      <td>...</td>\n",
              "      <td>...</td>\n",
              "      <td>...</td>\n",
              "      <td>...</td>\n",
              "      <td>...</td>\n",
              "      <td>...</td>\n",
              "      <td>...</td>\n",
              "      <td>...</td>\n",
              "      <td>...</td>\n",
              "      <td>...</td>\n",
              "      <td>...</td>\n",
              "      <td>...</td>\n",
              "      <td>...</td>\n",
              "      <td>...</td>\n",
              "      <td>...</td>\n",
              "      <td>...</td>\n",
              "      <td>...</td>\n",
              "      <td>...</td>\n",
              "      <td>...</td>\n",
              "      <td>...</td>\n",
              "      <td>...</td>\n",
              "      <td>...</td>\n",
              "      <td>...</td>\n",
              "      <td>...</td>\n",
              "      <td>...</td>\n",
              "      <td>...</td>\n",
              "      <td>...</td>\n",
              "      <td>...</td>\n",
              "      <td>...</td>\n",
              "      <td>...</td>\n",
              "      <td>...</td>\n",
              "      <td>...</td>\n",
              "      <td>...</td>\n",
              "      <td>...</td>\n",
              "      <td>...</td>\n",
              "      <td>...</td>\n",
              "      <td>...</td>\n",
              "      <td>...</td>\n",
              "      <td>...</td>\n",
              "      <td>...</td>\n",
              "      <td>...</td>\n",
              "      <td>...</td>\n",
              "      <td>...</td>\n",
              "      <td>...</td>\n",
              "      <td>...</td>\n",
              "      <td>...</td>\n",
              "    </tr>\n",
              "    <tr>\n",
              "      <th>0</th>\n",
              "      <td>0.380644</td>\n",
              "      <td>0.366378</td>\n",
              "      <td>0.252978</td>\n",
              "      <td>0.245720</td>\n",
              "      <td>0.180344</td>\n",
              "      <td>0.573937</td>\n",
              "      <td>0.399300</td>\n",
              "      <td>0.204536</td>\n",
              "      <td>0.396164</td>\n",
              "      <td>0.331900</td>\n",
              "      <td>0.285814</td>\n",
              "      <td>0.382286</td>\n",
              "      <td>0.257362</td>\n",
              "      <td>0.389450</td>\n",
              "      <td>0.353188</td>\n",
              "      <td>0.329875</td>\n",
              "      <td>0.331543</td>\n",
              "      <td>0.338583</td>\n",
              "      <td>0.418927</td>\n",
              "      <td>0.328461</td>\n",
              "      <td>0.252613</td>\n",
              "      <td>0.250767</td>\n",
              "      <td>0.339540</td>\n",
              "      <td>0.409694</td>\n",
              "      <td>0.450353</td>\n",
              "      <td>0.183799</td>\n",
              "      <td>0.365848</td>\n",
              "      <td>0.370607</td>\n",
              "      <td>0.312766</td>\n",
              "      <td>0.316627</td>\n",
              "      <td>0.363440</td>\n",
              "      <td>0.331078</td>\n",
              "      <td>0.305482</td>\n",
              "      <td>0.446038</td>\n",
              "      <td>0.186122</td>\n",
              "      <td>0.367840</td>\n",
              "      <td>0.254810</td>\n",
              "      <td>0.368559</td>\n",
              "      <td>0.376631</td>\n",
              "      <td>0.430467</td>\n",
              "      <td>...</td>\n",
              "      <td>0.431985</td>\n",
              "      <td>0.370874</td>\n",
              "      <td>0.197142</td>\n",
              "      <td>0.328385</td>\n",
              "      <td>0.313636</td>\n",
              "      <td>0.357979</td>\n",
              "      <td>0.273457</td>\n",
              "      <td>0.331481</td>\n",
              "      <td>0.395062</td>\n",
              "      <td>0.272294</td>\n",
              "      <td>0.358204</td>\n",
              "      <td>0.369502</td>\n",
              "      <td>0.531026</td>\n",
              "      <td>0.255979</td>\n",
              "      <td>0.212995</td>\n",
              "      <td>0.267701</td>\n",
              "      <td>0.368975</td>\n",
              "      <td>0.363324</td>\n",
              "      <td>0.651598</td>\n",
              "      <td>0.181831</td>\n",
              "      <td>0.166571</td>\n",
              "      <td>0.298076</td>\n",
              "      <td>0.342749</td>\n",
              "      <td>0.359176</td>\n",
              "      <td>0.368726</td>\n",
              "      <td>0.292827</td>\n",
              "      <td>0.338447</td>\n",
              "      <td>0</td>\n",
              "      <td>0.356613</td>\n",
              "      <td>0.338017</td>\n",
              "      <td>0.305369</td>\n",
              "      <td>0.651598</td>\n",
              "      <td>0.573937</td>\n",
              "      <td>0.561077</td>\n",
              "      <td>0.166261</td>\n",
              "      <td>0.166571</td>\n",
              "      <td>0.180344</td>\n",
              "      <td>0.485338</td>\n",
              "      <td>0.407366</td>\n",
              "      <td>0.380734</td>\n",
              "    </tr>\n",
              "    <tr>\n",
              "      <th>0</th>\n",
              "      <td>0.339406</td>\n",
              "      <td>0.368542</td>\n",
              "      <td>0.292053</td>\n",
              "      <td>0.588746</td>\n",
              "      <td>0.189944</td>\n",
              "      <td>0.221310</td>\n",
              "      <td>0.221124</td>\n",
              "      <td>0.396295</td>\n",
              "      <td>0.382582</td>\n",
              "      <td>0.401179</td>\n",
              "      <td>0.248907</td>\n",
              "      <td>0.349914</td>\n",
              "      <td>0.338563</td>\n",
              "      <td>0.267445</td>\n",
              "      <td>0.393992</td>\n",
              "      <td>0.436653</td>\n",
              "      <td>0.348776</td>\n",
              "      <td>0.214571</td>\n",
              "      <td>0.282956</td>\n",
              "      <td>0.208550</td>\n",
              "      <td>0.508494</td>\n",
              "      <td>0.355318</td>\n",
              "      <td>0.253195</td>\n",
              "      <td>0.391487</td>\n",
              "      <td>0.190818</td>\n",
              "      <td>0.569588</td>\n",
              "      <td>0.239594</td>\n",
              "      <td>0.257506</td>\n",
              "      <td>0.367293</td>\n",
              "      <td>0.375201</td>\n",
              "      <td>0.303962</td>\n",
              "      <td>0.277723</td>\n",
              "      <td>0.418315</td>\n",
              "      <td>0.184307</td>\n",
              "      <td>0.422158</td>\n",
              "      <td>0.393535</td>\n",
              "      <td>0.274331</td>\n",
              "      <td>0.442815</td>\n",
              "      <td>0.282854</td>\n",
              "      <td>0.407117</td>\n",
              "      <td>...</td>\n",
              "      <td>0.428359</td>\n",
              "      <td>0.230690</td>\n",
              "      <td>0.340952</td>\n",
              "      <td>0.336392</td>\n",
              "      <td>0.335068</td>\n",
              "      <td>0.328539</td>\n",
              "      <td>0.280205</td>\n",
              "      <td>0.306365</td>\n",
              "      <td>0.413429</td>\n",
              "      <td>0.295001</td>\n",
              "      <td>0.352535</td>\n",
              "      <td>0.352464</td>\n",
              "      <td>0.264703</td>\n",
              "      <td>0.408314</td>\n",
              "      <td>0.326982</td>\n",
              "      <td>0.425541</td>\n",
              "      <td>0.248249</td>\n",
              "      <td>0.326210</td>\n",
              "      <td>0.238260</td>\n",
              "      <td>0.195015</td>\n",
              "      <td>0.566725</td>\n",
              "      <td>0.138169</td>\n",
              "      <td>0.573141</td>\n",
              "      <td>0.288691</td>\n",
              "      <td>0.287387</td>\n",
              "      <td>0.334562</td>\n",
              "      <td>0.378051</td>\n",
              "      <td>2</td>\n",
              "      <td>0.319177</td>\n",
              "      <td>0.372437</td>\n",
              "      <td>0.308386</td>\n",
              "      <td>0.588746</td>\n",
              "      <td>0.566725</td>\n",
              "      <td>0.573141</td>\n",
              "      <td>0.138169</td>\n",
              "      <td>0.214571</td>\n",
              "      <td>0.186599</td>\n",
              "      <td>0.450577</td>\n",
              "      <td>0.352153</td>\n",
              "      <td>0.386542</td>\n",
              "    </tr>\n",
              "    <tr>\n",
              "      <th>0</th>\n",
              "      <td>0.346695</td>\n",
              "      <td>0.183632</td>\n",
              "      <td>0.469673</td>\n",
              "      <td>0.290868</td>\n",
              "      <td>0.342447</td>\n",
              "      <td>0.366684</td>\n",
              "      <td>0.270793</td>\n",
              "      <td>0.437070</td>\n",
              "      <td>0.292137</td>\n",
              "      <td>0.313187</td>\n",
              "      <td>0.294339</td>\n",
              "      <td>0.392474</td>\n",
              "      <td>0.233797</td>\n",
              "      <td>0.366740</td>\n",
              "      <td>0.399462</td>\n",
              "      <td>0.333000</td>\n",
              "      <td>0.388292</td>\n",
              "      <td>0.278708</td>\n",
              "      <td>0.338502</td>\n",
              "      <td>0.408368</td>\n",
              "      <td>0.253130</td>\n",
              "      <td>0.347900</td>\n",
              "      <td>0.246583</td>\n",
              "      <td>0.405517</td>\n",
              "      <td>0.264176</td>\n",
              "      <td>0.381762</td>\n",
              "      <td>0.354062</td>\n",
              "      <td>0.350161</td>\n",
              "      <td>0.310053</td>\n",
              "      <td>0.339786</td>\n",
              "      <td>0.355282</td>\n",
              "      <td>0.245928</td>\n",
              "      <td>0.398791</td>\n",
              "      <td>0.248859</td>\n",
              "      <td>0.386667</td>\n",
              "      <td>0.364475</td>\n",
              "      <td>0.255039</td>\n",
              "      <td>0.282016</td>\n",
              "      <td>0.462945</td>\n",
              "      <td>0.310160</td>\n",
              "      <td>...</td>\n",
              "      <td>0.331409</td>\n",
              "      <td>0.260541</td>\n",
              "      <td>0.408050</td>\n",
              "      <td>0.267396</td>\n",
              "      <td>0.406525</td>\n",
              "      <td>0.326079</td>\n",
              "      <td>0.399810</td>\n",
              "      <td>0.270301</td>\n",
              "      <td>0.329889</td>\n",
              "      <td>0.385088</td>\n",
              "      <td>0.274200</td>\n",
              "      <td>0.340712</td>\n",
              "      <td>0.337811</td>\n",
              "      <td>0.228550</td>\n",
              "      <td>0.433638</td>\n",
              "      <td>0.210120</td>\n",
              "      <td>0.396562</td>\n",
              "      <td>0.393318</td>\n",
              "      <td>0.437141</td>\n",
              "      <td>0.229241</td>\n",
              "      <td>0.333618</td>\n",
              "      <td>0.382950</td>\n",
              "      <td>0.253641</td>\n",
              "      <td>0.363409</td>\n",
              "      <td>0.266242</td>\n",
              "      <td>0.358206</td>\n",
              "      <td>0.375551</td>\n",
              "      <td>2</td>\n",
              "      <td>0.324754</td>\n",
              "      <td>0.377449</td>\n",
              "      <td>0.297797</td>\n",
              "      <td>0.440356</td>\n",
              "      <td>0.499781</td>\n",
              "      <td>0.533819</td>\n",
              "      <td>0.123230</td>\n",
              "      <td>0.253130</td>\n",
              "      <td>0.150310</td>\n",
              "      <td>0.317126</td>\n",
              "      <td>0.246651</td>\n",
              "      <td>0.383509</td>\n",
              "    </tr>\n",
              "    <tr>\n",
              "      <th>0</th>\n",
              "      <td>0.558517</td>\n",
              "      <td>0.214951</td>\n",
              "      <td>0.226531</td>\n",
              "      <td>0.211880</td>\n",
              "      <td>0.354849</td>\n",
              "      <td>0.433272</td>\n",
              "      <td>0.306233</td>\n",
              "      <td>0.374875</td>\n",
              "      <td>0.318892</td>\n",
              "      <td>0.265781</td>\n",
              "      <td>0.494058</td>\n",
              "      <td>0.240161</td>\n",
              "      <td>0.271224</td>\n",
              "      <td>0.367055</td>\n",
              "      <td>0.361721</td>\n",
              "      <td>0.256432</td>\n",
              "      <td>0.216731</td>\n",
              "      <td>0.526837</td>\n",
              "      <td>0.308439</td>\n",
              "      <td>0.341791</td>\n",
              "      <td>0.349770</td>\n",
              "      <td>0.284718</td>\n",
              "      <td>0.331654</td>\n",
              "      <td>0.383628</td>\n",
              "      <td>0.338838</td>\n",
              "      <td>0.183149</td>\n",
              "      <td>0.478013</td>\n",
              "      <td>0.345063</td>\n",
              "      <td>0.283979</td>\n",
              "      <td>0.370957</td>\n",
              "      <td>0.378388</td>\n",
              "      <td>0.302959</td>\n",
              "      <td>0.318654</td>\n",
              "      <td>0.286370</td>\n",
              "      <td>0.381147</td>\n",
              "      <td>0.332483</td>\n",
              "      <td>0.178583</td>\n",
              "      <td>0.435079</td>\n",
              "      <td>0.386339</td>\n",
              "      <td>0.294516</td>\n",
              "      <td>...</td>\n",
              "      <td>0.338863</td>\n",
              "      <td>0.237159</td>\n",
              "      <td>0.423977</td>\n",
              "      <td>0.306374</td>\n",
              "      <td>0.321926</td>\n",
              "      <td>0.371700</td>\n",
              "      <td>0.251668</td>\n",
              "      <td>0.320298</td>\n",
              "      <td>0.428034</td>\n",
              "      <td>0.459380</td>\n",
              "      <td>0.284795</td>\n",
              "      <td>0.255825</td>\n",
              "      <td>0.163401</td>\n",
              "      <td>0.461103</td>\n",
              "      <td>0.375495</td>\n",
              "      <td>0.257329</td>\n",
              "      <td>0.410365</td>\n",
              "      <td>0.332306</td>\n",
              "      <td>0.303963</td>\n",
              "      <td>0.359235</td>\n",
              "      <td>0.336802</td>\n",
              "      <td>0.247552</td>\n",
              "      <td>0.279239</td>\n",
              "      <td>0.473209</td>\n",
              "      <td>0.318752</td>\n",
              "      <td>0.394675</td>\n",
              "      <td>0.286573</td>\n",
              "      <td>1</td>\n",
              "      <td>0.298392</td>\n",
              "      <td>0.366658</td>\n",
              "      <td>0.334950</td>\n",
              "      <td>0.558517</td>\n",
              "      <td>0.576627</td>\n",
              "      <td>0.494058</td>\n",
              "      <td>0.163401</td>\n",
              "      <td>0.179758</td>\n",
              "      <td>0.183149</td>\n",
              "      <td>0.395116</td>\n",
              "      <td>0.396869</td>\n",
              "      <td>0.310909</td>\n",
              "    </tr>\n",
              "    <tr>\n",
              "      <th>0</th>\n",
              "      <td>0.312962</td>\n",
              "      <td>0.197369</td>\n",
              "      <td>0.489669</td>\n",
              "      <td>0.237297</td>\n",
              "      <td>0.400529</td>\n",
              "      <td>0.362174</td>\n",
              "      <td>0.365812</td>\n",
              "      <td>0.311280</td>\n",
              "      <td>0.322909</td>\n",
              "      <td>0.368972</td>\n",
              "      <td>0.266920</td>\n",
              "      <td>0.364108</td>\n",
              "      <td>0.249524</td>\n",
              "      <td>0.393674</td>\n",
              "      <td>0.356802</td>\n",
              "      <td>0.280083</td>\n",
              "      <td>0.393811</td>\n",
              "      <td>0.326106</td>\n",
              "      <td>0.292714</td>\n",
              "      <td>0.415872</td>\n",
              "      <td>0.291415</td>\n",
              "      <td>0.329274</td>\n",
              "      <td>0.396195</td>\n",
              "      <td>0.274531</td>\n",
              "      <td>0.375117</td>\n",
              "      <td>0.338270</td>\n",
              "      <td>0.286613</td>\n",
              "      <td>0.289039</td>\n",
              "      <td>0.340669</td>\n",
              "      <td>0.370292</td>\n",
              "      <td>0.326097</td>\n",
              "      <td>0.243691</td>\n",
              "      <td>0.430212</td>\n",
              "      <td>0.443383</td>\n",
              "      <td>0.311417</td>\n",
              "      <td>0.245200</td>\n",
              "      <td>0.285623</td>\n",
              "      <td>0.363136</td>\n",
              "      <td>0.351241</td>\n",
              "      <td>0.294458</td>\n",
              "      <td>...</td>\n",
              "      <td>0.200371</td>\n",
              "      <td>0.289444</td>\n",
              "      <td>0.510185</td>\n",
              "      <td>0.436428</td>\n",
              "      <td>0.248040</td>\n",
              "      <td>0.315532</td>\n",
              "      <td>0.376343</td>\n",
              "      <td>0.202398</td>\n",
              "      <td>0.421259</td>\n",
              "      <td>0.426864</td>\n",
              "      <td>0.326362</td>\n",
              "      <td>0.246774</td>\n",
              "      <td>0.345238</td>\n",
              "      <td>0.273219</td>\n",
              "      <td>0.381543</td>\n",
              "      <td>0.275061</td>\n",
              "      <td>0.355048</td>\n",
              "      <td>0.369890</td>\n",
              "      <td>0.397120</td>\n",
              "      <td>0.230906</td>\n",
              "      <td>0.371974</td>\n",
              "      <td>0.305935</td>\n",
              "      <td>0.374202</td>\n",
              "      <td>0.319862</td>\n",
              "      <td>0.198550</td>\n",
              "      <td>0.450239</td>\n",
              "      <td>0.351211</td>\n",
              "      <td>2</td>\n",
              "      <td>0.316761</td>\n",
              "      <td>0.354197</td>\n",
              "      <td>0.329042</td>\n",
              "      <td>0.504198</td>\n",
              "      <td>0.510185</td>\n",
              "      <td>0.536093</td>\n",
              "      <td>0.163212</td>\n",
              "      <td>0.214486</td>\n",
              "      <td>0.181094</td>\n",
              "      <td>0.340986</td>\n",
              "      <td>0.295699</td>\n",
              "      <td>0.354998</td>\n",
              "    </tr>\n",
              "  </tbody>\n",
              "</table>\n",
              "<p>8065 rows × 136 columns</p>\n",
              "</div>"
            ],
            "text/plain": [
              "        92AD      92HC     92MCI  ...  spreadAD  spreadMCI  spreadHC\n",
              "0   0.226881  0.364463  0.408656  ...  0.301595   0.410789  0.402196\n",
              "0   0.335544  0.350035  0.314421  ...  0.342841   0.389919  0.360646\n",
              "0   0.406022  0.346012  0.247966  ...  0.409485   0.401123  0.499259\n",
              "0   0.394586  0.228308  0.377107  ...  0.293393   0.434538  0.358302\n",
              "0   0.313203  0.281335  0.405462  ...  0.361575   0.314833  0.401755\n",
              "..       ...       ...       ...  ...       ...        ...       ...\n",
              "0   0.380644  0.366378  0.252978  ...  0.485338   0.407366  0.380734\n",
              "0   0.339406  0.368542  0.292053  ...  0.450577   0.352153  0.386542\n",
              "0   0.346695  0.183632  0.469673  ...  0.317126   0.246651  0.383509\n",
              "0   0.558517  0.214951  0.226531  ...  0.395116   0.396869  0.310909\n",
              "0   0.312962  0.197369  0.489669  ...  0.340986   0.295699  0.354998\n",
              "\n",
              "[8065 rows x 136 columns]"
            ]
          },
          "metadata": {},
          "execution_count": 23
        }
      ]
    },
    {
      "cell_type": "code",
      "metadata": {
        "id": "ieOILcJCXUum",
        "colab": {
          "base_uri": "https://localhost:8080/",
          "height": 1000
        },
        "outputId": "c0184ab1-d411-4aa3-a736-0bf9a53c87a8"
      },
      "source": [
        "X = full_ML_results.drop(columns = 'Actual')\n",
        "y = full_ML_results[['Actual']]\n",
        "tree1 = DecisionTreeClassifier()\n",
        "xtrain, xtest, ytrain, ytest = train_test_split(X, y, test_size = 0.25)\n",
        "tree1.fit(xtrain, ytrain)\n",
        "plt.figure(figsize = (20,20))\n",
        "plot_tree(tree1, fontsize = 5)\n",
        "plt.show()"
      ],
      "execution_count": 24,
      "outputs": [
        {
          "output_type": "display_data",
          "data": {
            "image/png": "[encoded data removed]",
            "text/plain": [
              "<Figure size 1440x1440 with 1 Axes>"
            ]
          },
          "metadata": {
            "needs_background": "light"
          }
        }
      ]
    },
    {
      "cell_type": "code",
      "metadata": {
        "id": "NSL8tU9WXYkk"
      },
      "source": [
        "full_ML_results.to_csv('/drive/MyDrive/new_data/ML_DF.csv')"
      ],
      "execution_count": 25,
      "outputs": []
    },
    {
      "cell_type": "code",
      "metadata": {
        "id": "0tVVvASqXYnD",
        "colab": {
          "base_uri": "https://localhost:8080/",
          "height": 434
        },
        "outputId": "3498a047-3826-40a3-c966-dc8086ecf1d6"
      },
      "source": [
        "full_ML_results"
      ],
      "execution_count": 26,
      "outputs": [
        {
          "output_type": "execute_result",
          "data": {
            "text/html": [
              "<div>\n",
              "<style scoped>\n",
              "    .dataframe tbody tr th:only-of-type {\n",
              "        vertical-align: middle;\n",
              "    }\n",
              "\n",
              "    .dataframe tbody tr th {\n",
              "        vertical-align: top;\n",
              "    }\n",
              "\n",
              "    .dataframe thead th {\n",
              "        text-align: right;\n",
              "    }\n",
              "</style>\n",
              "<table border=\"1\" class=\"dataframe\">\n",
              "  <thead>\n",
              "    <tr style=\"text-align: right;\">\n",
              "      <th></th>\n",
              "      <th>92AD</th>\n",
              "      <th>92HC</th>\n",
              "      <th>92MCI</th>\n",
              "      <th>93AD</th>\n",
              "      <th>93HC</th>\n",
              "      <th>93MCI</th>\n",
              "      <th>94AD</th>\n",
              "      <th>94HC</th>\n",
              "      <th>94MCI</th>\n",
              "      <th>95AD</th>\n",
              "      <th>95HC</th>\n",
              "      <th>95MCI</th>\n",
              "      <th>96AD</th>\n",
              "      <th>96HC</th>\n",
              "      <th>96MCI</th>\n",
              "      <th>97AD</th>\n",
              "      <th>97HC</th>\n",
              "      <th>97MCI</th>\n",
              "      <th>98AD</th>\n",
              "      <th>98HC</th>\n",
              "      <th>98MCI</th>\n",
              "      <th>99AD</th>\n",
              "      <th>99HC</th>\n",
              "      <th>99MCI</th>\n",
              "      <th>100AD</th>\n",
              "      <th>100HC</th>\n",
              "      <th>100MCI</th>\n",
              "      <th>101AD</th>\n",
              "      <th>101HC</th>\n",
              "      <th>101MCI</th>\n",
              "      <th>102AD</th>\n",
              "      <th>102HC</th>\n",
              "      <th>102MCI</th>\n",
              "      <th>103AD</th>\n",
              "      <th>103HC</th>\n",
              "      <th>103MCI</th>\n",
              "      <th>104AD</th>\n",
              "      <th>104HC</th>\n",
              "      <th>104MCI</th>\n",
              "      <th>105AD</th>\n",
              "      <th>...</th>\n",
              "      <th>124AD</th>\n",
              "      <th>124HC</th>\n",
              "      <th>124MCI</th>\n",
              "      <th>125AD</th>\n",
              "      <th>125HC</th>\n",
              "      <th>125MCI</th>\n",
              "      <th>126AD</th>\n",
              "      <th>126HC</th>\n",
              "      <th>126MCI</th>\n",
              "      <th>127AD</th>\n",
              "      <th>127HC</th>\n",
              "      <th>127MCI</th>\n",
              "      <th>128AD</th>\n",
              "      <th>128HC</th>\n",
              "      <th>128MCI</th>\n",
              "      <th>129AD</th>\n",
              "      <th>129HC</th>\n",
              "      <th>129MCI</th>\n",
              "      <th>130AD</th>\n",
              "      <th>130HC</th>\n",
              "      <th>130MCI</th>\n",
              "      <th>131AD</th>\n",
              "      <th>131HC</th>\n",
              "      <th>131MCI</th>\n",
              "      <th>132AD</th>\n",
              "      <th>132HC</th>\n",
              "      <th>132MCI</th>\n",
              "      <th>Actual</th>\n",
              "      <th>meanAD</th>\n",
              "      <th>meanMCI</th>\n",
              "      <th>meanHC</th>\n",
              "      <th>maxAD</th>\n",
              "      <th>maxMCI</th>\n",
              "      <th>maxHC</th>\n",
              "      <th>minAD</th>\n",
              "      <th>minMCI</th>\n",
              "      <th>minHC</th>\n",
              "      <th>spreadAD</th>\n",
              "      <th>spreadMCI</th>\n",
              "      <th>spreadHC</th>\n",
              "    </tr>\n",
              "  </thead>\n",
              "  <tbody>\n",
              "    <tr>\n",
              "      <th>0</th>\n",
              "      <td>0.226881</td>\n",
              "      <td>0.364463</td>\n",
              "      <td>0.408656</td>\n",
              "      <td>0.252036</td>\n",
              "      <td>0.264853</td>\n",
              "      <td>0.483111</td>\n",
              "      <td>0.261106</td>\n",
              "      <td>0.275795</td>\n",
              "      <td>0.463099</td>\n",
              "      <td>0.303121</td>\n",
              "      <td>0.258891</td>\n",
              "      <td>0.437988</td>\n",
              "      <td>0.279978</td>\n",
              "      <td>0.296073</td>\n",
              "      <td>0.423948</td>\n",
              "      <td>0.292416</td>\n",
              "      <td>0.297622</td>\n",
              "      <td>0.409963</td>\n",
              "      <td>0.279853</td>\n",
              "      <td>0.301739</td>\n",
              "      <td>0.418407</td>\n",
              "      <td>0.288718</td>\n",
              "      <td>0.384575</td>\n",
              "      <td>0.326707</td>\n",
              "      <td>0.392498</td>\n",
              "      <td>0.239532</td>\n",
              "      <td>0.367970</td>\n",
              "      <td>0.332179</td>\n",
              "      <td>0.357788</td>\n",
              "      <td>0.310033</td>\n",
              "      <td>0.355183</td>\n",
              "      <td>0.238221</td>\n",
              "      <td>0.406595</td>\n",
              "      <td>0.156370</td>\n",
              "      <td>0.534630</td>\n",
              "      <td>0.309000</td>\n",
              "      <td>0.349037</td>\n",
              "      <td>0.164118</td>\n",
              "      <td>0.486845</td>\n",
              "      <td>0.298682</td>\n",
              "      <td>...</td>\n",
              "      <td>0.173962</td>\n",
              "      <td>0.194813</td>\n",
              "      <td>0.631225</td>\n",
              "      <td>0.414404</td>\n",
              "      <td>0.262367</td>\n",
              "      <td>0.323229</td>\n",
              "      <td>0.396052</td>\n",
              "      <td>0.383512</td>\n",
              "      <td>0.220436</td>\n",
              "      <td>0.206558</td>\n",
              "      <td>0.271553</td>\n",
              "      <td>0.521889</td>\n",
              "      <td>0.301089</td>\n",
              "      <td>0.386799</td>\n",
              "      <td>0.312112</td>\n",
              "      <td>0.263129</td>\n",
              "      <td>0.298368</td>\n",
              "      <td>0.438502</td>\n",
              "      <td>0.410767</td>\n",
              "      <td>0.229084</td>\n",
              "      <td>0.360149</td>\n",
              "      <td>0.327246</td>\n",
              "      <td>0.245934</td>\n",
              "      <td>0.426819</td>\n",
              "      <td>0.282964</td>\n",
              "      <td>0.307362</td>\n",
              "      <td>0.409674</td>\n",
              "      <td>0</td>\n",
              "      <td>0.297950</td>\n",
              "      <td>0.398937</td>\n",
              "      <td>0.303113</td>\n",
              "      <td>0.442903</td>\n",
              "      <td>0.631225</td>\n",
              "      <td>0.534630</td>\n",
              "      <td>0.141309</td>\n",
              "      <td>0.220436</td>\n",
              "      <td>0.132435</td>\n",
              "      <td>0.301595</td>\n",
              "      <td>0.410789</td>\n",
              "      <td>0.402196</td>\n",
              "    </tr>\n",
              "    <tr>\n",
              "      <th>0</th>\n",
              "      <td>0.335544</td>\n",
              "      <td>0.350035</td>\n",
              "      <td>0.314421</td>\n",
              "      <td>0.240618</td>\n",
              "      <td>0.457726</td>\n",
              "      <td>0.301656</td>\n",
              "      <td>0.226976</td>\n",
              "      <td>0.482196</td>\n",
              "      <td>0.290828</td>\n",
              "      <td>0.437267</td>\n",
              "      <td>0.271255</td>\n",
              "      <td>0.291478</td>\n",
              "      <td>0.337447</td>\n",
              "      <td>0.278682</td>\n",
              "      <td>0.383872</td>\n",
              "      <td>0.273600</td>\n",
              "      <td>0.241766</td>\n",
              "      <td>0.484634</td>\n",
              "      <td>0.230622</td>\n",
              "      <td>0.292041</td>\n",
              "      <td>0.477337</td>\n",
              "      <td>0.338482</td>\n",
              "      <td>0.208626</td>\n",
              "      <td>0.452892</td>\n",
              "      <td>0.366768</td>\n",
              "      <td>0.414309</td>\n",
              "      <td>0.218922</td>\n",
              "      <td>0.370271</td>\n",
              "      <td>0.260739</td>\n",
              "      <td>0.368989</td>\n",
              "      <td>0.265539</td>\n",
              "      <td>0.395761</td>\n",
              "      <td>0.338700</td>\n",
              "      <td>0.308452</td>\n",
              "      <td>0.271023</td>\n",
              "      <td>0.420526</td>\n",
              "      <td>0.231486</td>\n",
              "      <td>0.442767</td>\n",
              "      <td>0.325748</td>\n",
              "      <td>0.326982</td>\n",
              "      <td>...</td>\n",
              "      <td>0.343442</td>\n",
              "      <td>0.262813</td>\n",
              "      <td>0.393745</td>\n",
              "      <td>0.385113</td>\n",
              "      <td>0.273333</td>\n",
              "      <td>0.341553</td>\n",
              "      <td>0.374628</td>\n",
              "      <td>0.321338</td>\n",
              "      <td>0.304034</td>\n",
              "      <td>0.355159</td>\n",
              "      <td>0.283984</td>\n",
              "      <td>0.360857</td>\n",
              "      <td>0.262815</td>\n",
              "      <td>0.232654</td>\n",
              "      <td>0.504531</td>\n",
              "      <td>0.409870</td>\n",
              "      <td>0.208655</td>\n",
              "      <td>0.381476</td>\n",
              "      <td>0.216163</td>\n",
              "      <td>0.403514</td>\n",
              "      <td>0.380324</td>\n",
              "      <td>0.279364</td>\n",
              "      <td>0.217171</td>\n",
              "      <td>0.503465</td>\n",
              "      <td>0.425036</td>\n",
              "      <td>0.279455</td>\n",
              "      <td>0.295509</td>\n",
              "      <td>1</td>\n",
              "      <td>0.315601</td>\n",
              "      <td>0.366179</td>\n",
              "      <td>0.318221</td>\n",
              "      <td>0.527379</td>\n",
              "      <td>0.586200</td>\n",
              "      <td>0.569272</td>\n",
              "      <td>0.184538</td>\n",
              "      <td>0.196281</td>\n",
              "      <td>0.208626</td>\n",
              "      <td>0.342841</td>\n",
              "      <td>0.389919</td>\n",
              "      <td>0.360646</td>\n",
              "    </tr>\n",
              "    <tr>\n",
              "      <th>0</th>\n",
              "      <td>0.406022</td>\n",
              "      <td>0.346012</td>\n",
              "      <td>0.247966</td>\n",
              "      <td>0.393108</td>\n",
              "      <td>0.333795</td>\n",
              "      <td>0.273098</td>\n",
              "      <td>0.462162</td>\n",
              "      <td>0.219649</td>\n",
              "      <td>0.318189</td>\n",
              "      <td>0.256805</td>\n",
              "      <td>0.326784</td>\n",
              "      <td>0.416411</td>\n",
              "      <td>0.300227</td>\n",
              "      <td>0.399930</td>\n",
              "      <td>0.299843</td>\n",
              "      <td>0.396909</td>\n",
              "      <td>0.359567</td>\n",
              "      <td>0.243524</td>\n",
              "      <td>0.317119</td>\n",
              "      <td>0.316561</td>\n",
              "      <td>0.366320</td>\n",
              "      <td>0.353597</td>\n",
              "      <td>0.319592</td>\n",
              "      <td>0.326811</td>\n",
              "      <td>0.279862</td>\n",
              "      <td>0.334979</td>\n",
              "      <td>0.385160</td>\n",
              "      <td>0.229451</td>\n",
              "      <td>0.483194</td>\n",
              "      <td>0.287354</td>\n",
              "      <td>0.449256</td>\n",
              "      <td>0.293013</td>\n",
              "      <td>0.257731</td>\n",
              "      <td>0.364239</td>\n",
              "      <td>0.298453</td>\n",
              "      <td>0.337308</td>\n",
              "      <td>0.329098</td>\n",
              "      <td>0.224174</td>\n",
              "      <td>0.446728</td>\n",
              "      <td>0.200794</td>\n",
              "      <td>...</td>\n",
              "      <td>0.553577</td>\n",
              "      <td>0.188252</td>\n",
              "      <td>0.258170</td>\n",
              "      <td>0.189398</td>\n",
              "      <td>0.485974</td>\n",
              "      <td>0.324627</td>\n",
              "      <td>0.471723</td>\n",
              "      <td>0.129259</td>\n",
              "      <td>0.399018</td>\n",
              "      <td>0.361825</td>\n",
              "      <td>0.096511</td>\n",
              "      <td>0.541664</td>\n",
              "      <td>0.179460</td>\n",
              "      <td>0.276681</td>\n",
              "      <td>0.543859</td>\n",
              "      <td>0.251497</td>\n",
              "      <td>0.245967</td>\n",
              "      <td>0.502536</td>\n",
              "      <td>0.286290</td>\n",
              "      <td>0.201280</td>\n",
              "      <td>0.512430</td>\n",
              "      <td>0.344683</td>\n",
              "      <td>0.455499</td>\n",
              "      <td>0.199818</td>\n",
              "      <td>0.373030</td>\n",
              "      <td>0.367658</td>\n",
              "      <td>0.259312</td>\n",
              "      <td>2</td>\n",
              "      <td>0.329871</td>\n",
              "      <td>0.375016</td>\n",
              "      <td>0.295113</td>\n",
              "      <td>0.588945</td>\n",
              "      <td>0.592959</td>\n",
              "      <td>0.595771</td>\n",
              "      <td>0.179460</td>\n",
              "      <td>0.191836</td>\n",
              "      <td>0.096511</td>\n",
              "      <td>0.409485</td>\n",
              "      <td>0.401123</td>\n",
              "      <td>0.499259</td>\n",
              "    </tr>\n",
              "    <tr>\n",
              "      <th>0</th>\n",
              "      <td>0.394586</td>\n",
              "      <td>0.228308</td>\n",
              "      <td>0.377107</td>\n",
              "      <td>0.268782</td>\n",
              "      <td>0.463527</td>\n",
              "      <td>0.267691</td>\n",
              "      <td>0.298105</td>\n",
              "      <td>0.220607</td>\n",
              "      <td>0.481287</td>\n",
              "      <td>0.434364</td>\n",
              "      <td>0.239812</td>\n",
              "      <td>0.325824</td>\n",
              "      <td>0.335964</td>\n",
              "      <td>0.255701</td>\n",
              "      <td>0.408335</td>\n",
              "      <td>0.326075</td>\n",
              "      <td>0.255131</td>\n",
              "      <td>0.418794</td>\n",
              "      <td>0.323350</td>\n",
              "      <td>0.161265</td>\n",
              "      <td>0.515384</td>\n",
              "      <td>0.326388</td>\n",
              "      <td>0.348596</td>\n",
              "      <td>0.325015</td>\n",
              "      <td>0.299974</td>\n",
              "      <td>0.225560</td>\n",
              "      <td>0.474466</td>\n",
              "      <td>0.185496</td>\n",
              "      <td>0.418126</td>\n",
              "      <td>0.396378</td>\n",
              "      <td>0.446771</td>\n",
              "      <td>0.301542</td>\n",
              "      <td>0.251686</td>\n",
              "      <td>0.348758</td>\n",
              "      <td>0.221918</td>\n",
              "      <td>0.429324</td>\n",
              "      <td>0.381209</td>\n",
              "      <td>0.317283</td>\n",
              "      <td>0.301508</td>\n",
              "      <td>0.311912</td>\n",
              "      <td>...</td>\n",
              "      <td>0.272887</td>\n",
              "      <td>0.517509</td>\n",
              "      <td>0.209604</td>\n",
              "      <td>0.197286</td>\n",
              "      <td>0.389899</td>\n",
              "      <td>0.412815</td>\n",
              "      <td>0.388968</td>\n",
              "      <td>0.265819</td>\n",
              "      <td>0.345213</td>\n",
              "      <td>0.251672</td>\n",
              "      <td>0.342295</td>\n",
              "      <td>0.406033</td>\n",
              "      <td>0.346103</td>\n",
              "      <td>0.288590</td>\n",
              "      <td>0.365307</td>\n",
              "      <td>0.225056</td>\n",
              "      <td>0.471040</td>\n",
              "      <td>0.303905</td>\n",
              "      <td>0.330886</td>\n",
              "      <td>0.298453</td>\n",
              "      <td>0.370661</td>\n",
              "      <td>0.378116</td>\n",
              "      <td>0.291092</td>\n",
              "      <td>0.330792</td>\n",
              "      <td>0.454920</td>\n",
              "      <td>0.388388</td>\n",
              "      <td>0.156692</td>\n",
              "      <td>2</td>\n",
              "      <td>0.315165</td>\n",
              "      <td>0.374065</td>\n",
              "      <td>0.310770</td>\n",
              "      <td>0.454920</td>\n",
              "      <td>0.591229</td>\n",
              "      <td>0.517509</td>\n",
              "      <td>0.161527</td>\n",
              "      <td>0.156692</td>\n",
              "      <td>0.159207</td>\n",
              "      <td>0.293393</td>\n",
              "      <td>0.434538</td>\n",
              "      <td>0.358302</td>\n",
              "    </tr>\n",
              "    <tr>\n",
              "      <th>0</th>\n",
              "      <td>0.313203</td>\n",
              "      <td>0.281335</td>\n",
              "      <td>0.405462</td>\n",
              "      <td>0.180916</td>\n",
              "      <td>0.503903</td>\n",
              "      <td>0.315181</td>\n",
              "      <td>0.324804</td>\n",
              "      <td>0.324258</td>\n",
              "      <td>0.350938</td>\n",
              "      <td>0.293225</td>\n",
              "      <td>0.325926</td>\n",
              "      <td>0.380848</td>\n",
              "      <td>0.267143</td>\n",
              "      <td>0.333066</td>\n",
              "      <td>0.399791</td>\n",
              "      <td>0.360620</td>\n",
              "      <td>0.285442</td>\n",
              "      <td>0.353938</td>\n",
              "      <td>0.426202</td>\n",
              "      <td>0.386422</td>\n",
              "      <td>0.187377</td>\n",
              "      <td>0.395585</td>\n",
              "      <td>0.387910</td>\n",
              "      <td>0.216505</td>\n",
              "      <td>0.384461</td>\n",
              "      <td>0.304343</td>\n",
              "      <td>0.311196</td>\n",
              "      <td>0.392562</td>\n",
              "      <td>0.265697</td>\n",
              "      <td>0.341741</td>\n",
              "      <td>0.505541</td>\n",
              "      <td>0.291079</td>\n",
              "      <td>0.203380</td>\n",
              "      <td>0.407885</td>\n",
              "      <td>0.186480</td>\n",
              "      <td>0.405635</td>\n",
              "      <td>0.151017</td>\n",
              "      <td>0.384919</td>\n",
              "      <td>0.464064</td>\n",
              "      <td>0.363752</td>\n",
              "      <td>...</td>\n",
              "      <td>0.359230</td>\n",
              "      <td>0.249788</td>\n",
              "      <td>0.390982</td>\n",
              "      <td>0.382424</td>\n",
              "      <td>0.292844</td>\n",
              "      <td>0.324732</td>\n",
              "      <td>0.315070</td>\n",
              "      <td>0.369432</td>\n",
              "      <td>0.315497</td>\n",
              "      <td>0.181809</td>\n",
              "      <td>0.440124</td>\n",
              "      <td>0.378067</td>\n",
              "      <td>0.299100</td>\n",
              "      <td>0.198690</td>\n",
              "      <td>0.502210</td>\n",
              "      <td>0.327864</td>\n",
              "      <td>0.305081</td>\n",
              "      <td>0.367054</td>\n",
              "      <td>0.404329</td>\n",
              "      <td>0.248022</td>\n",
              "      <td>0.347649</td>\n",
              "      <td>0.311823</td>\n",
              "      <td>0.192293</td>\n",
              "      <td>0.495884</td>\n",
              "      <td>0.330052</td>\n",
              "      <td>0.270773</td>\n",
              "      <td>0.399175</td>\n",
              "      <td>1</td>\n",
              "      <td>0.345737</td>\n",
              "      <td>0.350263</td>\n",
              "      <td>0.303999</td>\n",
              "      <td>0.512593</td>\n",
              "      <td>0.502210</td>\n",
              "      <td>0.505060</td>\n",
              "      <td>0.151017</td>\n",
              "      <td>0.187377</td>\n",
              "      <td>0.103305</td>\n",
              "      <td>0.361575</td>\n",
              "      <td>0.314833</td>\n",
              "      <td>0.401755</td>\n",
              "    </tr>\n",
              "    <tr>\n",
              "      <th>...</th>\n",
              "      <td>...</td>\n",
              "      <td>...</td>\n",
              "      <td>...</td>\n",
              "      <td>...</td>\n",
              "      <td>...</td>\n",
              "      <td>...</td>\n",
              "      <td>...</td>\n",
              "      <td>...</td>\n",
              "      <td>...</td>\n",
              "      <td>...</td>\n",
              "      <td>...</td>\n",
              "      <td>...</td>\n",
              "      <td>...</td>\n",
              "      <td>...</td>\n",
              "      <td>...</td>\n",
              "      <td>...</td>\n",
              "      <td>...</td>\n",
              "      <td>...</td>\n",
              "      <td>...</td>\n",
              "      <td>...</td>\n",
              "      <td>...</td>\n",
              "      <td>...</td>\n",
              "      <td>...</td>\n",
              "      <td>...</td>\n",
              "      <td>...</td>\n",
              "      <td>...</td>\n",
              "      <td>...</td>\n",
              "      <td>...</td>\n",
              "      <td>...</td>\n",
              "      <td>...</td>\n",
              "      <td>...</td>\n",
              "      <td>...</td>\n",
              "      <td>...</td>\n",
              "      <td>...</td>\n",
              "      <td>...</td>\n",
              "      <td>...</td>\n",
              "      <td>...</td>\n",
              "      <td>...</td>\n",
              "      <td>...</td>\n",
              "      <td>...</td>\n",
              "      <td>...</td>\n",
              "      <td>...</td>\n",
              "      <td>...</td>\n",
              "      <td>...</td>\n",
              "      <td>...</td>\n",
              "      <td>...</td>\n",
              "      <td>...</td>\n",
              "      <td>...</td>\n",
              "      <td>...</td>\n",
              "      <td>...</td>\n",
              "      <td>...</td>\n",
              "      <td>...</td>\n",
              "      <td>...</td>\n",
              "      <td>...</td>\n",
              "      <td>...</td>\n",
              "      <td>...</td>\n",
              "      <td>...</td>\n",
              "      <td>...</td>\n",
              "      <td>...</td>\n",
              "      <td>...</td>\n",
              "      <td>...</td>\n",
              "      <td>...</td>\n",
              "      <td>...</td>\n",
              "      <td>...</td>\n",
              "      <td>...</td>\n",
              "      <td>...</td>\n",
              "      <td>...</td>\n",
              "      <td>...</td>\n",
              "      <td>...</td>\n",
              "      <td>...</td>\n",
              "      <td>...</td>\n",
              "      <td>...</td>\n",
              "      <td>...</td>\n",
              "      <td>...</td>\n",
              "      <td>...</td>\n",
              "      <td>...</td>\n",
              "      <td>...</td>\n",
              "      <td>...</td>\n",
              "      <td>...</td>\n",
              "      <td>...</td>\n",
              "      <td>...</td>\n",
              "    </tr>\n",
              "    <tr>\n",
              "      <th>0</th>\n",
              "      <td>0.380644</td>\n",
              "      <td>0.366378</td>\n",
              "      <td>0.252978</td>\n",
              "      <td>0.245720</td>\n",
              "      <td>0.180344</td>\n",
              "      <td>0.573937</td>\n",
              "      <td>0.399300</td>\n",
              "      <td>0.204536</td>\n",
              "      <td>0.396164</td>\n",
              "      <td>0.331900</td>\n",
              "      <td>0.285814</td>\n",
              "      <td>0.382286</td>\n",
              "      <td>0.257362</td>\n",
              "      <td>0.389450</td>\n",
              "      <td>0.353188</td>\n",
              "      <td>0.329875</td>\n",
              "      <td>0.331543</td>\n",
              "      <td>0.338583</td>\n",
              "      <td>0.418927</td>\n",
              "      <td>0.328461</td>\n",
              "      <td>0.252613</td>\n",
              "      <td>0.250767</td>\n",
              "      <td>0.339540</td>\n",
              "      <td>0.409694</td>\n",
              "      <td>0.450353</td>\n",
              "      <td>0.183799</td>\n",
              "      <td>0.365848</td>\n",
              "      <td>0.370607</td>\n",
              "      <td>0.312766</td>\n",
              "      <td>0.316627</td>\n",
              "      <td>0.363440</td>\n",
              "      <td>0.331078</td>\n",
              "      <td>0.305482</td>\n",
              "      <td>0.446038</td>\n",
              "      <td>0.186122</td>\n",
              "      <td>0.367840</td>\n",
              "      <td>0.254810</td>\n",
              "      <td>0.368559</td>\n",
              "      <td>0.376631</td>\n",
              "      <td>0.430467</td>\n",
              "      <td>...</td>\n",
              "      <td>0.431985</td>\n",
              "      <td>0.370874</td>\n",
              "      <td>0.197142</td>\n",
              "      <td>0.328385</td>\n",
              "      <td>0.313636</td>\n",
              "      <td>0.357979</td>\n",
              "      <td>0.273457</td>\n",
              "      <td>0.331481</td>\n",
              "      <td>0.395062</td>\n",
              "      <td>0.272294</td>\n",
              "      <td>0.358204</td>\n",
              "      <td>0.369502</td>\n",
              "      <td>0.531026</td>\n",
              "      <td>0.255979</td>\n",
              "      <td>0.212995</td>\n",
              "      <td>0.267701</td>\n",
              "      <td>0.368975</td>\n",
              "      <td>0.363324</td>\n",
              "      <td>0.651598</td>\n",
              "      <td>0.181831</td>\n",
              "      <td>0.166571</td>\n",
              "      <td>0.298076</td>\n",
              "      <td>0.342749</td>\n",
              "      <td>0.359176</td>\n",
              "      <td>0.368726</td>\n",
              "      <td>0.292827</td>\n",
              "      <td>0.338447</td>\n",
              "      <td>0</td>\n",
              "      <td>0.356613</td>\n",
              "      <td>0.338017</td>\n",
              "      <td>0.305369</td>\n",
              "      <td>0.651598</td>\n",
              "      <td>0.573937</td>\n",
              "      <td>0.561077</td>\n",
              "      <td>0.166261</td>\n",
              "      <td>0.166571</td>\n",
              "      <td>0.180344</td>\n",
              "      <td>0.485338</td>\n",
              "      <td>0.407366</td>\n",
              "      <td>0.380734</td>\n",
              "    </tr>\n",
              "    <tr>\n",
              "      <th>0</th>\n",
              "      <td>0.339406</td>\n",
              "      <td>0.368542</td>\n",
              "      <td>0.292053</td>\n",
              "      <td>0.588746</td>\n",
              "      <td>0.189944</td>\n",
              "      <td>0.221310</td>\n",
              "      <td>0.221124</td>\n",
              "      <td>0.396295</td>\n",
              "      <td>0.382582</td>\n",
              "      <td>0.401179</td>\n",
              "      <td>0.248907</td>\n",
              "      <td>0.349914</td>\n",
              "      <td>0.338563</td>\n",
              "      <td>0.267445</td>\n",
              "      <td>0.393992</td>\n",
              "      <td>0.436653</td>\n",
              "      <td>0.348776</td>\n",
              "      <td>0.214571</td>\n",
              "      <td>0.282956</td>\n",
              "      <td>0.208550</td>\n",
              "      <td>0.508494</td>\n",
              "      <td>0.355318</td>\n",
              "      <td>0.253195</td>\n",
              "      <td>0.391487</td>\n",
              "      <td>0.190818</td>\n",
              "      <td>0.569588</td>\n",
              "      <td>0.239594</td>\n",
              "      <td>0.257506</td>\n",
              "      <td>0.367293</td>\n",
              "      <td>0.375201</td>\n",
              "      <td>0.303962</td>\n",
              "      <td>0.277723</td>\n",
              "      <td>0.418315</td>\n",
              "      <td>0.184307</td>\n",
              "      <td>0.422158</td>\n",
              "      <td>0.393535</td>\n",
              "      <td>0.274331</td>\n",
              "      <td>0.442815</td>\n",
              "      <td>0.282854</td>\n",
              "      <td>0.407117</td>\n",
              "      <td>...</td>\n",
              "      <td>0.428359</td>\n",
              "      <td>0.230690</td>\n",
              "      <td>0.340952</td>\n",
              "      <td>0.336392</td>\n",
              "      <td>0.335068</td>\n",
              "      <td>0.328539</td>\n",
              "      <td>0.280205</td>\n",
              "      <td>0.306365</td>\n",
              "      <td>0.413429</td>\n",
              "      <td>0.295001</td>\n",
              "      <td>0.352535</td>\n",
              "      <td>0.352464</td>\n",
              "      <td>0.264703</td>\n",
              "      <td>0.408314</td>\n",
              "      <td>0.326982</td>\n",
              "      <td>0.425541</td>\n",
              "      <td>0.248249</td>\n",
              "      <td>0.326210</td>\n",
              "      <td>0.238260</td>\n",
              "      <td>0.195015</td>\n",
              "      <td>0.566725</td>\n",
              "      <td>0.138169</td>\n",
              "      <td>0.573141</td>\n",
              "      <td>0.288691</td>\n",
              "      <td>0.287387</td>\n",
              "      <td>0.334562</td>\n",
              "      <td>0.378051</td>\n",
              "      <td>2</td>\n",
              "      <td>0.319177</td>\n",
              "      <td>0.372437</td>\n",
              "      <td>0.308386</td>\n",
              "      <td>0.588746</td>\n",
              "      <td>0.566725</td>\n",
              "      <td>0.573141</td>\n",
              "      <td>0.138169</td>\n",
              "      <td>0.214571</td>\n",
              "      <td>0.186599</td>\n",
              "      <td>0.450577</td>\n",
              "      <td>0.352153</td>\n",
              "      <td>0.386542</td>\n",
              "    </tr>\n",
              "    <tr>\n",
              "      <th>0</th>\n",
              "      <td>0.346695</td>\n",
              "      <td>0.183632</td>\n",
              "      <td>0.469673</td>\n",
              "      <td>0.290868</td>\n",
              "      <td>0.342447</td>\n",
              "      <td>0.366684</td>\n",
              "      <td>0.270793</td>\n",
              "      <td>0.437070</td>\n",
              "      <td>0.292137</td>\n",
              "      <td>0.313187</td>\n",
              "      <td>0.294339</td>\n",
              "      <td>0.392474</td>\n",
              "      <td>0.233797</td>\n",
              "      <td>0.366740</td>\n",
              "      <td>0.399462</td>\n",
              "      <td>0.333000</td>\n",
              "      <td>0.388292</td>\n",
              "      <td>0.278708</td>\n",
              "      <td>0.338502</td>\n",
              "      <td>0.408368</td>\n",
              "      <td>0.253130</td>\n",
              "      <td>0.347900</td>\n",
              "      <td>0.246583</td>\n",
              "      <td>0.405517</td>\n",
              "      <td>0.264176</td>\n",
              "      <td>0.381762</td>\n",
              "      <td>0.354062</td>\n",
              "      <td>0.350161</td>\n",
              "      <td>0.310053</td>\n",
              "      <td>0.339786</td>\n",
              "      <td>0.355282</td>\n",
              "      <td>0.245928</td>\n",
              "      <td>0.398791</td>\n",
              "      <td>0.248859</td>\n",
              "      <td>0.386667</td>\n",
              "      <td>0.364475</td>\n",
              "      <td>0.255039</td>\n",
              "      <td>0.282016</td>\n",
              "      <td>0.462945</td>\n",
              "      <td>0.310160</td>\n",
              "      <td>...</td>\n",
              "      <td>0.331409</td>\n",
              "      <td>0.260541</td>\n",
              "      <td>0.408050</td>\n",
              "      <td>0.267396</td>\n",
              "      <td>0.406525</td>\n",
              "      <td>0.326079</td>\n",
              "      <td>0.399810</td>\n",
              "      <td>0.270301</td>\n",
              "      <td>0.329889</td>\n",
              "      <td>0.385088</td>\n",
              "      <td>0.274200</td>\n",
              "      <td>0.340712</td>\n",
              "      <td>0.337811</td>\n",
              "      <td>0.228550</td>\n",
              "      <td>0.433638</td>\n",
              "      <td>0.210120</td>\n",
              "      <td>0.396562</td>\n",
              "      <td>0.393318</td>\n",
              "      <td>0.437141</td>\n",
              "      <td>0.229241</td>\n",
              "      <td>0.333618</td>\n",
              "      <td>0.382950</td>\n",
              "      <td>0.253641</td>\n",
              "      <td>0.363409</td>\n",
              "      <td>0.266242</td>\n",
              "      <td>0.358206</td>\n",
              "      <td>0.375551</td>\n",
              "      <td>2</td>\n",
              "      <td>0.324754</td>\n",
              "      <td>0.377449</td>\n",
              "      <td>0.297797</td>\n",
              "      <td>0.440356</td>\n",
              "      <td>0.499781</td>\n",
              "      <td>0.533819</td>\n",
              "      <td>0.123230</td>\n",
              "      <td>0.253130</td>\n",
              "      <td>0.150310</td>\n",
              "      <td>0.317126</td>\n",
              "      <td>0.246651</td>\n",
              "      <td>0.383509</td>\n",
              "    </tr>\n",
              "    <tr>\n",
              "      <th>0</th>\n",
              "      <td>0.558517</td>\n",
              "      <td>0.214951</td>\n",
              "      <td>0.226531</td>\n",
              "      <td>0.211880</td>\n",
              "      <td>0.354849</td>\n",
              "      <td>0.433272</td>\n",
              "      <td>0.306233</td>\n",
              "      <td>0.374875</td>\n",
              "      <td>0.318892</td>\n",
              "      <td>0.265781</td>\n",
              "      <td>0.494058</td>\n",
              "      <td>0.240161</td>\n",
              "      <td>0.271224</td>\n",
              "      <td>0.367055</td>\n",
              "      <td>0.361721</td>\n",
              "      <td>0.256432</td>\n",
              "      <td>0.216731</td>\n",
              "      <td>0.526837</td>\n",
              "      <td>0.308439</td>\n",
              "      <td>0.341791</td>\n",
              "      <td>0.349770</td>\n",
              "      <td>0.284718</td>\n",
              "      <td>0.331654</td>\n",
              "      <td>0.383628</td>\n",
              "      <td>0.338838</td>\n",
              "      <td>0.183149</td>\n",
              "      <td>0.478013</td>\n",
              "      <td>0.345063</td>\n",
              "      <td>0.283979</td>\n",
              "      <td>0.370957</td>\n",
              "      <td>0.378388</td>\n",
              "      <td>0.302959</td>\n",
              "      <td>0.318654</td>\n",
              "      <td>0.286370</td>\n",
              "      <td>0.381147</td>\n",
              "      <td>0.332483</td>\n",
              "      <td>0.178583</td>\n",
              "      <td>0.435079</td>\n",
              "      <td>0.386339</td>\n",
              "      <td>0.294516</td>\n",
              "      <td>...</td>\n",
              "      <td>0.338863</td>\n",
              "      <td>0.237159</td>\n",
              "      <td>0.423977</td>\n",
              "      <td>0.306374</td>\n",
              "      <td>0.321926</td>\n",
              "      <td>0.371700</td>\n",
              "      <td>0.251668</td>\n",
              "      <td>0.320298</td>\n",
              "      <td>0.428034</td>\n",
              "      <td>0.459380</td>\n",
              "      <td>0.284795</td>\n",
              "      <td>0.255825</td>\n",
              "      <td>0.163401</td>\n",
              "      <td>0.461103</td>\n",
              "      <td>0.375495</td>\n",
              "      <td>0.257329</td>\n",
              "      <td>0.410365</td>\n",
              "      <td>0.332306</td>\n",
              "      <td>0.303963</td>\n",
              "      <td>0.359235</td>\n",
              "      <td>0.336802</td>\n",
              "      <td>0.247552</td>\n",
              "      <td>0.279239</td>\n",
              "      <td>0.473209</td>\n",
              "      <td>0.318752</td>\n",
              "      <td>0.394675</td>\n",
              "      <td>0.286573</td>\n",
              "      <td>1</td>\n",
              "      <td>0.298392</td>\n",
              "      <td>0.366658</td>\n",
              "      <td>0.334950</td>\n",
              "      <td>0.558517</td>\n",
              "      <td>0.576627</td>\n",
              "      <td>0.494058</td>\n",
              "      <td>0.163401</td>\n",
              "      <td>0.179758</td>\n",
              "      <td>0.183149</td>\n",
              "      <td>0.395116</td>\n",
              "      <td>0.396869</td>\n",
              "      <td>0.310909</td>\n",
              "    </tr>\n",
              "    <tr>\n",
              "      <th>0</th>\n",
              "      <td>0.312962</td>\n",
              "      <td>0.197369</td>\n",
              "      <td>0.489669</td>\n",
              "      <td>0.237297</td>\n",
              "      <td>0.400529</td>\n",
              "      <td>0.362174</td>\n",
              "      <td>0.365812</td>\n",
              "      <td>0.311280</td>\n",
              "      <td>0.322909</td>\n",
              "      <td>0.368972</td>\n",
              "      <td>0.266920</td>\n",
              "      <td>0.364108</td>\n",
              "      <td>0.249524</td>\n",
              "      <td>0.393674</td>\n",
              "      <td>0.356802</td>\n",
              "      <td>0.280083</td>\n",
              "      <td>0.393811</td>\n",
              "      <td>0.326106</td>\n",
              "      <td>0.292714</td>\n",
              "      <td>0.415872</td>\n",
              "      <td>0.291415</td>\n",
              "      <td>0.329274</td>\n",
              "      <td>0.396195</td>\n",
              "      <td>0.274531</td>\n",
              "      <td>0.375117</td>\n",
              "      <td>0.338270</td>\n",
              "      <td>0.286613</td>\n",
              "      <td>0.289039</td>\n",
              "      <td>0.340669</td>\n",
              "      <td>0.370292</td>\n",
              "      <td>0.326097</td>\n",
              "      <td>0.243691</td>\n",
              "      <td>0.430212</td>\n",
              "      <td>0.443383</td>\n",
              "      <td>0.311417</td>\n",
              "      <td>0.245200</td>\n",
              "      <td>0.285623</td>\n",
              "      <td>0.363136</td>\n",
              "      <td>0.351241</td>\n",
              "      <td>0.294458</td>\n",
              "      <td>...</td>\n",
              "      <td>0.200371</td>\n",
              "      <td>0.289444</td>\n",
              "      <td>0.510185</td>\n",
              "      <td>0.436428</td>\n",
              "      <td>0.248040</td>\n",
              "      <td>0.315532</td>\n",
              "      <td>0.376343</td>\n",
              "      <td>0.202398</td>\n",
              "      <td>0.421259</td>\n",
              "      <td>0.426864</td>\n",
              "      <td>0.326362</td>\n",
              "      <td>0.246774</td>\n",
              "      <td>0.345238</td>\n",
              "      <td>0.273219</td>\n",
              "      <td>0.381543</td>\n",
              "      <td>0.275061</td>\n",
              "      <td>0.355048</td>\n",
              "      <td>0.369890</td>\n",
              "      <td>0.397120</td>\n",
              "      <td>0.230906</td>\n",
              "      <td>0.371974</td>\n",
              "      <td>0.305935</td>\n",
              "      <td>0.374202</td>\n",
              "      <td>0.319862</td>\n",
              "      <td>0.198550</td>\n",
              "      <td>0.450239</td>\n",
              "      <td>0.351211</td>\n",
              "      <td>2</td>\n",
              "      <td>0.316761</td>\n",
              "      <td>0.354197</td>\n",
              "      <td>0.329042</td>\n",
              "      <td>0.504198</td>\n",
              "      <td>0.510185</td>\n",
              "      <td>0.536093</td>\n",
              "      <td>0.163212</td>\n",
              "      <td>0.214486</td>\n",
              "      <td>0.181094</td>\n",
              "      <td>0.340986</td>\n",
              "      <td>0.295699</td>\n",
              "      <td>0.354998</td>\n",
              "    </tr>\n",
              "  </tbody>\n",
              "</table>\n",
              "<p>8065 rows × 136 columns</p>\n",
              "</div>"
            ],
            "text/plain": [
              "        92AD      92HC     92MCI  ...  spreadAD  spreadMCI  spreadHC\n",
              "0   0.226881  0.364463  0.408656  ...  0.301595   0.410789  0.402196\n",
              "0   0.335544  0.350035  0.314421  ...  0.342841   0.389919  0.360646\n",
              "0   0.406022  0.346012  0.247966  ...  0.409485   0.401123  0.499259\n",
              "0   0.394586  0.228308  0.377107  ...  0.293393   0.434538  0.358302\n",
              "0   0.313203  0.281335  0.405462  ...  0.361575   0.314833  0.401755\n",
              "..       ...       ...       ...  ...       ...        ...       ...\n",
              "0   0.380644  0.366378  0.252978  ...  0.485338   0.407366  0.380734\n",
              "0   0.339406  0.368542  0.292053  ...  0.450577   0.352153  0.386542\n",
              "0   0.346695  0.183632  0.469673  ...  0.317126   0.246651  0.383509\n",
              "0   0.558517  0.214951  0.226531  ...  0.395116   0.396869  0.310909\n",
              "0   0.312962  0.197369  0.489669  ...  0.340986   0.295699  0.354998\n",
              "\n",
              "[8065 rows x 136 columns]"
            ]
          },
          "metadata": {},
          "execution_count": 26
        }
      ]
    },
    {
      "cell_type": "code",
      "metadata": {
        "id": "-CgelKrQXYpb"
      },
      "source": [
        "SPLITS = 20\n",
        "label_encoder  = LabelEncoder()"
      ],
      "execution_count": 8,
      "outputs": []
    },
    {
      "cell_type": "code",
      "metadata": {
        "id": "nFRJS_weeKFb"
      },
      "source": [
        ""
      ],
      "execution_count": 8,
      "outputs": []
    },
    {
      "cell_type": "code",
      "metadata": {
        "id": "ijKUHbOneKIf"
      },
      "source": [
        ""
      ],
      "execution_count": 8,
      "outputs": []
    },
    {
      "cell_type": "code",
      "metadata": {
        "id": "237h6CC9eKMX"
      },
      "source": [
        ""
      ],
      "execution_count": 8,
      "outputs": []
    },
    {
      "cell_type": "code",
      "metadata": {
        "id": "WKNDPvfaeKPf"
      },
      "source": [
        ""
      ],
      "execution_count": 8,
      "outputs": []
    },
    {
      "cell_type": "code",
      "metadata": {
        "id": "L7473BWNeKSd"
      },
      "source": [
        ""
      ],
      "execution_count": 8,
      "outputs": []
    },
    {
      "cell_type": "code",
      "metadata": {
        "id": "YVb5DcvHeKVb"
      },
      "source": [
        ""
      ],
      "execution_count": 8,
      "outputs": []
    },
    {
      "cell_type": "code",
      "metadata": {
        "id": "1kA4-eH5eKX7"
      },
      "source": [
        ""
      ],
      "execution_count": 8,
      "outputs": []
    },
    {
      "cell_type": "code",
      "metadata": {
        "id": "MlDUBCLWeKb5"
      },
      "source": [
        ""
      ],
      "execution_count": 8,
      "outputs": []
    },
    {
      "cell_type": "code",
      "metadata": {
        "id": "BmhQTKYteKfZ"
      },
      "source": [
        ""
      ],
      "execution_count": 8,
      "outputs": []
    },
    {
      "cell_type": "code",
      "metadata": {
        "id": "M-PkO31WXYr-"
      },
      "source": [
        "FINAL_MODEL_STR = 'transformer'+str(SPLITS-1)\n",
        "FINAL_MODEL_PATH = '/drive/MyDrive/models/'+FINAL_MODEL_STR+'.pt'\n",
        "final_model = torch.load(FINAL_MODEL_PATH)\n",
        "\n",
        "test_data = pd.read_csv('/drive/MyDrive/new_data/test.csv')"
      ],
      "execution_count": 9,
      "outputs": []
    },
    {
      "cell_type": "code",
      "metadata": {
        "id": "267HyJeNWbNE"
      },
      "source": [
        "# inv_mapping = {v: k for k, v in mapping.items()}"
      ],
      "execution_count": 10,
      "outputs": []
    },
    {
      "cell_type": "code",
      "metadata": {
        "id": "LVkYTn3EmDea",
        "colab": {
          "base_uri": "https://localhost:8080/",
          "height": 414
        },
        "outputId": "b1b6f687-fec3-48b5-f85e-34a512f9f570"
      },
      "source": [
        "test_data"
      ],
      "execution_count": 11,
      "outputs": [
        {
          "output_type": "execute_result",
          "data": {
            "text/html": [
              "<div>\n",
              "<style scoped>\n",
              "    .dataframe tbody tr th:only-of-type {\n",
              "        vertical-align: middle;\n",
              "    }\n",
              "\n",
              "    .dataframe tbody tr th {\n",
              "        vertical-align: top;\n",
              "    }\n",
              "\n",
              "    .dataframe thead th {\n",
              "        text-align: right;\n",
              "    }\n",
              "</style>\n",
              "<table border=\"1\" class=\"dataframe\">\n",
              "  <thead>\n",
              "    <tr style=\"text-align: right;\">\n",
              "      <th></th>\n",
              "      <th>Unnamed: 0</th>\n",
              "      <th>MRI_ID</th>\n",
              "      <th>Subject</th>\n",
              "      <th>cdr</th>\n",
              "    </tr>\n",
              "  </thead>\n",
              "  <tbody>\n",
              "    <tr>\n",
              "      <th>0</th>\n",
              "      <td>29</td>\n",
              "      <td>/drive/MyDrive/oasis_original/OAS30008_Freesur...</td>\n",
              "      <td>OAS30008</td>\n",
              "      <td>HC</td>\n",
              "    </tr>\n",
              "    <tr>\n",
              "      <th>1</th>\n",
              "      <td>30</td>\n",
              "      <td>/drive/MyDrive/oasis_original/OAS30008_Freesur...</td>\n",
              "      <td>OAS30008</td>\n",
              "      <td>HC</td>\n",
              "    </tr>\n",
              "    <tr>\n",
              "      <th>2</th>\n",
              "      <td>31</td>\n",
              "      <td>/drive/MyDrive/oasis_original/OAS30008_Freesur...</td>\n",
              "      <td>OAS30008</td>\n",
              "      <td>HC</td>\n",
              "    </tr>\n",
              "    <tr>\n",
              "      <th>3</th>\n",
              "      <td>32</td>\n",
              "      <td>/drive/MyDrive/oasis_original/OAS30008_Freesur...</td>\n",
              "      <td>OAS30008</td>\n",
              "      <td>HC</td>\n",
              "    </tr>\n",
              "    <tr>\n",
              "      <th>4</th>\n",
              "      <td>35</td>\n",
              "      <td>/drive/MyDrive/oasis_original/OAS30010_Freesur...</td>\n",
              "      <td>OAS30010</td>\n",
              "      <td>HC</td>\n",
              "    </tr>\n",
              "    <tr>\n",
              "      <th>...</th>\n",
              "      <td>...</td>\n",
              "      <td>...</td>\n",
              "      <td>...</td>\n",
              "      <td>...</td>\n",
              "    </tr>\n",
              "    <tr>\n",
              "      <th>234</th>\n",
              "      <td>1792</td>\n",
              "      <td>/drive/MyDrive/oasis_original/OAS31152_Freesur...</td>\n",
              "      <td>OAS31152</td>\n",
              "      <td>AD</td>\n",
              "    </tr>\n",
              "    <tr>\n",
              "      <th>235</th>\n",
              "      <td>1808</td>\n",
              "      <td>/drive/MyDrive/oasis_original/OAS31160_Freesur...</td>\n",
              "      <td>OAS31160</td>\n",
              "      <td>HC</td>\n",
              "    </tr>\n",
              "    <tr>\n",
              "      <th>236</th>\n",
              "      <td>1811</td>\n",
              "      <td>/drive/MyDrive/oasis_original/OAS31162_Freesur...</td>\n",
              "      <td>OAS31162</td>\n",
              "      <td>MCI</td>\n",
              "    </tr>\n",
              "    <tr>\n",
              "      <th>237</th>\n",
              "      <td>1812</td>\n",
              "      <td>/drive/MyDrive/oasis_original/OAS31163_Freesur...</td>\n",
              "      <td>OAS31163</td>\n",
              "      <td>MCI</td>\n",
              "    </tr>\n",
              "    <tr>\n",
              "      <th>238</th>\n",
              "      <td>1826</td>\n",
              "      <td>/drive/MyDrive/oasis_original/OAS31170_Freesur...</td>\n",
              "      <td>OAS31170</td>\n",
              "      <td>AD</td>\n",
              "    </tr>\n",
              "  </tbody>\n",
              "</table>\n",
              "<p>239 rows × 4 columns</p>\n",
              "</div>"
            ],
            "text/plain": [
              "     Unnamed: 0  ...  cdr\n",
              "0            29  ...   HC\n",
              "1            30  ...   HC\n",
              "2            31  ...   HC\n",
              "3            32  ...   HC\n",
              "4            35  ...   HC\n",
              "..          ...  ...  ...\n",
              "234        1792  ...   AD\n",
              "235        1808  ...   HC\n",
              "236        1811  ...  MCI\n",
              "237        1812  ...  MCI\n",
              "238        1826  ...   AD\n",
              "\n",
              "[239 rows x 4 columns]"
            ]
          },
          "metadata": {},
          "execution_count": 11
        }
      ]
    },
    {
      "cell_type": "code",
      "metadata": {
        "colab": {
          "base_uri": "https://localhost:8080/",
          "height": 171
        },
        "id": "RVWTLv2oBmKz",
        "outputId": "3802e327-f9b8-4229-ce85-9e2f6b564d62"
      },
      "source": [
        "test_data.groupby('cdr').count()"
      ],
      "execution_count": 25,
      "outputs": [
        {
          "output_type": "execute_result",
          "data": {
            "text/html": [
              "<div>\n",
              "<style scoped>\n",
              "    .dataframe tbody tr th:only-of-type {\n",
              "        vertical-align: middle;\n",
              "    }\n",
              "\n",
              "    .dataframe tbody tr th {\n",
              "        vertical-align: top;\n",
              "    }\n",
              "\n",
              "    .dataframe thead th {\n",
              "        text-align: right;\n",
              "    }\n",
              "</style>\n",
              "<table border=\"1\" class=\"dataframe\">\n",
              "  <thead>\n",
              "    <tr style=\"text-align: right;\">\n",
              "      <th></th>\n",
              "      <th>Unnamed: 0</th>\n",
              "      <th>MRI_ID</th>\n",
              "      <th>Subject</th>\n",
              "    </tr>\n",
              "    <tr>\n",
              "      <th>cdr</th>\n",
              "      <th></th>\n",
              "      <th></th>\n",
              "      <th></th>\n",
              "    </tr>\n",
              "  </thead>\n",
              "  <tbody>\n",
              "    <tr>\n",
              "      <th>AD</th>\n",
              "      <td>22</td>\n",
              "      <td>22</td>\n",
              "      <td>22</td>\n",
              "    </tr>\n",
              "    <tr>\n",
              "      <th>HC</th>\n",
              "      <td>171</td>\n",
              "      <td>171</td>\n",
              "      <td>171</td>\n",
              "    </tr>\n",
              "    <tr>\n",
              "      <th>MCI</th>\n",
              "      <td>46</td>\n",
              "      <td>46</td>\n",
              "      <td>46</td>\n",
              "    </tr>\n",
              "  </tbody>\n",
              "</table>\n",
              "</div>"
            ],
            "text/plain": [
              "     Unnamed: 0  MRI_ID  Subject\n",
              "cdr                             \n",
              "AD           22      22       22\n",
              "HC          171     171      171\n",
              "MCI          46      46       46"
            ]
          },
          "metadata": {},
          "execution_count": 25
        }
      ]
    },
    {
      "cell_type": "code",
      "metadata": {
        "id": "7VWmPqDpmM0l"
      },
      "source": [
        "# admci_test = test_data[test_data['cdr'] != 'HC']\n",
        "# hc_test = test_data[test_data['cdr'] == 'HC']\n",
        "# test_data = pd.concat([admci_test, hc_test])\n",
        "# test_data"
      ],
      "execution_count": 12,
      "outputs": []
    },
    {
      "cell_type": "code",
      "metadata": {
        "id": "y-E1lnETeNnq"
      },
      "source": [
        "inv_mapping = {0:'AD', 1:'HC', 2:'MCI'}"
      ],
      "execution_count": 13,
      "outputs": []
    },
    {
      "cell_type": "code",
      "metadata": {
        "id": "TqwaBN1dGDME",
        "colab": {
          "base_uri": "https://localhost:8080/"
        },
        "outputId": "4415aefb-af99-41be-deff-2f0c8b4195a2"
      },
      "source": [
        "test_HC, test_MCI, test_AD = return_scan_paths(test_data, 'test')"
      ],
      "execution_count": 14,
      "outputs": [
        {
          "output_type": "stream",
          "name": "stdout",
          "text": [
            "MRI scans of AD cases in test data: 22\n",
            "MRI scans of MCI cases in test data: 46\n",
            "MRI scans of HC cases in test data: 171\n"
          ]
        }
      ]
    },
    {
      "cell_type": "code",
      "metadata": {
        "id": "XvobZGWj57Cv",
        "colab": {
          "base_uri": "https://localhost:8080/",
          "height": 113,
          "referenced_widgets": [
            "dc636d79ffe249818635be559d4c5b75",
            "0e230d7f5eb94f24b4a37fdcf3a1db32",
            "d5ea4410c9a34b40b5658b3630374244",
            "3bf1091f4fc84ab4a4516d197bad7078",
            "7cbb7308d0eb491284fd4f2e5c463bd7",
            "5da11f7ae5cd4952932aaa953bf30056",
            "a465740850104cf1888762d6d3079e97",
            "e8b0e8f7151a4615abaaca12a15187df",
            "fb1b0ba035434000843b746e07832cf3",
            "2f25223e29514a12a1b20df609753e84",
            "72156f1a187544d69e14f49bb0d0d829"
          ]
        },
        "outputId": "2540ed94-f65f-420c-ac55-845551cf5121"
      },
      "source": [
        "x_test = np.array([process_scan(path) for path in tqdm(test_HC)])\n",
        "x_test = np.concatenate((x_test, np.array([process_scan(path) for path in tqdm(test_MCI)])))\n",
        "x_test = np.concatenate((x_test, np.array([process_scan(path) for path in tqdm(test_AD)])))"
      ],
      "execution_count": 15,
      "outputs": [
        {
          "output_type": "display_data",
          "data": {
            "application/vnd.jupyter.widget-view+json": {
              "model_id": "dc636d79ffe249818635be559d4c5b75",
              "version_minor": 0,
              "version_major": 2
            },
            "text/plain": [
              "  0%|          | 0/171 [00:00<?, ?it/s]"
            ]
          },
          "metadata": {}
        },
        {
          "output_type": "display_data",
          "data": {
            "application/vnd.jupyter.widget-view+json": {
              "model_id": "93804517a5df4c76989aca92570a78fd",
              "version_minor": 0,
              "version_major": 2
            },
            "text/plain": [
              "  0%|          | 0/46 [00:00<?, ?it/s]"
            ]
          },
          "metadata": {}
        },
        {
          "output_type": "display_data",
          "data": {
            "application/vnd.jupyter.widget-view+json": {
              "model_id": "fde6e515bd6d417391c1b69feafb0ec8",
              "version_minor": 0,
              "version_major": 2
            },
            "text/plain": [
              "  0%|          | 0/22 [00:00<?, ?it/s]"
            ]
          },
          "metadata": {}
        }
      ]
    },
    {
      "cell_type": "code",
      "metadata": {
        "id": "gEOU8gl_rM5i"
      },
      "source": [
        "y_test = return_labels(test_data)\n",
        "y_test = [item for sublist in y_test for item in sublist]\n",
        "y_test = np.array(label_encoder.fit_transform(y_test))\n",
        "tens_x_test = torch.Tensor(x_test)\n",
        "tens_y_test = torch.Tensor(y_test)\n",
        "test_ds2 = TensorDataset(tens_x_test, tens_y_test)"
      ],
      "execution_count": 16,
      "outputs": []
    },
    {
      "cell_type": "code",
      "metadata": {
        "id": "LxLap9SmgXDo",
        "colab": {
          "base_uri": "https://localhost:8080/"
        },
        "outputId": "6cc12a79-c774-4d09-cdc4-dacd17feb318"
      },
      "source": [
        "full_ML_results = pd.read_csv('/drive/MyDrive/new_data/ML_DF.csv').drop(columns = 'Unnamed: 0')\n",
        "X = full_ML_results.drop(columns = 'Actual')\n",
        "y = full_ML_results[['Actual']]\n",
        "tree1 = DecisionTreeClassifier()\n",
        "xtrain, xtest, ytrain, ytest = train_test_split(X, y, test_size = 0.25)\n",
        "tree1.fit(xtrain, ytrain)\n",
        "# plt.figure(figsize = (20,20))\n",
        "# plot_tree(tree1, fontsize = 5)\n",
        "# plt.show()"
      ],
      "execution_count": 17,
      "outputs": [
        {
          "output_type": "execute_result",
          "data": {
            "text/plain": [
              "DecisionTreeClassifier(ccp_alpha=0.0, class_weight=None, criterion='gini',\n",
              "                       max_depth=None, max_features=None, max_leaf_nodes=None,\n",
              "                       min_impurity_decrease=0.0, min_impurity_split=None,\n",
              "                       min_samples_leaf=1, min_samples_split=2,\n",
              "                       min_weight_fraction_leaf=0.0, presort='deprecated',\n",
              "                       random_state=None, splitter='best')"
            ]
          },
          "metadata": {},
          "execution_count": 17
        }
      ]
    },
    {
      "cell_type": "code",
      "metadata": {
        "id": "MDeEIQJUsFre",
        "colab": {
          "base_uri": "https://localhost:8080/",
          "height": 434
        },
        "outputId": "aa793dc8-1482-4a9e-e1c8-00973494579c"
      },
      "source": [
        "xtrain"
      ],
      "execution_count": 18,
      "outputs": [
        {
          "output_type": "execute_result",
          "data": {
            "text/html": [
              "<div>\n",
              "<style scoped>\n",
              "    .dataframe tbody tr th:only-of-type {\n",
              "        vertical-align: middle;\n",
              "    }\n",
              "\n",
              "    .dataframe tbody tr th {\n",
              "        vertical-align: top;\n",
              "    }\n",
              "\n",
              "    .dataframe thead th {\n",
              "        text-align: right;\n",
              "    }\n",
              "</style>\n",
              "<table border=\"1\" class=\"dataframe\">\n",
              "  <thead>\n",
              "    <tr style=\"text-align: right;\">\n",
              "      <th></th>\n",
              "      <th>92AD</th>\n",
              "      <th>92HC</th>\n",
              "      <th>92MCI</th>\n",
              "      <th>93AD</th>\n",
              "      <th>93HC</th>\n",
              "      <th>93MCI</th>\n",
              "      <th>94AD</th>\n",
              "      <th>94HC</th>\n",
              "      <th>94MCI</th>\n",
              "      <th>95AD</th>\n",
              "      <th>95HC</th>\n",
              "      <th>95MCI</th>\n",
              "      <th>96AD</th>\n",
              "      <th>96HC</th>\n",
              "      <th>96MCI</th>\n",
              "      <th>97AD</th>\n",
              "      <th>97HC</th>\n",
              "      <th>97MCI</th>\n",
              "      <th>98AD</th>\n",
              "      <th>98HC</th>\n",
              "      <th>98MCI</th>\n",
              "      <th>99AD</th>\n",
              "      <th>99HC</th>\n",
              "      <th>99MCI</th>\n",
              "      <th>100AD</th>\n",
              "      <th>100HC</th>\n",
              "      <th>100MCI</th>\n",
              "      <th>101AD</th>\n",
              "      <th>101HC</th>\n",
              "      <th>101MCI</th>\n",
              "      <th>102AD</th>\n",
              "      <th>102HC</th>\n",
              "      <th>102MCI</th>\n",
              "      <th>103AD</th>\n",
              "      <th>103HC</th>\n",
              "      <th>103MCI</th>\n",
              "      <th>104AD</th>\n",
              "      <th>104HC</th>\n",
              "      <th>104MCI</th>\n",
              "      <th>105AD</th>\n",
              "      <th>...</th>\n",
              "      <th>123MCI</th>\n",
              "      <th>124AD</th>\n",
              "      <th>124HC</th>\n",
              "      <th>124MCI</th>\n",
              "      <th>125AD</th>\n",
              "      <th>125HC</th>\n",
              "      <th>125MCI</th>\n",
              "      <th>126AD</th>\n",
              "      <th>126HC</th>\n",
              "      <th>126MCI</th>\n",
              "      <th>127AD</th>\n",
              "      <th>127HC</th>\n",
              "      <th>127MCI</th>\n",
              "      <th>128AD</th>\n",
              "      <th>128HC</th>\n",
              "      <th>128MCI</th>\n",
              "      <th>129AD</th>\n",
              "      <th>129HC</th>\n",
              "      <th>129MCI</th>\n",
              "      <th>130AD</th>\n",
              "      <th>130HC</th>\n",
              "      <th>130MCI</th>\n",
              "      <th>131AD</th>\n",
              "      <th>131HC</th>\n",
              "      <th>131MCI</th>\n",
              "      <th>132AD</th>\n",
              "      <th>132HC</th>\n",
              "      <th>132MCI</th>\n",
              "      <th>meanAD</th>\n",
              "      <th>meanMCI</th>\n",
              "      <th>meanHC</th>\n",
              "      <th>maxAD</th>\n",
              "      <th>maxMCI</th>\n",
              "      <th>maxHC</th>\n",
              "      <th>minAD</th>\n",
              "      <th>minMCI</th>\n",
              "      <th>minHC</th>\n",
              "      <th>spreadAD</th>\n",
              "      <th>spreadMCI</th>\n",
              "      <th>spreadHC</th>\n",
              "    </tr>\n",
              "  </thead>\n",
              "  <tbody>\n",
              "    <tr>\n",
              "      <th>2981</th>\n",
              "      <td>0.465076</td>\n",
              "      <td>0.170243</td>\n",
              "      <td>0.364680</td>\n",
              "      <td>0.200760</td>\n",
              "      <td>0.560475</td>\n",
              "      <td>0.238765</td>\n",
              "      <td>0.473721</td>\n",
              "      <td>0.190744</td>\n",
              "      <td>0.335535</td>\n",
              "      <td>0.339183</td>\n",
              "      <td>0.287827</td>\n",
              "      <td>0.372991</td>\n",
              "      <td>0.572046</td>\n",
              "      <td>0.233497</td>\n",
              "      <td>0.194457</td>\n",
              "      <td>0.207648</td>\n",
              "      <td>0.415587</td>\n",
              "      <td>0.376765</td>\n",
              "      <td>0.265880</td>\n",
              "      <td>0.207302</td>\n",
              "      <td>0.526818</td>\n",
              "      <td>0.409803</td>\n",
              "      <td>0.171322</td>\n",
              "      <td>0.418876</td>\n",
              "      <td>0.368613</td>\n",
              "      <td>0.258729</td>\n",
              "      <td>0.372658</td>\n",
              "      <td>0.250490</td>\n",
              "      <td>0.383835</td>\n",
              "      <td>0.365675</td>\n",
              "      <td>0.244812</td>\n",
              "      <td>0.208111</td>\n",
              "      <td>0.547076</td>\n",
              "      <td>0.210655</td>\n",
              "      <td>0.323414</td>\n",
              "      <td>0.465931</td>\n",
              "      <td>0.267214</td>\n",
              "      <td>0.300971</td>\n",
              "      <td>0.431815</td>\n",
              "      <td>0.374932</td>\n",
              "      <td>...</td>\n",
              "      <td>0.455710</td>\n",
              "      <td>0.395407</td>\n",
              "      <td>0.387977</td>\n",
              "      <td>0.216616</td>\n",
              "      <td>0.376012</td>\n",
              "      <td>0.274331</td>\n",
              "      <td>0.349656</td>\n",
              "      <td>0.403929</td>\n",
              "      <td>0.284502</td>\n",
              "      <td>0.311569</td>\n",
              "      <td>0.452273</td>\n",
              "      <td>0.368594</td>\n",
              "      <td>0.179134</td>\n",
              "      <td>0.406266</td>\n",
              "      <td>0.345596</td>\n",
              "      <td>0.248138</td>\n",
              "      <td>0.288311</td>\n",
              "      <td>0.284438</td>\n",
              "      <td>0.427250</td>\n",
              "      <td>0.238389</td>\n",
              "      <td>0.333113</td>\n",
              "      <td>0.428499</td>\n",
              "      <td>0.351492</td>\n",
              "      <td>0.335974</td>\n",
              "      <td>0.312533</td>\n",
              "      <td>0.256825</td>\n",
              "      <td>0.395865</td>\n",
              "      <td>0.347309</td>\n",
              "      <td>0.331899</td>\n",
              "      <td>0.360006</td>\n",
              "      <td>0.308095</td>\n",
              "      <td>0.572046</td>\n",
              "      <td>0.547076</td>\n",
              "      <td>0.560475</td>\n",
              "      <td>0.200760</td>\n",
              "      <td>0.179134</td>\n",
              "      <td>0.170243</td>\n",
              "      <td>0.371286</td>\n",
              "      <td>0.367943</td>\n",
              "      <td>0.390232</td>\n",
              "    </tr>\n",
              "    <tr>\n",
              "      <th>7095</th>\n",
              "      <td>0.257255</td>\n",
              "      <td>0.288488</td>\n",
              "      <td>0.454257</td>\n",
              "      <td>0.270132</td>\n",
              "      <td>0.342112</td>\n",
              "      <td>0.387755</td>\n",
              "      <td>0.261384</td>\n",
              "      <td>0.330454</td>\n",
              "      <td>0.408162</td>\n",
              "      <td>0.216480</td>\n",
              "      <td>0.443133</td>\n",
              "      <td>0.340387</td>\n",
              "      <td>0.461574</td>\n",
              "      <td>0.316354</td>\n",
              "      <td>0.222071</td>\n",
              "      <td>0.316071</td>\n",
              "      <td>0.540346</td>\n",
              "      <td>0.143583</td>\n",
              "      <td>0.245463</td>\n",
              "      <td>0.378200</td>\n",
              "      <td>0.376337</td>\n",
              "      <td>0.235140</td>\n",
              "      <td>0.405248</td>\n",
              "      <td>0.359613</td>\n",
              "      <td>0.262259</td>\n",
              "      <td>0.285976</td>\n",
              "      <td>0.451765</td>\n",
              "      <td>0.357981</td>\n",
              "      <td>0.166615</td>\n",
              "      <td>0.475404</td>\n",
              "      <td>0.502799</td>\n",
              "      <td>0.288876</td>\n",
              "      <td>0.208324</td>\n",
              "      <td>0.258276</td>\n",
              "      <td>0.314799</td>\n",
              "      <td>0.426925</td>\n",
              "      <td>0.285769</td>\n",
              "      <td>0.471569</td>\n",
              "      <td>0.242662</td>\n",
              "      <td>0.153344</td>\n",
              "      <td>...</td>\n",
              "      <td>0.482224</td>\n",
              "      <td>0.246231</td>\n",
              "      <td>0.463261</td>\n",
              "      <td>0.290508</td>\n",
              "      <td>0.234182</td>\n",
              "      <td>0.421784</td>\n",
              "      <td>0.344033</td>\n",
              "      <td>0.236964</td>\n",
              "      <td>0.291497</td>\n",
              "      <td>0.471539</td>\n",
              "      <td>0.238573</td>\n",
              "      <td>0.324252</td>\n",
              "      <td>0.437175</td>\n",
              "      <td>0.279572</td>\n",
              "      <td>0.361518</td>\n",
              "      <td>0.358910</td>\n",
              "      <td>0.263313</td>\n",
              "      <td>0.215266</td>\n",
              "      <td>0.521422</td>\n",
              "      <td>0.279113</td>\n",
              "      <td>0.285181</td>\n",
              "      <td>0.435706</td>\n",
              "      <td>0.179271</td>\n",
              "      <td>0.445422</td>\n",
              "      <td>0.375307</td>\n",
              "      <td>0.332193</td>\n",
              "      <td>0.292089</td>\n",
              "      <td>0.375718</td>\n",
              "      <td>0.289318</td>\n",
              "      <td>0.370284</td>\n",
              "      <td>0.340398</td>\n",
              "      <td>0.502799</td>\n",
              "      <td>0.521422</td>\n",
              "      <td>0.546087</td>\n",
              "      <td>0.153344</td>\n",
              "      <td>0.143583</td>\n",
              "      <td>0.166615</td>\n",
              "      <td>0.349455</td>\n",
              "      <td>0.377839</td>\n",
              "      <td>0.379472</td>\n",
              "    </tr>\n",
              "    <tr>\n",
              "      <th>3832</th>\n",
              "      <td>0.286843</td>\n",
              "      <td>0.347635</td>\n",
              "      <td>0.365522</td>\n",
              "      <td>0.435667</td>\n",
              "      <td>0.237023</td>\n",
              "      <td>0.327310</td>\n",
              "      <td>0.291787</td>\n",
              "      <td>0.358303</td>\n",
              "      <td>0.349909</td>\n",
              "      <td>0.303543</td>\n",
              "      <td>0.303830</td>\n",
              "      <td>0.392627</td>\n",
              "      <td>0.213762</td>\n",
              "      <td>0.312100</td>\n",
              "      <td>0.474139</td>\n",
              "      <td>0.263179</td>\n",
              "      <td>0.322652</td>\n",
              "      <td>0.414169</td>\n",
              "      <td>0.302933</td>\n",
              "      <td>0.337503</td>\n",
              "      <td>0.359564</td>\n",
              "      <td>0.226397</td>\n",
              "      <td>0.368970</td>\n",
              "      <td>0.404633</td>\n",
              "      <td>0.522138</td>\n",
              "      <td>0.143206</td>\n",
              "      <td>0.334657</td>\n",
              "      <td>0.264381</td>\n",
              "      <td>0.159290</td>\n",
              "      <td>0.576328</td>\n",
              "      <td>0.253095</td>\n",
              "      <td>0.397637</td>\n",
              "      <td>0.349268</td>\n",
              "      <td>0.209015</td>\n",
              "      <td>0.303659</td>\n",
              "      <td>0.487326</td>\n",
              "      <td>0.334963</td>\n",
              "      <td>0.236835</td>\n",
              "      <td>0.428202</td>\n",
              "      <td>0.299729</td>\n",
              "      <td>...</td>\n",
              "      <td>0.358729</td>\n",
              "      <td>0.340088</td>\n",
              "      <td>0.396497</td>\n",
              "      <td>0.263415</td>\n",
              "      <td>0.315918</td>\n",
              "      <td>0.304051</td>\n",
              "      <td>0.380031</td>\n",
              "      <td>0.365103</td>\n",
              "      <td>0.220270</td>\n",
              "      <td>0.414628</td>\n",
              "      <td>0.291620</td>\n",
              "      <td>0.315340</td>\n",
              "      <td>0.393040</td>\n",
              "      <td>0.279721</td>\n",
              "      <td>0.206694</td>\n",
              "      <td>0.513585</td>\n",
              "      <td>0.500757</td>\n",
              "      <td>0.243334</td>\n",
              "      <td>0.255908</td>\n",
              "      <td>0.269259</td>\n",
              "      <td>0.315899</td>\n",
              "      <td>0.414843</td>\n",
              "      <td>0.298270</td>\n",
              "      <td>0.301222</td>\n",
              "      <td>0.400508</td>\n",
              "      <td>0.318794</td>\n",
              "      <td>0.317420</td>\n",
              "      <td>0.363786</td>\n",
              "      <td>0.308920</td>\n",
              "      <td>0.386740</td>\n",
              "      <td>0.304340</td>\n",
              "      <td>0.522138</td>\n",
              "      <td>0.576328</td>\n",
              "      <td>0.624190</td>\n",
              "      <td>0.169924</td>\n",
              "      <td>0.198541</td>\n",
              "      <td>0.143206</td>\n",
              "      <td>0.352214</td>\n",
              "      <td>0.377788</td>\n",
              "      <td>0.480984</td>\n",
              "    </tr>\n",
              "    <tr>\n",
              "      <th>3095</th>\n",
              "      <td>0.423306</td>\n",
              "      <td>0.290370</td>\n",
              "      <td>0.286324</td>\n",
              "      <td>0.415514</td>\n",
              "      <td>0.293248</td>\n",
              "      <td>0.291239</td>\n",
              "      <td>0.260027</td>\n",
              "      <td>0.416369</td>\n",
              "      <td>0.323604</td>\n",
              "      <td>0.255595</td>\n",
              "      <td>0.415596</td>\n",
              "      <td>0.328809</td>\n",
              "      <td>0.312293</td>\n",
              "      <td>0.343615</td>\n",
              "      <td>0.344092</td>\n",
              "      <td>0.276356</td>\n",
              "      <td>0.355387</td>\n",
              "      <td>0.368257</td>\n",
              "      <td>0.318740</td>\n",
              "      <td>0.275871</td>\n",
              "      <td>0.405390</td>\n",
              "      <td>0.340534</td>\n",
              "      <td>0.399580</td>\n",
              "      <td>0.259886</td>\n",
              "      <td>0.194066</td>\n",
              "      <td>0.382196</td>\n",
              "      <td>0.423738</td>\n",
              "      <td>0.371946</td>\n",
              "      <td>0.256623</td>\n",
              "      <td>0.371431</td>\n",
              "      <td>0.269056</td>\n",
              "      <td>0.291882</td>\n",
              "      <td>0.439061</td>\n",
              "      <td>0.252409</td>\n",
              "      <td>0.407988</td>\n",
              "      <td>0.339603</td>\n",
              "      <td>0.334032</td>\n",
              "      <td>0.346687</td>\n",
              "      <td>0.319281</td>\n",
              "      <td>0.348018</td>\n",
              "      <td>...</td>\n",
              "      <td>0.322104</td>\n",
              "      <td>0.231166</td>\n",
              "      <td>0.311898</td>\n",
              "      <td>0.456935</td>\n",
              "      <td>0.342368</td>\n",
              "      <td>0.433930</td>\n",
              "      <td>0.223702</td>\n",
              "      <td>0.292591</td>\n",
              "      <td>0.359996</td>\n",
              "      <td>0.347412</td>\n",
              "      <td>0.212695</td>\n",
              "      <td>0.245917</td>\n",
              "      <td>0.541388</td>\n",
              "      <td>0.394712</td>\n",
              "      <td>0.329840</td>\n",
              "      <td>0.275447</td>\n",
              "      <td>0.338839</td>\n",
              "      <td>0.358098</td>\n",
              "      <td>0.303063</td>\n",
              "      <td>0.304143</td>\n",
              "      <td>0.373301</td>\n",
              "      <td>0.322556</td>\n",
              "      <td>0.310221</td>\n",
              "      <td>0.406155</td>\n",
              "      <td>0.283624</td>\n",
              "      <td>0.194082</td>\n",
              "      <td>0.188335</td>\n",
              "      <td>0.617583</td>\n",
              "      <td>0.315706</td>\n",
              "      <td>0.360468</td>\n",
              "      <td>0.323826</td>\n",
              "      <td>0.471086</td>\n",
              "      <td>0.617583</td>\n",
              "      <td>0.433930</td>\n",
              "      <td>0.194066</td>\n",
              "      <td>0.223702</td>\n",
              "      <td>0.188335</td>\n",
              "      <td>0.277021</td>\n",
              "      <td>0.393881</td>\n",
              "      <td>0.245595</td>\n",
              "    </tr>\n",
              "    <tr>\n",
              "      <th>563</th>\n",
              "      <td>0.262967</td>\n",
              "      <td>0.343935</td>\n",
              "      <td>0.393098</td>\n",
              "      <td>0.373261</td>\n",
              "      <td>0.417111</td>\n",
              "      <td>0.209628</td>\n",
              "      <td>0.533181</td>\n",
              "      <td>0.196559</td>\n",
              "      <td>0.270260</td>\n",
              "      <td>0.162208</td>\n",
              "      <td>0.354342</td>\n",
              "      <td>0.483450</td>\n",
              "      <td>0.407926</td>\n",
              "      <td>0.201953</td>\n",
              "      <td>0.390120</td>\n",
              "      <td>0.342995</td>\n",
              "      <td>0.352684</td>\n",
              "      <td>0.304321</td>\n",
              "      <td>0.410765</td>\n",
              "      <td>0.273095</td>\n",
              "      <td>0.316140</td>\n",
              "      <td>0.401733</td>\n",
              "      <td>0.247294</td>\n",
              "      <td>0.350972</td>\n",
              "      <td>0.264172</td>\n",
              "      <td>0.407185</td>\n",
              "      <td>0.328642</td>\n",
              "      <td>0.263785</td>\n",
              "      <td>0.315225</td>\n",
              "      <td>0.420990</td>\n",
              "      <td>0.237471</td>\n",
              "      <td>0.275561</td>\n",
              "      <td>0.486968</td>\n",
              "      <td>0.412160</td>\n",
              "      <td>0.245428</td>\n",
              "      <td>0.342411</td>\n",
              "      <td>0.303018</td>\n",
              "      <td>0.269455</td>\n",
              "      <td>0.427528</td>\n",
              "      <td>0.429404</td>\n",
              "      <td>...</td>\n",
              "      <td>0.599587</td>\n",
              "      <td>0.240978</td>\n",
              "      <td>0.257591</td>\n",
              "      <td>0.501431</td>\n",
              "      <td>0.372160</td>\n",
              "      <td>0.276087</td>\n",
              "      <td>0.351753</td>\n",
              "      <td>0.351571</td>\n",
              "      <td>0.406274</td>\n",
              "      <td>0.242155</td>\n",
              "      <td>0.467626</td>\n",
              "      <td>0.290029</td>\n",
              "      <td>0.242345</td>\n",
              "      <td>0.316139</td>\n",
              "      <td>0.216884</td>\n",
              "      <td>0.466977</td>\n",
              "      <td>0.385922</td>\n",
              "      <td>0.258387</td>\n",
              "      <td>0.355691</td>\n",
              "      <td>0.445406</td>\n",
              "      <td>0.284582</td>\n",
              "      <td>0.270013</td>\n",
              "      <td>0.238647</td>\n",
              "      <td>0.343599</td>\n",
              "      <td>0.417754</td>\n",
              "      <td>0.329405</td>\n",
              "      <td>0.298629</td>\n",
              "      <td>0.371966</td>\n",
              "      <td>0.319985</td>\n",
              "      <td>0.380412</td>\n",
              "      <td>0.299603</td>\n",
              "      <td>0.533181</td>\n",
              "      <td>0.606142</td>\n",
              "      <td>0.459636</td>\n",
              "      <td>0.159105</td>\n",
              "      <td>0.209628</td>\n",
              "      <td>0.143400</td>\n",
              "      <td>0.374076</td>\n",
              "      <td>0.396514</td>\n",
              "      <td>0.316236</td>\n",
              "    </tr>\n",
              "    <tr>\n",
              "      <th>...</th>\n",
              "      <td>...</td>\n",
              "      <td>...</td>\n",
              "      <td>...</td>\n",
              "      <td>...</td>\n",
              "      <td>...</td>\n",
              "      <td>...</td>\n",
              "      <td>...</td>\n",
              "      <td>...</td>\n",
              "      <td>...</td>\n",
              "      <td>...</td>\n",
              "      <td>...</td>\n",
              "      <td>...</td>\n",
              "      <td>...</td>\n",
              "      <td>...</td>\n",
              "      <td>...</td>\n",
              "      <td>...</td>\n",
              "      <td>...</td>\n",
              "      <td>...</td>\n",
              "      <td>...</td>\n",
              "      <td>...</td>\n",
              "      <td>...</td>\n",
              "      <td>...</td>\n",
              "      <td>...</td>\n",
              "      <td>...</td>\n",
              "      <td>...</td>\n",
              "      <td>...</td>\n",
              "      <td>...</td>\n",
              "      <td>...</td>\n",
              "      <td>...</td>\n",
              "      <td>...</td>\n",
              "      <td>...</td>\n",
              "      <td>...</td>\n",
              "      <td>...</td>\n",
              "      <td>...</td>\n",
              "      <td>...</td>\n",
              "      <td>...</td>\n",
              "      <td>...</td>\n",
              "      <td>...</td>\n",
              "      <td>...</td>\n",
              "      <td>...</td>\n",
              "      <td>...</td>\n",
              "      <td>...</td>\n",
              "      <td>...</td>\n",
              "      <td>...</td>\n",
              "      <td>...</td>\n",
              "      <td>...</td>\n",
              "      <td>...</td>\n",
              "      <td>...</td>\n",
              "      <td>...</td>\n",
              "      <td>...</td>\n",
              "      <td>...</td>\n",
              "      <td>...</td>\n",
              "      <td>...</td>\n",
              "      <td>...</td>\n",
              "      <td>...</td>\n",
              "      <td>...</td>\n",
              "      <td>...</td>\n",
              "      <td>...</td>\n",
              "      <td>...</td>\n",
              "      <td>...</td>\n",
              "      <td>...</td>\n",
              "      <td>...</td>\n",
              "      <td>...</td>\n",
              "      <td>...</td>\n",
              "      <td>...</td>\n",
              "      <td>...</td>\n",
              "      <td>...</td>\n",
              "      <td>...</td>\n",
              "      <td>...</td>\n",
              "      <td>...</td>\n",
              "      <td>...</td>\n",
              "      <td>...</td>\n",
              "      <td>...</td>\n",
              "      <td>...</td>\n",
              "      <td>...</td>\n",
              "      <td>...</td>\n",
              "      <td>...</td>\n",
              "      <td>...</td>\n",
              "      <td>...</td>\n",
              "      <td>...</td>\n",
              "      <td>...</td>\n",
              "    </tr>\n",
              "    <tr>\n",
              "      <th>412</th>\n",
              "      <td>0.311611</td>\n",
              "      <td>0.417040</td>\n",
              "      <td>0.271349</td>\n",
              "      <td>0.301932</td>\n",
              "      <td>0.248166</td>\n",
              "      <td>0.449901</td>\n",
              "      <td>0.372501</td>\n",
              "      <td>0.293633</td>\n",
              "      <td>0.333865</td>\n",
              "      <td>0.246834</td>\n",
              "      <td>0.234046</td>\n",
              "      <td>0.519120</td>\n",
              "      <td>0.268925</td>\n",
              "      <td>0.274004</td>\n",
              "      <td>0.457071</td>\n",
              "      <td>0.194127</td>\n",
              "      <td>0.262207</td>\n",
              "      <td>0.543666</td>\n",
              "      <td>0.326677</td>\n",
              "      <td>0.215923</td>\n",
              "      <td>0.457399</td>\n",
              "      <td>0.237704</td>\n",
              "      <td>0.344734</td>\n",
              "      <td>0.417562</td>\n",
              "      <td>0.332722</td>\n",
              "      <td>0.462480</td>\n",
              "      <td>0.204798</td>\n",
              "      <td>0.162374</td>\n",
              "      <td>0.432118</td>\n",
              "      <td>0.405508</td>\n",
              "      <td>0.313952</td>\n",
              "      <td>0.301425</td>\n",
              "      <td>0.384623</td>\n",
              "      <td>0.459251</td>\n",
              "      <td>0.294449</td>\n",
              "      <td>0.246300</td>\n",
              "      <td>0.147189</td>\n",
              "      <td>0.249625</td>\n",
              "      <td>0.603187</td>\n",
              "      <td>0.464715</td>\n",
              "      <td>...</td>\n",
              "      <td>0.398985</td>\n",
              "      <td>0.278672</td>\n",
              "      <td>0.483914</td>\n",
              "      <td>0.237415</td>\n",
              "      <td>0.269023</td>\n",
              "      <td>0.217555</td>\n",
              "      <td>0.513422</td>\n",
              "      <td>0.240545</td>\n",
              "      <td>0.320083</td>\n",
              "      <td>0.439372</td>\n",
              "      <td>0.467196</td>\n",
              "      <td>0.187706</td>\n",
              "      <td>0.345098</td>\n",
              "      <td>0.434162</td>\n",
              "      <td>0.176794</td>\n",
              "      <td>0.389043</td>\n",
              "      <td>0.362873</td>\n",
              "      <td>0.323882</td>\n",
              "      <td>0.313246</td>\n",
              "      <td>0.365010</td>\n",
              "      <td>0.272943</td>\n",
              "      <td>0.362047</td>\n",
              "      <td>0.394130</td>\n",
              "      <td>0.292926</td>\n",
              "      <td>0.312943</td>\n",
              "      <td>0.293769</td>\n",
              "      <td>0.400789</td>\n",
              "      <td>0.305443</td>\n",
              "      <td>0.318530</td>\n",
              "      <td>0.380097</td>\n",
              "      <td>0.301373</td>\n",
              "      <td>0.495066</td>\n",
              "      <td>0.603187</td>\n",
              "      <td>0.483914</td>\n",
              "      <td>0.147189</td>\n",
              "      <td>0.204798</td>\n",
              "      <td>0.162328</td>\n",
              "      <td>0.347877</td>\n",
              "      <td>0.398389</td>\n",
              "      <td>0.321585</td>\n",
              "    </tr>\n",
              "    <tr>\n",
              "      <th>4875</th>\n",
              "      <td>0.293215</td>\n",
              "      <td>0.206846</td>\n",
              "      <td>0.499939</td>\n",
              "      <td>0.323503</td>\n",
              "      <td>0.267798</td>\n",
              "      <td>0.408700</td>\n",
              "      <td>0.302441</td>\n",
              "      <td>0.255729</td>\n",
              "      <td>0.441830</td>\n",
              "      <td>0.382237</td>\n",
              "      <td>0.279976</td>\n",
              "      <td>0.337787</td>\n",
              "      <td>0.413072</td>\n",
              "      <td>0.285256</td>\n",
              "      <td>0.301672</td>\n",
              "      <td>0.290666</td>\n",
              "      <td>0.395685</td>\n",
              "      <td>0.313650</td>\n",
              "      <td>0.344216</td>\n",
              "      <td>0.216972</td>\n",
              "      <td>0.438812</td>\n",
              "      <td>0.284526</td>\n",
              "      <td>0.346582</td>\n",
              "      <td>0.368892</td>\n",
              "      <td>0.300483</td>\n",
              "      <td>0.295687</td>\n",
              "      <td>0.403830</td>\n",
              "      <td>0.342417</td>\n",
              "      <td>0.336224</td>\n",
              "      <td>0.321359</td>\n",
              "      <td>0.342516</td>\n",
              "      <td>0.233318</td>\n",
              "      <td>0.424166</td>\n",
              "      <td>0.265337</td>\n",
              "      <td>0.314117</td>\n",
              "      <td>0.420546</td>\n",
              "      <td>0.386342</td>\n",
              "      <td>0.325618</td>\n",
              "      <td>0.288039</td>\n",
              "      <td>0.192818</td>\n",
              "      <td>...</td>\n",
              "      <td>0.202664</td>\n",
              "      <td>0.185220</td>\n",
              "      <td>0.392804</td>\n",
              "      <td>0.421976</td>\n",
              "      <td>0.413389</td>\n",
              "      <td>0.239988</td>\n",
              "      <td>0.346623</td>\n",
              "      <td>0.293545</td>\n",
              "      <td>0.335447</td>\n",
              "      <td>0.371008</td>\n",
              "      <td>0.243064</td>\n",
              "      <td>0.308168</td>\n",
              "      <td>0.448769</td>\n",
              "      <td>0.305071</td>\n",
              "      <td>0.438353</td>\n",
              "      <td>0.256576</td>\n",
              "      <td>0.423409</td>\n",
              "      <td>0.304566</td>\n",
              "      <td>0.272024</td>\n",
              "      <td>0.326264</td>\n",
              "      <td>0.275997</td>\n",
              "      <td>0.397739</td>\n",
              "      <td>0.388049</td>\n",
              "      <td>0.285832</td>\n",
              "      <td>0.326119</td>\n",
              "      <td>0.345119</td>\n",
              "      <td>0.315645</td>\n",
              "      <td>0.339237</td>\n",
              "      <td>0.322691</td>\n",
              "      <td>0.348399</td>\n",
              "      <td>0.328910</td>\n",
              "      <td>0.510385</td>\n",
              "      <td>0.499939</td>\n",
              "      <td>0.556500</td>\n",
              "      <td>0.171714</td>\n",
              "      <td>0.182028</td>\n",
              "      <td>0.150170</td>\n",
              "      <td>0.338671</td>\n",
              "      <td>0.317911</td>\n",
              "      <td>0.406330</td>\n",
              "    </tr>\n",
              "    <tr>\n",
              "      <th>6584</th>\n",
              "      <td>0.513266</td>\n",
              "      <td>0.216987</td>\n",
              "      <td>0.269746</td>\n",
              "      <td>0.372547</td>\n",
              "      <td>0.248659</td>\n",
              "      <td>0.378794</td>\n",
              "      <td>0.201698</td>\n",
              "      <td>0.387664</td>\n",
              "      <td>0.410638</td>\n",
              "      <td>0.297346</td>\n",
              "      <td>0.356057</td>\n",
              "      <td>0.346597</td>\n",
              "      <td>0.339117</td>\n",
              "      <td>0.242179</td>\n",
              "      <td>0.418705</td>\n",
              "      <td>0.413996</td>\n",
              "      <td>0.301491</td>\n",
              "      <td>0.284513</td>\n",
              "      <td>0.142897</td>\n",
              "      <td>0.371223</td>\n",
              "      <td>0.485880</td>\n",
              "      <td>0.322159</td>\n",
              "      <td>0.316581</td>\n",
              "      <td>0.361260</td>\n",
              "      <td>0.286731</td>\n",
              "      <td>0.123118</td>\n",
              "      <td>0.590151</td>\n",
              "      <td>0.356140</td>\n",
              "      <td>0.421657</td>\n",
              "      <td>0.222203</td>\n",
              "      <td>0.363914</td>\n",
              "      <td>0.454774</td>\n",
              "      <td>0.181311</td>\n",
              "      <td>0.422289</td>\n",
              "      <td>0.228769</td>\n",
              "      <td>0.348941</td>\n",
              "      <td>0.476552</td>\n",
              "      <td>0.269475</td>\n",
              "      <td>0.253973</td>\n",
              "      <td>0.577790</td>\n",
              "      <td>...</td>\n",
              "      <td>0.407912</td>\n",
              "      <td>0.357616</td>\n",
              "      <td>0.354117</td>\n",
              "      <td>0.288267</td>\n",
              "      <td>0.193001</td>\n",
              "      <td>0.400275</td>\n",
              "      <td>0.406725</td>\n",
              "      <td>0.269889</td>\n",
              "      <td>0.385642</td>\n",
              "      <td>0.344469</td>\n",
              "      <td>0.138331</td>\n",
              "      <td>0.528273</td>\n",
              "      <td>0.333397</td>\n",
              "      <td>0.268711</td>\n",
              "      <td>0.235126</td>\n",
              "      <td>0.496163</td>\n",
              "      <td>0.315082</td>\n",
              "      <td>0.346679</td>\n",
              "      <td>0.338240</td>\n",
              "      <td>0.366671</td>\n",
              "      <td>0.230277</td>\n",
              "      <td>0.403052</td>\n",
              "      <td>0.470992</td>\n",
              "      <td>0.287344</td>\n",
              "      <td>0.241665</td>\n",
              "      <td>0.255123</td>\n",
              "      <td>0.384482</td>\n",
              "      <td>0.360395</td>\n",
              "      <td>0.335196</td>\n",
              "      <td>0.349353</td>\n",
              "      <td>0.315451</td>\n",
              "      <td>0.577790</td>\n",
              "      <td>0.590151</td>\n",
              "      <td>0.528273</td>\n",
              "      <td>0.138331</td>\n",
              "      <td>0.181311</td>\n",
              "      <td>0.123118</td>\n",
              "      <td>0.439459</td>\n",
              "      <td>0.408839</td>\n",
              "      <td>0.405154</td>\n",
              "    </tr>\n",
              "    <tr>\n",
              "      <th>3545</th>\n",
              "      <td>0.387126</td>\n",
              "      <td>0.328147</td>\n",
              "      <td>0.284727</td>\n",
              "      <td>0.241930</td>\n",
              "      <td>0.408956</td>\n",
              "      <td>0.349114</td>\n",
              "      <td>0.430233</td>\n",
              "      <td>0.201203</td>\n",
              "      <td>0.368564</td>\n",
              "      <td>0.227587</td>\n",
              "      <td>0.197580</td>\n",
              "      <td>0.574833</td>\n",
              "      <td>0.295124</td>\n",
              "      <td>0.367975</td>\n",
              "      <td>0.336901</td>\n",
              "      <td>0.496468</td>\n",
              "      <td>0.213071</td>\n",
              "      <td>0.290461</td>\n",
              "      <td>0.337506</td>\n",
              "      <td>0.244944</td>\n",
              "      <td>0.417550</td>\n",
              "      <td>0.261569</td>\n",
              "      <td>0.249312</td>\n",
              "      <td>0.489119</td>\n",
              "      <td>0.270160</td>\n",
              "      <td>0.411875</td>\n",
              "      <td>0.317965</td>\n",
              "      <td>0.185068</td>\n",
              "      <td>0.369533</td>\n",
              "      <td>0.445399</td>\n",
              "      <td>0.320572</td>\n",
              "      <td>0.271455</td>\n",
              "      <td>0.407974</td>\n",
              "      <td>0.471894</td>\n",
              "      <td>0.257039</td>\n",
              "      <td>0.271066</td>\n",
              "      <td>0.335312</td>\n",
              "      <td>0.327222</td>\n",
              "      <td>0.337466</td>\n",
              "      <td>0.292330</td>\n",
              "      <td>...</td>\n",
              "      <td>0.237341</td>\n",
              "      <td>0.326105</td>\n",
              "      <td>0.297242</td>\n",
              "      <td>0.376653</td>\n",
              "      <td>0.152643</td>\n",
              "      <td>0.222869</td>\n",
              "      <td>0.624488</td>\n",
              "      <td>0.399938</td>\n",
              "      <td>0.242574</td>\n",
              "      <td>0.357488</td>\n",
              "      <td>0.367650</td>\n",
              "      <td>0.293952</td>\n",
              "      <td>0.338398</td>\n",
              "      <td>0.303198</td>\n",
              "      <td>0.308376</td>\n",
              "      <td>0.388425</td>\n",
              "      <td>0.422445</td>\n",
              "      <td>0.307027</td>\n",
              "      <td>0.270528</td>\n",
              "      <td>0.297042</td>\n",
              "      <td>0.360994</td>\n",
              "      <td>0.341964</td>\n",
              "      <td>0.297046</td>\n",
              "      <td>0.242207</td>\n",
              "      <td>0.460747</td>\n",
              "      <td>0.260121</td>\n",
              "      <td>0.370627</td>\n",
              "      <td>0.369252</td>\n",
              "      <td>0.328064</td>\n",
              "      <td>0.372923</td>\n",
              "      <td>0.299013</td>\n",
              "      <td>0.565073</td>\n",
              "      <td>0.624488</td>\n",
              "      <td>0.415752</td>\n",
              "      <td>0.152643</td>\n",
              "      <td>0.237341</td>\n",
              "      <td>0.174701</td>\n",
              "      <td>0.412430</td>\n",
              "      <td>0.387147</td>\n",
              "      <td>0.241051</td>\n",
              "    </tr>\n",
              "    <tr>\n",
              "      <th>3235</th>\n",
              "      <td>0.175515</td>\n",
              "      <td>0.235169</td>\n",
              "      <td>0.589315</td>\n",
              "      <td>0.414527</td>\n",
              "      <td>0.330987</td>\n",
              "      <td>0.254486</td>\n",
              "      <td>0.334943</td>\n",
              "      <td>0.273205</td>\n",
              "      <td>0.391853</td>\n",
              "      <td>0.626522</td>\n",
              "      <td>0.138807</td>\n",
              "      <td>0.234671</td>\n",
              "      <td>0.315800</td>\n",
              "      <td>0.324691</td>\n",
              "      <td>0.359508</td>\n",
              "      <td>0.216028</td>\n",
              "      <td>0.220848</td>\n",
              "      <td>0.563124</td>\n",
              "      <td>0.327381</td>\n",
              "      <td>0.366617</td>\n",
              "      <td>0.306002</td>\n",
              "      <td>0.366431</td>\n",
              "      <td>0.319394</td>\n",
              "      <td>0.314175</td>\n",
              "      <td>0.192463</td>\n",
              "      <td>0.410302</td>\n",
              "      <td>0.397235</td>\n",
              "      <td>0.361339</td>\n",
              "      <td>0.274723</td>\n",
              "      <td>0.363938</td>\n",
              "      <td>0.356465</td>\n",
              "      <td>0.460639</td>\n",
              "      <td>0.182896</td>\n",
              "      <td>0.402495</td>\n",
              "      <td>0.328259</td>\n",
              "      <td>0.269246</td>\n",
              "      <td>0.346004</td>\n",
              "      <td>0.272260</td>\n",
              "      <td>0.381736</td>\n",
              "      <td>0.253639</td>\n",
              "      <td>...</td>\n",
              "      <td>0.455004</td>\n",
              "      <td>0.355857</td>\n",
              "      <td>0.305671</td>\n",
              "      <td>0.338472</td>\n",
              "      <td>0.276925</td>\n",
              "      <td>0.263920</td>\n",
              "      <td>0.459155</td>\n",
              "      <td>0.267229</td>\n",
              "      <td>0.343956</td>\n",
              "      <td>0.388815</td>\n",
              "      <td>0.295157</td>\n",
              "      <td>0.423577</td>\n",
              "      <td>0.281266</td>\n",
              "      <td>0.414306</td>\n",
              "      <td>0.175659</td>\n",
              "      <td>0.410035</td>\n",
              "      <td>0.480664</td>\n",
              "      <td>0.233613</td>\n",
              "      <td>0.285722</td>\n",
              "      <td>0.307260</td>\n",
              "      <td>0.405227</td>\n",
              "      <td>0.287513</td>\n",
              "      <td>0.349027</td>\n",
              "      <td>0.317677</td>\n",
              "      <td>0.333295</td>\n",
              "      <td>0.311799</td>\n",
              "      <td>0.361930</td>\n",
              "      <td>0.326270</td>\n",
              "      <td>0.323480</td>\n",
              "      <td>0.361222</td>\n",
              "      <td>0.315299</td>\n",
              "      <td>0.626522</td>\n",
              "      <td>0.589315</td>\n",
              "      <td>0.587901</td>\n",
              "      <td>0.175515</td>\n",
              "      <td>0.182896</td>\n",
              "      <td>0.138807</td>\n",
              "      <td>0.451007</td>\n",
              "      <td>0.406420</td>\n",
              "      <td>0.449094</td>\n",
              "    </tr>\n",
              "  </tbody>\n",
              "</table>\n",
              "<p>6048 rows × 135 columns</p>\n",
              "</div>"
            ],
            "text/plain": [
              "          92AD      92HC     92MCI  ...  spreadAD  spreadMCI  spreadHC\n",
              "2981  0.465076  0.170243  0.364680  ...  0.371286   0.367943  0.390232\n",
              "7095  0.257255  0.288488  0.454257  ...  0.349455   0.377839  0.379472\n",
              "3832  0.286843  0.347635  0.365522  ...  0.352214   0.377788  0.480984\n",
              "3095  0.423306  0.290370  0.286324  ...  0.277021   0.393881  0.245595\n",
              "563   0.262967  0.343935  0.393098  ...  0.374076   0.396514  0.316236\n",
              "...        ...       ...       ...  ...       ...        ...       ...\n",
              "412   0.311611  0.417040  0.271349  ...  0.347877   0.398389  0.321585\n",
              "4875  0.293215  0.206846  0.499939  ...  0.338671   0.317911  0.406330\n",
              "6584  0.513266  0.216987  0.269746  ...  0.439459   0.408839  0.405154\n",
              "3545  0.387126  0.328147  0.284727  ...  0.412430   0.387147  0.241051\n",
              "3235  0.175515  0.235169  0.589315  ...  0.451007   0.406420  0.449094\n",
              "\n",
              "[6048 rows x 135 columns]"
            ]
          },
          "metadata": {},
          "execution_count": 18
        }
      ]
    },
    {
      "cell_type": "code",
      "metadata": {
        "id": "e9OCE2sOgzRQ",
        "colab": {
          "base_uri": "https://localhost:8080/",
          "height": 414
        },
        "outputId": "965cdb4d-55ca-4850-e94d-e94138f46013"
      },
      "source": [
        "ytrain"
      ],
      "execution_count": 19,
      "outputs": [
        {
          "output_type": "execute_result",
          "data": {
            "text/html": [
              "<div>\n",
              "<style scoped>\n",
              "    .dataframe tbody tr th:only-of-type {\n",
              "        vertical-align: middle;\n",
              "    }\n",
              "\n",
              "    .dataframe tbody tr th {\n",
              "        vertical-align: top;\n",
              "    }\n",
              "\n",
              "    .dataframe thead th {\n",
              "        text-align: right;\n",
              "    }\n",
              "</style>\n",
              "<table border=\"1\" class=\"dataframe\">\n",
              "  <thead>\n",
              "    <tr style=\"text-align: right;\">\n",
              "      <th></th>\n",
              "      <th>Actual</th>\n",
              "    </tr>\n",
              "  </thead>\n",
              "  <tbody>\n",
              "    <tr>\n",
              "      <th>2981</th>\n",
              "      <td>1</td>\n",
              "    </tr>\n",
              "    <tr>\n",
              "      <th>7095</th>\n",
              "      <td>0</td>\n",
              "    </tr>\n",
              "    <tr>\n",
              "      <th>3832</th>\n",
              "      <td>0</td>\n",
              "    </tr>\n",
              "    <tr>\n",
              "      <th>3095</th>\n",
              "      <td>1</td>\n",
              "    </tr>\n",
              "    <tr>\n",
              "      <th>563</th>\n",
              "      <td>1</td>\n",
              "    </tr>\n",
              "    <tr>\n",
              "      <th>...</th>\n",
              "      <td>...</td>\n",
              "    </tr>\n",
              "    <tr>\n",
              "      <th>412</th>\n",
              "      <td>0</td>\n",
              "    </tr>\n",
              "    <tr>\n",
              "      <th>4875</th>\n",
              "      <td>1</td>\n",
              "    </tr>\n",
              "    <tr>\n",
              "      <th>6584</th>\n",
              "      <td>0</td>\n",
              "    </tr>\n",
              "    <tr>\n",
              "      <th>3545</th>\n",
              "      <td>0</td>\n",
              "    </tr>\n",
              "    <tr>\n",
              "      <th>3235</th>\n",
              "      <td>0</td>\n",
              "    </tr>\n",
              "  </tbody>\n",
              "</table>\n",
              "<p>6048 rows × 1 columns</p>\n",
              "</div>"
            ],
            "text/plain": [
              "      Actual\n",
              "2981       1\n",
              "7095       0\n",
              "3832       0\n",
              "3095       1\n",
              "563        1\n",
              "...      ...\n",
              "412        0\n",
              "4875       1\n",
              "6584       0\n",
              "3545       0\n",
              "3235       0\n",
              "\n",
              "[6048 rows x 1 columns]"
            ]
          },
          "metadata": {},
          "execution_count": 19
        }
      ]
    },
    {
      "cell_type": "code",
      "metadata": {
        "id": "BpIBQnaGvKQZ",
        "colab": {
          "base_uri": "https://localhost:8080/"
        },
        "outputId": "8535a8af-c162-4300-f621-9c44364932b3"
      },
      "source": [
        "Counter(ytrain['Actual'])"
      ],
      "execution_count": 20,
      "outputs": [
        {
          "output_type": "execute_result",
          "data": {
            "text/plain": [
              "Counter({0: 1903, 1: 2180, 2: 1965})"
            ]
          },
          "metadata": {},
          "execution_count": 20
        }
      ]
    },
    {
      "cell_type": "code",
      "metadata": {
        "id": "U0LUm8uqILLK",
        "colab": {
          "base_uri": "https://localhost:8080/",
          "height": 1000,
          "referenced_widgets": [
            "d2bac85c59744f4cbb139cb97233d984",
            "7ce65a08e9cc435a95dd7fb920662cb8",
            "68e3c4522cd74fc4b4b1b6593299c40a",
            "5a26efe126b248838085da1e6f54b390",
            "9811e248f7494cb7ba89d8950cb47a35",
            "d9b537333c134db6bd0d90839c5fa7d1",
            "f7cacfe5d8f24918b6800ec46f1eec78",
            "94d22e4309e945fb9cf670e7a62906c9",
            "4ca484d451864cc38216e0458d5d29b7",
            "91088efcc4e0462987d35689afc68503",
            "a109be336ede4034a04d1f02d044e7a1"
          ]
        },
        "outputId": "9ac1f8a2-e0a3-4946-f301-9653440dc35a"
      },
      "source": [
        "feature_extractor = DeiTFeatureExtractor.from_pretrained('facebook/deit-base-distilled-patch16-384')\n",
        "\n",
        "device = torch.device('cuda' if torch.cuda.is_available() else 'cpu') \n",
        "if torch.cuda.is_available():\n",
        "    final_model.cuda() \n",
        "\n",
        "EVAL_BATCH = 1\n",
        "eval_loader  = data.DataLoader(test_ds2, batch_size=EVAL_BATCH, shuffle=True, num_workers=1) \n",
        "preds = []\n",
        "actual = []\n",
        "final_preds = []\n",
        "with torch.no_grad():\n",
        "  for step, (x,y) in enumerate(eval_loader): \n",
        "    probs_arr = []\n",
        "\n",
        "    for index, array in enumerate(x):\n",
        "      x[index] = np.squeeze(array)\n",
        "    results_temp = pd.DataFrame()\n",
        "\n",
        "    for slic in range(112-20,112+21):\n",
        "      new_x = x[:,:,:,slic]\n",
        "      new_x = Image.fromarray(np.array(new_x).astype('uint8'), 'RGB')\n",
        "      new_x = torch.tensor(np.stack(feature_extractor(new_x)['pixel_values'], axis=0))\n",
        "      new_x = new_x.to(device)\n",
        "      y = y.to(device).long()\n",
        "      prediction, loss = final_model(new_x, y)\n",
        "      predicted_probs = tf.nn.softmax(prediction.cpu().detach().numpy())\n",
        "\n",
        "      col_name_ad = str(slic) + 'AD'\n",
        "      col_name_hc = str(slic) + 'HC'\n",
        "      col_name_mci = str(slic) + 'MCI'\n",
        "\n",
        "      temp_df = pd.DataFrame([predicted_probs[0]], columns =[col_name_ad, col_name_hc, col_name_mci], dtype = float)\n",
        "      results_temp = pd.concat([results_temp, temp_df], axis = 1)\n",
        "\n",
        "    results_temp['meanAD'] = results_temp.filter(like='AD').mean(axis = 1)\n",
        "    results_temp['meanMCI'] = results_temp.filter(like='MCI').mean(axis = 1)\n",
        "    results_temp['meanHC'] = results_temp.filter(like='HC').mean(axis = 1)\n",
        "\n",
        "    results_temp['maxAD'] = results_temp.filter(like='AD').max(axis = 1)\n",
        "    results_temp['maxMCI'] = results_temp.filter(like='MCI').max(axis = 1)\n",
        "    results_temp['maxHC'] = results_temp.filter(like='HC').max(axis = 1)\n",
        "\n",
        "    results_temp['minAD'] = full_ML_results.filter(like='AD').min(axis = 1)\n",
        "    results_temp['minMCI'] = full_ML_results.filter(like='MCI').min(axis = 1)\n",
        "    results_temp['minHC'] = full_ML_results.filter(like='HC').min(axis = 1)\n",
        "\n",
        "    results_temp['spreadAD'] = results_temp['maxAD'] - results_temp['minAD']\n",
        "    results_temp['spreadMCI'] = results_temp['maxMCI'] - results_temp['minMCI']\n",
        "    results_temp['spreadHC'] = results_temp['maxHC'] - results_temp['minHC']\n",
        "\n",
        "    prediction = tree1.predict(results_temp)[0]\n",
        "    preds.append(prediction)\n",
        "    actual.append(y.item())\n",
        "    print(f'Prediction: {prediction} - Actual target: {inv_mapping[y.item()]}')"
      ],
      "execution_count": 21,
      "outputs": [
        {
          "output_type": "display_data",
          "data": {
            "application/vnd.jupyter.widget-view+json": {
              "model_id": "d2bac85c59744f4cbb139cb97233d984",
              "version_minor": 0,
              "version_major": 2
            },
            "text/plain": [
              "Downloading:   0%|          | 0.00/287 [00:00<?, ?B/s]"
            ]
          },
          "metadata": {}
        },
        {
          "output_type": "stream",
          "name": "stdout",
          "text": [
            "Prediction: 1 - Actual target: HC\n",
            "Prediction: 2 - Actual target: MCI\n",
            "Prediction: 1 - Actual target: HC\n",
            "Prediction: 0 - Actual target: AD\n",
            "Prediction: 0 - Actual target: HC\n",
            "Prediction: 1 - Actual target: HC\n",
            "Prediction: 1 - Actual target: HC\n",
            "Prediction: 1 - Actual target: HC\n",
            "Prediction: 0 - Actual target: MCI\n",
            "Prediction: 0 - Actual target: HC\n",
            "Prediction: 0 - Actual target: MCI\n",
            "Prediction: 1 - Actual target: HC\n",
            "Prediction: 0 - Actual target: MCI\n",
            "Prediction: 2 - Actual target: HC\n",
            "Prediction: 2 - Actual target: MCI\n",
            "Prediction: 2 - Actual target: HC\n",
            "Prediction: 0 - Actual target: HC\n",
            "Prediction: 1 - Actual target: AD\n",
            "Prediction: 1 - Actual target: HC\n",
            "Prediction: 1 - Actual target: HC\n",
            "Prediction: 0 - Actual target: HC\n",
            "Prediction: 2 - Actual target: HC\n",
            "Prediction: 1 - Actual target: HC\n",
            "Prediction: 0 - Actual target: HC\n",
            "Prediction: 1 - Actual target: HC\n",
            "Prediction: 1 - Actual target: HC\n",
            "Prediction: 1 - Actual target: HC\n",
            "Prediction: 1 - Actual target: HC\n",
            "Prediction: 1 - Actual target: HC\n",
            "Prediction: 1 - Actual target: MCI\n",
            "Prediction: 1 - Actual target: HC\n",
            "Prediction: 0 - Actual target: MCI\n",
            "Prediction: 2 - Actual target: MCI\n",
            "Prediction: 2 - Actual target: HC\n",
            "Prediction: 0 - Actual target: HC\n",
            "Prediction: 2 - Actual target: MCI\n",
            "Prediction: 0 - Actual target: HC\n",
            "Prediction: 0 - Actual target: HC\n",
            "Prediction: 1 - Actual target: AD\n",
            "Prediction: 2 - Actual target: MCI\n",
            "Prediction: 2 - Actual target: HC\n",
            "Prediction: 0 - Actual target: HC\n",
            "Prediction: 2 - Actual target: AD\n",
            "Prediction: 2 - Actual target: MCI\n",
            "Prediction: 1 - Actual target: HC\n",
            "Prediction: 0 - Actual target: HC\n",
            "Prediction: 1 - Actual target: HC\n",
            "Prediction: 0 - Actual target: HC\n",
            "Prediction: 2 - Actual target: AD\n",
            "Prediction: 2 - Actual target: HC\n",
            "Prediction: 1 - Actual target: HC\n",
            "Prediction: 1 - Actual target: HC\n",
            "Prediction: 2 - Actual target: MCI\n",
            "Prediction: 0 - Actual target: AD\n",
            "Prediction: 2 - Actual target: HC\n",
            "Prediction: 1 - Actual target: HC\n",
            "Prediction: 2 - Actual target: HC\n",
            "Prediction: 1 - Actual target: HC\n",
            "Prediction: 2 - Actual target: HC\n",
            "Prediction: 2 - Actual target: HC\n",
            "Prediction: 1 - Actual target: HC\n",
            "Prediction: 2 - Actual target: HC\n",
            "Prediction: 2 - Actual target: HC\n",
            "Prediction: 2 - Actual target: MCI\n",
            "Prediction: 0 - Actual target: HC\n",
            "Prediction: 0 - Actual target: HC\n",
            "Prediction: 0 - Actual target: HC\n",
            "Prediction: 1 - Actual target: HC\n",
            "Prediction: 2 - Actual target: HC\n",
            "Prediction: 1 - Actual target: AD\n",
            "Prediction: 0 - Actual target: HC\n",
            "Prediction: 0 - Actual target: HC\n",
            "Prediction: 0 - Actual target: HC\n",
            "Prediction: 1 - Actual target: HC\n",
            "Prediction: 0 - Actual target: HC\n",
            "Prediction: 0 - Actual target: HC\n",
            "Prediction: 2 - Actual target: AD\n",
            "Prediction: 2 - Actual target: HC\n",
            "Prediction: 2 - Actual target: HC\n",
            "Prediction: 0 - Actual target: HC\n",
            "Prediction: 2 - Actual target: AD\n",
            "Prediction: 1 - Actual target: HC\n",
            "Prediction: 1 - Actual target: HC\n",
            "Prediction: 1 - Actual target: HC\n",
            "Prediction: 0 - Actual target: HC\n",
            "Prediction: 1 - Actual target: HC\n",
            "Prediction: 1 - Actual target: HC\n",
            "Prediction: 2 - Actual target: HC\n",
            "Prediction: 1 - Actual target: HC\n",
            "Prediction: 1 - Actual target: HC\n",
            "Prediction: 0 - Actual target: MCI\n",
            "Prediction: 1 - Actual target: HC\n",
            "Prediction: 1 - Actual target: HC\n",
            "Prediction: 1 - Actual target: HC\n",
            "Prediction: 1 - Actual target: HC\n",
            "Prediction: 1 - Actual target: MCI\n",
            "Prediction: 0 - Actual target: HC\n",
            "Prediction: 2 - Actual target: HC\n",
            "Prediction: 1 - Actual target: MCI\n",
            "Prediction: 2 - Actual target: HC\n",
            "Prediction: 2 - Actual target: HC\n",
            "Prediction: 1 - Actual target: HC\n",
            "Prediction: 0 - Actual target: HC\n",
            "Prediction: 2 - Actual target: MCI\n",
            "Prediction: 1 - Actual target: HC\n",
            "Prediction: 0 - Actual target: HC\n",
            "Prediction: 0 - Actual target: HC\n",
            "Prediction: 2 - Actual target: HC\n",
            "Prediction: 1 - Actual target: HC\n",
            "Prediction: 2 - Actual target: MCI\n",
            "Prediction: 2 - Actual target: HC\n",
            "Prediction: 2 - Actual target: HC\n",
            "Prediction: 0 - Actual target: HC\n",
            "Prediction: 2 - Actual target: MCI\n",
            "Prediction: 0 - Actual target: HC\n",
            "Prediction: 1 - Actual target: HC\n",
            "Prediction: 1 - Actual target: MCI\n",
            "Prediction: 0 - Actual target: HC\n",
            "Prediction: 0 - Actual target: HC\n",
            "Prediction: 2 - Actual target: HC\n",
            "Prediction: 2 - Actual target: AD\n",
            "Prediction: 0 - Actual target: HC\n",
            "Prediction: 0 - Actual target: HC\n",
            "Prediction: 1 - Actual target: HC\n",
            "Prediction: 0 - Actual target: HC\n",
            "Prediction: 0 - Actual target: HC\n",
            "Prediction: 0 - Actual target: HC\n",
            "Prediction: 1 - Actual target: MCI\n",
            "Prediction: 1 - Actual target: HC\n",
            "Prediction: 1 - Actual target: HC\n",
            "Prediction: 1 - Actual target: HC\n",
            "Prediction: 1 - Actual target: AD\n",
            "Prediction: 1 - Actual target: MCI\n",
            "Prediction: 1 - Actual target: HC\n",
            "Prediction: 1 - Actual target: MCI\n",
            "Prediction: 0 - Actual target: HC\n",
            "Prediction: 0 - Actual target: HC\n",
            "Prediction: 0 - Actual target: HC\n",
            "Prediction: 1 - Actual target: MCI\n",
            "Prediction: 2 - Actual target: AD\n",
            "Prediction: 1 - Actual target: HC\n",
            "Prediction: 1 - Actual target: HC\n",
            "Prediction: 2 - Actual target: HC\n",
            "Prediction: 1 - Actual target: HC\n",
            "Prediction: 0 - Actual target: HC\n",
            "Prediction: 1 - Actual target: HC\n",
            "Prediction: 1 - Actual target: HC\n",
            "Prediction: 1 - Actual target: AD\n",
            "Prediction: 0 - Actual target: AD\n",
            "Prediction: 0 - Actual target: HC\n",
            "Prediction: 0 - Actual target: HC\n",
            "Prediction: 1 - Actual target: HC\n",
            "Prediction: 1 - Actual target: MCI\n",
            "Prediction: 1 - Actual target: HC\n",
            "Prediction: 1 - Actual target: HC\n",
            "Prediction: 1 - Actual target: AD\n",
            "Prediction: 2 - Actual target: HC\n",
            "Prediction: 0 - Actual target: MCI\n",
            "Prediction: 1 - Actual target: HC\n",
            "Prediction: 1 - Actual target: MCI\n",
            "Prediction: 2 - Actual target: HC\n",
            "Prediction: 1 - Actual target: HC\n",
            "Prediction: 1 - Actual target: AD\n",
            "Prediction: 1 - Actual target: HC\n",
            "Prediction: 1 - Actual target: HC\n",
            "Prediction: 1 - Actual target: HC\n",
            "Prediction: 1 - Actual target: HC\n",
            "Prediction: 1 - Actual target: MCI\n",
            "Prediction: 0 - Actual target: HC\n",
            "Prediction: 0 - Actual target: HC\n",
            "Prediction: 0 - Actual target: MCI\n",
            "Prediction: 1 - Actual target: MCI\n",
            "Prediction: 2 - Actual target: MCI\n",
            "Prediction: 1 - Actual target: HC\n",
            "Prediction: 0 - Actual target: HC\n",
            "Prediction: 0 - Actual target: AD\n",
            "Prediction: 1 - Actual target: MCI\n",
            "Prediction: 2 - Actual target: HC\n",
            "Prediction: 2 - Actual target: HC\n",
            "Prediction: 1 - Actual target: MCI\n",
            "Prediction: 0 - Actual target: MCI\n",
            "Prediction: 1 - Actual target: HC\n",
            "Prediction: 0 - Actual target: MCI\n",
            "Prediction: 0 - Actual target: MCI\n",
            "Prediction: 2 - Actual target: HC\n",
            "Prediction: 0 - Actual target: MCI\n",
            "Prediction: 0 - Actual target: HC\n",
            "Prediction: 2 - Actual target: HC\n",
            "Prediction: 0 - Actual target: HC\n",
            "Prediction: 0 - Actual target: HC\n",
            "Prediction: 2 - Actual target: HC\n",
            "Prediction: 0 - Actual target: HC\n",
            "Prediction: 1 - Actual target: HC\n",
            "Prediction: 0 - Actual target: AD\n",
            "Prediction: 2 - Actual target: HC\n",
            "Prediction: 2 - Actual target: HC\n",
            "Prediction: 1 - Actual target: HC\n",
            "Prediction: 1 - Actual target: HC\n",
            "Prediction: 1 - Actual target: MCI\n",
            "Prediction: 0 - Actual target: MCI\n",
            "Prediction: 1 - Actual target: HC\n",
            "Prediction: 1 - Actual target: MCI\n",
            "Prediction: 1 - Actual target: HC\n",
            "Prediction: 1 - Actual target: HC\n",
            "Prediction: 1 - Actual target: HC\n",
            "Prediction: 2 - Actual target: HC\n",
            "Prediction: 1 - Actual target: HC\n",
            "Prediction: 2 - Actual target: HC\n",
            "Prediction: 1 - Actual target: HC\n",
            "Prediction: 1 - Actual target: HC\n",
            "Prediction: 0 - Actual target: HC\n",
            "Prediction: 0 - Actual target: HC\n",
            "Prediction: 0 - Actual target: HC\n",
            "Prediction: 1 - Actual target: HC\n",
            "Prediction: 0 - Actual target: HC\n",
            "Prediction: 0 - Actual target: MCI\n",
            "Prediction: 1 - Actual target: MCI\n",
            "Prediction: 0 - Actual target: HC\n",
            "Prediction: 2 - Actual target: HC\n",
            "Prediction: 1 - Actual target: MCI\n",
            "Prediction: 1 - Actual target: MCI\n",
            "Prediction: 1 - Actual target: HC\n",
            "Prediction: 0 - Actual target: HC\n",
            "Prediction: 1 - Actual target: HC\n",
            "Prediction: 0 - Actual target: AD\n",
            "Prediction: 1 - Actual target: MCI\n",
            "Prediction: 0 - Actual target: MCI\n",
            "Prediction: 1 - Actual target: HC\n",
            "Prediction: 1 - Actual target: HC\n",
            "Prediction: 0 - Actual target: AD\n",
            "Prediction: 2 - Actual target: HC\n",
            "Prediction: 0 - Actual target: AD\n",
            "Prediction: 1 - Actual target: HC\n",
            "Prediction: 2 - Actual target: HC\n",
            "Prediction: 1 - Actual target: AD\n",
            "Prediction: 2 - Actual target: HC\n",
            "Prediction: 2 - Actual target: HC\n",
            "Prediction: 1 - Actual target: HC\n",
            "Prediction: 0 - Actual target: HC\n"
          ]
        }
      ]
    },
    {
      "cell_type": "code",
      "metadata": {
        "id": "fDD1jnhaLHGZ",
        "colab": {
          "base_uri": "https://localhost:8080/",
          "height": 295
        },
        "outputId": "55212e20-f423-482c-fd28-75a1e3b05f49"
      },
      "source": [
        "disp = ConfusionMatrixDisplay(confusion_matrix(actual, preds), display_labels = ['AD', 'HC', 'MCI'])\n",
        "disp.plot()"
      ],
      "execution_count": 22,
      "outputs": [
        {
          "output_type": "execute_result",
          "data": {
            "text/plain": [
              "<sklearn.metrics._plot.confusion_matrix.ConfusionMatrixDisplay at 0x7f0dc0520b90>"
            ]
          },
          "metadata": {},
          "execution_count": 22
        },
        {
          "output_type": "display_data",
          "data": {
            "image/png": "[encoded data removed]",
            "text/plain": [
              "<Figure size 432x288 with 2 Axes>"
            ]
          },
          "metadata": {
            "needs_background": "light"
          }
        }
      ]
    },
    {
      "cell_type": "code",
      "metadata": {
        "id": "_-ahj9XjLJ5s",
        "colab": {
          "base_uri": "https://localhost:8080/"
        },
        "outputId": "3b28e4d4-3fb3-4807-bd9b-8d6fb3fcba4a"
      },
      "source": [
        "print(classification_report(actual, preds))"
      ],
      "execution_count": 23,
      "outputs": [
        {
          "output_type": "stream",
          "name": "stdout",
          "text": [
            "              precision    recall  f1-score   support\n",
            "\n",
            "           0       0.11      0.36      0.16        22\n",
            "           1       0.73      0.45      0.56       171\n",
            "           2       0.21      0.26      0.23        46\n",
            "\n",
            "    accuracy                           0.41       239\n",
            "   macro avg       0.35      0.36      0.32       239\n",
            "weighted avg       0.57      0.41      0.46       239\n",
            "\n"
          ]
        }
      ]
    },
    {
      "cell_type": "code",
      "metadata": {
        "id": "lvP5nzaCVLkO",
        "colab": {
          "base_uri": "https://localhost:8080/"
        },
        "outputId": "d43ca36e-cd30-4928-f416-df4e276ec99b"
      },
      "source": [
        "from sklearn.metrics import cohen_kappa_score\n",
        "cohen_kappa_score(actual, preds)"
      ],
      "execution_count": 24,
      "outputs": [
        {
          "output_type": "execute_result",
          "data": {
            "text/plain": [
              "0.025498191006719018"
            ]
          },
          "metadata": {},
          "execution_count": 24
        }
      ]
    },
    {
      "cell_type": "code",
      "metadata": {
        "id": "ac2LqT9_v3nQ",
        "colab": {
          "base_uri": "https://localhost:8080/"
        },
        "outputId": "3383165b-0581-4237-e33a-bcca76a08f8c"
      },
      "source": [
        "from sklearn.metrics import accuracy_score\n",
        "accuracy_score(actual, preds)"
      ],
      "execution_count": 29,
      "outputs": [
        {
          "output_type": "execute_result",
          "data": {
            "text/plain": [
              "0.40585774058577406"
            ]
          },
          "metadata": {},
          "execution_count": 29
        }
      ]
    },
    {
      "cell_type": "code",
      "metadata": {
        "id": "FRDAtAfXEUez"
      },
      "source": [
        ""
      ],
      "execution_count": null,
      "outputs": []
    }
  ]
}