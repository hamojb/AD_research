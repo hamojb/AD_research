{
  "nbformat": 4,
  "nbformat_minor": 0,
  "metadata": {
    "colab": {
      "name": "colab_playaround.ipynb",
      "provenance": [],
      "collapsed_sections": [],
      "mount_file_id": "17oUvrDAz5QQ-i8QrlBJVujQ47F0j8vZo",
      "authorship_tag": "ABX9TyMGKk1VtaRWHsTZBxbsNk2A",
      "include_colab_link": true
    },
    "kernelspec": {
      "name": "python3",
      "display_name": "Python 3"
    },
    "language_info": {
      "name": "python"
    },
    "accelerator": "GPU"
  },
  "cells": [
    {
      "cell_type": "markdown",
      "metadata": {
        "id": "view-in-github",
        "colab_type": "text"
      },
      "source": [
        "<a href=\"https://colab.research.google.com/github/hamojb/AD_research/blob/main/colab_playaround.ipynb\" target=\"_parent\"><img src=\"https://colab.research.google.com/assets/colab-badge.svg\" alt=\"Open In Colab\"/></a>"
      ]
    },
    {
      "cell_type": "code",
      "metadata": {
        "id": "sSMWh5bTimA-",
        "colab": {
          "base_uri": "https://localhost:8080/"
        },
        "outputId": "53b0f1f1-18fe-45db-8054-1e34537eda46"
      },
      "source": [
        "import os\n",
        "import numpy as np\n",
        "import pandas as pd\n",
        "import matplotlib.pyplot as plt \n",
        "from nibabel.testing import data_path\n",
        "import tensorflow as tf\n",
        "import nibabel as nib\n",
        "import os, psutil\n",
        "process = psutil.Process(os.getpid())\n",
        "print(process.memory_info().rss)"
      ],
      "execution_count": 1,
      "outputs": [
        {
          "output_type": "stream",
          "text": [
            "383107072\n"
          ],
          "name": "stdout"
        }
      ]
    },
    {
      "cell_type": "code",
      "metadata": {
        "id": "kymLR49XDffI",
        "colab": {
          "base_uri": "https://localhost:8080/",
          "height": 35
        },
        "outputId": "b1610380-c146-4322-bb7d-39307fd7faa7"
      },
      "source": [
        "tf.test.gpu_device_name()"
      ],
      "execution_count": 2,
      "outputs": [
        {
          "output_type": "execute_result",
          "data": {
            "application/vnd.google.colaboratory.intrinsic+json": {
              "type": "string"
            },
            "text/plain": [
              "'/device:GPU:0'"
            ]
          },
          "metadata": {
            "tags": []
          },
          "execution_count": 2
        }
      ]
    },
    {
      "cell_type": "code",
      "metadata": {
        "colab": {
          "base_uri": "https://localhost:8080/"
        },
        "id": "rJP9-nfyb2mw",
        "outputId": "d28ae189-300a-4a6a-dfbd-c4d69c49a114"
      },
      "source": [
        "from tensorflow.python.client import device_lib\n",
        "device_lib.list_local_devices()"
      ],
      "execution_count": 3,
      "outputs": [
        {
          "output_type": "execute_result",
          "data": {
            "text/plain": [
              "[name: \"/device:CPU:0\"\n",
              " device_type: \"CPU\"\n",
              " memory_limit: 268435456\n",
              " locality {\n",
              " }\n",
              " incarnation: 2719928407533008119, name: \"/device:GPU:0\"\n",
              " device_type: \"GPU\"\n",
              " memory_limit: 14509932544\n",
              " locality {\n",
              "   bus_id: 1\n",
              "   links {\n",
              "   }\n",
              " }\n",
              " incarnation: 8081766861026454640\n",
              " physical_device_desc: \"device: 0, name: Tesla T4, pci bus id: 0000:00:04.0, compute capability: 7.5\"]"
            ]
          },
          "metadata": {
            "tags": []
          },
          "execution_count": 3
        }
      ]
    },
    {
      "cell_type": "markdown",
      "metadata": {
        "id": "lvC1Wkl_i06t"
      },
      "source": [
        "# Define Helper Functions"
      ]
    },
    {
      "cell_type": "code",
      "metadata": {
        "id": "7p5HvlDESIdH"
      },
      "source": [
        "def show_slices(slices, col = None):\n",
        "  \"\"\" Function to display row of image slices \"\"\"\n",
        "  fig, axes = plt.subplots(1, len(slices))\n",
        "  for i, slice in enumerate(slices):\n",
        "      axes[i].imshow(slice.T, cmap=col, origin=\"lower\")\n",
        "  return\n",
        "\n",
        "def read_data(data_path: str): \n",
        "  \"\"\" Function to read in data of each brain scan \"\"\"\n",
        "  temp_path = os.path.join(data_path)\n",
        "  temp_img = nib.load(temp_path)\n",
        "  temp_data = temp_img.get_fdata()\n",
        "  return temp_data\n",
        "\n",
        "\n",
        "\n",
        "def produce_image(data_path: str): \n",
        "  \"\"\" Function to read in data of each brain scan \"\"\"\n",
        "  temp_path = os.path.join(data_path)\n",
        "  temp_img = nib.load(temp_path)\n",
        "  return temp_img\n",
        "\n",
        "# def populate_images(oasis_dir):#, df):\n",
        "#   \"\"\" Function to populate data \"\"\" \n",
        "#   data = []\n",
        "#   images = []\n",
        "#   filenames = []\n",
        "#   for filename in os.listdir(oasis_dir):\n",
        "#     print(filename)\n",
        "#     # if file_str in df\n",
        "#       # new_data, img = read_data(oasis_dir + filename)\n",
        "#       # data.append(new_data)\n",
        "#       # images.append(img)\n",
        "#   return data, images, filenames\n",
        "\n",
        "def populate_images(oasis_dir, train_val_test):\n",
        "  \"\"\" Function to populate data \"\"\" \n",
        "  ret_df = pd.DataFrame()\n",
        "  count = 0 \n",
        "  for filename in os.listdir(oasis_dir):\n",
        "    new_str = filename.split(\".\")[0].split(\"_\")[0]\n",
        "    if new_str in train_val_test:\n",
        "      print(new_str)\n",
        "      new_data = read_data(oasis_dir + filename)\n",
        "      ret_df = ret_df.append([new_data,filename.split(\".\")[0]])\n",
        "      count += 1\n",
        "      process = psutil.Process(os.getpid())\n",
        "      print(process.memory_info().rss)  \n",
        "      print(count)\n",
        "    else: \n",
        "      continue\n",
        "    \n",
        "  return ret_df\n",
        "\n",
        "def match_data(scan_data, diagnosis_data): \n",
        "  empty_df = pd.DataFrame()\n",
        "  scan_patients = list(set(scan_data.Subject.values))\n",
        "  for patient in scan_patients:\n",
        "    temp_scans = scan_data[scan_data['Subject'] == patient]\n",
        "    temp_scans = temp_scans.sort_values('ID')\n",
        "    temp_diag = diagnosis_data[diagnosis_data['Subject'] == patient]\n",
        "    temp_diag = temp_diag.sort_values('ID')\n",
        "    test = pd.merge_asof(temp_scans, temp_diag, on=\"ID\", allow_exact_matches=True, direction = \"forward\")\n",
        "    empty_df = empty_df.append(test)\n",
        "  empty_df = empty_df.drop(columns = ['Inserted_x', 'Inserted_y', 'Subject_y', 'ageAtEntry'])\n",
        "  empty_df = empty_df.rename(columns = {\"Subject_x\":\"Subject\",\"FS_FSDATA ID\":\"MRI_ID\"})\n",
        "  empty_df = empty_df.reset_index().drop(columns = [\"index\"])\n",
        "  empty_df = empty_df.dropna()\n",
        "  return empty_df"
      ],
      "execution_count": 4,
      "outputs": []
    },
    {
      "cell_type": "markdown",
      "metadata": {
        "id": "rwPrxUngtUSO"
      },
      "source": [
        "Quick demonstation on how to read the data in using the `nibabel` package"
      ]
    },
    {
      "cell_type": "code",
      "metadata": {
        "id": "PxwFfu6jooVC"
      },
      "source": [
        "# path = os.path.join(\"/content/drive/MyDrive/oasis_original/OAS30001_Freesurfer53_d0129.mgz.nii.gz\")\n",
        "# img = nib.load(path)\n",
        "# data = img.get_fdata()"
      ],
      "execution_count": 5,
      "outputs": []
    },
    {
      "cell_type": "code",
      "metadata": {
        "id": "FanObE-3RRKw"
      },
      "source": [
        "# slice_0 = data[128, :, :]\n",
        "# slice_1 = data[:, 128, :]\n",
        "# slice_2 = data[:, :, 128]\n",
        "# show_slices([slice_0, slice_1, slice_2], \"gray\")"
      ],
      "execution_count": 6,
      "outputs": []
    },
    {
      "cell_type": "markdown",
      "metadata": {
        "id": "ww0x14fpi9Ei"
      },
      "source": [
        "Define functions to read all data in from `oasis_originals`. \n",
        "\n",
        "# Read data and store in variable. "
      ]
    },
    {
      "cell_type": "code",
      "metadata": {
        "id": "8WbdK7WNzTgs"
      },
      "source": [
        ""
      ],
      "execution_count": 6,
      "outputs": []
    },
    {
      "cell_type": "code",
      "metadata": {
        "id": "GPb_w0ViSjuM"
      },
      "source": [
        ""
      ],
      "execution_count": 6,
      "outputs": []
    },
    {
      "cell_type": "code",
      "metadata": {
        "id": "04J0X9hk6cPY"
      },
      "source": [
        "clinical_data = pd.read_csv(\"/content/drive/MyDrive/extra_data/clinical_data.csv\")\n",
        "clinical_data['ID'] = clinical_data['ADRC_ADRCCLINICALDATA ID'].str.split('_ClinicalData_', 1, expand=True)[1]\n",
        "clinical_data = clinical_data.drop(columns = ['ADRC_ADRCCLINICALDATA ID', 'Date', 'Subject.1', 'id'])\n",
        "clinical_data['Inserted'] = pd.to_datetime(clinical_data['Inserted'])\n",
        "clinical_data['ID'] = clinical_data['ID'].str.extract('(\\d+)', expand=False).astype(int)"
      ],
      "execution_count": 7,
      "outputs": []
    },
    {
      "cell_type": "code",
      "metadata": {
        "id": "g16kf9FQMPQO"
      },
      "source": [
        "scan_info = pd.read_csv(\"/content/drive/MyDrive/extra_data/freesurfers_mri_info.csv\")\n",
        "scan_info['ID'] = scan_info['FS_FSDATA ID'].str.split('_Freesurfer', 1, expand = True)[1]\n",
        "scan_info = scan_info.drop(columns = ['Session', 'FS Date'])\n",
        "scan_info.ID = scan_info.ID.str[3:]\n",
        "scan_info['Inserted'] = pd.to_datetime(scan_info['Inserted'])\n",
        "scan_info['ID'] = scan_info['ID'].str.extract('(\\d+)', expand=False).astype(int)"
      ],
      "execution_count": 8,
      "outputs": []
    },
    {
      "cell_type": "code",
      "metadata": {
        "colab": {
          "base_uri": "https://localhost:8080/",
          "height": 406
        },
        "id": "AhNiWE0gJn0K",
        "outputId": "9efb503b-b2d2-47d8-df17-32e09e153f23"
      },
      "source": [
        "scan_and_diag = match_data(scan_info, clinical_data)\n",
        "scans_sorted = scan_and_diag.sort_values([\"Subject\", \"ID\"]).reset_index().drop(columns = [\"index\", \"ID\"])\n",
        "scans_sorted"
      ],
      "execution_count": 9,
      "outputs": [
        {
          "output_type": "execute_result",
          "data": {
            "text/html": [
              "<div>\n",
              "<style scoped>\n",
              "    .dataframe tbody tr th:only-of-type {\n",
              "        vertical-align: middle;\n",
              "    }\n",
              "\n",
              "    .dataframe tbody tr th {\n",
              "        vertical-align: top;\n",
              "    }\n",
              "\n",
              "    .dataframe thead th {\n",
              "        text-align: right;\n",
              "    }\n",
              "</style>\n",
              "<table border=\"1\" class=\"dataframe\">\n",
              "  <thead>\n",
              "    <tr style=\"text-align: right;\">\n",
              "      <th></th>\n",
              "      <th>MRI_ID</th>\n",
              "      <th>Subject</th>\n",
              "      <th>cdr</th>\n",
              "    </tr>\n",
              "  </thead>\n",
              "  <tbody>\n",
              "    <tr>\n",
              "      <th>0</th>\n",
              "      <td>OAS30001_Freesurfer53_d0129</td>\n",
              "      <td>OAS30001</td>\n",
              "      <td>0.0</td>\n",
              "    </tr>\n",
              "    <tr>\n",
              "      <th>1</th>\n",
              "      <td>OAS30001_Freesurfer53_d0757</td>\n",
              "      <td>OAS30001</td>\n",
              "      <td>0.0</td>\n",
              "    </tr>\n",
              "    <tr>\n",
              "      <th>2</th>\n",
              "      <td>OAS30001_Freesurfer53_d2430</td>\n",
              "      <td>OAS30001</td>\n",
              "      <td>0.0</td>\n",
              "    </tr>\n",
              "    <tr>\n",
              "      <th>3</th>\n",
              "      <td>OAS30001_Freesurfer53_d3132</td>\n",
              "      <td>OAS30001</td>\n",
              "      <td>0.0</td>\n",
              "    </tr>\n",
              "    <tr>\n",
              "      <th>4</th>\n",
              "      <td>OAS30002_Freesurfer53_d0653</td>\n",
              "      <td>OAS30002</td>\n",
              "      <td>0.0</td>\n",
              "    </tr>\n",
              "    <tr>\n",
              "      <th>...</th>\n",
              "      <td>...</td>\n",
              "      <td>...</td>\n",
              "      <td>...</td>\n",
              "    </tr>\n",
              "    <tr>\n",
              "      <th>1824</th>\n",
              "      <td>OAS31168_Freesurfer53_d2526</td>\n",
              "      <td>OAS31168</td>\n",
              "      <td>0.0</td>\n",
              "    </tr>\n",
              "    <tr>\n",
              "      <th>1825</th>\n",
              "      <td>OAS31169_Freesurfer53_d0620</td>\n",
              "      <td>OAS31169</td>\n",
              "      <td>0.5</td>\n",
              "    </tr>\n",
              "    <tr>\n",
              "      <th>1826</th>\n",
              "      <td>OAS31170_Freesurfer53_d2410</td>\n",
              "      <td>OAS31170</td>\n",
              "      <td>1.0</td>\n",
              "    </tr>\n",
              "    <tr>\n",
              "      <th>1827</th>\n",
              "      <td>OAS31172_Freesurfer53_d0407</td>\n",
              "      <td>OAS31172</td>\n",
              "      <td>0.0</td>\n",
              "    </tr>\n",
              "    <tr>\n",
              "      <th>1828</th>\n",
              "      <td>OAS31172_Freesurfer53_d1717</td>\n",
              "      <td>OAS31172</td>\n",
              "      <td>0.0</td>\n",
              "    </tr>\n",
              "  </tbody>\n",
              "</table>\n",
              "<p>1829 rows × 3 columns</p>\n",
              "</div>"
            ],
            "text/plain": [
              "                           MRI_ID   Subject  cdr\n",
              "0     OAS30001_Freesurfer53_d0129  OAS30001  0.0\n",
              "1     OAS30001_Freesurfer53_d0757  OAS30001  0.0\n",
              "2     OAS30001_Freesurfer53_d2430  OAS30001  0.0\n",
              "3     OAS30001_Freesurfer53_d3132  OAS30001  0.0\n",
              "4     OAS30002_Freesurfer53_d0653  OAS30002  0.0\n",
              "...                           ...       ...  ...\n",
              "1824  OAS31168_Freesurfer53_d2526  OAS31168  0.0\n",
              "1825  OAS31169_Freesurfer53_d0620  OAS31169  0.5\n",
              "1826  OAS31170_Freesurfer53_d2410  OAS31170  1.0\n",
              "1827  OAS31172_Freesurfer53_d0407  OAS31172  0.0\n",
              "1828  OAS31172_Freesurfer53_d1717  OAS31172  0.0\n",
              "\n",
              "[1829 rows x 3 columns]"
            ]
          },
          "metadata": {
            "tags": []
          },
          "execution_count": 9
        }
      ]
    },
    {
      "cell_type": "code",
      "metadata": {
        "colab": {
          "base_uri": "https://localhost:8080/"
        },
        "id": "fiDeHCT2qD4-",
        "outputId": "3fe2a1da-ad25-49c9-a912-b0d173d95b2f"
      },
      "source": [
        "from collections import Counter\n",
        "Counter(scan_and_diag['cdr'])"
      ],
      "execution_count": 10,
      "outputs": [
        {
          "output_type": "execute_result",
          "data": {
            "text/plain": [
              "Counter({0.0: 1460, 0.5: 267, 1.0: 82, 2.0: 17, 3.0: 3})"
            ]
          },
          "metadata": {
            "tags": []
          },
          "execution_count": 10
        }
      ]
    },
    {
      "cell_type": "markdown",
      "metadata": {
        "id": "BEK5oq_HMAiy"
      },
      "source": [
        "We will now check to make sure that in our directory of images we have the correct MRI_IDs to link to the existing data. "
      ]
    },
    {
      "cell_type": "code",
      "metadata": {
        "id": "lEhIspXDzBOT",
        "colab": {
          "base_uri": "https://localhost:8080/"
        },
        "outputId": "49ad34f6-3735-42ea-eaa1-18934527738b"
      },
      "source": [
        "num = 0\n",
        "for i in os.listdir(r'/content/drive/MyDrive/oasis_original/'):\n",
        "  if i.split(\".\")[0] in scans_sorted.MRI_ID.values: \n",
        "    num += 1\n",
        "print(num)"
      ],
      "execution_count": 11,
      "outputs": [
        {
          "output_type": "stream",
          "text": [
            "1824\n"
          ],
          "name": "stdout"
        }
      ]
    },
    {
      "cell_type": "code",
      "metadata": {
        "colab": {
          "base_uri": "https://localhost:8080/"
        },
        "id": "bxZPP5gx-CPM",
        "outputId": "4a568bf8-a53f-4c18-90e0-dffa3f33ac05"
      },
      "source": [
        "subj_ids = list(set(scans_sorted[\"Subject\"]))\n",
        "inv_test = int(0.15*len(subj_ids))\n",
        "print(inv_test)"
      ],
      "execution_count": 12,
      "outputs": [
        {
          "output_type": "stream",
          "text": [
            "140\n"
          ],
          "name": "stdout"
        }
      ]
    },
    {
      "cell_type": "code",
      "metadata": {
        "id": "tuxeOk6i-CR6"
      },
      "source": [
        "from random import shuffle\n",
        "shuffle(subj_ids)\n",
        "train_val = subj_ids[inv_test:]\n",
        "train = train_val[inv_test:]\n",
        "val = train_val[:inv_test]\n",
        "test = subj_ids[:inv_test]"
      ],
      "execution_count": 13,
      "outputs": []
    },
    {
      "cell_type": "code",
      "metadata": {
        "id": "4OfYt_XO-CUk"
      },
      "source": [
        "# len(train)/8"
      ],
      "execution_count": 14,
      "outputs": []
    },
    {
      "cell_type": "code",
      "metadata": {
        "colab": {
          "base_uri": "https://localhost:8080/"
        },
        "id": "1NiF0iF3-CXt",
        "outputId": "f3604ba3-5036-45fa-9117-f9ac8835ead2"
      },
      "source": [
        "len(val)"
      ],
      "execution_count": 15,
      "outputs": [
        {
          "output_type": "execute_result",
          "data": {
            "text/plain": [
              "140"
            ]
          },
          "metadata": {
            "tags": []
          },
          "execution_count": 15
        }
      ]
    },
    {
      "cell_type": "code",
      "metadata": {
        "colab": {
          "base_uri": "https://localhost:8080/"
        },
        "id": "sfjK7_eG-Cap",
        "outputId": "b94a6458-8cae-4125-8461-792422585f46"
      },
      "source": [
        "len(test)"
      ],
      "execution_count": 16,
      "outputs": [
        {
          "output_type": "execute_result",
          "data": {
            "text/plain": [
              "140"
            ]
          },
          "metadata": {
            "tags": []
          },
          "execution_count": 16
        }
      ]
    },
    {
      "cell_type": "code",
      "metadata": {
        "colab": {
          "base_uri": "https://localhost:8080/"
        },
        "id": "FU2G9iw_-CeC",
        "outputId": "bc81f474-a25e-4d8b-c989-17c3140117b8"
      },
      "source": [
        "overlaps = set(train).intersection(val, test)\n",
        "if len(overlaps) == 0: \n",
        "  print(\"CLEAR: No overlaps\")\n",
        "else: \n",
        "  print(\"ERROR: Overlaps exist\")\n",
        "  print(overlaps)"
      ],
      "execution_count": 17,
      "outputs": [
        {
          "output_type": "stream",
          "text": [
            "CLEAR: No overlaps\n"
          ],
          "name": "stdout"
        }
      ]
    },
    {
      "cell_type": "code",
      "metadata": {
        "colab": {
          "base_uri": "https://localhost:8080/"
        },
        "id": "ExVT0khm-ChD",
        "outputId": "e9ecb3e9-b4e4-4da0-da3f-ef14fd34f41a"
      },
      "source": [
        "len(val)/2"
      ],
      "execution_count": 18,
      "outputs": [
        {
          "output_type": "execute_result",
          "data": {
            "text/plain": [
              "70.0"
            ]
          },
          "metadata": {
            "tags": []
          },
          "execution_count": 18
        }
      ]
    },
    {
      "cell_type": "code",
      "metadata": {
        "id": "uKndaQdzSD3m"
      },
      "source": [
        "scans_sorted[scans_sorted.Subject in train]"
      ],
      "execution_count": null,
      "outputs": []
    },
    {
      "cell_type": "code",
      "metadata": {
        "id": "yuPQ0Fx6SD6R"
      },
      "source": [
        "scans_sorted[scans_sorted.Subject in val]"
      ],
      "execution_count": null,
      "outputs": []
    },
    {
      "cell_type": "code",
      "metadata": {
        "id": "Wjyc58OQSD9i"
      },
      "source": [
        "scans_sorted[scans_sorted.Subject in test]"
      ],
      "execution_count": null,
      "outputs": []
    },
    {
      "cell_type": "code",
      "metadata": {
        "id": "i14SU7BpSD_u"
      },
      "source": [
        ""
      ],
      "execution_count": null,
      "outputs": []
    },
    {
      "cell_type": "code",
      "metadata": {
        "id": "obyZDhqeSECv"
      },
      "source": [
        ""
      ],
      "execution_count": null,
      "outputs": []
    },
    {
      "cell_type": "code",
      "metadata": {
        "id": "l1FZz0QkSEGV"
      },
      "source": [
        ""
      ],
      "execution_count": null,
      "outputs": []
    },
    {
      "cell_type": "markdown",
      "metadata": {
        "id": "mD8Sh1zQMdyU"
      },
      "source": [
        "Good enough... for now "
      ]
    },
    {
      "cell_type": "code",
      "metadata": {
        "id": "KxukKWD7Mk_z"
      },
      "source": [
        "val1 = val[:int(len(val)/2)]\n",
        "val2 = val[int(len(val)/2):]"
      ],
      "execution_count": 19,
      "outputs": []
    },
    {
      "cell_type": "code",
      "metadata": {
        "colab": {
          "base_uri": "https://localhost:8080/"
        },
        "id": "OlTEtj5MQorA",
        "outputId": "00496c44-c6f8-402f-a3fa-4ccbe103f7ae"
      },
      "source": [
        "val1"
      ],
      "execution_count": 20,
      "outputs": [
        {
          "output_type": "execute_result",
          "data": {
            "text/plain": [
              "['OAS30316',\n",
              " 'OAS30270',\n",
              " 'OAS30491',\n",
              " 'OAS30184',\n",
              " 'OAS30484',\n",
              " 'OAS30927',\n",
              " 'OAS30739',\n",
              " 'OAS30218',\n",
              " 'OAS30652',\n",
              " 'OAS30728',\n",
              " 'OAS30688',\n",
              " 'OAS30200',\n",
              " 'OAS30880',\n",
              " 'OAS30027',\n",
              " 'OAS31007',\n",
              " 'OAS30083',\n",
              " 'OAS30966',\n",
              " 'OAS30724',\n",
              " 'OAS30667',\n",
              " 'OAS30790',\n",
              " 'OAS30278',\n",
              " 'OAS30009',\n",
              " 'OAS30293',\n",
              " 'OAS30943',\n",
              " 'OAS30694',\n",
              " 'OAS30947',\n",
              " 'OAS30268',\n",
              " 'OAS30474',\n",
              " 'OAS30692',\n",
              " 'OAS30356',\n",
              " 'OAS31003',\n",
              " 'OAS30754',\n",
              " 'OAS30088',\n",
              " 'OAS30456',\n",
              " 'OAS30410',\n",
              " 'OAS30151',\n",
              " 'OAS31000',\n",
              " 'OAS30636',\n",
              " 'OAS30736',\n",
              " 'OAS30878',\n",
              " 'OAS30170',\n",
              " 'OAS30925',\n",
              " 'OAS30524',\n",
              " 'OAS30451',\n",
              " 'OAS30664',\n",
              " 'OAS30900',\n",
              " 'OAS30352',\n",
              " 'OAS30212',\n",
              " 'OAS30500',\n",
              " 'OAS31090',\n",
              " 'OAS30702',\n",
              " 'OAS30153',\n",
              " 'OAS30084',\n",
              " 'OAS30473',\n",
              " 'OAS30375',\n",
              " 'OAS30394',\n",
              " 'OAS31022',\n",
              " 'OAS30929',\n",
              " 'OAS30361',\n",
              " 'OAS30392',\n",
              " 'OAS30074',\n",
              " 'OAS30093',\n",
              " 'OAS31028',\n",
              " 'OAS30432',\n",
              " 'OAS30141',\n",
              " 'OAS30226',\n",
              " 'OAS30419',\n",
              " 'OAS30367',\n",
              " 'OAS31165',\n",
              " 'OAS30259']"
            ]
          },
          "metadata": {
            "tags": []
          },
          "execution_count": 20
        }
      ]
    },
    {
      "cell_type": "code",
      "metadata": {
        "id": "aGG2om1eD2zU",
        "colab": {
          "base_uri": "https://localhost:8080/"
        },
        "outputId": "bd3d277b-fe45-451b-b7c1-7687af9a9aa2"
      },
      "source": [
        "# directory = r'/content/drive/MyDrive/oasis_original/'\n",
        "# val_data1 = populate_images(directory, val1)\n",
        "# # val_data2 = populate_images(directory, val2)\n",
        "\n",
        "# test_data = populate_images(directory, test)\n",
        "# train_data = populate_images(directory, train)\n"
      ],
      "execution_count": null,
      "outputs": [
        {
          "output_type": "stream",
          "text": [
            "OAS30074\n",
            "1115893760\n",
            "1\n",
            "OAS30074\n"
          ],
          "name": "stdout"
        },
        {
          "output_type": "stream",
          "text": [
            "/usr/local/lib/python3.7/dist-packages/pandas/core/internals/construction.py:305: VisibleDeprecationWarning: Creating an ndarray from ragged nested sequences (which is a list-or-tuple of lists-or-tuples-or ndarrays with different lengths or shapes) is deprecated. If you meant to do this, you must specify 'dtype=object' when creating the ndarray\n",
            "  values = np.array([convert(v) for v in values])\n"
          ],
          "name": "stderr"
        },
        {
          "output_type": "stream",
          "text": [
            "1250197504\n",
            "2\n",
            "OAS30074\n",
            "1385590784\n",
            "3\n",
            "OAS30083\n",
            "1519902720\n",
            "4\n",
            "OAS30083\n",
            "1654755328\n",
            "5\n",
            "OAS30083\n",
            "1789067264\n",
            "6\n",
            "OAS30084\n",
            "1923379200\n",
            "7\n",
            "OAS30084\n",
            "2057691136\n",
            "8\n",
            "OAS30088\n",
            "2192273408\n",
            "9\n",
            "OAS30093\n",
            "2326855680\n",
            "10\n",
            "OAS30093\n",
            "2461167616\n",
            "11\n",
            "OAS30093\n",
            "2595479552\n",
            "12\n",
            "OAS30212\n",
            "2729791488\n",
            "13\n",
            "OAS30212\n",
            "2864103424\n",
            "14\n",
            "OAS30212\n",
            "2998685696\n",
            "15\n",
            "OAS30218\n",
            "3132997632\n",
            "16\n",
            "OAS30218\n",
            "3267309568\n",
            "17\n",
            "OAS30226\n",
            "3401621504\n",
            "18\n",
            "OAS30293\n",
            "3536203776\n",
            "19\n",
            "OAS30293\n",
            "3670515712\n",
            "20\n",
            "OAS30410\n",
            "3804827648\n",
            "21\n",
            "OAS30451\n",
            "3939139584\n",
            "22\n",
            "OAS30456\n",
            "4073451520\n",
            "23\n",
            "OAS30473\n",
            "4207763456\n",
            "24\n",
            "OAS30473\n",
            "4342075392\n",
            "25\n",
            "OAS30474\n",
            "4476657664\n",
            "26\n",
            "OAS30652\n",
            "4610969600\n",
            "27\n",
            "OAS30652\n",
            "4745281536\n",
            "28\n",
            "OAS30692\n",
            "4879593472\n",
            "29\n",
            "OAS30694\n",
            "5013905408\n",
            "30\n",
            "OAS30694\n",
            "5148217344\n",
            "31\n",
            "OAS30880\n",
            "5282529280\n",
            "32\n",
            "OAS30880\n",
            "5416841216\n",
            "33\n",
            "OAS31090\n",
            "5551423488\n",
            "34\n",
            "OAS31090\n",
            "5685735424\n",
            "35\n",
            "OAS31090\n",
            "5820047360\n",
            "36\n",
            "OAS31090\n",
            "5954359296\n",
            "37\n",
            "OAS31165\n",
            "6088941568\n",
            "38\n",
            "OAS31165\n",
            "6223253504\n",
            "39\n",
            "OAS30009\n",
            "6357565440\n",
            "40\n",
            "OAS30009\n",
            "6491877376\n",
            "41\n",
            "OAS30009\n",
            "6626189312\n",
            "42\n",
            "OAS30027\n",
            "6760501248\n",
            "43\n",
            "OAS30027\n",
            "6895083520\n",
            "44\n",
            "OAS30027\n",
            "7029395456\n",
            "45\n",
            "OAS30141\n",
            "7163707392\n",
            "46\n",
            "OAS30141\n",
            "7298019328\n",
            "47\n",
            "OAS30151\n",
            "7432331264\n",
            "48\n",
            "OAS30200\n",
            "7583383552\n",
            "49\n",
            "OAS30259\n",
            "7721189376\n",
            "50\n",
            "OAS30259\n",
            "7855755264\n",
            "51\n",
            "OAS30268\n",
            "7990050816\n",
            "52\n",
            "OAS30270\n",
            "8124346368\n",
            "53\n",
            "OAS30278\n",
            "8258641920\n",
            "54\n",
            "OAS30278\n",
            "8392937472\n",
            "55\n",
            "OAS30361\n",
            "8527503360\n",
            "56\n",
            "OAS30361\n",
            "8661794816\n",
            "57\n",
            "OAS30361\n",
            "8796090368\n",
            "58\n",
            "OAS30367\n",
            "8930385920\n",
            "59\n",
            "OAS30367\n",
            "9064681472\n",
            "60\n",
            "OAS30367\n",
            "9199247360\n",
            "61\n",
            "OAS30367\n",
            "9333542912\n",
            "62\n",
            "OAS30367\n",
            "9467838464\n",
            "63\n",
            "OAS30367\n",
            "9602134016\n",
            "64\n",
            "OAS30375\n",
            "9736429568\n",
            "65\n",
            "OAS30375\n",
            "9870995456\n",
            "66\n",
            "OAS30392\n",
            "10005291008\n",
            "67\n",
            "OAS30392\n",
            "10139586560\n",
            "68\n",
            "OAS30392\n",
            "10273882112\n",
            "69\n",
            "OAS30419\n",
            "10408177664\n",
            "70\n",
            "OAS30419\n",
            "10542743552\n",
            "71\n",
            "OAS30419\n",
            "10677039104\n",
            "72\n",
            "OAS30419\n",
            "10811334656\n",
            "73\n",
            "OAS30484\n",
            "10945630208\n",
            "74\n",
            "OAS30484\n",
            "11079925760\n",
            "75\n",
            "OAS30484\n",
            "11214491648\n",
            "76\n",
            "OAS30484\n",
            "11348787200\n",
            "77\n",
            "OAS30491\n",
            "11483013120\n",
            "78\n",
            "OAS30688\n",
            "11617394688\n",
            "79\n",
            "OAS30688\n",
            "11750662144\n",
            "80\n",
            "OAS30688\n",
            "11875647488\n",
            "81\n",
            "OAS30754\n",
            "12016500736\n",
            "82\n",
            "OAS30170\n",
            "12138139648\n",
            "83\n",
            "OAS30184\n",
            "12274630656\n",
            "84\n",
            "OAS30184\n",
            "12377767936\n",
            "85\n",
            "OAS30184\n",
            "12376195072\n",
            "86\n",
            "OAS30316\n",
            "12380250112\n",
            "87\n",
            "OAS30352\n"
          ],
          "name": "stdout"
        }
      ]
    },
    {
      "cell_type": "code",
      "metadata": {
        "id": "QqN8Ye6CvAuD"
      },
      "source": [
        "train_data"
      ],
      "execution_count": null,
      "outputs": []
    },
    {
      "cell_type": "code",
      "metadata": {
        "id": "w0CVW14R1G7A"
      },
      "source": [
        ""
      ],
      "execution_count": null,
      "outputs": []
    }
  ]
}