{
  "nbformat": 4,
  "nbformat_minor": 0,
  "metadata": {
    "accelerator": "GPU",
    "colab": {
      "name": "colab_playaround.ipynb",
      "provenance": [],
      "collapsed_sections": [],
      "mount_file_id": "17oUvrDAz5QQ-i8QrlBJVujQ47F0j8vZo",
      "authorship_tag": "ABX9TyOs1H77Vwn1yWYn3rxMjp5K",
      "include_colab_link": true
    },
    "kernelspec": {
      "display_name": "Python 3",
      "name": "python3"
    },
    "language_info": {
      "name": "python"
    },
    "widgets": {
      "application/vnd.jupyter.widget-state+json": {
        "3ef875bf16f44b10bfbd3c6dc4bd16b7": {
          "model_module": "@jupyter-widgets/controls",
          "model_name": "HBoxModel",
          "state": {
            "_view_name": "HBoxView",
            "_dom_classes": [],
            "_model_name": "HBoxModel",
            "_view_module": "@jupyter-widgets/controls",
            "_model_module_version": "1.5.0",
            "_view_count": null,
            "_view_module_version": "1.5.0",
            "box_style": "",
            "layout": "IPY_MODEL_dbd1c2a3aa0f448eb53570f3d2556a50",
            "_model_module": "@jupyter-widgets/controls",
            "children": [
              "IPY_MODEL_4f7ff744583c4ddc8c9b826e3095dc7d",
              "IPY_MODEL_aa4000f0a5cd4608b838c5cc2887b83a"
            ]
          }
        },
        "dbd1c2a3aa0f448eb53570f3d2556a50": {
          "model_module": "@jupyter-widgets/base",
          "model_name": "LayoutModel",
          "state": {
            "_view_name": "LayoutView",
            "grid_template_rows": null,
            "right": null,
            "justify_content": null,
            "_view_module": "@jupyter-widgets/base",
            "overflow": null,
            "_model_module_version": "1.2.0",
            "_view_count": null,
            "flex_flow": null,
            "width": null,
            "min_width": null,
            "border": null,
            "align_items": null,
            "bottom": null,
            "_model_module": "@jupyter-widgets/base",
            "top": null,
            "grid_column": null,
            "overflow_y": null,
            "overflow_x": null,
            "grid_auto_flow": null,
            "grid_area": null,
            "grid_template_columns": null,
            "flex": null,
            "_model_name": "LayoutModel",
            "justify_items": null,
            "grid_row": null,
            "max_height": null,
            "align_content": null,
            "visibility": null,
            "align_self": null,
            "height": null,
            "min_height": null,
            "padding": null,
            "grid_auto_rows": null,
            "grid_gap": null,
            "max_width": null,
            "order": null,
            "_view_module_version": "1.2.0",
            "grid_template_areas": null,
            "object_position": null,
            "object_fit": null,
            "grid_auto_columns": null,
            "margin": null,
            "display": null,
            "left": null
          }
        },
        "4f7ff744583c4ddc8c9b826e3095dc7d": {
          "model_module": "@jupyter-widgets/controls",
          "model_name": "FloatProgressModel",
          "state": {
            "_view_name": "ProgressView",
            "style": "IPY_MODEL_29f73d1ee671489b90eaf75e06cc548f",
            "_dom_classes": [],
            "description": "100%",
            "_model_name": "FloatProgressModel",
            "bar_style": "success",
            "max": 441,
            "_view_module": "@jupyter-widgets/controls",
            "_model_module_version": "1.5.0",
            "value": 441,
            "_view_count": null,
            "_view_module_version": "1.5.0",
            "orientation": "horizontal",
            "min": 0,
            "description_tooltip": null,
            "_model_module": "@jupyter-widgets/controls",
            "layout": "IPY_MODEL_0c6ca957910d461d8c57f9851674ac4b"
          }
        },
        "aa4000f0a5cd4608b838c5cc2887b83a": {
          "model_module": "@jupyter-widgets/controls",
          "model_name": "HTMLModel",
          "state": {
            "_view_name": "HTMLView",
            "style": "IPY_MODEL_a2b1f86500d34fceb0178e2417301c3e",
            "_dom_classes": [],
            "description": "",
            "_model_name": "HTMLModel",
            "placeholder": "​",
            "_view_module": "@jupyter-widgets/controls",
            "_model_module_version": "1.5.0",
            "value": " 441/441 [32:02&lt;00:00,  4.36s/it]",
            "_view_count": null,
            "_view_module_version": "1.5.0",
            "description_tooltip": null,
            "_model_module": "@jupyter-widgets/controls",
            "layout": "IPY_MODEL_f5b1da25a0be422da53e350654594d1e"
          }
        },
        "29f73d1ee671489b90eaf75e06cc548f": {
          "model_module": "@jupyter-widgets/controls",
          "model_name": "ProgressStyleModel",
          "state": {
            "_view_name": "StyleView",
            "_model_name": "ProgressStyleModel",
            "description_width": "initial",
            "_view_module": "@jupyter-widgets/base",
            "_model_module_version": "1.5.0",
            "_view_count": null,
            "_view_module_version": "1.2.0",
            "bar_color": null,
            "_model_module": "@jupyter-widgets/controls"
          }
        },
        "0c6ca957910d461d8c57f9851674ac4b": {
          "model_module": "@jupyter-widgets/base",
          "model_name": "LayoutModel",
          "state": {
            "_view_name": "LayoutView",
            "grid_template_rows": null,
            "right": null,
            "justify_content": null,
            "_view_module": "@jupyter-widgets/base",
            "overflow": null,
            "_model_module_version": "1.2.0",
            "_view_count": null,
            "flex_flow": null,
            "width": null,
            "min_width": null,
            "border": null,
            "align_items": null,
            "bottom": null,
            "_model_module": "@jupyter-widgets/base",
            "top": null,
            "grid_column": null,
            "overflow_y": null,
            "overflow_x": null,
            "grid_auto_flow": null,
            "grid_area": null,
            "grid_template_columns": null,
            "flex": null,
            "_model_name": "LayoutModel",
            "justify_items": null,
            "grid_row": null,
            "max_height": null,
            "align_content": null,
            "visibility": null,
            "align_self": null,
            "height": null,
            "min_height": null,
            "padding": null,
            "grid_auto_rows": null,
            "grid_gap": null,
            "max_width": null,
            "order": null,
            "_view_module_version": "1.2.0",
            "grid_template_areas": null,
            "object_position": null,
            "object_fit": null,
            "grid_auto_columns": null,
            "margin": null,
            "display": null,
            "left": null
          }
        },
        "a2b1f86500d34fceb0178e2417301c3e": {
          "model_module": "@jupyter-widgets/controls",
          "model_name": "DescriptionStyleModel",
          "state": {
            "_view_name": "StyleView",
            "_model_name": "DescriptionStyleModel",
            "description_width": "",
            "_view_module": "@jupyter-widgets/base",
            "_model_module_version": "1.5.0",
            "_view_count": null,
            "_view_module_version": "1.2.0",
            "_model_module": "@jupyter-widgets/controls"
          }
        },
        "f5b1da25a0be422da53e350654594d1e": {
          "model_module": "@jupyter-widgets/base",
          "model_name": "LayoutModel",
          "state": {
            "_view_name": "LayoutView",
            "grid_template_rows": null,
            "right": null,
            "justify_content": null,
            "_view_module": "@jupyter-widgets/base",
            "overflow": null,
            "_model_module_version": "1.2.0",
            "_view_count": null,
            "flex_flow": null,
            "width": null,
            "min_width": null,
            "border": null,
            "align_items": null,
            "bottom": null,
            "_model_module": "@jupyter-widgets/base",
            "top": null,
            "grid_column": null,
            "overflow_y": null,
            "overflow_x": null,
            "grid_auto_flow": null,
            "grid_area": null,
            "grid_template_columns": null,
            "flex": null,
            "_model_name": "LayoutModel",
            "justify_items": null,
            "grid_row": null,
            "max_height": null,
            "align_content": null,
            "visibility": null,
            "align_self": null,
            "height": null,
            "min_height": null,
            "padding": null,
            "grid_auto_rows": null,
            "grid_gap": null,
            "max_width": null,
            "order": null,
            "_view_module_version": "1.2.0",
            "grid_template_areas": null,
            "object_position": null,
            "object_fit": null,
            "grid_auto_columns": null,
            "margin": null,
            "display": null,
            "left": null
          }
        },
        "0d5eae9728c845ed916c1b99c0512d70": {
          "model_module": "@jupyter-widgets/controls",
          "model_name": "HBoxModel",
          "state": {
            "_view_name": "HBoxView",
            "_dom_classes": [],
            "_model_name": "HBoxModel",
            "_view_module": "@jupyter-widgets/controls",
            "_model_module_version": "1.5.0",
            "_view_count": null,
            "_view_module_version": "1.5.0",
            "box_style": "",
            "layout": "IPY_MODEL_ebba44a4831742e088c00710b11ce7df",
            "_model_module": "@jupyter-widgets/controls",
            "children": [
              "IPY_MODEL_e6d2a32a4f8f4c04acb337eb87bf71ff",
              "IPY_MODEL_ce991bb23d83410a9cc60288a1f2b608"
            ]
          }
        },
        "ebba44a4831742e088c00710b11ce7df": {
          "model_module": "@jupyter-widgets/base",
          "model_name": "LayoutModel",
          "state": {
            "_view_name": "LayoutView",
            "grid_template_rows": null,
            "right": null,
            "justify_content": null,
            "_view_module": "@jupyter-widgets/base",
            "overflow": null,
            "_model_module_version": "1.2.0",
            "_view_count": null,
            "flex_flow": null,
            "width": null,
            "min_width": null,
            "border": null,
            "align_items": null,
            "bottom": null,
            "_model_module": "@jupyter-widgets/base",
            "top": null,
            "grid_column": null,
            "overflow_y": null,
            "overflow_x": null,
            "grid_auto_flow": null,
            "grid_area": null,
            "grid_template_columns": null,
            "flex": null,
            "_model_name": "LayoutModel",
            "justify_items": null,
            "grid_row": null,
            "max_height": null,
            "align_content": null,
            "visibility": null,
            "align_self": null,
            "height": null,
            "min_height": null,
            "padding": null,
            "grid_auto_rows": null,
            "grid_gap": null,
            "max_width": null,
            "order": null,
            "_view_module_version": "1.2.0",
            "grid_template_areas": null,
            "object_position": null,
            "object_fit": null,
            "grid_auto_columns": null,
            "margin": null,
            "display": null,
            "left": null
          }
        },
        "e6d2a32a4f8f4c04acb337eb87bf71ff": {
          "model_module": "@jupyter-widgets/controls",
          "model_name": "FloatProgressModel",
          "state": {
            "_view_name": "ProgressView",
            "style": "IPY_MODEL_c5ef6a0dce0c4543aa29891ac5e468e5",
            "_dom_classes": [],
            "description": "100%",
            "_model_name": "FloatProgressModel",
            "bar_style": "success",
            "max": 101,
            "_view_module": "@jupyter-widgets/controls",
            "_model_module_version": "1.5.0",
            "value": 101,
            "_view_count": null,
            "_view_module_version": "1.5.0",
            "orientation": "horizontal",
            "min": 0,
            "description_tooltip": null,
            "_model_module": "@jupyter-widgets/controls",
            "layout": "IPY_MODEL_327cf67f0a17401297c9cb80dbaa40ba"
          }
        },
        "ce991bb23d83410a9cc60288a1f2b608": {
          "model_module": "@jupyter-widgets/controls",
          "model_name": "HTMLModel",
          "state": {
            "_view_name": "HTMLView",
            "style": "IPY_MODEL_3dff380842fa43ba84566f4f1a4356a0",
            "_dom_classes": [],
            "description": "",
            "_model_name": "HTMLModel",
            "placeholder": "​",
            "_view_module": "@jupyter-widgets/controls",
            "_model_module_version": "1.5.0",
            "value": " 101/101 [10:29&lt;00:00,  6.23s/it]",
            "_view_count": null,
            "_view_module_version": "1.5.0",
            "description_tooltip": null,
            "_model_module": "@jupyter-widgets/controls",
            "layout": "IPY_MODEL_b8a0b5c24fdf491bb53cc5df58180442"
          }
        },
        "c5ef6a0dce0c4543aa29891ac5e468e5": {
          "model_module": "@jupyter-widgets/controls",
          "model_name": "ProgressStyleModel",
          "state": {
            "_view_name": "StyleView",
            "_model_name": "ProgressStyleModel",
            "description_width": "initial",
            "_view_module": "@jupyter-widgets/base",
            "_model_module_version": "1.5.0",
            "_view_count": null,
            "_view_module_version": "1.2.0",
            "bar_color": null,
            "_model_module": "@jupyter-widgets/controls"
          }
        },
        "327cf67f0a17401297c9cb80dbaa40ba": {
          "model_module": "@jupyter-widgets/base",
          "model_name": "LayoutModel",
          "state": {
            "_view_name": "LayoutView",
            "grid_template_rows": null,
            "right": null,
            "justify_content": null,
            "_view_module": "@jupyter-widgets/base",
            "overflow": null,
            "_model_module_version": "1.2.0",
            "_view_count": null,
            "flex_flow": null,
            "width": null,
            "min_width": null,
            "border": null,
            "align_items": null,
            "bottom": null,
            "_model_module": "@jupyter-widgets/base",
            "top": null,
            "grid_column": null,
            "overflow_y": null,
            "overflow_x": null,
            "grid_auto_flow": null,
            "grid_area": null,
            "grid_template_columns": null,
            "flex": null,
            "_model_name": "LayoutModel",
            "justify_items": null,
            "grid_row": null,
            "max_height": null,
            "align_content": null,
            "visibility": null,
            "align_self": null,
            "height": null,
            "min_height": null,
            "padding": null,
            "grid_auto_rows": null,
            "grid_gap": null,
            "max_width": null,
            "order": null,
            "_view_module_version": "1.2.0",
            "grid_template_areas": null,
            "object_position": null,
            "object_fit": null,
            "grid_auto_columns": null,
            "margin": null,
            "display": null,
            "left": null
          }
        },
        "3dff380842fa43ba84566f4f1a4356a0": {
          "model_module": "@jupyter-widgets/controls",
          "model_name": "DescriptionStyleModel",
          "state": {
            "_view_name": "StyleView",
            "_model_name": "DescriptionStyleModel",
            "description_width": "",
            "_view_module": "@jupyter-widgets/base",
            "_model_module_version": "1.5.0",
            "_view_count": null,
            "_view_module_version": "1.2.0",
            "_model_module": "@jupyter-widgets/controls"
          }
        },
        "b8a0b5c24fdf491bb53cc5df58180442": {
          "model_module": "@jupyter-widgets/base",
          "model_name": "LayoutModel",
          "state": {
            "_view_name": "LayoutView",
            "grid_template_rows": null,
            "right": null,
            "justify_content": null,
            "_view_module": "@jupyter-widgets/base",
            "overflow": null,
            "_model_module_version": "1.2.0",
            "_view_count": null,
            "flex_flow": null,
            "width": null,
            "min_width": null,
            "border": null,
            "align_items": null,
            "bottom": null,
            "_model_module": "@jupyter-widgets/base",
            "top": null,
            "grid_column": null,
            "overflow_y": null,
            "overflow_x": null,
            "grid_auto_flow": null,
            "grid_area": null,
            "grid_template_columns": null,
            "flex": null,
            "_model_name": "LayoutModel",
            "justify_items": null,
            "grid_row": null,
            "max_height": null,
            "align_content": null,
            "visibility": null,
            "align_self": null,
            "height": null,
            "min_height": null,
            "padding": null,
            "grid_auto_rows": null,
            "grid_gap": null,
            "max_width": null,
            "order": null,
            "_view_module_version": "1.2.0",
            "grid_template_areas": null,
            "object_position": null,
            "object_fit": null,
            "grid_auto_columns": null,
            "margin": null,
            "display": null,
            "left": null
          }
        },
        "4a1a292f2ce74e1aa0e8c29fd3672504": {
          "model_module": "@jupyter-widgets/controls",
          "model_name": "HBoxModel",
          "state": {
            "_view_name": "HBoxView",
            "_dom_classes": [],
            "_model_name": "HBoxModel",
            "_view_module": "@jupyter-widgets/controls",
            "_model_module_version": "1.5.0",
            "_view_count": null,
            "_view_module_version": "1.5.0",
            "box_style": "",
            "layout": "IPY_MODEL_b260a0eb9d8b4ee68dfa3006a96f8f09",
            "_model_module": "@jupyter-widgets/controls",
            "children": [
              "IPY_MODEL_de7a3249b61049c28a7e04c6eb9756bd",
              "IPY_MODEL_e8e98cccedcf43a9ab81911b0228b850"
            ]
          }
        },
        "b260a0eb9d8b4ee68dfa3006a96f8f09": {
          "model_module": "@jupyter-widgets/base",
          "model_name": "LayoutModel",
          "state": {
            "_view_name": "LayoutView",
            "grid_template_rows": null,
            "right": null,
            "justify_content": null,
            "_view_module": "@jupyter-widgets/base",
            "overflow": null,
            "_model_module_version": "1.2.0",
            "_view_count": null,
            "flex_flow": null,
            "width": null,
            "min_width": null,
            "border": null,
            "align_items": null,
            "bottom": null,
            "_model_module": "@jupyter-widgets/base",
            "top": null,
            "grid_column": null,
            "overflow_y": null,
            "overflow_x": null,
            "grid_auto_flow": null,
            "grid_area": null,
            "grid_template_columns": null,
            "flex": null,
            "_model_name": "LayoutModel",
            "justify_items": null,
            "grid_row": null,
            "max_height": null,
            "align_content": null,
            "visibility": null,
            "align_self": null,
            "height": null,
            "min_height": null,
            "padding": null,
            "grid_auto_rows": null,
            "grid_gap": null,
            "max_width": null,
            "order": null,
            "_view_module_version": "1.2.0",
            "grid_template_areas": null,
            "object_position": null,
            "object_fit": null,
            "grid_auto_columns": null,
            "margin": null,
            "display": null,
            "left": null
          }
        },
        "de7a3249b61049c28a7e04c6eb9756bd": {
          "model_module": "@jupyter-widgets/controls",
          "model_name": "FloatProgressModel",
          "state": {
            "_view_name": "ProgressView",
            "style": "IPY_MODEL_91223ed52a2f440ab2d5847b39b00c16",
            "_dom_classes": [],
            "description": "100%",
            "_model_name": "FloatProgressModel",
            "bar_style": "success",
            "max": 9,
            "_view_module": "@jupyter-widgets/controls",
            "_model_module_version": "1.5.0",
            "value": 9,
            "_view_count": null,
            "_view_module_version": "1.5.0",
            "orientation": "horizontal",
            "min": 0,
            "description_tooltip": null,
            "_model_module": "@jupyter-widgets/controls",
            "layout": "IPY_MODEL_1bf006f4cd1c4440b8b3bb28d9ebb90d"
          }
        },
        "e8e98cccedcf43a9ab81911b0228b850": {
          "model_module": "@jupyter-widgets/controls",
          "model_name": "HTMLModel",
          "state": {
            "_view_name": "HTMLView",
            "style": "IPY_MODEL_97236d360a144d38b3565ef451b0611e",
            "_dom_classes": [],
            "description": "",
            "_model_name": "HTMLModel",
            "placeholder": "​",
            "_view_module": "@jupyter-widgets/controls",
            "_model_module_version": "1.5.0",
            "value": " 9/9 [00:30&lt;00:00,  3.37s/it]",
            "_view_count": null,
            "_view_module_version": "1.5.0",
            "description_tooltip": null,
            "_model_module": "@jupyter-widgets/controls",
            "layout": "IPY_MODEL_b16cb3a9f5df4865984b3420c862c69e"
          }
        },
        "91223ed52a2f440ab2d5847b39b00c16": {
          "model_module": "@jupyter-widgets/controls",
          "model_name": "ProgressStyleModel",
          "state": {
            "_view_name": "StyleView",
            "_model_name": "ProgressStyleModel",
            "description_width": "initial",
            "_view_module": "@jupyter-widgets/base",
            "_model_module_version": "1.5.0",
            "_view_count": null,
            "_view_module_version": "1.2.0",
            "bar_color": null,
            "_model_module": "@jupyter-widgets/controls"
          }
        },
        "1bf006f4cd1c4440b8b3bb28d9ebb90d": {
          "model_module": "@jupyter-widgets/base",
          "model_name": "LayoutModel",
          "state": {
            "_view_name": "LayoutView",
            "grid_template_rows": null,
            "right": null,
            "justify_content": null,
            "_view_module": "@jupyter-widgets/base",
            "overflow": null,
            "_model_module_version": "1.2.0",
            "_view_count": null,
            "flex_flow": null,
            "width": null,
            "min_width": null,
            "border": null,
            "align_items": null,
            "bottom": null,
            "_model_module": "@jupyter-widgets/base",
            "top": null,
            "grid_column": null,
            "overflow_y": null,
            "overflow_x": null,
            "grid_auto_flow": null,
            "grid_area": null,
            "grid_template_columns": null,
            "flex": null,
            "_model_name": "LayoutModel",
            "justify_items": null,
            "grid_row": null,
            "max_height": null,
            "align_content": null,
            "visibility": null,
            "align_self": null,
            "height": null,
            "min_height": null,
            "padding": null,
            "grid_auto_rows": null,
            "grid_gap": null,
            "max_width": null,
            "order": null,
            "_view_module_version": "1.2.0",
            "grid_template_areas": null,
            "object_position": null,
            "object_fit": null,
            "grid_auto_columns": null,
            "margin": null,
            "display": null,
            "left": null
          }
        },
        "97236d360a144d38b3565ef451b0611e": {
          "model_module": "@jupyter-widgets/controls",
          "model_name": "DescriptionStyleModel",
          "state": {
            "_view_name": "StyleView",
            "_model_name": "DescriptionStyleModel",
            "description_width": "",
            "_view_module": "@jupyter-widgets/base",
            "_model_module_version": "1.5.0",
            "_view_count": null,
            "_view_module_version": "1.2.0",
            "_model_module": "@jupyter-widgets/controls"
          }
        },
        "b16cb3a9f5df4865984b3420c862c69e": {
          "model_module": "@jupyter-widgets/base",
          "model_name": "LayoutModel",
          "state": {
            "_view_name": "LayoutView",
            "grid_template_rows": null,
            "right": null,
            "justify_content": null,
            "_view_module": "@jupyter-widgets/base",
            "overflow": null,
            "_model_module_version": "1.2.0",
            "_view_count": null,
            "flex_flow": null,
            "width": null,
            "min_width": null,
            "border": null,
            "align_items": null,
            "bottom": null,
            "_model_module": "@jupyter-widgets/base",
            "top": null,
            "grid_column": null,
            "overflow_y": null,
            "overflow_x": null,
            "grid_auto_flow": null,
            "grid_area": null,
            "grid_template_columns": null,
            "flex": null,
            "_model_name": "LayoutModel",
            "justify_items": null,
            "grid_row": null,
            "max_height": null,
            "align_content": null,
            "visibility": null,
            "align_self": null,
            "height": null,
            "min_height": null,
            "padding": null,
            "grid_auto_rows": null,
            "grid_gap": null,
            "max_width": null,
            "order": null,
            "_view_module_version": "1.2.0",
            "grid_template_areas": null,
            "object_position": null,
            "object_fit": null,
            "grid_auto_columns": null,
            "margin": null,
            "display": null,
            "left": null
          }
        },
        "97dac6f6ac104225adbcbd8f1049def3": {
          "model_module": "@jupyter-widgets/controls",
          "model_name": "HBoxModel",
          "state": {
            "_view_name": "HBoxView",
            "_dom_classes": [],
            "_model_name": "HBoxModel",
            "_view_module": "@jupyter-widgets/controls",
            "_model_module_version": "1.5.0",
            "_view_count": null,
            "_view_module_version": "1.5.0",
            "box_style": "",
            "layout": "IPY_MODEL_d097dd7a0dc646d7a6d9e40765267b9a",
            "_model_module": "@jupyter-widgets/controls",
            "children": [
              "IPY_MODEL_285d422405574cf8a31060207a5d0d35",
              "IPY_MODEL_b8a97b083dc941cabe57af1a8c0c0428"
            ]
          }
        },
        "d097dd7a0dc646d7a6d9e40765267b9a": {
          "model_module": "@jupyter-widgets/base",
          "model_name": "LayoutModel",
          "state": {
            "_view_name": "LayoutView",
            "grid_template_rows": null,
            "right": null,
            "justify_content": null,
            "_view_module": "@jupyter-widgets/base",
            "overflow": null,
            "_model_module_version": "1.2.0",
            "_view_count": null,
            "flex_flow": null,
            "width": null,
            "min_width": null,
            "border": null,
            "align_items": null,
            "bottom": null,
            "_model_module": "@jupyter-widgets/base",
            "top": null,
            "grid_column": null,
            "overflow_y": null,
            "overflow_x": null,
            "grid_auto_flow": null,
            "grid_area": null,
            "grid_template_columns": null,
            "flex": null,
            "_model_name": "LayoutModel",
            "justify_items": null,
            "grid_row": null,
            "max_height": null,
            "align_content": null,
            "visibility": null,
            "align_self": null,
            "height": null,
            "min_height": null,
            "padding": null,
            "grid_auto_rows": null,
            "grid_gap": null,
            "max_width": null,
            "order": null,
            "_view_module_version": "1.2.0",
            "grid_template_areas": null,
            "object_position": null,
            "object_fit": null,
            "grid_auto_columns": null,
            "margin": null,
            "display": null,
            "left": null
          }
        },
        "285d422405574cf8a31060207a5d0d35": {
          "model_module": "@jupyter-widgets/controls",
          "model_name": "FloatProgressModel",
          "state": {
            "_view_name": "ProgressView",
            "style": "IPY_MODEL_bd5012161fd54ea4b43b43347d9187db",
            "_dom_classes": [],
            "description": "100%",
            "_model_name": "FloatProgressModel",
            "bar_style": "success",
            "max": 140,
            "_view_module": "@jupyter-widgets/controls",
            "_model_module_version": "1.5.0",
            "value": 140,
            "_view_count": null,
            "_view_module_version": "1.5.0",
            "orientation": "horizontal",
            "min": 0,
            "description_tooltip": null,
            "_model_module": "@jupyter-widgets/controls",
            "layout": "IPY_MODEL_051b2064756940838eb4f2f5f3cca614"
          }
        },
        "b8a97b083dc941cabe57af1a8c0c0428": {
          "model_module": "@jupyter-widgets/controls",
          "model_name": "HTMLModel",
          "state": {
            "_view_name": "HTMLView",
            "style": "IPY_MODEL_f7d36eb6801e4cb1bc3e7e2156bb41c0",
            "_dom_classes": [],
            "description": "",
            "_model_name": "HTMLModel",
            "placeholder": "​",
            "_view_module": "@jupyter-widgets/controls",
            "_model_module_version": "1.5.0",
            "value": " 140/140 [06:37&lt;00:00,  2.84s/it]",
            "_view_count": null,
            "_view_module_version": "1.5.0",
            "description_tooltip": null,
            "_model_module": "@jupyter-widgets/controls",
            "layout": "IPY_MODEL_287c07e2d76c4304a3eb93f365dc81ad"
          }
        },
        "bd5012161fd54ea4b43b43347d9187db": {
          "model_module": "@jupyter-widgets/controls",
          "model_name": "ProgressStyleModel",
          "state": {
            "_view_name": "StyleView",
            "_model_name": "ProgressStyleModel",
            "description_width": "initial",
            "_view_module": "@jupyter-widgets/base",
            "_model_module_version": "1.5.0",
            "_view_count": null,
            "_view_module_version": "1.2.0",
            "bar_color": null,
            "_model_module": "@jupyter-widgets/controls"
          }
        },
        "051b2064756940838eb4f2f5f3cca614": {
          "model_module": "@jupyter-widgets/base",
          "model_name": "LayoutModel",
          "state": {
            "_view_name": "LayoutView",
            "grid_template_rows": null,
            "right": null,
            "justify_content": null,
            "_view_module": "@jupyter-widgets/base",
            "overflow": null,
            "_model_module_version": "1.2.0",
            "_view_count": null,
            "flex_flow": null,
            "width": null,
            "min_width": null,
            "border": null,
            "align_items": null,
            "bottom": null,
            "_model_module": "@jupyter-widgets/base",
            "top": null,
            "grid_column": null,
            "overflow_y": null,
            "overflow_x": null,
            "grid_auto_flow": null,
            "grid_area": null,
            "grid_template_columns": null,
            "flex": null,
            "_model_name": "LayoutModel",
            "justify_items": null,
            "grid_row": null,
            "max_height": null,
            "align_content": null,
            "visibility": null,
            "align_self": null,
            "height": null,
            "min_height": null,
            "padding": null,
            "grid_auto_rows": null,
            "grid_gap": null,
            "max_width": null,
            "order": null,
            "_view_module_version": "1.2.0",
            "grid_template_areas": null,
            "object_position": null,
            "object_fit": null,
            "grid_auto_columns": null,
            "margin": null,
            "display": null,
            "left": null
          }
        },
        "f7d36eb6801e4cb1bc3e7e2156bb41c0": {
          "model_module": "@jupyter-widgets/controls",
          "model_name": "DescriptionStyleModel",
          "state": {
            "_view_name": "StyleView",
            "_model_name": "DescriptionStyleModel",
            "description_width": "",
            "_view_module": "@jupyter-widgets/base",
            "_model_module_version": "1.5.0",
            "_view_count": null,
            "_view_module_version": "1.2.0",
            "_model_module": "@jupyter-widgets/controls"
          }
        },
        "287c07e2d76c4304a3eb93f365dc81ad": {
          "model_module": "@jupyter-widgets/base",
          "model_name": "LayoutModel",
          "state": {
            "_view_name": "LayoutView",
            "grid_template_rows": null,
            "right": null,
            "justify_content": null,
            "_view_module": "@jupyter-widgets/base",
            "overflow": null,
            "_model_module_version": "1.2.0",
            "_view_count": null,
            "flex_flow": null,
            "width": null,
            "min_width": null,
            "border": null,
            "align_items": null,
            "bottom": null,
            "_model_module": "@jupyter-widgets/base",
            "top": null,
            "grid_column": null,
            "overflow_y": null,
            "overflow_x": null,
            "grid_auto_flow": null,
            "grid_area": null,
            "grid_template_columns": null,
            "flex": null,
            "_model_name": "LayoutModel",
            "justify_items": null,
            "grid_row": null,
            "max_height": null,
            "align_content": null,
            "visibility": null,
            "align_self": null,
            "height": null,
            "min_height": null,
            "padding": null,
            "grid_auto_rows": null,
            "grid_gap": null,
            "max_width": null,
            "order": null,
            "_view_module_version": "1.2.0",
            "grid_template_areas": null,
            "object_position": null,
            "object_fit": null,
            "grid_auto_columns": null,
            "margin": null,
            "display": null,
            "left": null
          }
        },
        "47ff7fd364f54e9a8b88daf96710a7c5": {
          "model_module": "@jupyter-widgets/controls",
          "model_name": "HBoxModel",
          "state": {
            "_view_name": "HBoxView",
            "_dom_classes": [],
            "_model_name": "HBoxModel",
            "_view_module": "@jupyter-widgets/controls",
            "_model_module_version": "1.5.0",
            "_view_count": null,
            "_view_module_version": "1.5.0",
            "box_style": "",
            "layout": "IPY_MODEL_3fa73d10642e4d67bc17e3c06fd8000f",
            "_model_module": "@jupyter-widgets/controls",
            "children": [
              "IPY_MODEL_166548edf0314644bf50f1923b9df562",
              "IPY_MODEL_51eb79273e7b41f9a6f87c97e5d74d39"
            ]
          }
        },
        "3fa73d10642e4d67bc17e3c06fd8000f": {
          "model_module": "@jupyter-widgets/base",
          "model_name": "LayoutModel",
          "state": {
            "_view_name": "LayoutView",
            "grid_template_rows": null,
            "right": null,
            "justify_content": null,
            "_view_module": "@jupyter-widgets/base",
            "overflow": null,
            "_model_module_version": "1.2.0",
            "_view_count": null,
            "flex_flow": null,
            "width": null,
            "min_width": null,
            "border": null,
            "align_items": null,
            "bottom": null,
            "_model_module": "@jupyter-widgets/base",
            "top": null,
            "grid_column": null,
            "overflow_y": null,
            "overflow_x": null,
            "grid_auto_flow": null,
            "grid_area": null,
            "grid_template_columns": null,
            "flex": null,
            "_model_name": "LayoutModel",
            "justify_items": null,
            "grid_row": null,
            "max_height": null,
            "align_content": null,
            "visibility": null,
            "align_self": null,
            "height": null,
            "min_height": null,
            "padding": null,
            "grid_auto_rows": null,
            "grid_gap": null,
            "max_width": null,
            "order": null,
            "_view_module_version": "1.2.0",
            "grid_template_areas": null,
            "object_position": null,
            "object_fit": null,
            "grid_auto_columns": null,
            "margin": null,
            "display": null,
            "left": null
          }
        },
        "166548edf0314644bf50f1923b9df562": {
          "model_module": "@jupyter-widgets/controls",
          "model_name": "FloatProgressModel",
          "state": {
            "_view_name": "ProgressView",
            "style": "IPY_MODEL_a10b6a6af1ae4cc3abf433c764c4f8ff",
            "_dom_classes": [],
            "description": "100%",
            "_model_name": "FloatProgressModel",
            "bar_style": "success",
            "max": 39,
            "_view_module": "@jupyter-widgets/controls",
            "_model_module_version": "1.5.0",
            "value": 39,
            "_view_count": null,
            "_view_module_version": "1.5.0",
            "orientation": "horizontal",
            "min": 0,
            "description_tooltip": null,
            "_model_module": "@jupyter-widgets/controls",
            "layout": "IPY_MODEL_fa2caed7002b447dae1f2211ba0a2151"
          }
        },
        "51eb79273e7b41f9a6f87c97e5d74d39": {
          "model_module": "@jupyter-widgets/controls",
          "model_name": "HTMLModel",
          "state": {
            "_view_name": "HTMLView",
            "style": "IPY_MODEL_aee78a1138e44e9ea25fe36b9c00c7ea",
            "_dom_classes": [],
            "description": "",
            "_model_name": "HTMLModel",
            "placeholder": "​",
            "_view_module": "@jupyter-widgets/controls",
            "_model_module_version": "1.5.0",
            "value": " 39/39 [01:52&lt;00:00,  2.89s/it]",
            "_view_count": null,
            "_view_module_version": "1.5.0",
            "description_tooltip": null,
            "_model_module": "@jupyter-widgets/controls",
            "layout": "IPY_MODEL_86d21e4a2fb4468594fbbf4e07bd80b0"
          }
        },
        "a10b6a6af1ae4cc3abf433c764c4f8ff": {
          "model_module": "@jupyter-widgets/controls",
          "model_name": "ProgressStyleModel",
          "state": {
            "_view_name": "StyleView",
            "_model_name": "ProgressStyleModel",
            "description_width": "initial",
            "_view_module": "@jupyter-widgets/base",
            "_model_module_version": "1.5.0",
            "_view_count": null,
            "_view_module_version": "1.2.0",
            "bar_color": null,
            "_model_module": "@jupyter-widgets/controls"
          }
        },
        "fa2caed7002b447dae1f2211ba0a2151": {
          "model_module": "@jupyter-widgets/base",
          "model_name": "LayoutModel",
          "state": {
            "_view_name": "LayoutView",
            "grid_template_rows": null,
            "right": null,
            "justify_content": null,
            "_view_module": "@jupyter-widgets/base",
            "overflow": null,
            "_model_module_version": "1.2.0",
            "_view_count": null,
            "flex_flow": null,
            "width": null,
            "min_width": null,
            "border": null,
            "align_items": null,
            "bottom": null,
            "_model_module": "@jupyter-widgets/base",
            "top": null,
            "grid_column": null,
            "overflow_y": null,
            "overflow_x": null,
            "grid_auto_flow": null,
            "grid_area": null,
            "grid_template_columns": null,
            "flex": null,
            "_model_name": "LayoutModel",
            "justify_items": null,
            "grid_row": null,
            "max_height": null,
            "align_content": null,
            "visibility": null,
            "align_self": null,
            "height": null,
            "min_height": null,
            "padding": null,
            "grid_auto_rows": null,
            "grid_gap": null,
            "max_width": null,
            "order": null,
            "_view_module_version": "1.2.0",
            "grid_template_areas": null,
            "object_position": null,
            "object_fit": null,
            "grid_auto_columns": null,
            "margin": null,
            "display": null,
            "left": null
          }
        },
        "aee78a1138e44e9ea25fe36b9c00c7ea": {
          "model_module": "@jupyter-widgets/controls",
          "model_name": "DescriptionStyleModel",
          "state": {
            "_view_name": "StyleView",
            "_model_name": "DescriptionStyleModel",
            "description_width": "",
            "_view_module": "@jupyter-widgets/base",
            "_model_module_version": "1.5.0",
            "_view_count": null,
            "_view_module_version": "1.2.0",
            "_model_module": "@jupyter-widgets/controls"
          }
        },
        "86d21e4a2fb4468594fbbf4e07bd80b0": {
          "model_module": "@jupyter-widgets/base",
          "model_name": "LayoutModel",
          "state": {
            "_view_name": "LayoutView",
            "grid_template_rows": null,
            "right": null,
            "justify_content": null,
            "_view_module": "@jupyter-widgets/base",
            "overflow": null,
            "_model_module_version": "1.2.0",
            "_view_count": null,
            "flex_flow": null,
            "width": null,
            "min_width": null,
            "border": null,
            "align_items": null,
            "bottom": null,
            "_model_module": "@jupyter-widgets/base",
            "top": null,
            "grid_column": null,
            "overflow_y": null,
            "overflow_x": null,
            "grid_auto_flow": null,
            "grid_area": null,
            "grid_template_columns": null,
            "flex": null,
            "_model_name": "LayoutModel",
            "justify_items": null,
            "grid_row": null,
            "max_height": null,
            "align_content": null,
            "visibility": null,
            "align_self": null,
            "height": null,
            "min_height": null,
            "padding": null,
            "grid_auto_rows": null,
            "grid_gap": null,
            "max_width": null,
            "order": null,
            "_view_module_version": "1.2.0",
            "grid_template_areas": null,
            "object_position": null,
            "object_fit": null,
            "grid_auto_columns": null,
            "margin": null,
            "display": null,
            "left": null
          }
        },
        "f768affa840146aa9dcbf6040025ddf7": {
          "model_module": "@jupyter-widgets/controls",
          "model_name": "HBoxModel",
          "state": {
            "_view_name": "HBoxView",
            "_dom_classes": [],
            "_model_name": "HBoxModel",
            "_view_module": "@jupyter-widgets/controls",
            "_model_module_version": "1.5.0",
            "_view_count": null,
            "_view_module_version": "1.5.0",
            "box_style": "",
            "layout": "IPY_MODEL_dbc226de2f3f4c2aa03f4e50ba8a449d",
            "_model_module": "@jupyter-widgets/controls",
            "children": [
              "IPY_MODEL_5353bdc3a8b04e88b6603872e28e1b20",
              "IPY_MODEL_a8318573b2194f678c120be59bdbed9a"
            ]
          }
        },
        "dbc226de2f3f4c2aa03f4e50ba8a449d": {
          "model_module": "@jupyter-widgets/base",
          "model_name": "LayoutModel",
          "state": {
            "_view_name": "LayoutView",
            "grid_template_rows": null,
            "right": null,
            "justify_content": null,
            "_view_module": "@jupyter-widgets/base",
            "overflow": null,
            "_model_module_version": "1.2.0",
            "_view_count": null,
            "flex_flow": null,
            "width": null,
            "min_width": null,
            "border": null,
            "align_items": null,
            "bottom": null,
            "_model_module": "@jupyter-widgets/base",
            "top": null,
            "grid_column": null,
            "overflow_y": null,
            "overflow_x": null,
            "grid_auto_flow": null,
            "grid_area": null,
            "grid_template_columns": null,
            "flex": null,
            "_model_name": "LayoutModel",
            "justify_items": null,
            "grid_row": null,
            "max_height": null,
            "align_content": null,
            "visibility": null,
            "align_self": null,
            "height": null,
            "min_height": null,
            "padding": null,
            "grid_auto_rows": null,
            "grid_gap": null,
            "max_width": null,
            "order": null,
            "_view_module_version": "1.2.0",
            "grid_template_areas": null,
            "object_position": null,
            "object_fit": null,
            "grid_auto_columns": null,
            "margin": null,
            "display": null,
            "left": null
          }
        },
        "5353bdc3a8b04e88b6603872e28e1b20": {
          "model_module": "@jupyter-widgets/controls",
          "model_name": "FloatProgressModel",
          "state": {
            "_view_name": "ProgressView",
            "style": "IPY_MODEL_573f35e4d84743ff93aa3b6b59195dcf",
            "_dom_classes": [],
            "description": "",
            "_model_name": "FloatProgressModel",
            "bar_style": "success",
            "max": 1,
            "_view_module": "@jupyter-widgets/controls",
            "_model_module_version": "1.5.0",
            "value": 0,
            "_view_count": null,
            "_view_module_version": "1.5.0",
            "orientation": "horizontal",
            "min": 0,
            "description_tooltip": null,
            "_model_module": "@jupyter-widgets/controls",
            "layout": "IPY_MODEL_4f6f6f21e52e44f1a3b50e6d26ab0109"
          }
        },
        "a8318573b2194f678c120be59bdbed9a": {
          "model_module": "@jupyter-widgets/controls",
          "model_name": "HTMLModel",
          "state": {
            "_view_name": "HTMLView",
            "style": "IPY_MODEL_67553475697e406faac053da78da6b13",
            "_dom_classes": [],
            "description": "",
            "_model_name": "HTMLModel",
            "placeholder": "​",
            "_view_module": "@jupyter-widgets/controls",
            "_model_module_version": "1.5.0",
            "value": " 0/0 [00:00&lt;?, ?it/s]",
            "_view_count": null,
            "_view_module_version": "1.5.0",
            "description_tooltip": null,
            "_model_module": "@jupyter-widgets/controls",
            "layout": "IPY_MODEL_15705e785f904d01a7949d7bafdd07ce"
          }
        },
        "573f35e4d84743ff93aa3b6b59195dcf": {
          "model_module": "@jupyter-widgets/controls",
          "model_name": "ProgressStyleModel",
          "state": {
            "_view_name": "StyleView",
            "_model_name": "ProgressStyleModel",
            "description_width": "initial",
            "_view_module": "@jupyter-widgets/base",
            "_model_module_version": "1.5.0",
            "_view_count": null,
            "_view_module_version": "1.2.0",
            "bar_color": null,
            "_model_module": "@jupyter-widgets/controls"
          }
        },
        "4f6f6f21e52e44f1a3b50e6d26ab0109": {
          "model_module": "@jupyter-widgets/base",
          "model_name": "LayoutModel",
          "state": {
            "_view_name": "LayoutView",
            "grid_template_rows": null,
            "right": null,
            "justify_content": null,
            "_view_module": "@jupyter-widgets/base",
            "overflow": null,
            "_model_module_version": "1.2.0",
            "_view_count": null,
            "flex_flow": null,
            "width": null,
            "min_width": null,
            "border": null,
            "align_items": null,
            "bottom": null,
            "_model_module": "@jupyter-widgets/base",
            "top": null,
            "grid_column": null,
            "overflow_y": null,
            "overflow_x": null,
            "grid_auto_flow": null,
            "grid_area": null,
            "grid_template_columns": null,
            "flex": null,
            "_model_name": "LayoutModel",
            "justify_items": null,
            "grid_row": null,
            "max_height": null,
            "align_content": null,
            "visibility": null,
            "align_self": null,
            "height": null,
            "min_height": null,
            "padding": null,
            "grid_auto_rows": null,
            "grid_gap": null,
            "max_width": null,
            "order": null,
            "_view_module_version": "1.2.0",
            "grid_template_areas": null,
            "object_position": null,
            "object_fit": null,
            "grid_auto_columns": null,
            "margin": null,
            "display": null,
            "left": null
          }
        },
        "67553475697e406faac053da78da6b13": {
          "model_module": "@jupyter-widgets/controls",
          "model_name": "DescriptionStyleModel",
          "state": {
            "_view_name": "StyleView",
            "_model_name": "DescriptionStyleModel",
            "description_width": "",
            "_view_module": "@jupyter-widgets/base",
            "_model_module_version": "1.5.0",
            "_view_count": null,
            "_view_module_version": "1.2.0",
            "_model_module": "@jupyter-widgets/controls"
          }
        },
        "15705e785f904d01a7949d7bafdd07ce": {
          "model_module": "@jupyter-widgets/base",
          "model_name": "LayoutModel",
          "state": {
            "_view_name": "LayoutView",
            "grid_template_rows": null,
            "right": null,
            "justify_content": null,
            "_view_module": "@jupyter-widgets/base",
            "overflow": null,
            "_model_module_version": "1.2.0",
            "_view_count": null,
            "flex_flow": null,
            "width": null,
            "min_width": null,
            "border": null,
            "align_items": null,
            "bottom": null,
            "_model_module": "@jupyter-widgets/base",
            "top": null,
            "grid_column": null,
            "overflow_y": null,
            "overflow_x": null,
            "grid_auto_flow": null,
            "grid_area": null,
            "grid_template_columns": null,
            "flex": null,
            "_model_name": "LayoutModel",
            "justify_items": null,
            "grid_row": null,
            "max_height": null,
            "align_content": null,
            "visibility": null,
            "align_self": null,
            "height": null,
            "min_height": null,
            "padding": null,
            "grid_auto_rows": null,
            "grid_gap": null,
            "max_width": null,
            "order": null,
            "_view_module_version": "1.2.0",
            "grid_template_areas": null,
            "object_position": null,
            "object_fit": null,
            "grid_auto_columns": null,
            "margin": null,
            "display": null,
            "left": null
          }
        },
        "1c820b79f99b4d80be1538f7fecd1163": {
          "model_module": "@jupyter-widgets/controls",
          "model_name": "HBoxModel",
          "state": {
            "_view_name": "HBoxView",
            "_dom_classes": [],
            "_model_name": "HBoxModel",
            "_view_module": "@jupyter-widgets/controls",
            "_model_module_version": "1.5.0",
            "_view_count": null,
            "_view_module_version": "1.5.0",
            "box_style": "",
            "layout": "IPY_MODEL_3913da94e146467980a8e4f883591e74",
            "_model_module": "@jupyter-widgets/controls",
            "children": [
              "IPY_MODEL_04ebe7be6ceb4c339380c826f68df936",
              "IPY_MODEL_70bfa2ee2e2f48abb6ddc66d07a27a56"
            ]
          }
        },
        "3913da94e146467980a8e4f883591e74": {
          "model_module": "@jupyter-widgets/base",
          "model_name": "LayoutModel",
          "state": {
            "_view_name": "LayoutView",
            "grid_template_rows": null,
            "right": null,
            "justify_content": null,
            "_view_module": "@jupyter-widgets/base",
            "overflow": null,
            "_model_module_version": "1.2.0",
            "_view_count": null,
            "flex_flow": null,
            "width": null,
            "min_width": null,
            "border": null,
            "align_items": null,
            "bottom": null,
            "_model_module": "@jupyter-widgets/base",
            "top": null,
            "grid_column": null,
            "overflow_y": null,
            "overflow_x": null,
            "grid_auto_flow": null,
            "grid_area": null,
            "grid_template_columns": null,
            "flex": null,
            "_model_name": "LayoutModel",
            "justify_items": null,
            "grid_row": null,
            "max_height": null,
            "align_content": null,
            "visibility": null,
            "align_self": null,
            "height": null,
            "min_height": null,
            "padding": null,
            "grid_auto_rows": null,
            "grid_gap": null,
            "max_width": null,
            "order": null,
            "_view_module_version": "1.2.0",
            "grid_template_areas": null,
            "object_position": null,
            "object_fit": null,
            "grid_auto_columns": null,
            "margin": null,
            "display": null,
            "left": null
          }
        },
        "04ebe7be6ceb4c339380c826f68df936": {
          "model_module": "@jupyter-widgets/controls",
          "model_name": "FloatProgressModel",
          "state": {
            "_view_name": "ProgressView",
            "style": "IPY_MODEL_1ad8349b14e745c3a4093af948cf7616",
            "_dom_classes": [],
            "description": "  3%",
            "_model_name": "FloatProgressModel",
            "bar_style": "",
            "max": 143,
            "_view_module": "@jupyter-widgets/controls",
            "_model_module_version": "1.5.0",
            "value": 4,
            "_view_count": null,
            "_view_module_version": "1.5.0",
            "orientation": "horizontal",
            "min": 0,
            "description_tooltip": null,
            "_model_module": "@jupyter-widgets/controls",
            "layout": "IPY_MODEL_c33aac28f3e6431487ec11bb5eea7adb"
          }
        },
        "70bfa2ee2e2f48abb6ddc66d07a27a56": {
          "model_module": "@jupyter-widgets/controls",
          "model_name": "HTMLModel",
          "state": {
            "_view_name": "HTMLView",
            "style": "IPY_MODEL_c3037333f3b042a7886e2e4dccca1c99",
            "_dom_classes": [],
            "description": "",
            "_model_name": "HTMLModel",
            "placeholder": "​",
            "_view_module": "@jupyter-widgets/controls",
            "_model_module_version": "1.5.0",
            "value": " 4/143 [00:11&lt;07:04,  3.06s/it]",
            "_view_count": null,
            "_view_module_version": "1.5.0",
            "description_tooltip": null,
            "_model_module": "@jupyter-widgets/controls",
            "layout": "IPY_MODEL_38d751616c0d4c54990732c8346bf7a3"
          }
        },
        "1ad8349b14e745c3a4093af948cf7616": {
          "model_module": "@jupyter-widgets/controls",
          "model_name": "ProgressStyleModel",
          "state": {
            "_view_name": "StyleView",
            "_model_name": "ProgressStyleModel",
            "description_width": "initial",
            "_view_module": "@jupyter-widgets/base",
            "_model_module_version": "1.5.0",
            "_view_count": null,
            "_view_module_version": "1.2.0",
            "bar_color": null,
            "_model_module": "@jupyter-widgets/controls"
          }
        },
        "c33aac28f3e6431487ec11bb5eea7adb": {
          "model_module": "@jupyter-widgets/base",
          "model_name": "LayoutModel",
          "state": {
            "_view_name": "LayoutView",
            "grid_template_rows": null,
            "right": null,
            "justify_content": null,
            "_view_module": "@jupyter-widgets/base",
            "overflow": null,
            "_model_module_version": "1.2.0",
            "_view_count": null,
            "flex_flow": null,
            "width": null,
            "min_width": null,
            "border": null,
            "align_items": null,
            "bottom": null,
            "_model_module": "@jupyter-widgets/base",
            "top": null,
            "grid_column": null,
            "overflow_y": null,
            "overflow_x": null,
            "grid_auto_flow": null,
            "grid_area": null,
            "grid_template_columns": null,
            "flex": null,
            "_model_name": "LayoutModel",
            "justify_items": null,
            "grid_row": null,
            "max_height": null,
            "align_content": null,
            "visibility": null,
            "align_self": null,
            "height": null,
            "min_height": null,
            "padding": null,
            "grid_auto_rows": null,
            "grid_gap": null,
            "max_width": null,
            "order": null,
            "_view_module_version": "1.2.0",
            "grid_template_areas": null,
            "object_position": null,
            "object_fit": null,
            "grid_auto_columns": null,
            "margin": null,
            "display": null,
            "left": null
          }
        },
        "c3037333f3b042a7886e2e4dccca1c99": {
          "model_module": "@jupyter-widgets/controls",
          "model_name": "DescriptionStyleModel",
          "state": {
            "_view_name": "StyleView",
            "_model_name": "DescriptionStyleModel",
            "description_width": "",
            "_view_module": "@jupyter-widgets/base",
            "_model_module_version": "1.5.0",
            "_view_count": null,
            "_view_module_version": "1.2.0",
            "_model_module": "@jupyter-widgets/controls"
          }
        },
        "38d751616c0d4c54990732c8346bf7a3": {
          "model_module": "@jupyter-widgets/base",
          "model_name": "LayoutModel",
          "state": {
            "_view_name": "LayoutView",
            "grid_template_rows": null,
            "right": null,
            "justify_content": null,
            "_view_module": "@jupyter-widgets/base",
            "overflow": null,
            "_model_module_version": "1.2.0",
            "_view_count": null,
            "flex_flow": null,
            "width": null,
            "min_width": null,
            "border": null,
            "align_items": null,
            "bottom": null,
            "_model_module": "@jupyter-widgets/base",
            "top": null,
            "grid_column": null,
            "overflow_y": null,
            "overflow_x": null,
            "grid_auto_flow": null,
            "grid_area": null,
            "grid_template_columns": null,
            "flex": null,
            "_model_name": "LayoutModel",
            "justify_items": null,
            "grid_row": null,
            "max_height": null,
            "align_content": null,
            "visibility": null,
            "align_self": null,
            "height": null,
            "min_height": null,
            "padding": null,
            "grid_auto_rows": null,
            "grid_gap": null,
            "max_width": null,
            "order": null,
            "_view_module_version": "1.2.0",
            "grid_template_areas": null,
            "object_position": null,
            "object_fit": null,
            "grid_auto_columns": null,
            "margin": null,
            "display": null,
            "left": null
          }
        }
      }
    }
  },
  "cells": [
    {
      "cell_type": "markdown",
      "metadata": {
        "id": "view-in-github",
        "colab_type": "text"
      },
      "source": [
        "<a href=\"https://colab.research.google.com/github/hamojb/AD_research/blob/main/colab_playaround.ipynb\" target=\"_parent\"><img src=\"https://colab.research.google.com/assets/colab-badge.svg\" alt=\"Open In Colab\"/></a>"
      ]
    },
    {
      "cell_type": "code",
      "metadata": {
        "id": "sSMWh5bTimA-"
      },
      "source": [
        "import os\n",
        "import numpy as np\n",
        "import pandas as pd\n",
        "import matplotlib.pyplot as plt \n",
        "from nibabel.testing import data_path\n",
        "import tensorflow as tf\n",
        "import nibabel as nib\n",
        "import os, psutil\n",
        "from collections import Counter\n",
        "import nibabel as nib\n",
        "from scipy import ndimage\n",
        "from tqdm.notebook import tqdm, trange\n",
        "import time\n",
        "import os\n",
        "import zipfile\n",
        "import numpy as np\n",
        "import tensorflow as tf\n",
        "from tensorflow import keras\n",
        "from tensorflow.keras import layers"
      ],
      "execution_count": null,
      "outputs": []
    },
    {
      "cell_type": "code",
      "metadata": {
        "colab": {
          "base_uri": "https://localhost:8080/",
          "height": 35
        },
        "id": "kymLR49XDffI",
        "outputId": "c434aaa7-4e69-43f0-ff66-8fa05a9743fb"
      },
      "source": [
        "tf.test.gpu_device_name()"
      ],
      "execution_count": null,
      "outputs": [
        {
          "output_type": "execute_result",
          "data": {
            "application/vnd.google.colaboratory.intrinsic+json": {
              "type": "string"
            },
            "text/plain": [
              "'/device:GPU:0'"
            ]
          },
          "metadata": {
            "tags": []
          },
          "execution_count": 117
        }
      ]
    },
    {
      "cell_type": "code",
      "metadata": {
        "colab": {
          "base_uri": "https://localhost:8080/"
        },
        "id": "rJP9-nfyb2mw",
        "outputId": "ec976a26-7712-4d9e-a7a1-bcf6764df7b6"
      },
      "source": [
        "from tensorflow.python.client import device_lib\n",
        "device_lib.list_local_devices()"
      ],
      "execution_count": null,
      "outputs": [
        {
          "output_type": "execute_result",
          "data": {
            "text/plain": [
              "[name: \"/device:CPU:0\"\n",
              " device_type: \"CPU\"\n",
              " memory_limit: 268435456\n",
              " locality {\n",
              " }\n",
              " incarnation: 6642028162467835544, name: \"/device:GPU:0\"\n",
              " device_type: \"GPU\"\n",
              " memory_limit: 14509932544\n",
              " locality {\n",
              "   bus_id: 1\n",
              "   links {\n",
              "   }\n",
              " }\n",
              " incarnation: 8489324684685324287\n",
              " physical_device_desc: \"device: 0, name: Tesla T4, pci bus id: 0000:00:04.0, compute capability: 7.5\"]"
            ]
          },
          "metadata": {
            "tags": []
          },
          "execution_count": 118
        }
      ]
    },
    {
      "cell_type": "markdown",
      "metadata": {
        "id": "lvC1Wkl_i06t"
      },
      "source": [
        "# Define Helper Functions\n",
        "\n",
        "We define a number of functions that will be required in reading and re-structuring the data before we build our CNN models. "
      ]
    },
    {
      "cell_type": "code",
      "metadata": {
        "id": "7p5HvlDESIdH"
      },
      "source": [
        "def read_nifti_file(filepath):\n",
        "    \"\"\"Read and load volume\"\"\"\n",
        "    # Read file\n",
        "    scan = nib.load(filepath)\n",
        "    # Get raw data\n",
        "    scan = scan.get_fdata()\n",
        "    return scan\n",
        "\n",
        "\n",
        "def normalize(volume):\n",
        "    \"\"\"Normalize the volume\"\"\"\n",
        "    min = -1000\n",
        "    max = 400\n",
        "    volume[volume < min] = min\n",
        "    volume[volume > max] = max\n",
        "    volume = (volume - min) / (max - min)\n",
        "    volume = volume.astype(\"float32\")\n",
        "    return volume\n",
        "\n",
        "\n",
        "def resize_volume(img):\n",
        "    \"\"\"Resize across z-axis\"\"\"\n",
        "    # Set the desired depth\n",
        "    desired_depth = 64\n",
        "    desired_width = 128\n",
        "    desired_height = 128\n",
        "    # Get current depth\n",
        "    current_depth = img.shape[-1]\n",
        "    current_width = img.shape[0]\n",
        "    current_height = img.shape[1]\n",
        "    # Compute depth factor\n",
        "    depth = current_depth / desired_depth\n",
        "    width = current_width / desired_width\n",
        "    height = current_height / desired_height\n",
        "    depth_factor = 1 / depth\n",
        "    width_factor = 1 / width\n",
        "    height_factor = 1 / height\n",
        "    # Rotate\n",
        "    img = ndimage.rotate(img, 90, reshape=False)\n",
        "    # Resize across z-axis\n",
        "    img = ndimage.zoom(img, (width_factor, height_factor, depth_factor), order=1)\n",
        "    return img\n",
        "\n",
        "\n",
        "def process_scan(path):\n",
        "    \"\"\"Read and resize volume\"\"\"\n",
        "    # Read scan\n",
        "    volume = read_nifti_file(path)\n",
        "    # Normalize\n",
        "    volume = normalize(volume)\n",
        "    # Resize width, height and depth\n",
        "    volume = resize_volume(volume)\n",
        "    return volume\n",
        "\n",
        "def show_slices(slices, col = None):\n",
        "  \"\"\" Function to display row of image slices \"\"\"\n",
        "  fig, axes = plt.subplots(1, len(slices))\n",
        "  for i, slice in enumerate(slices):\n",
        "      axes[i].imshow(slice.T, cmap=col, origin=\"lower\")\n",
        "  return\n",
        "\n",
        "# def read_data(data_path: str): \n",
        "#   \"\"\" Function to read in data of each brain scan \"\"\"\n",
        "#   temp_path = os.path.join(data_path)\n",
        "#   temp_img = nib.load(temp_path)\n",
        "#   # return temp_img\n",
        "#   temp_data = temp_img.get_fdata()\n",
        "#   return temp_data\n",
        "\n",
        "\n",
        "\n",
        "# def produce_image(data_path: str): \n",
        "#   \"\"\" Function to read in data of each brain scan \"\"\"\n",
        "#   temp_path = os.path.join(data_path)\n",
        "#   temp_img = nib.load(temp_path)\n",
        "#   return temp_img\n",
        "\n",
        "# def populate_images(oasis_dir):#, df):\n",
        "#   \"\"\" Function to populate data \"\"\" \n",
        "#   data = []\n",
        "#   images = []\n",
        "#   filenames = []\n",
        "#   for filename in os.listdir(oasis_dir):\n",
        "#     print(filename)\n",
        "#     # if file_str in df\n",
        "#       # new_data, img = read_data(oasis_dir + filename)\n",
        "#       # data.append(new_data)\n",
        "#       # images.append(img)\n",
        "#   return data, images, filenames\n",
        "\n",
        "# def populate_images(oasis_dir, train_val_test):\n",
        "#   \"\"\" Function to populate data \"\"\" \n",
        "#   ret_df = {}\n",
        "#   for filename in os.listdir(oasis_dir):\n",
        "#     new_str = filename.split(\".\")[0].split(\"_\")[0]\n",
        "#     scan = filename.split(\".\")[0]\n",
        "#     if new_str in train_val_test:\n",
        "#       new_data = read_data(oasis_dir + filename)\n",
        "#       ret_df[scan] = new_data\n",
        "#     else: \n",
        "#       continue\n",
        "    \n",
        "#   return ret_df\n",
        "\n",
        "def match_data(scan_data, diagnosis_data): \n",
        "  empty_df = pd.DataFrame()\n",
        "  scan_patients = list(set(scan_data.Subject.values))\n",
        "  for patient in scan_patients:\n",
        "    temp_scans = scan_data[scan_data['Subject'] == patient]\n",
        "    temp_scans = temp_scans.sort_values('ID')\n",
        "    temp_diag = diagnosis_data[diagnosis_data['Subject'] == patient]\n",
        "    temp_diag = temp_diag.sort_values('ID')\n",
        "    test = pd.merge_asof(temp_scans, temp_diag, on=\"ID\", allow_exact_matches=True, direction = \"forward\")\n",
        "    empty_df = empty_df.append(test)\n",
        "  empty_df = empty_df.drop(columns = ['Inserted_x', 'Inserted_y', 'Subject_y', 'ageAtEntry'])\n",
        "  empty_df = empty_df.rename(columns = {\"Subject_x\":\"Subject\",\"FS_FSDATA ID\":\"MRI_ID\"})\n",
        "  empty_df = empty_df.reset_index().drop(columns = [\"index\"])\n",
        "  empty_df = empty_df.dropna()\n",
        "  return empty_df"
      ],
      "execution_count": null,
      "outputs": []
    },
    {
      "cell_type": "markdown",
      "metadata": {
        "id": "rwPrxUngtUSO"
      },
      "source": [
        "Quick demonstation on how to read the data in using the `nibabel` package"
      ]
    },
    {
      "cell_type": "code",
      "metadata": {
        "id": "PxwFfu6jooVC"
      },
      "source": [
        "path = os.path.join(\"/content/drive/MyDrive/oasis_original/OAS30001_Freesurfer53_d0129.mgz.nii.gz\")\n",
        "img = nib.load(path)\n",
        "data = img.get_fdata()"
      ],
      "execution_count": null,
      "outputs": []
    },
    {
      "cell_type": "code",
      "metadata": {
        "colab": {
          "base_uri": "https://localhost:8080/",
          "height": 146
        },
        "id": "FanObE-3RRKw",
        "outputId": "a1ba6150-2916-4f78-d40d-168e8e99323d"
      },
      "source": [
        "slice_0 = data[128, :, :]\n",
        "slice_1 = data[:, 128, :]\n",
        "slice_2 = data[:, :, 128]\n",
        "show_slices([slice_0, slice_1, slice_2], \"gray\")"
      ],
      "execution_count": null,
      "outputs": [
        {
          "output_type": "display_data",
          "data": {
            "image/png": "[encoded data removed]",
            "text/plain": [
              "<Figure size 432x288 with 3 Axes>"
            ]
          },
          "metadata": {
            "tags": [],
            "needs_background": "light"
          }
        }
      ]
    },
    {
      "cell_type": "markdown",
      "metadata": {
        "id": "ww0x14fpi9Ei"
      },
      "source": [
        "Define functions to read all data in from `oasis_originals`. \n",
        "\n",
        "# Read data and store in variable. \n",
        "\n",
        "We initially look to define the original data frame that we will be working in. This requires linking the CDR scores with each scan. There are a few complexities in this process. Most notably: The \"days\" section of our MRI ID's do not match the \"days\" for the CDR score. To counter this we have made the assumption that for each patient, it is safe to say that closest diagnosis following an MRI scan is the corresponding diagnosis to said scan. \n",
        "\n",
        "Following this, we have begun working on reading our data in according to a number of set rules. Since we have longitudinal data, we must ensure that no patient exists across different training/validation/test sets (Training and non-training being most crucial). \n",
        "\n",
        "There are other requirements and these have been documented throughout the process. \n",
        "\n",
        "### Clinical Data (Contains CDR score)"
      ]
    },
    {
      "cell_type": "code",
      "metadata": {
        "id": "04J0X9hk6cPY"
      },
      "source": [
        "clinical_data = pd.read_csv(\"/content/drive/MyDrive/extra_data/clinical_data.csv\")\n",
        "clinical_data['ID'] = clinical_data['ADRC_ADRCCLINICALDATA ID'].str.split('_ClinicalData_', 1, expand=True)[1]\n",
        "clinical_data = clinical_data.drop(columns = ['ADRC_ADRCCLINICALDATA ID', 'Date', 'Subject.1', 'id'])\n",
        "clinical_data['Inserted'] = pd.to_datetime(clinical_data['Inserted'])\n",
        "clinical_data['ID'] = clinical_data['ID'].str.extract('(\\d+)', expand=False).astype(int)"
      ],
      "execution_count": null,
      "outputs": []
    },
    {
      "cell_type": "code",
      "metadata": {
        "colab": {
          "base_uri": "https://localhost:8080/",
          "height": 417
        },
        "id": "YacGM4POJUU0",
        "outputId": "43f7e327-88de-4c0b-edbb-6403a1f1de26"
      },
      "source": [
        "clinical_data"
      ],
      "execution_count": null,
      "outputs": [
        {
          "output_type": "execute_result",
          "data": {
            "text/html": [
              "<div>\n",
              "<style scoped>\n",
              "    .dataframe tbody tr th:only-of-type {\n",
              "        vertical-align: middle;\n",
              "    }\n",
              "\n",
              "    .dataframe tbody tr th {\n",
              "        vertical-align: top;\n",
              "    }\n",
              "\n",
              "    .dataframe thead th {\n",
              "        text-align: right;\n",
              "    }\n",
              "</style>\n",
              "<table border=\"1\" class=\"dataframe\">\n",
              "  <thead>\n",
              "    <tr style=\"text-align: right;\">\n",
              "      <th></th>\n",
              "      <th>Subject</th>\n",
              "      <th>ageAtEntry</th>\n",
              "      <th>cdr</th>\n",
              "      <th>Inserted</th>\n",
              "      <th>ID</th>\n",
              "    </tr>\n",
              "  </thead>\n",
              "  <tbody>\n",
              "    <tr>\n",
              "      <th>0</th>\n",
              "      <td>OAS30001</td>\n",
              "      <td>65.149895</td>\n",
              "      <td>0.0</td>\n",
              "      <td>2017-12-20 10:54:32.956</td>\n",
              "      <td>0</td>\n",
              "    </tr>\n",
              "    <tr>\n",
              "      <th>1</th>\n",
              "      <td>OAS30001</td>\n",
              "      <td>65.149895</td>\n",
              "      <td>0.0</td>\n",
              "      <td>2017-12-20 10:54:33.466</td>\n",
              "      <td>339</td>\n",
              "    </tr>\n",
              "    <tr>\n",
              "      <th>2</th>\n",
              "      <td>OAS30001</td>\n",
              "      <td>65.149895</td>\n",
              "      <td>0.0</td>\n",
              "      <td>2017-12-20 10:54:33.673</td>\n",
              "      <td>722</td>\n",
              "    </tr>\n",
              "    <tr>\n",
              "      <th>3</th>\n",
              "      <td>OAS30001</td>\n",
              "      <td>65.149895</td>\n",
              "      <td>0.0</td>\n",
              "      <td>2017-12-20 10:54:33.891</td>\n",
              "      <td>1106</td>\n",
              "    </tr>\n",
              "    <tr>\n",
              "      <th>4</th>\n",
              "      <td>OAS30001</td>\n",
              "      <td>65.149895</td>\n",
              "      <td>0.0</td>\n",
              "      <td>2017-12-20 10:54:34.117</td>\n",
              "      <td>1456</td>\n",
              "    </tr>\n",
              "    <tr>\n",
              "      <th>...</th>\n",
              "      <td>...</td>\n",
              "      <td>...</td>\n",
              "      <td>...</td>\n",
              "      <td>...</td>\n",
              "      <td>...</td>\n",
              "    </tr>\n",
              "    <tr>\n",
              "      <th>6219</th>\n",
              "      <td>OAS31172</td>\n",
              "      <td>70.902120</td>\n",
              "      <td>0.0</td>\n",
              "      <td>2017-12-20 14:50:44.860</td>\n",
              "      <td>1215</td>\n",
              "    </tr>\n",
              "    <tr>\n",
              "      <th>6220</th>\n",
              "      <td>OAS31172</td>\n",
              "      <td>70.902120</td>\n",
              "      <td>0.0</td>\n",
              "      <td>2017-12-20 14:50:45.131</td>\n",
              "      <td>1565</td>\n",
              "    </tr>\n",
              "    <tr>\n",
              "      <th>6221</th>\n",
              "      <td>OAS31172</td>\n",
              "      <td>70.902120</td>\n",
              "      <td>0.0</td>\n",
              "      <td>2017-12-20 14:50:45.404</td>\n",
              "      <td>1908</td>\n",
              "    </tr>\n",
              "    <tr>\n",
              "      <th>6222</th>\n",
              "      <td>OAS31172</td>\n",
              "      <td>70.902120</td>\n",
              "      <td>0.0</td>\n",
              "      <td>2017-12-20 14:50:45.679</td>\n",
              "      <td>2816</td>\n",
              "    </tr>\n",
              "    <tr>\n",
              "      <th>6223</th>\n",
              "      <td>OAS31172</td>\n",
              "      <td>70.902120</td>\n",
              "      <td>0.0</td>\n",
              "      <td>2017-12-20 14:50:45.983</td>\n",
              "      <td>3294</td>\n",
              "    </tr>\n",
              "  </tbody>\n",
              "</table>\n",
              "<p>6224 rows × 5 columns</p>\n",
              "</div>"
            ],
            "text/plain": [
              "       Subject  ageAtEntry  cdr                Inserted    ID\n",
              "0     OAS30001   65.149895  0.0 2017-12-20 10:54:32.956     0\n",
              "1     OAS30001   65.149895  0.0 2017-12-20 10:54:33.466   339\n",
              "2     OAS30001   65.149895  0.0 2017-12-20 10:54:33.673   722\n",
              "3     OAS30001   65.149895  0.0 2017-12-20 10:54:33.891  1106\n",
              "4     OAS30001   65.149895  0.0 2017-12-20 10:54:34.117  1456\n",
              "...        ...         ...  ...                     ...   ...\n",
              "6219  OAS31172   70.902120  0.0 2017-12-20 14:50:44.860  1215\n",
              "6220  OAS31172   70.902120  0.0 2017-12-20 14:50:45.131  1565\n",
              "6221  OAS31172   70.902120  0.0 2017-12-20 14:50:45.404  1908\n",
              "6222  OAS31172   70.902120  0.0 2017-12-20 14:50:45.679  2816\n",
              "6223  OAS31172   70.902120  0.0 2017-12-20 14:50:45.983  3294\n",
              "\n",
              "[6224 rows x 5 columns]"
            ]
          },
          "metadata": {
            "tags": []
          },
          "execution_count": 123
        }
      ]
    },
    {
      "cell_type": "markdown",
      "metadata": {
        "id": "Bw5Clo2orYpV"
      },
      "source": [
        "### Scan Data (contains both scan information and the scan itself)"
      ]
    },
    {
      "cell_type": "code",
      "metadata": {
        "id": "g16kf9FQMPQO"
      },
      "source": [
        "scan_info = pd.read_csv(\"/content/drive/MyDrive/extra_data/freesurfers_mri_info.csv\")\n",
        "scan_info['ID'] = scan_info['FS_FSDATA ID'].str.split('_Freesurfer', 1, expand = True)[1]\n",
        "scan_info = scan_info.drop(columns = ['Session', 'FS Date'])\n",
        "scan_info.ID = scan_info.ID.str[3:]\n",
        "scan_info['Inserted'] = pd.to_datetime(scan_info['Inserted'])\n",
        "scan_info['ID'] = scan_info['ID'].str.extract('(\\d+)', expand=False).astype(int)"
      ],
      "execution_count": null,
      "outputs": []
    },
    {
      "cell_type": "code",
      "metadata": {
        "colab": {
          "base_uri": "https://localhost:8080/",
          "height": 417
        },
        "id": "jwkFopA2JVk2",
        "outputId": "2be11725-9f6e-421b-db94-6d92fcc21740"
      },
      "source": [
        "scan_info"
      ],
      "execution_count": null,
      "outputs": [
        {
          "output_type": "execute_result",
          "data": {
            "text/html": [
              "<div>\n",
              "<style scoped>\n",
              "    .dataframe tbody tr th:only-of-type {\n",
              "        vertical-align: middle;\n",
              "    }\n",
              "\n",
              "    .dataframe tbody tr th {\n",
              "        vertical-align: top;\n",
              "    }\n",
              "\n",
              "    .dataframe thead th {\n",
              "        text-align: right;\n",
              "    }\n",
              "</style>\n",
              "<table border=\"1\" class=\"dataframe\">\n",
              "  <thead>\n",
              "    <tr style=\"text-align: right;\">\n",
              "      <th></th>\n",
              "      <th>FS_FSDATA ID</th>\n",
              "      <th>Subject</th>\n",
              "      <th>Inserted</th>\n",
              "      <th>ID</th>\n",
              "    </tr>\n",
              "  </thead>\n",
              "  <tbody>\n",
              "    <tr>\n",
              "      <th>0</th>\n",
              "      <td>OAS30001_Freesurfer53_d0129</td>\n",
              "      <td>OAS30001</td>\n",
              "      <td>2017-11-15 13:26:34.150</td>\n",
              "      <td>129</td>\n",
              "    </tr>\n",
              "    <tr>\n",
              "      <th>1</th>\n",
              "      <td>OAS30001_Freesurfer53_d0757</td>\n",
              "      <td>OAS30001</td>\n",
              "      <td>2017-12-13 13:44:44.891</td>\n",
              "      <td>757</td>\n",
              "    </tr>\n",
              "    <tr>\n",
              "      <th>2</th>\n",
              "      <td>OAS30001_Freesurfer53_d2430</td>\n",
              "      <td>OAS30001</td>\n",
              "      <td>2017-11-15 11:10:13.939</td>\n",
              "      <td>2430</td>\n",
              "    </tr>\n",
              "    <tr>\n",
              "      <th>3</th>\n",
              "      <td>OAS30001_Freesurfer53_d3132</td>\n",
              "      <td>OAS30001</td>\n",
              "      <td>2017-10-20 12:44:27.928</td>\n",
              "      <td>3132</td>\n",
              "    </tr>\n",
              "    <tr>\n",
              "      <th>4</th>\n",
              "      <td>OAS30002_Freesurfer53_d0653</td>\n",
              "      <td>OAS30002</td>\n",
              "      <td>2017-11-10 12:45:42.205</td>\n",
              "      <td>653</td>\n",
              "    </tr>\n",
              "    <tr>\n",
              "      <th>...</th>\n",
              "      <td>...</td>\n",
              "      <td>...</td>\n",
              "      <td>...</td>\n",
              "      <td>...</td>\n",
              "    </tr>\n",
              "    <tr>\n",
              "      <th>2042</th>\n",
              "      <td>OAS31168_Freesurfer53_d2526</td>\n",
              "      <td>OAS31168</td>\n",
              "      <td>2017-11-09 14:22:52.248</td>\n",
              "      <td>2526</td>\n",
              "    </tr>\n",
              "    <tr>\n",
              "      <th>2043</th>\n",
              "      <td>OAS31169_Freesurfer53_d0620</td>\n",
              "      <td>OAS31169</td>\n",
              "      <td>2017-10-18 15:15:06.880</td>\n",
              "      <td>620</td>\n",
              "    </tr>\n",
              "    <tr>\n",
              "      <th>2044</th>\n",
              "      <td>OAS31170_Freesurfer53_d2410</td>\n",
              "      <td>OAS31170</td>\n",
              "      <td>2017-10-18 15:15:06.574</td>\n",
              "      <td>2410</td>\n",
              "    </tr>\n",
              "    <tr>\n",
              "      <th>2045</th>\n",
              "      <td>OAS31172_Freesurfer53_d0407</td>\n",
              "      <td>OAS31172</td>\n",
              "      <td>2017-10-18 15:15:06.817</td>\n",
              "      <td>407</td>\n",
              "    </tr>\n",
              "    <tr>\n",
              "      <th>2046</th>\n",
              "      <td>OAS31172_Freesurfer53_d1717</td>\n",
              "      <td>OAS31172</td>\n",
              "      <td>2017-10-18 15:15:06.584</td>\n",
              "      <td>1717</td>\n",
              "    </tr>\n",
              "  </tbody>\n",
              "</table>\n",
              "<p>2047 rows × 4 columns</p>\n",
              "</div>"
            ],
            "text/plain": [
              "                     FS_FSDATA ID   Subject                Inserted    ID\n",
              "0     OAS30001_Freesurfer53_d0129  OAS30001 2017-11-15 13:26:34.150   129\n",
              "1     OAS30001_Freesurfer53_d0757  OAS30001 2017-12-13 13:44:44.891   757\n",
              "2     OAS30001_Freesurfer53_d2430  OAS30001 2017-11-15 11:10:13.939  2430\n",
              "3     OAS30001_Freesurfer53_d3132  OAS30001 2017-10-20 12:44:27.928  3132\n",
              "4     OAS30002_Freesurfer53_d0653  OAS30002 2017-11-10 12:45:42.205   653\n",
              "...                           ...       ...                     ...   ...\n",
              "2042  OAS31168_Freesurfer53_d2526  OAS31168 2017-11-09 14:22:52.248  2526\n",
              "2043  OAS31169_Freesurfer53_d0620  OAS31169 2017-10-18 15:15:06.880   620\n",
              "2044  OAS31170_Freesurfer53_d2410  OAS31170 2017-10-18 15:15:06.574  2410\n",
              "2045  OAS31172_Freesurfer53_d0407  OAS31172 2017-10-18 15:15:06.817   407\n",
              "2046  OAS31172_Freesurfer53_d1717  OAS31172 2017-10-18 15:15:06.584  1717\n",
              "\n",
              "[2047 rows x 4 columns]"
            ]
          },
          "metadata": {
            "tags": []
          },
          "execution_count": 125
        }
      ]
    },
    {
      "cell_type": "markdown",
      "metadata": {
        "id": "-43ZgXlvre4P"
      },
      "source": [
        "### Match Clinical and Scan Data\n",
        "\n",
        "Here is where we match the data according the previously specified assumption. To debug code see the `Helper Function` section. "
      ]
    },
    {
      "cell_type": "code",
      "metadata": {
        "colab": {
          "base_uri": "https://localhost:8080/",
          "height": 417
        },
        "id": "AhNiWE0gJn0K",
        "outputId": "54179d06-bf3f-4eb7-b7bb-da8bb5a8cff8"
      },
      "source": [
        "scan_and_diag = match_data(scan_info, clinical_data)\n",
        "scans_sorted = scan_and_diag.sort_values([\"Subject\", \"ID\"]).reset_index().drop(columns = [\"index\", \"ID\"])\n",
        "scans_sorted"
      ],
      "execution_count": null,
      "outputs": [
        {
          "output_type": "execute_result",
          "data": {
            "text/html": [
              "<div>\n",
              "<style scoped>\n",
              "    .dataframe tbody tr th:only-of-type {\n",
              "        vertical-align: middle;\n",
              "    }\n",
              "\n",
              "    .dataframe tbody tr th {\n",
              "        vertical-align: top;\n",
              "    }\n",
              "\n",
              "    .dataframe thead th {\n",
              "        text-align: right;\n",
              "    }\n",
              "</style>\n",
              "<table border=\"1\" class=\"dataframe\">\n",
              "  <thead>\n",
              "    <tr style=\"text-align: right;\">\n",
              "      <th></th>\n",
              "      <th>MRI_ID</th>\n",
              "      <th>Subject</th>\n",
              "      <th>cdr</th>\n",
              "    </tr>\n",
              "  </thead>\n",
              "  <tbody>\n",
              "    <tr>\n",
              "      <th>0</th>\n",
              "      <td>OAS30001_Freesurfer53_d0129</td>\n",
              "      <td>OAS30001</td>\n",
              "      <td>0.0</td>\n",
              "    </tr>\n",
              "    <tr>\n",
              "      <th>1</th>\n",
              "      <td>OAS30001_Freesurfer53_d0757</td>\n",
              "      <td>OAS30001</td>\n",
              "      <td>0.0</td>\n",
              "    </tr>\n",
              "    <tr>\n",
              "      <th>2</th>\n",
              "      <td>OAS30001_Freesurfer53_d2430</td>\n",
              "      <td>OAS30001</td>\n",
              "      <td>0.0</td>\n",
              "    </tr>\n",
              "    <tr>\n",
              "      <th>3</th>\n",
              "      <td>OAS30001_Freesurfer53_d3132</td>\n",
              "      <td>OAS30001</td>\n",
              "      <td>0.0</td>\n",
              "    </tr>\n",
              "    <tr>\n",
              "      <th>4</th>\n",
              "      <td>OAS30002_Freesurfer53_d0653</td>\n",
              "      <td>OAS30002</td>\n",
              "      <td>0.0</td>\n",
              "    </tr>\n",
              "    <tr>\n",
              "      <th>...</th>\n",
              "      <td>...</td>\n",
              "      <td>...</td>\n",
              "      <td>...</td>\n",
              "    </tr>\n",
              "    <tr>\n",
              "      <th>1824</th>\n",
              "      <td>OAS31168_Freesurfer53_d2526</td>\n",
              "      <td>OAS31168</td>\n",
              "      <td>0.0</td>\n",
              "    </tr>\n",
              "    <tr>\n",
              "      <th>1825</th>\n",
              "      <td>OAS31169_Freesurfer53_d0620</td>\n",
              "      <td>OAS31169</td>\n",
              "      <td>0.5</td>\n",
              "    </tr>\n",
              "    <tr>\n",
              "      <th>1826</th>\n",
              "      <td>OAS31170_Freesurfer53_d2410</td>\n",
              "      <td>OAS31170</td>\n",
              "      <td>1.0</td>\n",
              "    </tr>\n",
              "    <tr>\n",
              "      <th>1827</th>\n",
              "      <td>OAS31172_Freesurfer53_d0407</td>\n",
              "      <td>OAS31172</td>\n",
              "      <td>0.0</td>\n",
              "    </tr>\n",
              "    <tr>\n",
              "      <th>1828</th>\n",
              "      <td>OAS31172_Freesurfer53_d1717</td>\n",
              "      <td>OAS31172</td>\n",
              "      <td>0.0</td>\n",
              "    </tr>\n",
              "  </tbody>\n",
              "</table>\n",
              "<p>1829 rows × 3 columns</p>\n",
              "</div>"
            ],
            "text/plain": [
              "                           MRI_ID   Subject  cdr\n",
              "0     OAS30001_Freesurfer53_d0129  OAS30001  0.0\n",
              "1     OAS30001_Freesurfer53_d0757  OAS30001  0.0\n",
              "2     OAS30001_Freesurfer53_d2430  OAS30001  0.0\n",
              "3     OAS30001_Freesurfer53_d3132  OAS30001  0.0\n",
              "4     OAS30002_Freesurfer53_d0653  OAS30002  0.0\n",
              "...                           ...       ...  ...\n",
              "1824  OAS31168_Freesurfer53_d2526  OAS31168  0.0\n",
              "1825  OAS31169_Freesurfer53_d0620  OAS31169  0.5\n",
              "1826  OAS31170_Freesurfer53_d2410  OAS31170  1.0\n",
              "1827  OAS31172_Freesurfer53_d0407  OAS31172  0.0\n",
              "1828  OAS31172_Freesurfer53_d1717  OAS31172  0.0\n",
              "\n",
              "[1829 rows x 3 columns]"
            ]
          },
          "metadata": {
            "tags": []
          },
          "execution_count": 126
        }
      ]
    },
    {
      "cell_type": "markdown",
      "metadata": {
        "id": "bJCHuBxQsrkk"
      },
      "source": [
        "This `ALTERNATIVE_CASE` part isn't exactly necessary. I was initially tossing up between leaving the CDR scores as the raw number for an output but have decided that 'HC', 'MCI' and 'AD' are better classifiers (not that it matters, at all)."
      ]
    },
    {
      "cell_type": "code",
      "metadata": {
        "colab": {
          "base_uri": "https://localhost:8080/",
          "height": 417
        },
        "id": "6Q2ipJcFVpVK",
        "outputId": "5ba866aa-d163-49b8-bad1-9ba94b36b2aa"
      },
      "source": [
        "ALTERNATIVE_CASE = True\n",
        "if ALTERNATIVE_CASE: \n",
        "  scans_sorted['cdr'] = scans_sorted['cdr'].astype(str).replace({'0.0':'HC', '0.5': 'MCI', '1.0': 'MCI', '2.0': 'AD', '3.0': 'AD'})\n",
        "scans_sorted"
      ],
      "execution_count": null,
      "outputs": [
        {
          "output_type": "execute_result",
          "data": {
            "text/html": [
              "<div>\n",
              "<style scoped>\n",
              "    .dataframe tbody tr th:only-of-type {\n",
              "        vertical-align: middle;\n",
              "    }\n",
              "\n",
              "    .dataframe tbody tr th {\n",
              "        vertical-align: top;\n",
              "    }\n",
              "\n",
              "    .dataframe thead th {\n",
              "        text-align: right;\n",
              "    }\n",
              "</style>\n",
              "<table border=\"1\" class=\"dataframe\">\n",
              "  <thead>\n",
              "    <tr style=\"text-align: right;\">\n",
              "      <th></th>\n",
              "      <th>MRI_ID</th>\n",
              "      <th>Subject</th>\n",
              "      <th>cdr</th>\n",
              "    </tr>\n",
              "  </thead>\n",
              "  <tbody>\n",
              "    <tr>\n",
              "      <th>0</th>\n",
              "      <td>OAS30001_Freesurfer53_d0129</td>\n",
              "      <td>OAS30001</td>\n",
              "      <td>HC</td>\n",
              "    </tr>\n",
              "    <tr>\n",
              "      <th>1</th>\n",
              "      <td>OAS30001_Freesurfer53_d0757</td>\n",
              "      <td>OAS30001</td>\n",
              "      <td>HC</td>\n",
              "    </tr>\n",
              "    <tr>\n",
              "      <th>2</th>\n",
              "      <td>OAS30001_Freesurfer53_d2430</td>\n",
              "      <td>OAS30001</td>\n",
              "      <td>HC</td>\n",
              "    </tr>\n",
              "    <tr>\n",
              "      <th>3</th>\n",
              "      <td>OAS30001_Freesurfer53_d3132</td>\n",
              "      <td>OAS30001</td>\n",
              "      <td>HC</td>\n",
              "    </tr>\n",
              "    <tr>\n",
              "      <th>4</th>\n",
              "      <td>OAS30002_Freesurfer53_d0653</td>\n",
              "      <td>OAS30002</td>\n",
              "      <td>HC</td>\n",
              "    </tr>\n",
              "    <tr>\n",
              "      <th>...</th>\n",
              "      <td>...</td>\n",
              "      <td>...</td>\n",
              "      <td>...</td>\n",
              "    </tr>\n",
              "    <tr>\n",
              "      <th>1824</th>\n",
              "      <td>OAS31168_Freesurfer53_d2526</td>\n",
              "      <td>OAS31168</td>\n",
              "      <td>HC</td>\n",
              "    </tr>\n",
              "    <tr>\n",
              "      <th>1825</th>\n",
              "      <td>OAS31169_Freesurfer53_d0620</td>\n",
              "      <td>OAS31169</td>\n",
              "      <td>MCI</td>\n",
              "    </tr>\n",
              "    <tr>\n",
              "      <th>1826</th>\n",
              "      <td>OAS31170_Freesurfer53_d2410</td>\n",
              "      <td>OAS31170</td>\n",
              "      <td>MCI</td>\n",
              "    </tr>\n",
              "    <tr>\n",
              "      <th>1827</th>\n",
              "      <td>OAS31172_Freesurfer53_d0407</td>\n",
              "      <td>OAS31172</td>\n",
              "      <td>HC</td>\n",
              "    </tr>\n",
              "    <tr>\n",
              "      <th>1828</th>\n",
              "      <td>OAS31172_Freesurfer53_d1717</td>\n",
              "      <td>OAS31172</td>\n",
              "      <td>HC</td>\n",
              "    </tr>\n",
              "  </tbody>\n",
              "</table>\n",
              "<p>1829 rows × 3 columns</p>\n",
              "</div>"
            ],
            "text/plain": [
              "                           MRI_ID   Subject  cdr\n",
              "0     OAS30001_Freesurfer53_d0129  OAS30001   HC\n",
              "1     OAS30001_Freesurfer53_d0757  OAS30001   HC\n",
              "2     OAS30001_Freesurfer53_d2430  OAS30001   HC\n",
              "3     OAS30001_Freesurfer53_d3132  OAS30001   HC\n",
              "4     OAS30002_Freesurfer53_d0653  OAS30002   HC\n",
              "...                           ...       ...  ...\n",
              "1824  OAS31168_Freesurfer53_d2526  OAS31168   HC\n",
              "1825  OAS31169_Freesurfer53_d0620  OAS31169  MCI\n",
              "1826  OAS31170_Freesurfer53_d2410  OAS31170  MCI\n",
              "1827  OAS31172_Freesurfer53_d0407  OAS31172   HC\n",
              "1828  OAS31172_Freesurfer53_d1717  OAS31172   HC\n",
              "\n",
              "[1829 rows x 3 columns]"
            ]
          },
          "metadata": {
            "tags": []
          },
          "execution_count": 127
        }
      ]
    },
    {
      "cell_type": "markdown",
      "metadata": {
        "id": "YeJ3gxa8Ja68"
      },
      "source": [
        "### Populating scan and label lists \n",
        "\n",
        "We now have a full data set containing the MRI_ID, Subject and their CDR score. From here, we will begin to populate the data set with scans and labels. The following steps get quite tricky given the previously mentioned specifications. \n",
        "\n",
        "We will first obtain a list of the scans that exist within our repository as there are some scans in the above data frame which do not exist in the original data and can, obviously, not be used to train or test the model. \n"
      ]
    },
    {
      "cell_type": "code",
      "metadata": {
        "id": "scENkrWR_Wzu"
      },
      "source": [
        "lst_scans = list(os.listdir(r'/content/drive/MyDrive/oasis_original/'))\n",
        "our_scans =[] \n",
        "for i in lst_scans: \n",
        "  our_scans.append(i.split('.')[0])"
      ],
      "execution_count": null,
      "outputs": []
    },
    {
      "cell_type": "markdown",
      "metadata": {
        "id": "SfbdunGz0TBx"
      },
      "source": [
        "We know it runs now... as such, I will just run everything on the first 10% of the data. To run it on all the data just remove the cell below. "
      ]
    },
    {
      "cell_type": "code",
      "metadata": {
        "id": "RfQjrG3D0ZXN"
      },
      "source": [
        "our_scans = our_scans[:int(0.5*len(our_scans))]"
      ],
      "execution_count": null,
      "outputs": []
    },
    {
      "cell_type": "code",
      "metadata": {
        "colab": {
          "base_uri": "https://localhost:8080/"
        },
        "id": "OOddwJO2G0H4",
        "outputId": "78b00517-32ad-4956-84be-59431ad86170"
      },
      "source": [
        "copy_scans_sorted = scans_sorted.copy()\n",
        "copy_scans_sorted = copy_scans_sorted[copy_scans_sorted['MRI_ID'].isin(our_scans)]\n",
        "copy_scans_sorted['MRI_ID'] = '/content/drive/MyDrive/oasis_original/' + copy_scans_sorted['MRI_ID'] + \".mgz.nii.gz\"\n",
        "cdr_HC = copy_scans_sorted[copy_scans_sorted['cdr'] == 'HC']\n",
        "cdr_MCI = copy_scans_sorted[copy_scans_sorted['cdr'] == 'MCI']\n",
        "cdr_AD = copy_scans_sorted[copy_scans_sorted['cdr'] == 'AD']\n",
        "\n",
        "HC_scan_paths = list(cdr_HC['MRI_ID'].values)\n",
        "MCI_scan_paths = list(cdr_MCI['MRI_ID'].values)\n",
        "AD_scan_paths = list(cdr_AD['MRI_ID'].values)\n",
        "\n",
        "print(\"MRI scans of AD cases: {}\".format(str(len(AD_scan_paths))))\n",
        "print(\"MRI scans of MCI cases: {}\".format(str(len(MCI_scan_paths))))\n",
        "print(\"MRI scans of HC cases: {}\".format(str(len(HC_scan_paths))))"
      ],
      "execution_count": null,
      "outputs": [
        {
          "output_type": "stream",
          "text": [
            "MRI scans of AD cases: 9\n",
            "MRI scans of MCI cases: 169\n",
            "MRI scans of HC cases: 724\n"
          ],
          "name": "stdout"
        }
      ]
    },
    {
      "cell_type": "markdown",
      "metadata": {
        "id": "XT0wSJ0MOq0M"
      },
      "source": [
        "We see we have 20 AD, 348 MCI a 1456 HC cases; however, we need to determine how many subjects we have of each too. As such we will split the data on the subjects rather than the scan itself. This ensures that we will not violate the requirements from previously. "
      ]
    },
    {
      "cell_type": "code",
      "metadata": {
        "colab": {
          "base_uri": "https://localhost:8080/"
        },
        "id": "ImP6zzPdG0KY",
        "outputId": "cffa9f3f-c402-40ad-be99-e9245fb32b27"
      },
      "source": [
        "from random import shuffle\n",
        "subj_ids = list(set(copy_scans_sorted[\"Subject\"]))\n",
        "shuffle(subj_ids)\n",
        "len(subj_ids)"
      ],
      "execution_count": null,
      "outputs": [
        {
          "output_type": "execute_result",
          "data": {
            "text/plain": [
              "475"
            ]
          },
          "metadata": {
            "tags": []
          },
          "execution_count": 131
        }
      ]
    },
    {
      "cell_type": "code",
      "metadata": {
        "colab": {
          "base_uri": "https://localhost:8080/"
        },
        "id": "HmFzD6ycQyiL",
        "outputId": "caac924b-02e3-40b7-b398-20407655e04f"
      },
      "source": [
        "train_num_subs = int(len(subj_ids)*.6)\n",
        "valid_num_subs = int(len(subj_ids)*.2)\n",
        "test_num_subs = int(len(subj_ids)*.2)\n",
        "print(\"Desired training patients: {}\".format(train_num_subs))\n",
        "print(\"Desired validation patients: {}\".format(valid_num_subs))\n",
        "print(\"Desired test patients: {}\".format(test_num_subs))"
      ],
      "execution_count": null,
      "outputs": [
        {
          "output_type": "stream",
          "text": [
            "Desired training patients: 285\n",
            "Desired validation patients: 95\n",
            "Desired test patients: 95\n"
          ],
          "name": "stdout"
        }
      ]
    },
    {
      "cell_type": "code",
      "metadata": {
        "colab": {
          "base_uri": "https://localhost:8080/"
        },
        "id": "awEmhABUSdfF",
        "outputId": "3f71d4a9-b3fe-40d0-8ea9-4570032c25bf"
      },
      "source": [
        "ad_subjs = cdr_AD.Subject.values\n",
        "len(list(set(ad_subjs)))"
      ],
      "execution_count": null,
      "outputs": [
        {
          "output_type": "execute_result",
          "data": {
            "text/plain": [
              "9"
            ]
          },
          "metadata": {
            "tags": []
          },
          "execution_count": 133
        }
      ]
    },
    {
      "cell_type": "code",
      "metadata": {
        "id": "cCMA9FSGScUX"
      },
      "source": [
        "training_subjs = list(ad_subjs[:12])\n",
        "validation_subjs = list(ad_subjs[12:16])\n",
        "test_subjs = list(ad_subjs[16:])"
      ],
      "execution_count": null,
      "outputs": []
    },
    {
      "cell_type": "code",
      "metadata": {
        "id": "hV6HwTPpScWo"
      },
      "source": [
        "union = list(set().union(training_subjs, validation_subjs, test_subjs)) \n",
        "for i in subj_ids: \n",
        "  if i not in union: \n",
        "    if len(test_subjs) < test_num_subs: \n",
        "      test_subjs.append(i)\n",
        "    elif len(validation_subjs) < valid_num_subs: \n",
        "      validation_subjs.append(i)\n",
        "    else: \n",
        "      training_subjs.append(i)\n",
        "    union.append(i)"
      ],
      "execution_count": null,
      "outputs": []
    },
    {
      "cell_type": "code",
      "metadata": {
        "id": "5TW65VBDScb_"
      },
      "source": [
        "cdr_HC = copy_scans_sorted[copy_scans_sorted['cdr'] == 'HC']\n",
        "cdr_MCI = copy_scans_sorted[copy_scans_sorted['cdr'] == 'MCI']\n",
        "cdr_AD = copy_scans_sorted[copy_scans_sorted['cdr'] == 'AD']"
      ],
      "execution_count": null,
      "outputs": []
    },
    {
      "cell_type": "code",
      "metadata": {
        "id": "6w_I3i-HScew"
      },
      "source": [
        "training_data = copy_scans_sorted[copy_scans_sorted['Subject'].isin(training_subjs)]\n",
        "validation_data = copy_scans_sorted[copy_scans_sorted['Subject'].isin(validation_subjs)]\n",
        "test_data = copy_scans_sorted[copy_scans_sorted['Subject'].isin(test_subjs)]"
      ],
      "execution_count": null,
      "outputs": []
    },
    {
      "cell_type": "code",
      "metadata": {
        "id": "RucpD19yG0M-"
      },
      "source": [
        "def return_scan_paths(data, data_def:str):\n",
        "  cdr_HC = data[data['cdr'] == 'HC']\n",
        "  cdr_MCI = data[data['cdr'] == 'MCI']\n",
        "  cdr_AD = data[data['cdr'] == 'AD']\n",
        "\n",
        "  HC_scan_paths = list(cdr_HC['MRI_ID'].values)\n",
        "  MCI_scan_paths = list(cdr_MCI['MRI_ID'].values)\n",
        "  AD_scan_paths = list(cdr_AD['MRI_ID'].values)\n",
        "\n",
        "  print(\"MRI scans of AD cases in {} data: {}\".format(data_def, str(len(AD_scan_paths))))\n",
        "  print(\"MRI scans of MCI cases in {} data: {}\".format(data_def, str(len(MCI_scan_paths))))\n",
        "  print(\"MRI scans of HC cases in {} data: {}\".format(data_def, str(len(HC_scan_paths))))\n",
        "  return HC_scan_paths, MCI_scan_paths, AD_scan_paths"
      ],
      "execution_count": null,
      "outputs": []
    },
    {
      "cell_type": "code",
      "metadata": {
        "colab": {
          "base_uri": "https://localhost:8080/"
        },
        "id": "v0eZUZ1JG0PP",
        "outputId": "ff37e26a-51b4-417c-b767-c03c281015b0"
      },
      "source": [
        "train_HC, train_MCI, train_AD = return_scan_paths(training_data, 'training')"
      ],
      "execution_count": null,
      "outputs": [
        {
          "output_type": "stream",
          "text": [
            "MRI scans of AD cases in training data: 9\n",
            "MRI scans of MCI cases in training data: 101\n",
            "MRI scans of HC cases in training data: 441\n"
          ],
          "name": "stdout"
        }
      ]
    },
    {
      "cell_type": "code",
      "metadata": {
        "colab": {
          "base_uri": "https://localhost:8080/"
        },
        "id": "zCO-y0DlNal5",
        "outputId": "76264550-77de-4b5c-95c8-634af4a9c84e"
      },
      "source": [
        "val_HC, val_MCI, val_AD = return_scan_paths(validation_data, 'validation')"
      ],
      "execution_count": null,
      "outputs": [
        {
          "output_type": "stream",
          "text": [
            "MRI scans of AD cases in validation data: 0\n",
            "MRI scans of MCI cases in validation data: 39\n",
            "MRI scans of HC cases in validation data: 140\n"
          ],
          "name": "stdout"
        }
      ]
    },
    {
      "cell_type": "code",
      "metadata": {
        "colab": {
          "base_uri": "https://localhost:8080/"
        },
        "id": "vWcjy9K1hg5w",
        "outputId": "78090b7a-d449-48db-94c2-4cd142d8f045"
      },
      "source": [
        "test_HC, test_MCI, test_AD = return_scan_paths(test_data, 'test')"
      ],
      "execution_count": null,
      "outputs": [
        {
          "output_type": "stream",
          "text": [
            "MRI scans of AD cases in test data: 0\n",
            "MRI scans of MCI cases in test data: 29\n",
            "MRI scans of HC cases in test data: 143\n"
          ],
          "name": "stdout"
        }
      ]
    },
    {
      "cell_type": "code",
      "metadata": {
        "id": "knkKPWfvxg6F"
      },
      "source": [
        "def return_labels(data):\n",
        "  cdr_HC = data[data['cdr'] == 'HC']\n",
        "  cdr_MCI = data[data['cdr'] == 'MCI']\n",
        "  cdr_AD = data[data['cdr'] == 'AD']\n",
        "\n",
        "  HC_labels = list(cdr_HC['cdr'].values)\n",
        "  MCI_labels = list(cdr_MCI['cdr'].values)\n",
        "  AD_labels = list(cdr_AD['cdr'].values)\n",
        "  ydata = np.concatenate((HC_labels, MCI_labels, AD_labels))\n",
        "  dummies = pd.get_dummies(ydata, columns=[\"Bridge_Types\"], prefix=[\"Type_is\"] )\n",
        "  return HC_labels, MCI_labels, AD_labels"
      ],
      "execution_count": null,
      "outputs": []
    },
    {
      "cell_type": "markdown",
      "metadata": {
        "id": "2LPDk4EGuDwI"
      },
      "source": [
        "These may already exist; they do not take too long to run if they do so I am just leaving this code in here for now. No harm done. "
      ]
    },
    {
      "cell_type": "code",
      "metadata": {
        "colab": {
          "base_uri": "https://localhost:8080/"
        },
        "id": "EwW1xj6QDPzj",
        "outputId": "8fa33301-783b-4b4c-f6c8-022f25443e8f"
      },
      "source": [
        "!pip install tqdm\n",
        "!pip install ipywidgets"
      ],
      "execution_count": null,
      "outputs": [
        {
          "output_type": "stream",
          "text": [
            "Requirement already satisfied: tqdm in /usr/local/lib/python3.7/dist-packages (4.41.1)\n",
            "Requirement already satisfied: ipywidgets in /usr/local/lib/python3.7/dist-packages (7.6.3)\n",
            "Requirement already satisfied: traitlets>=4.3.1 in /usr/local/lib/python3.7/dist-packages (from ipywidgets) (5.0.5)\n",
            "Requirement already satisfied: jupyterlab-widgets>=1.0.0 in /usr/local/lib/python3.7/dist-packages (from ipywidgets) (1.0.0)\n",
            "Requirement already satisfied: widgetsnbextension~=3.5.0 in /usr/local/lib/python3.7/dist-packages (from ipywidgets) (3.5.1)\n",
            "Requirement already satisfied: ipython>=4.0.0 in /usr/local/lib/python3.7/dist-packages (from ipywidgets) (5.5.0)\n",
            "Requirement already satisfied: ipykernel>=4.5.1 in /usr/local/lib/python3.7/dist-packages (from ipywidgets) (4.10.1)\n",
            "Requirement already satisfied: nbformat>=4.2.0 in /usr/local/lib/python3.7/dist-packages (from ipywidgets) (5.1.3)\n",
            "Requirement already satisfied: jupyter-client in /usr/local/lib/python3.7/dist-packages (from ipykernel>=4.5.1->ipywidgets) (5.3.5)\n",
            "Requirement already satisfied: tornado>=4.0 in /usr/local/lib/python3.7/dist-packages (from ipykernel>=4.5.1->ipywidgets) (5.1.1)\n",
            "Requirement already satisfied: pickleshare in /usr/local/lib/python3.7/dist-packages (from ipython>=4.0.0->ipywidgets) (0.7.5)\n",
            "Requirement already satisfied: prompt-toolkit<2.0.0,>=1.0.4 in /usr/local/lib/python3.7/dist-packages (from ipython>=4.0.0->ipywidgets) (1.0.18)\n",
            "Requirement already satisfied: setuptools>=18.5 in /usr/local/lib/python3.7/dist-packages (from ipython>=4.0.0->ipywidgets) (57.2.0)\n",
            "Requirement already satisfied: decorator in /usr/local/lib/python3.7/dist-packages (from ipython>=4.0.0->ipywidgets) (4.4.2)\n",
            "Requirement already satisfied: simplegeneric>0.8 in /usr/local/lib/python3.7/dist-packages (from ipython>=4.0.0->ipywidgets) (0.8.1)\n",
            "Requirement already satisfied: pygments in /usr/local/lib/python3.7/dist-packages (from ipython>=4.0.0->ipywidgets) (2.6.1)\n",
            "Requirement already satisfied: pexpect in /usr/local/lib/python3.7/dist-packages (from ipython>=4.0.0->ipywidgets) (4.8.0)\n",
            "Requirement already satisfied: jsonschema!=2.5.0,>=2.4 in /usr/local/lib/python3.7/dist-packages (from nbformat>=4.2.0->ipywidgets) (2.6.0)\n",
            "Requirement already satisfied: ipython-genutils in /usr/local/lib/python3.7/dist-packages (from nbformat>=4.2.0->ipywidgets) (0.2.0)\n",
            "Requirement already satisfied: jupyter-core in /usr/local/lib/python3.7/dist-packages (from nbformat>=4.2.0->ipywidgets) (4.7.1)\n",
            "Requirement already satisfied: six>=1.9.0 in /usr/local/lib/python3.7/dist-packages (from prompt-toolkit<2.0.0,>=1.0.4->ipython>=4.0.0->ipywidgets) (1.15.0)\n",
            "Requirement already satisfied: wcwidth in /usr/local/lib/python3.7/dist-packages (from prompt-toolkit<2.0.0,>=1.0.4->ipython>=4.0.0->ipywidgets) (0.2.5)\n",
            "Requirement already satisfied: notebook>=4.4.1 in /usr/local/lib/python3.7/dist-packages (from widgetsnbextension~=3.5.0->ipywidgets) (5.3.1)\n",
            "Requirement already satisfied: terminado>=0.8.1 in /usr/local/lib/python3.7/dist-packages (from notebook>=4.4.1->widgetsnbextension~=3.5.0->ipywidgets) (0.10.1)\n",
            "Requirement already satisfied: jinja2 in /usr/local/lib/python3.7/dist-packages (from notebook>=4.4.1->widgetsnbextension~=3.5.0->ipywidgets) (2.11.3)\n",
            "Requirement already satisfied: nbconvert in /usr/local/lib/python3.7/dist-packages (from notebook>=4.4.1->widgetsnbextension~=3.5.0->ipywidgets) (5.6.1)\n",
            "Requirement already satisfied: Send2Trash in /usr/local/lib/python3.7/dist-packages (from notebook>=4.4.1->widgetsnbextension~=3.5.0->ipywidgets) (1.7.1)\n",
            "Requirement already satisfied: python-dateutil>=2.1 in /usr/local/lib/python3.7/dist-packages (from jupyter-client->ipykernel>=4.5.1->ipywidgets) (2.8.1)\n",
            "Requirement already satisfied: pyzmq>=13 in /usr/local/lib/python3.7/dist-packages (from jupyter-client->ipykernel>=4.5.1->ipywidgets) (22.1.0)\n",
            "Requirement already satisfied: ptyprocess in /usr/local/lib/python3.7/dist-packages (from terminado>=0.8.1->notebook>=4.4.1->widgetsnbextension~=3.5.0->ipywidgets) (0.7.0)\n",
            "Requirement already satisfied: MarkupSafe>=0.23 in /usr/local/lib/python3.7/dist-packages (from jinja2->notebook>=4.4.1->widgetsnbextension~=3.5.0->ipywidgets) (2.0.1)\n",
            "Requirement already satisfied: defusedxml in /usr/local/lib/python3.7/dist-packages (from nbconvert->notebook>=4.4.1->widgetsnbextension~=3.5.0->ipywidgets) (0.7.1)\n",
            "Requirement already satisfied: pandocfilters>=1.4.1 in /usr/local/lib/python3.7/dist-packages (from nbconvert->notebook>=4.4.1->widgetsnbextension~=3.5.0->ipywidgets) (1.4.3)\n",
            "Requirement already satisfied: mistune<2,>=0.8.1 in /usr/local/lib/python3.7/dist-packages (from nbconvert->notebook>=4.4.1->widgetsnbextension~=3.5.0->ipywidgets) (0.8.4)\n",
            "Requirement already satisfied: testpath in /usr/local/lib/python3.7/dist-packages (from nbconvert->notebook>=4.4.1->widgetsnbextension~=3.5.0->ipywidgets) (0.5.0)\n",
            "Requirement already satisfied: bleach in /usr/local/lib/python3.7/dist-packages (from nbconvert->notebook>=4.4.1->widgetsnbextension~=3.5.0->ipywidgets) (3.3.0)\n",
            "Requirement already satisfied: entrypoints>=0.2.2 in /usr/local/lib/python3.7/dist-packages (from nbconvert->notebook>=4.4.1->widgetsnbextension~=3.5.0->ipywidgets) (0.3)\n",
            "Requirement already satisfied: packaging in /usr/local/lib/python3.7/dist-packages (from bleach->nbconvert->notebook>=4.4.1->widgetsnbextension~=3.5.0->ipywidgets) (21.0)\n",
            "Requirement already satisfied: webencodings in /usr/local/lib/python3.7/dist-packages (from bleach->nbconvert->notebook>=4.4.1->widgetsnbextension~=3.5.0->ipywidgets) (0.5.1)\n",
            "Requirement already satisfied: pyparsing>=2.0.2 in /usr/local/lib/python3.7/dist-packages (from packaging->bleach->nbconvert->notebook>=4.4.1->widgetsnbextension~=3.5.0->ipywidgets) (2.4.7)\n"
          ],
          "name": "stdout"
        }
      ]
    },
    {
      "cell_type": "markdown",
      "metadata": {
        "id": "LH0xaRMkuUva"
      },
      "source": [
        "We (finally) populate our data. This takes a bloody age do be prepared to sit there and try and run this over night if possible. Once it is working we will use subsets of this to speed it all up. "
      ]
    },
    {
      "cell_type": "code",
      "metadata": {
        "colab": {
          "base_uri": "https://localhost:8080/",
          "height": 166,
          "referenced_widgets": [
            "3ef875bf16f44b10bfbd3c6dc4bd16b7",
            "dbd1c2a3aa0f448eb53570f3d2556a50",
            "4f7ff744583c4ddc8c9b826e3095dc7d",
            "aa4000f0a5cd4608b838c5cc2887b83a",
            "29f73d1ee671489b90eaf75e06cc548f",
            "0c6ca957910d461d8c57f9851674ac4b",
            "a2b1f86500d34fceb0178e2417301c3e",
            "f5b1da25a0be422da53e350654594d1e",
            "0d5eae9728c845ed916c1b99c0512d70",
            "ebba44a4831742e088c00710b11ce7df",
            "e6d2a32a4f8f4c04acb337eb87bf71ff",
            "ce991bb23d83410a9cc60288a1f2b608",
            "c5ef6a0dce0c4543aa29891ac5e468e5",
            "327cf67f0a17401297c9cb80dbaa40ba",
            "3dff380842fa43ba84566f4f1a4356a0",
            "b8a0b5c24fdf491bb53cc5df58180442",
            "4a1a292f2ce74e1aa0e8c29fd3672504",
            "b260a0eb9d8b4ee68dfa3006a96f8f09",
            "de7a3249b61049c28a7e04c6eb9756bd",
            "e8e98cccedcf43a9ab81911b0228b850",
            "91223ed52a2f440ab2d5847b39b00c16",
            "1bf006f4cd1c4440b8b3bb28d9ebb90d",
            "97236d360a144d38b3565ef451b0611e",
            "b16cb3a9f5df4865984b3420c862c69e"
          ]
        },
        "id": "xi9WyFb3hjdT",
        "outputId": "a648725b-c949-4d94-985e-7d0216941979"
      },
      "source": [
        "train_HC_scans = np.array([process_scan(path) for path in tqdm(train_HC)])\n",
        "train_MCI_scans = np.array([process_scan(path) for path in tqdm(train_MCI)])\n",
        "train_AD_scans = np.array([process_scan(path) for path in tqdm(train_AD)])\n",
        "x_train = np.concatenate((train_HC_scans, train_MCI_scans, train_AD_scans))\n",
        "\n",
        "y_train = return_labels(training_data)"
      ],
      "execution_count": null,
      "outputs": [
        {
          "output_type": "display_data",
          "data": {
            "application/vnd.jupyter.widget-view+json": {
              "model_id": "3ef875bf16f44b10bfbd3c6dc4bd16b7",
              "version_minor": 0,
              "version_major": 2
            },
            "text/plain": [
              "HBox(children=(FloatProgress(value=0.0, max=441.0), HTML(value='')))"
            ]
          },
          "metadata": {
            "tags": []
          }
        },
        {
          "output_type": "stream",
          "text": [
            "\n"
          ],
          "name": "stdout"
        },
        {
          "output_type": "display_data",
          "data": {
            "application/vnd.jupyter.widget-view+json": {
              "model_id": "0d5eae9728c845ed916c1b99c0512d70",
              "version_minor": 0,
              "version_major": 2
            },
            "text/plain": [
              "HBox(children=(FloatProgress(value=0.0, max=101.0), HTML(value='')))"
            ]
          },
          "metadata": {
            "tags": []
          }
        },
        {
          "output_type": "stream",
          "text": [
            "\n"
          ],
          "name": "stdout"
        },
        {
          "output_type": "display_data",
          "data": {
            "application/vnd.jupyter.widget-view+json": {
              "model_id": "4a1a292f2ce74e1aa0e8c29fd3672504",
              "version_minor": 0,
              "version_major": 2
            },
            "text/plain": [
              "HBox(children=(FloatProgress(value=0.0, max=9.0), HTML(value='')))"
            ]
          },
          "metadata": {
            "tags": []
          }
        },
        {
          "output_type": "stream",
          "text": [
            "\n"
          ],
          "name": "stdout"
        }
      ]
    },
    {
      "cell_type": "code",
      "metadata": {
        "colab": {
          "base_uri": "https://localhost:8080/"
        },
        "id": "mYpT4v9L3pPr",
        "outputId": "f1818789-aca9-4022-8763-c58aef52f6a4"
      },
      "source": [
        "len(x_train)"
      ],
      "execution_count": null,
      "outputs": [
        {
          "output_type": "execute_result",
          "data": {
            "text/plain": [
              "551"
            ]
          },
          "metadata": {
            "tags": []
          },
          "execution_count": 145
        }
      ]
    },
    {
      "cell_type": "code",
      "metadata": {
        "id": "FmXhkknEh7Nh",
        "colab": {
          "base_uri": "https://localhost:8080/",
          "height": 166,
          "referenced_widgets": [
            "97dac6f6ac104225adbcbd8f1049def3",
            "d097dd7a0dc646d7a6d9e40765267b9a",
            "285d422405574cf8a31060207a5d0d35",
            "b8a97b083dc941cabe57af1a8c0c0428",
            "bd5012161fd54ea4b43b43347d9187db",
            "051b2064756940838eb4f2f5f3cca614",
            "f7d36eb6801e4cb1bc3e7e2156bb41c0",
            "287c07e2d76c4304a3eb93f365dc81ad",
            "47ff7fd364f54e9a8b88daf96710a7c5",
            "3fa73d10642e4d67bc17e3c06fd8000f",
            "166548edf0314644bf50f1923b9df562",
            "51eb79273e7b41f9a6f87c97e5d74d39",
            "a10b6a6af1ae4cc3abf433c764c4f8ff",
            "fa2caed7002b447dae1f2211ba0a2151",
            "aee78a1138e44e9ea25fe36b9c00c7ea",
            "86d21e4a2fb4468594fbbf4e07bd80b0",
            "f768affa840146aa9dcbf6040025ddf7",
            "dbc226de2f3f4c2aa03f4e50ba8a449d",
            "5353bdc3a8b04e88b6603872e28e1b20",
            "a8318573b2194f678c120be59bdbed9a",
            "573f35e4d84743ff93aa3b6b59195dcf",
            "4f6f6f21e52e44f1a3b50e6d26ab0109",
            "67553475697e406faac053da78da6b13",
            "15705e785f904d01a7949d7bafdd07ce"
          ]
        },
        "outputId": "f0fcb244-a68d-4518-c7d4-421167fd17fc"
      },
      "source": [
        "val_HC_scans = np.array([process_scan(path) for path in tqdm(val_HC)])\n",
        "val_MCI_scans = np.array([process_scan(path) for path in tqdm(val_MCI)])\n",
        "val_AD_scans = np.array([process_scan(path) for path in tqdm(val_AD)])\n",
        "try: \n",
        "  x_val = np.concatenate((val_HC_scans, val_MCI_scans, val_AD_scans))\n",
        "except: \n",
        "  x_val = np.concatenate((val_HC_scans, val_MCI_scans))\n",
        "y_val = return_labels(validation_data)"
      ],
      "execution_count": null,
      "outputs": [
        {
          "output_type": "display_data",
          "data": {
            "application/vnd.jupyter.widget-view+json": {
              "model_id": "97dac6f6ac104225adbcbd8f1049def3",
              "version_minor": 0,
              "version_major": 2
            },
            "text/plain": [
              "HBox(children=(FloatProgress(value=0.0, max=140.0), HTML(value='')))"
            ]
          },
          "metadata": {
            "tags": []
          }
        },
        {
          "output_type": "stream",
          "text": [
            "\n"
          ],
          "name": "stdout"
        },
        {
          "output_type": "display_data",
          "data": {
            "application/vnd.jupyter.widget-view+json": {
              "model_id": "47ff7fd364f54e9a8b88daf96710a7c5",
              "version_minor": 0,
              "version_major": 2
            },
            "text/plain": [
              "HBox(children=(FloatProgress(value=0.0, max=39.0), HTML(value='')))"
            ]
          },
          "metadata": {
            "tags": []
          }
        },
        {
          "output_type": "stream",
          "text": [
            "\n"
          ],
          "name": "stdout"
        },
        {
          "output_type": "display_data",
          "data": {
            "application/vnd.jupyter.widget-view+json": {
              "model_id": "f768affa840146aa9dcbf6040025ddf7",
              "version_minor": 0,
              "version_major": 2
            },
            "text/plain": [
              "HBox(children=(FloatProgress(value=1.0, bar_style='info', max=1.0), HTML(value='')))"
            ]
          },
          "metadata": {
            "tags": []
          }
        },
        {
          "output_type": "stream",
          "text": [
            "\n"
          ],
          "name": "stdout"
        }
      ]
    },
    {
      "cell_type": "code",
      "metadata": {
        "id": "KHZ1aHMbjVqg",
        "colab": {
          "base_uri": "https://localhost:8080/",
          "height": 49,
          "referenced_widgets": [
            "1c820b79f99b4d80be1538f7fecd1163",
            "3913da94e146467980a8e4f883591e74",
            "04ebe7be6ceb4c339380c826f68df936",
            "70bfa2ee2e2f48abb6ddc66d07a27a56",
            "1ad8349b14e745c3a4093af948cf7616",
            "c33aac28f3e6431487ec11bb5eea7adb",
            "c3037333f3b042a7886e2e4dccca1c99",
            "38d751616c0d4c54990732c8346bf7a3"
          ]
        },
        "outputId": "d845fe7e-bd68-4bf5-a761-ef9248baeacb"
      },
      "source": [
        "test_HC_scans = np.array([process_scan(path) for path in tqdm(test_HC)])\n",
        "test_MCI_scans = np.array([process_scan(path) for path in tqdm(test_MCI)])\n",
        "test_AD_scans = np.array([process_scan(path) for path in tqdm(test_AD)])\n",
        "try: \n",
        "  x_test = np.concatenate((test_HC_scans, test_MCI_scans, test_AD_scans))\n",
        "except: \n",
        "  x_test = np.concatenate((test_HC_scans, test_MCI_scans))\n",
        "y_test = return_labels(test_data)"
      ],
      "execution_count": null,
      "outputs": [
        {
          "output_type": "display_data",
          "data": {
            "application/vnd.jupyter.widget-view+json": {
              "model_id": "1c820b79f99b4d80be1538f7fecd1163",
              "version_minor": 0,
              "version_major": 2
            },
            "text/plain": [
              "HBox(children=(FloatProgress(value=0.0, max=143.0), HTML(value='')))"
            ]
          },
          "metadata": {
            "tags": []
          }
        }
      ]
    },
    {
      "cell_type": "code",
      "metadata": {
        "id": "0koD1p1Hj0WD"
      },
      "source": [
        "import random\n",
        "from scipy import ndimage\n",
        "@tf.function\n",
        "def rotate(volume):\n",
        "    \"\"\"Rotate the volume by a few degrees\"\"\"\n",
        "\n",
        "    def scipy_rotate(volume):\n",
        "        # define some rotation angles\n",
        "        angles = [-20, -10, -5, 5, 10, 20]\n",
        "        # pick angles at random\n",
        "        angle = random.choice(angles)\n",
        "        # rotate volume\n",
        "        volume = ndimage.rotate(volume, angle, reshape=False)\n",
        "        volume[volume < 0] = 0\n",
        "        volume[volume > 1] = 1\n",
        "        return volume\n",
        "\n",
        "    augmented_volume = tf.numpy_function(scipy_rotate, [volume], tf.float32)\n",
        "    return augmented_volume\n",
        "\n",
        "def train_preprocessing(volume, label):\n",
        "    \"\"\"Process training data by rotating and adding a channel.\"\"\"\n",
        "    # Rotate volume\n",
        "    volume = rotate(volume)\n",
        "    volume = tf.expand_dims(volume, axis=3)\n",
        "    return volume, label\n",
        "\n",
        "def validation_preprocessing(volume, label):\n",
        "    \"\"\"Process validation data by only adding a channel.\"\"\"\n",
        "    volume = tf.expand_dims(volume, axis=3)\n",
        "    return volume, label"
      ],
      "execution_count": null,
      "outputs": []
    },
    {
      "cell_type": "code",
      "metadata": {
        "id": "0dPjAoMn6qC7"
      },
      "source": [
        "y_train = [item for sublist in y_train for item in sublist]\n",
        "y_val = [item for sublist in y_val for item in sublist]\n",
        "y_test = [item for sublist in y_test for item in sublist]\n",
        "\n",
        "len(y_train)"
      ],
      "execution_count": null,
      "outputs": []
    },
    {
      "cell_type": "markdown",
      "metadata": {
        "id": "uwrJpwVHDUEK"
      },
      "source": [
        "We now need to add label encoders for each of the values since we have multiclass labels. I believe 0 = AD, 1 = HC, 2 = MCI but will need to confirm and this may change based on different iterations. (On that note, I will need to set a seed to ensure that we always randomly shuffle the numbers in the same way because everything is so random at the moment). "
      ]
    },
    {
      "cell_type": "code",
      "metadata": {
        "id": "cR6FrIMn6m3u"
      },
      "source": [
        "from sklearn.preprocessing import LabelEncoder\n",
        "label_encoder = LabelEncoder()\n",
        "y_train = np.array(label_encoder.fit_transform(y_train))\n",
        "y_val = np.array(label_encoder.fit_transform(y_val))\n",
        "y_test = np.array(label_encoder.fit_transform(y_test))"
      ],
      "execution_count": null,
      "outputs": []
    },
    {
      "cell_type": "code",
      "metadata": {
        "id": "LNg2DF5lDLMx"
      },
      "source": [
        "y_train"
      ],
      "execution_count": null,
      "outputs": []
    },
    {
      "cell_type": "code",
      "metadata": {
        "id": "gZjypIOwm5vB"
      },
      "source": [
        "train_loader = tf.data.Dataset.from_tensor_slices((x_train, y_train))\n",
        "validation_loader = tf.data.Dataset.from_tensor_slices((x_val, y_val))\n",
        "\n",
        "batch_size = 2\n",
        "# Augment the on the fly during training.\n",
        "train_dataset = (\n",
        "    train_loader.shuffle(len(x_train))\n",
        "    .map(train_preprocessing)\n",
        "    .batch(batch_size)\n",
        "    .prefetch(2)\n",
        ")\n",
        "# Only rescale.\n",
        "validation_dataset = (\n",
        "    validation_loader.shuffle(len(x_val))\n",
        "    .map(validation_preprocessing)\n",
        "    .batch(batch_size)\n",
        "    .prefetch(2)\n",
        ")"
      ],
      "execution_count": null,
      "outputs": []
    },
    {
      "cell_type": "code",
      "metadata": {
        "id": "BgnFU462m9j2"
      },
      "source": [
        "import matplotlib.pyplot as plt\n",
        "\n",
        "data = train_dataset.take(1)\n",
        "images, labels = list(data)[0]\n",
        "images = images.numpy()\n",
        "image = images[0]\n",
        "print(\"Dimension of the CT scan is:\", image.shape)\n",
        "plt.imshow(np.squeeze(image[:, :, 30]), cmap=\"gray\")"
      ],
      "execution_count": null,
      "outputs": []
    },
    {
      "cell_type": "code",
      "metadata": {
        "id": "WAh_N8qrnADK"
      },
      "source": [
        "def plot_slices(num_rows, num_columns, width, height, data):\n",
        "    data = np.rot90(np.array(data))\n",
        "    data = np.transpose(data)\n",
        "    data = np.reshape(data, (num_rows, num_columns, width, height))\n",
        "    rows_data, columns_data = data.shape[0], data.shape[1]\n",
        "    heights = [slc[0].shape[0] for slc in data]\n",
        "    widths = [slc.shape[1] for slc in data[0]]\n",
        "    fig_width = 12.0\n",
        "    fig_height = fig_width * sum(heights) / sum(widths)\n",
        "    f, axarr = plt.subplots(\n",
        "        rows_data,\n",
        "        columns_data,\n",
        "        figsize=(fig_width, fig_height),\n",
        "        gridspec_kw={\"height_ratios\": heights},\n",
        "    )\n",
        "    for i in range(rows_data):\n",
        "        for j in range(columns_data):\n",
        "            axarr[i, j].imshow(data[i][j], cmap=\"gray\")\n",
        "            axarr[i, j].axis(\"off\")\n",
        "    plt.subplots_adjust(wspace=0, hspace=0, left=0, right=1, bottom=0, top=1)\n",
        "    plt.show()\n",
        "\n",
        "\n",
        "# Visualize montage of slices.\n",
        "# 4 rows and 10 columns for 100 slices of the CT scan.\n",
        "plot_slices(4, 10, 128, 128, image[:, :, :40])"
      ],
      "execution_count": null,
      "outputs": []
    },
    {
      "cell_type": "code",
      "metadata": {
        "id": "VRKCRrMsnDyh"
      },
      "source": [
        "def get_model(width=128, height=128, depth=64):\n",
        "    \"\"\"Build a 3D convolutional neural network model.\"\"\"\n",
        "\n",
        "    inputs = keras.Input((width, height, depth, 1))\n",
        "\n",
        "    x = layers.Conv3D(filters=64, kernel_size=3, activation=\"relu\")(inputs)\n",
        "    x = layers.MaxPool3D(pool_size=2)(x)\n",
        "    x = layers.BatchNormalization()(x)\n",
        "\n",
        "    x = layers.Conv3D(filters=64, kernel_size=3, activation=\"relu\")(x)\n",
        "    x = layers.MaxPool3D(pool_size=2)(x)\n",
        "    x = layers.BatchNormalization()(x)\n",
        "\n",
        "    x = layers.Conv3D(filters=128, kernel_size=3, activation=\"relu\")(x)\n",
        "    x = layers.MaxPool3D(pool_size=2)(x)\n",
        "    x = layers.BatchNormalization()(x)\n",
        "\n",
        "    x = layers.Conv3D(filters=256, kernel_size=3, activation=\"relu\")(x)\n",
        "    x = layers.MaxPool3D(pool_size=2)(x)\n",
        "    x = layers.BatchNormalization()(x)\n",
        "\n",
        "    x = layers.GlobalAveragePooling3D()(x)\n",
        "    x = layers.Dense(units=512, activation=\"relu\")(x)\n",
        "    x = layers.Dropout(0.3)(x)\n",
        "\n",
        "    outputs = layers.Dense(units=1, activation=\"sigmoid\")(x)\n",
        "\n",
        "    # Define the model.\n",
        "    model = keras.Model(inputs, outputs, name=\"3dcnn\")\n",
        "    return model\n",
        "\n",
        "\n",
        "# Build model.\n",
        "model = get_model(width=128, height=128, depth=64)\n",
        "model.summary()"
      ],
      "execution_count": null,
      "outputs": []
    },
    {
      "cell_type": "code",
      "metadata": {
        "id": "F2xupPujnGJm"
      },
      "source": [
        "initial_learning_rate = 0.0001\n",
        "lr_schedule = keras.optimizers.schedules.ExponentialDecay(\n",
        "    initial_learning_rate, decay_steps=100000, decay_rate=0.96, staircase=True\n",
        ")\n",
        "model.compile(\n",
        "    loss=\"binary_crossentropy\",\n",
        "    optimizer=keras.optimizers.Adam(learning_rate=lr_schedule),\n",
        "    metrics=[\"acc\"],\n",
        ")\n",
        "\n",
        "# Define callbacks.\n",
        "checkpoint_cb = keras.callbacks.ModelCheckpoint(\n",
        "    \"3d_image_classification.h5\", save_best_only=True\n",
        ")\n",
        "early_stopping_cb = keras.callbacks.EarlyStopping(monitor=\"val_acc\", patience=15)\n",
        "\n",
        "# Train the model, doing validation at the end of each epoch\n",
        "epochs = 100\n",
        "model.fit(\n",
        "    train_dataset,\n",
        "    validation_data=validation_dataset,\n",
        "    epochs=epochs,\n",
        "    shuffle=True,\n",
        "    verbose=2,\n",
        "    callbacks=[checkpoint_cb, early_stopping_cb],\n",
        ")"
      ],
      "execution_count": null,
      "outputs": []
    },
    {
      "cell_type": "code",
      "metadata": {
        "id": "yO2o4WqnnIid"
      },
      "source": [
        "fig, ax = plt.subplots(1, 2, figsize=(20, 3))\n",
        "ax = ax.ravel()\n",
        "\n",
        "for i, metric in enumerate([\"acc\", \"loss\"]):\n",
        "    ax[i].plot(model.history.history[metric])\n",
        "    ax[i].plot(model.history.history[\"val_\" + metric])\n",
        "    ax[i].set_title(\"Model {}\".format(metric))\n",
        "    ax[i].set_xlabel(\"epochs\")\n",
        "    ax[i].set_ylabel(metric)\n",
        "    ax[i].legend([\"train\", \"val\"])"
      ],
      "execution_count": null,
      "outputs": []
    },
    {
      "cell_type": "code",
      "metadata": {
        "id": "jYiPryhInKo1"
      },
      "source": [
        "model.load_weights(\"3d_image_classification.h5\")\n",
        "preds = []\n",
        "for i in range(len(x_test)): \n",
        "  preds.append(model.predict(np.expand_dims(x_val[i], axis=0))[0])\n",
        "preds"
      ],
      "execution_count": null,
      "outputs": []
    },
    {
      "cell_type": "code",
      "metadata": {
        "id": "E9-nNkR6nN9W"
      },
      "source": [
        "y_test"
      ],
      "execution_count": null,
      "outputs": []
    },
    {
      "cell_type": "code",
      "metadata": {
        "id": "wrleBsvaFrHt"
      },
      "source": [
        "np.array(label_encoder.inverse_transform(y_test))"
      ],
      "execution_count": null,
      "outputs": []
    },
    {
      "cell_type": "code",
      "metadata": {
        "id": "V0vCrefRHQBQ"
      },
      "source": [
        ""
      ],
      "execution_count": null,
      "outputs": []
    }
  ]
}