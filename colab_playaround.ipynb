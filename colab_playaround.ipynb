{
  "nbformat": 4,
  "nbformat_minor": 0,
  "metadata": {
    "accelerator": "GPU",
    "colab": {
      "name": "colab_playaround.ipynb",
      "provenance": [],
      "collapsed_sections": [],
      "mount_file_id": "17oUvrDAz5QQ-i8QrlBJVujQ47F0j8vZo",
      "authorship_tag": "ABX9TyMJrdUBsI9sCL1yrt0A3qPC",
      "include_colab_link": true
    },
    "kernelspec": {
      "display_name": "Python 3",
      "name": "python3"
    },
    "language_info": {
      "name": "python"
    },
    "widgets": {
      "application/vnd.jupyter.widget-state+json": {
        "57a76f6032504160942ff57b030b8fae": {
          "model_module": "@jupyter-widgets/controls",
          "model_name": "HBoxModel",
          "model_module_version": "1.5.0",
          "state": {
            "_dom_classes": [],
            "_model_module": "@jupyter-widgets/controls",
            "_model_module_version": "1.5.0",
            "_model_name": "HBoxModel",
            "_view_count": null,
            "_view_module": "@jupyter-widgets/controls",
            "_view_module_version": "1.5.0",
            "_view_name": "HBoxView",
            "box_style": "",
            "children": [
              "IPY_MODEL_f4f7b45c8d254d659826b3f31cde58e7",
              "IPY_MODEL_72fd4712c54846e1b0231ea2a9d3d6d3",
              "IPY_MODEL_a6b9b045b2a44bd781a542309d2407cd"
            ],
            "layout": "IPY_MODEL_23be1283ac054c2ea6e5351a3e6d3e4b"
          }
        },
        "f4f7b45c8d254d659826b3f31cde58e7": {
          "model_module": "@jupyter-widgets/controls",
          "model_name": "HTMLModel",
          "model_module_version": "1.5.0",
          "state": {
            "_dom_classes": [],
            "_model_module": "@jupyter-widgets/controls",
            "_model_module_version": "1.5.0",
            "_model_name": "HTMLModel",
            "_view_count": null,
            "_view_module": "@jupyter-widgets/controls",
            "_view_module_version": "1.5.0",
            "_view_name": "HTMLView",
            "description": "",
            "description_tooltip": null,
            "layout": "IPY_MODEL_2621a6b4e79541d29955d2f23fea4e61",
            "placeholder": "​",
            "style": "IPY_MODEL_332ed980517a4a6a90bab730f0832171",
            "value": "  8%"
          }
        },
        "72fd4712c54846e1b0231ea2a9d3d6d3": {
          "model_module": "@jupyter-widgets/controls",
          "model_name": "FloatProgressModel",
          "model_module_version": "1.5.0",
          "state": {
            "_dom_classes": [],
            "_model_module": "@jupyter-widgets/controls",
            "_model_module_version": "1.5.0",
            "_model_name": "FloatProgressModel",
            "_view_count": null,
            "_view_module": "@jupyter-widgets/controls",
            "_view_module_version": "1.5.0",
            "_view_name": "ProgressView",
            "bar_style": "",
            "description": "",
            "description_tooltip": null,
            "layout": "IPY_MODEL_7305056ca7154da7858a4f71184e5663",
            "max": 49,
            "min": 0,
            "orientation": "horizontal",
            "style": "IPY_MODEL_d56e30bd6f03475080ba81953bbad33a",
            "value": 4
          }
        },
        "a6b9b045b2a44bd781a542309d2407cd": {
          "model_module": "@jupyter-widgets/controls",
          "model_name": "HTMLModel",
          "model_module_version": "1.5.0",
          "state": {
            "_dom_classes": [],
            "_model_module": "@jupyter-widgets/controls",
            "_model_module_version": "1.5.0",
            "_model_name": "HTMLModel",
            "_view_count": null,
            "_view_module": "@jupyter-widgets/controls",
            "_view_module_version": "1.5.0",
            "_view_name": "HTMLView",
            "description": "",
            "description_tooltip": null,
            "layout": "IPY_MODEL_41397ba0f74f4bae9a5707c41a3ee9a4",
            "placeholder": "​",
            "style": "IPY_MODEL_585c930f8ffb49be877bb39d85618803",
            "value": " 4/49 [00:19&lt;03:39,  4.87s/it]"
          }
        },
        "23be1283ac054c2ea6e5351a3e6d3e4b": {
          "model_module": "@jupyter-widgets/base",
          "model_name": "LayoutModel",
          "model_module_version": "1.2.0",
          "state": {
            "_model_module": "@jupyter-widgets/base",
            "_model_module_version": "1.2.0",
            "_model_name": "LayoutModel",
            "_view_count": null,
            "_view_module": "@jupyter-widgets/base",
            "_view_module_version": "1.2.0",
            "_view_name": "LayoutView",
            "align_content": null,
            "align_items": null,
            "align_self": null,
            "border": null,
            "bottom": null,
            "display": null,
            "flex": null,
            "flex_flow": null,
            "grid_area": null,
            "grid_auto_columns": null,
            "grid_auto_flow": null,
            "grid_auto_rows": null,
            "grid_column": null,
            "grid_gap": null,
            "grid_row": null,
            "grid_template_areas": null,
            "grid_template_columns": null,
            "grid_template_rows": null,
            "height": null,
            "justify_content": null,
            "justify_items": null,
            "left": null,
            "margin": null,
            "max_height": null,
            "max_width": null,
            "min_height": null,
            "min_width": null,
            "object_fit": null,
            "object_position": null,
            "order": null,
            "overflow": null,
            "overflow_x": null,
            "overflow_y": null,
            "padding": null,
            "right": null,
            "top": null,
            "visibility": null,
            "width": null
          }
        },
        "2621a6b4e79541d29955d2f23fea4e61": {
          "model_module": "@jupyter-widgets/base",
          "model_name": "LayoutModel",
          "model_module_version": "1.2.0",
          "state": {
            "_model_module": "@jupyter-widgets/base",
            "_model_module_version": "1.2.0",
            "_model_name": "LayoutModel",
            "_view_count": null,
            "_view_module": "@jupyter-widgets/base",
            "_view_module_version": "1.2.0",
            "_view_name": "LayoutView",
            "align_content": null,
            "align_items": null,
            "align_self": null,
            "border": null,
            "bottom": null,
            "display": null,
            "flex": null,
            "flex_flow": null,
            "grid_area": null,
            "grid_auto_columns": null,
            "grid_auto_flow": null,
            "grid_auto_rows": null,
            "grid_column": null,
            "grid_gap": null,
            "grid_row": null,
            "grid_template_areas": null,
            "grid_template_columns": null,
            "grid_template_rows": null,
            "height": null,
            "justify_content": null,
            "justify_items": null,
            "left": null,
            "margin": null,
            "max_height": null,
            "max_width": null,
            "min_height": null,
            "min_width": null,
            "object_fit": null,
            "object_position": null,
            "order": null,
            "overflow": null,
            "overflow_x": null,
            "overflow_y": null,
            "padding": null,
            "right": null,
            "top": null,
            "visibility": null,
            "width": null
          }
        },
        "332ed980517a4a6a90bab730f0832171": {
          "model_module": "@jupyter-widgets/controls",
          "model_name": "DescriptionStyleModel",
          "model_module_version": "1.5.0",
          "state": {
            "_model_module": "@jupyter-widgets/controls",
            "_model_module_version": "1.5.0",
            "_model_name": "DescriptionStyleModel",
            "_view_count": null,
            "_view_module": "@jupyter-widgets/base",
            "_view_module_version": "1.2.0",
            "_view_name": "StyleView",
            "description_width": ""
          }
        },
        "7305056ca7154da7858a4f71184e5663": {
          "model_module": "@jupyter-widgets/base",
          "model_name": "LayoutModel",
          "model_module_version": "1.2.0",
          "state": {
            "_model_module": "@jupyter-widgets/base",
            "_model_module_version": "1.2.0",
            "_model_name": "LayoutModel",
            "_view_count": null,
            "_view_module": "@jupyter-widgets/base",
            "_view_module_version": "1.2.0",
            "_view_name": "LayoutView",
            "align_content": null,
            "align_items": null,
            "align_self": null,
            "border": null,
            "bottom": null,
            "display": null,
            "flex": null,
            "flex_flow": null,
            "grid_area": null,
            "grid_auto_columns": null,
            "grid_auto_flow": null,
            "grid_auto_rows": null,
            "grid_column": null,
            "grid_gap": null,
            "grid_row": null,
            "grid_template_areas": null,
            "grid_template_columns": null,
            "grid_template_rows": null,
            "height": null,
            "justify_content": null,
            "justify_items": null,
            "left": null,
            "margin": null,
            "max_height": null,
            "max_width": null,
            "min_height": null,
            "min_width": null,
            "object_fit": null,
            "object_position": null,
            "order": null,
            "overflow": null,
            "overflow_x": null,
            "overflow_y": null,
            "padding": null,
            "right": null,
            "top": null,
            "visibility": null,
            "width": null
          }
        },
        "d56e30bd6f03475080ba81953bbad33a": {
          "model_module": "@jupyter-widgets/controls",
          "model_name": "ProgressStyleModel",
          "model_module_version": "1.5.0",
          "state": {
            "_model_module": "@jupyter-widgets/controls",
            "_model_module_version": "1.5.0",
            "_model_name": "ProgressStyleModel",
            "_view_count": null,
            "_view_module": "@jupyter-widgets/base",
            "_view_module_version": "1.2.0",
            "_view_name": "StyleView",
            "bar_color": null,
            "description_width": ""
          }
        },
        "41397ba0f74f4bae9a5707c41a3ee9a4": {
          "model_module": "@jupyter-widgets/base",
          "model_name": "LayoutModel",
          "model_module_version": "1.2.0",
          "state": {
            "_model_module": "@jupyter-widgets/base",
            "_model_module_version": "1.2.0",
            "_model_name": "LayoutModel",
            "_view_count": null,
            "_view_module": "@jupyter-widgets/base",
            "_view_module_version": "1.2.0",
            "_view_name": "LayoutView",
            "align_content": null,
            "align_items": null,
            "align_self": null,
            "border": null,
            "bottom": null,
            "display": null,
            "flex": null,
            "flex_flow": null,
            "grid_area": null,
            "grid_auto_columns": null,
            "grid_auto_flow": null,
            "grid_auto_rows": null,
            "grid_column": null,
            "grid_gap": null,
            "grid_row": null,
            "grid_template_areas": null,
            "grid_template_columns": null,
            "grid_template_rows": null,
            "height": null,
            "justify_content": null,
            "justify_items": null,
            "left": null,
            "margin": null,
            "max_height": null,
            "max_width": null,
            "min_height": null,
            "min_width": null,
            "object_fit": null,
            "object_position": null,
            "order": null,
            "overflow": null,
            "overflow_x": null,
            "overflow_y": null,
            "padding": null,
            "right": null,
            "top": null,
            "visibility": null,
            "width": null
          }
        },
        "585c930f8ffb49be877bb39d85618803": {
          "model_module": "@jupyter-widgets/controls",
          "model_name": "DescriptionStyleModel",
          "model_module_version": "1.5.0",
          "state": {
            "_model_module": "@jupyter-widgets/controls",
            "_model_module_version": "1.5.0",
            "_model_name": "DescriptionStyleModel",
            "_view_count": null,
            "_view_module": "@jupyter-widgets/base",
            "_view_module_version": "1.2.0",
            "_view_name": "StyleView",
            "description_width": ""
          }
        },
        "e5168fb45b3044e9a9641c1bbf1d9a1f": {
          "model_module": "@jupyter-widgets/controls",
          "model_name": "HBoxModel",
          "model_module_version": "1.5.0",
          "state": {
            "_view_name": "HBoxView",
            "_dom_classes": [],
            "_model_name": "HBoxModel",
            "_view_module": "@jupyter-widgets/controls",
            "_model_module_version": "1.5.0",
            "_view_count": null,
            "_view_module_version": "1.5.0",
            "box_style": "",
            "layout": "IPY_MODEL_4795170ffb5246e4a4660fed750b698c",
            "_model_module": "@jupyter-widgets/controls",
            "children": [
              "IPY_MODEL_921c31a070df4790bc54776be1119df3",
              "IPY_MODEL_6223c6b987654da5a15e62e82453558f",
              "IPY_MODEL_e0f593d6c5b942fb848ea914a6e5ed38"
            ]
          }
        },
        "4795170ffb5246e4a4660fed750b698c": {
          "model_module": "@jupyter-widgets/base",
          "model_name": "LayoutModel",
          "model_module_version": "1.2.0",
          "state": {
            "_view_name": "LayoutView",
            "grid_template_rows": null,
            "right": null,
            "justify_content": null,
            "_view_module": "@jupyter-widgets/base",
            "overflow": null,
            "_model_module_version": "1.2.0",
            "_view_count": null,
            "flex_flow": null,
            "width": null,
            "min_width": null,
            "border": null,
            "align_items": null,
            "bottom": null,
            "_model_module": "@jupyter-widgets/base",
            "top": null,
            "grid_column": null,
            "overflow_y": null,
            "overflow_x": null,
            "grid_auto_flow": null,
            "grid_area": null,
            "grid_template_columns": null,
            "flex": null,
            "_model_name": "LayoutModel",
            "justify_items": null,
            "grid_row": null,
            "max_height": null,
            "align_content": null,
            "visibility": null,
            "align_self": null,
            "height": null,
            "min_height": null,
            "padding": null,
            "grid_auto_rows": null,
            "grid_gap": null,
            "max_width": null,
            "order": null,
            "_view_module_version": "1.2.0",
            "grid_template_areas": null,
            "object_position": null,
            "object_fit": null,
            "grid_auto_columns": null,
            "margin": null,
            "display": null,
            "left": null
          }
        },
        "921c31a070df4790bc54776be1119df3": {
          "model_module": "@jupyter-widgets/controls",
          "model_name": "HTMLModel",
          "model_module_version": "1.5.0",
          "state": {
            "_view_name": "HTMLView",
            "style": "IPY_MODEL_e717156111144eb2964066198df0f2ec",
            "_dom_classes": [],
            "description": "",
            "_model_name": "HTMLModel",
            "placeholder": "​",
            "_view_module": "@jupyter-widgets/controls",
            "_model_module_version": "1.5.0",
            "value": "100%",
            "_view_count": null,
            "_view_module_version": "1.5.0",
            "description_tooltip": null,
            "_model_module": "@jupyter-widgets/controls",
            "layout": "IPY_MODEL_366f2dfec99949efbe64df049314b37f"
          }
        },
        "6223c6b987654da5a15e62e82453558f": {
          "model_module": "@jupyter-widgets/controls",
          "model_name": "FloatProgressModel",
          "model_module_version": "1.5.0",
          "state": {
            "_view_name": "ProgressView",
            "style": "IPY_MODEL_8db1faf1febe49d99fc86e8381afd572",
            "_dom_classes": [],
            "description": "",
            "_model_name": "FloatProgressModel",
            "bar_style": "success",
            "max": 2,
            "_view_module": "@jupyter-widgets/controls",
            "_model_module_version": "1.5.0",
            "value": 2,
            "_view_count": null,
            "_view_module_version": "1.5.0",
            "orientation": "horizontal",
            "min": 0,
            "description_tooltip": null,
            "_model_module": "@jupyter-widgets/controls",
            "layout": "IPY_MODEL_b1fc28cbf1464bdbbfa429e2b47d48a5"
          }
        },
        "e0f593d6c5b942fb848ea914a6e5ed38": {
          "model_module": "@jupyter-widgets/controls",
          "model_name": "HTMLModel",
          "model_module_version": "1.5.0",
          "state": {
            "_view_name": "HTMLView",
            "style": "IPY_MODEL_904390fb333142408b26714d1afdd109",
            "_dom_classes": [],
            "description": "",
            "_model_name": "HTMLModel",
            "placeholder": "​",
            "_view_module": "@jupyter-widgets/controls",
            "_model_module_version": "1.5.0",
            "value": " 2/2 [00:09&lt;00:00,  4.78s/it]",
            "_view_count": null,
            "_view_module_version": "1.5.0",
            "description_tooltip": null,
            "_model_module": "@jupyter-widgets/controls",
            "layout": "IPY_MODEL_bfebcaa92cd8467fa9deffa68d641371"
          }
        },
        "e717156111144eb2964066198df0f2ec": {
          "model_module": "@jupyter-widgets/controls",
          "model_name": "DescriptionStyleModel",
          "model_module_version": "1.5.0",
          "state": {
            "_view_name": "StyleView",
            "_model_name": "DescriptionStyleModel",
            "description_width": "",
            "_view_module": "@jupyter-widgets/base",
            "_model_module_version": "1.5.0",
            "_view_count": null,
            "_view_module_version": "1.2.0",
            "_model_module": "@jupyter-widgets/controls"
          }
        },
        "366f2dfec99949efbe64df049314b37f": {
          "model_module": "@jupyter-widgets/base",
          "model_name": "LayoutModel",
          "model_module_version": "1.2.0",
          "state": {
            "_view_name": "LayoutView",
            "grid_template_rows": null,
            "right": null,
            "justify_content": null,
            "_view_module": "@jupyter-widgets/base",
            "overflow": null,
            "_model_module_version": "1.2.0",
            "_view_count": null,
            "flex_flow": null,
            "width": null,
            "min_width": null,
            "border": null,
            "align_items": null,
            "bottom": null,
            "_model_module": "@jupyter-widgets/base",
            "top": null,
            "grid_column": null,
            "overflow_y": null,
            "overflow_x": null,
            "grid_auto_flow": null,
            "grid_area": null,
            "grid_template_columns": null,
            "flex": null,
            "_model_name": "LayoutModel",
            "justify_items": null,
            "grid_row": null,
            "max_height": null,
            "align_content": null,
            "visibility": null,
            "align_self": null,
            "height": null,
            "min_height": null,
            "padding": null,
            "grid_auto_rows": null,
            "grid_gap": null,
            "max_width": null,
            "order": null,
            "_view_module_version": "1.2.0",
            "grid_template_areas": null,
            "object_position": null,
            "object_fit": null,
            "grid_auto_columns": null,
            "margin": null,
            "display": null,
            "left": null
          }
        },
        "8db1faf1febe49d99fc86e8381afd572": {
          "model_module": "@jupyter-widgets/controls",
          "model_name": "ProgressStyleModel",
          "model_module_version": "1.5.0",
          "state": {
            "_view_name": "StyleView",
            "_model_name": "ProgressStyleModel",
            "description_width": "",
            "_view_module": "@jupyter-widgets/base",
            "_model_module_version": "1.5.0",
            "_view_count": null,
            "_view_module_version": "1.2.0",
            "bar_color": null,
            "_model_module": "@jupyter-widgets/controls"
          }
        },
        "b1fc28cbf1464bdbbfa429e2b47d48a5": {
          "model_module": "@jupyter-widgets/base",
          "model_name": "LayoutModel",
          "model_module_version": "1.2.0",
          "state": {
            "_view_name": "LayoutView",
            "grid_template_rows": null,
            "right": null,
            "justify_content": null,
            "_view_module": "@jupyter-widgets/base",
            "overflow": null,
            "_model_module_version": "1.2.0",
            "_view_count": null,
            "flex_flow": null,
            "width": null,
            "min_width": null,
            "border": null,
            "align_items": null,
            "bottom": null,
            "_model_module": "@jupyter-widgets/base",
            "top": null,
            "grid_column": null,
            "overflow_y": null,
            "overflow_x": null,
            "grid_auto_flow": null,
            "grid_area": null,
            "grid_template_columns": null,
            "flex": null,
            "_model_name": "LayoutModel",
            "justify_items": null,
            "grid_row": null,
            "max_height": null,
            "align_content": null,
            "visibility": null,
            "align_self": null,
            "height": null,
            "min_height": null,
            "padding": null,
            "grid_auto_rows": null,
            "grid_gap": null,
            "max_width": null,
            "order": null,
            "_view_module_version": "1.2.0",
            "grid_template_areas": null,
            "object_position": null,
            "object_fit": null,
            "grid_auto_columns": null,
            "margin": null,
            "display": null,
            "left": null
          }
        },
        "904390fb333142408b26714d1afdd109": {
          "model_module": "@jupyter-widgets/controls",
          "model_name": "DescriptionStyleModel",
          "model_module_version": "1.5.0",
          "state": {
            "_view_name": "StyleView",
            "_model_name": "DescriptionStyleModel",
            "description_width": "",
            "_view_module": "@jupyter-widgets/base",
            "_model_module_version": "1.5.0",
            "_view_count": null,
            "_view_module_version": "1.2.0",
            "_model_module": "@jupyter-widgets/controls"
          }
        },
        "bfebcaa92cd8467fa9deffa68d641371": {
          "model_module": "@jupyter-widgets/base",
          "model_name": "LayoutModel",
          "model_module_version": "1.2.0",
          "state": {
            "_view_name": "LayoutView",
            "grid_template_rows": null,
            "right": null,
            "justify_content": null,
            "_view_module": "@jupyter-widgets/base",
            "overflow": null,
            "_model_module_version": "1.2.0",
            "_view_count": null,
            "flex_flow": null,
            "width": null,
            "min_width": null,
            "border": null,
            "align_items": null,
            "bottom": null,
            "_model_module": "@jupyter-widgets/base",
            "top": null,
            "grid_column": null,
            "overflow_y": null,
            "overflow_x": null,
            "grid_auto_flow": null,
            "grid_area": null,
            "grid_template_columns": null,
            "flex": null,
            "_model_name": "LayoutModel",
            "justify_items": null,
            "grid_row": null,
            "max_height": null,
            "align_content": null,
            "visibility": null,
            "align_self": null,
            "height": null,
            "min_height": null,
            "padding": null,
            "grid_auto_rows": null,
            "grid_gap": null,
            "max_width": null,
            "order": null,
            "_view_module_version": "1.2.0",
            "grid_template_areas": null,
            "object_position": null,
            "object_fit": null,
            "grid_auto_columns": null,
            "margin": null,
            "display": null,
            "left": null
          }
        },
        "d66536dfcdfc447f9b16080c109a0d08": {
          "model_module": "@jupyter-widgets/controls",
          "model_name": "HBoxModel",
          "model_module_version": "1.5.0",
          "state": {
            "_view_name": "HBoxView",
            "_dom_classes": [],
            "_model_name": "HBoxModel",
            "_view_module": "@jupyter-widgets/controls",
            "_model_module_version": "1.5.0",
            "_view_count": null,
            "_view_module_version": "1.5.0",
            "box_style": "",
            "layout": "IPY_MODEL_67888b652adc44b4ad66a7f973a90090",
            "_model_module": "@jupyter-widgets/controls",
            "children": [
              "IPY_MODEL_baf7564409134f55a6596a5156e363cd",
              "IPY_MODEL_58e36c28c4a041729090bf4f0f52ed0f",
              "IPY_MODEL_1b9c7bddc10e44d3b826ba375a748e36"
            ]
          }
        },
        "67888b652adc44b4ad66a7f973a90090": {
          "model_module": "@jupyter-widgets/base",
          "model_name": "LayoutModel",
          "model_module_version": "1.2.0",
          "state": {
            "_view_name": "LayoutView",
            "grid_template_rows": null,
            "right": null,
            "justify_content": null,
            "_view_module": "@jupyter-widgets/base",
            "overflow": null,
            "_model_module_version": "1.2.0",
            "_view_count": null,
            "flex_flow": null,
            "width": null,
            "min_width": null,
            "border": null,
            "align_items": null,
            "bottom": null,
            "_model_module": "@jupyter-widgets/base",
            "top": null,
            "grid_column": null,
            "overflow_y": null,
            "overflow_x": null,
            "grid_auto_flow": null,
            "grid_area": null,
            "grid_template_columns": null,
            "flex": null,
            "_model_name": "LayoutModel",
            "justify_items": null,
            "grid_row": null,
            "max_height": null,
            "align_content": null,
            "visibility": null,
            "align_self": null,
            "height": null,
            "min_height": null,
            "padding": null,
            "grid_auto_rows": null,
            "grid_gap": null,
            "max_width": null,
            "order": null,
            "_view_module_version": "1.2.0",
            "grid_template_areas": null,
            "object_position": null,
            "object_fit": null,
            "grid_auto_columns": null,
            "margin": null,
            "display": null,
            "left": null
          }
        },
        "baf7564409134f55a6596a5156e363cd": {
          "model_module": "@jupyter-widgets/controls",
          "model_name": "HTMLModel",
          "model_module_version": "1.5.0",
          "state": {
            "_view_name": "HTMLView",
            "style": "IPY_MODEL_c87c3a0fc3b34c5d85351082cbcb56c3",
            "_dom_classes": [],
            "description": "",
            "_model_name": "HTMLModel",
            "placeholder": "​",
            "_view_module": "@jupyter-widgets/controls",
            "_model_module_version": "1.5.0",
            "value": "100%",
            "_view_count": null,
            "_view_module_version": "1.5.0",
            "description_tooltip": null,
            "_model_module": "@jupyter-widgets/controls",
            "layout": "IPY_MODEL_519995359ce0400394ce406d4df8eb91"
          }
        },
        "58e36c28c4a041729090bf4f0f52ed0f": {
          "model_module": "@jupyter-widgets/controls",
          "model_name": "FloatProgressModel",
          "model_module_version": "1.5.0",
          "state": {
            "_view_name": "ProgressView",
            "style": "IPY_MODEL_d5a5b0c5cd214333b3c9064c673e9324",
            "_dom_classes": [],
            "description": "",
            "_model_name": "FloatProgressModel",
            "bar_style": "success",
            "max": 1,
            "_view_module": "@jupyter-widgets/controls",
            "_model_module_version": "1.5.0",
            "value": 1,
            "_view_count": null,
            "_view_module_version": "1.5.0",
            "orientation": "horizontal",
            "min": 0,
            "description_tooltip": null,
            "_model_module": "@jupyter-widgets/controls",
            "layout": "IPY_MODEL_e07a3c814e7d46d396941d50846aa12d"
          }
        },
        "1b9c7bddc10e44d3b826ba375a748e36": {
          "model_module": "@jupyter-widgets/controls",
          "model_name": "HTMLModel",
          "model_module_version": "1.5.0",
          "state": {
            "_view_name": "HTMLView",
            "style": "IPY_MODEL_40416e7cf49947818751249688caef01",
            "_dom_classes": [],
            "description": "",
            "_model_name": "HTMLModel",
            "placeholder": "​",
            "_view_module": "@jupyter-widgets/controls",
            "_model_module_version": "1.5.0",
            "value": " 1/1 [00:04&lt;00:00,  4.82s/it]",
            "_view_count": null,
            "_view_module_version": "1.5.0",
            "description_tooltip": null,
            "_model_module": "@jupyter-widgets/controls",
            "layout": "IPY_MODEL_5c03ce349e4d4e99b07f715206da7f36"
          }
        },
        "c87c3a0fc3b34c5d85351082cbcb56c3": {
          "model_module": "@jupyter-widgets/controls",
          "model_name": "DescriptionStyleModel",
          "model_module_version": "1.5.0",
          "state": {
            "_view_name": "StyleView",
            "_model_name": "DescriptionStyleModel",
            "description_width": "",
            "_view_module": "@jupyter-widgets/base",
            "_model_module_version": "1.5.0",
            "_view_count": null,
            "_view_module_version": "1.2.0",
            "_model_module": "@jupyter-widgets/controls"
          }
        },
        "519995359ce0400394ce406d4df8eb91": {
          "model_module": "@jupyter-widgets/base",
          "model_name": "LayoutModel",
          "model_module_version": "1.2.0",
          "state": {
            "_view_name": "LayoutView",
            "grid_template_rows": null,
            "right": null,
            "justify_content": null,
            "_view_module": "@jupyter-widgets/base",
            "overflow": null,
            "_model_module_version": "1.2.0",
            "_view_count": null,
            "flex_flow": null,
            "width": null,
            "min_width": null,
            "border": null,
            "align_items": null,
            "bottom": null,
            "_model_module": "@jupyter-widgets/base",
            "top": null,
            "grid_column": null,
            "overflow_y": null,
            "overflow_x": null,
            "grid_auto_flow": null,
            "grid_area": null,
            "grid_template_columns": null,
            "flex": null,
            "_model_name": "LayoutModel",
            "justify_items": null,
            "grid_row": null,
            "max_height": null,
            "align_content": null,
            "visibility": null,
            "align_self": null,
            "height": null,
            "min_height": null,
            "padding": null,
            "grid_auto_rows": null,
            "grid_gap": null,
            "max_width": null,
            "order": null,
            "_view_module_version": "1.2.0",
            "grid_template_areas": null,
            "object_position": null,
            "object_fit": null,
            "grid_auto_columns": null,
            "margin": null,
            "display": null,
            "left": null
          }
        },
        "d5a5b0c5cd214333b3c9064c673e9324": {
          "model_module": "@jupyter-widgets/controls",
          "model_name": "ProgressStyleModel",
          "model_module_version": "1.5.0",
          "state": {
            "_view_name": "StyleView",
            "_model_name": "ProgressStyleModel",
            "description_width": "",
            "_view_module": "@jupyter-widgets/base",
            "_model_module_version": "1.5.0",
            "_view_count": null,
            "_view_module_version": "1.2.0",
            "bar_color": null,
            "_model_module": "@jupyter-widgets/controls"
          }
        },
        "e07a3c814e7d46d396941d50846aa12d": {
          "model_module": "@jupyter-widgets/base",
          "model_name": "LayoutModel",
          "model_module_version": "1.2.0",
          "state": {
            "_view_name": "LayoutView",
            "grid_template_rows": null,
            "right": null,
            "justify_content": null,
            "_view_module": "@jupyter-widgets/base",
            "overflow": null,
            "_model_module_version": "1.2.0",
            "_view_count": null,
            "flex_flow": null,
            "width": null,
            "min_width": null,
            "border": null,
            "align_items": null,
            "bottom": null,
            "_model_module": "@jupyter-widgets/base",
            "top": null,
            "grid_column": null,
            "overflow_y": null,
            "overflow_x": null,
            "grid_auto_flow": null,
            "grid_area": null,
            "grid_template_columns": null,
            "flex": null,
            "_model_name": "LayoutModel",
            "justify_items": null,
            "grid_row": null,
            "max_height": null,
            "align_content": null,
            "visibility": null,
            "align_self": null,
            "height": null,
            "min_height": null,
            "padding": null,
            "grid_auto_rows": null,
            "grid_gap": null,
            "max_width": null,
            "order": null,
            "_view_module_version": "1.2.0",
            "grid_template_areas": null,
            "object_position": null,
            "object_fit": null,
            "grid_auto_columns": null,
            "margin": null,
            "display": null,
            "left": null
          }
        },
        "40416e7cf49947818751249688caef01": {
          "model_module": "@jupyter-widgets/controls",
          "model_name": "DescriptionStyleModel",
          "model_module_version": "1.5.0",
          "state": {
            "_view_name": "StyleView",
            "_model_name": "DescriptionStyleModel",
            "description_width": "",
            "_view_module": "@jupyter-widgets/base",
            "_model_module_version": "1.5.0",
            "_view_count": null,
            "_view_module_version": "1.2.0",
            "_model_module": "@jupyter-widgets/controls"
          }
        },
        "5c03ce349e4d4e99b07f715206da7f36": {
          "model_module": "@jupyter-widgets/base",
          "model_name": "LayoutModel",
          "model_module_version": "1.2.0",
          "state": {
            "_view_name": "LayoutView",
            "grid_template_rows": null,
            "right": null,
            "justify_content": null,
            "_view_module": "@jupyter-widgets/base",
            "overflow": null,
            "_model_module_version": "1.2.0",
            "_view_count": null,
            "flex_flow": null,
            "width": null,
            "min_width": null,
            "border": null,
            "align_items": null,
            "bottom": null,
            "_model_module": "@jupyter-widgets/base",
            "top": null,
            "grid_column": null,
            "overflow_y": null,
            "overflow_x": null,
            "grid_auto_flow": null,
            "grid_area": null,
            "grid_template_columns": null,
            "flex": null,
            "_model_name": "LayoutModel",
            "justify_items": null,
            "grid_row": null,
            "max_height": null,
            "align_content": null,
            "visibility": null,
            "align_self": null,
            "height": null,
            "min_height": null,
            "padding": null,
            "grid_auto_rows": null,
            "grid_gap": null,
            "max_width": null,
            "order": null,
            "_view_module_version": "1.2.0",
            "grid_template_areas": null,
            "object_position": null,
            "object_fit": null,
            "grid_auto_columns": null,
            "margin": null,
            "display": null,
            "left": null
          }
        },
        "bf7bec5fe5b74648b183b6ff463c1441": {
          "model_module": "@jupyter-widgets/controls",
          "model_name": "HBoxModel",
          "model_module_version": "1.5.0",
          "state": {
            "_view_name": "HBoxView",
            "_dom_classes": [],
            "_model_name": "HBoxModel",
            "_view_module": "@jupyter-widgets/controls",
            "_model_module_version": "1.5.0",
            "_view_count": null,
            "_view_module_version": "1.5.0",
            "box_style": "",
            "layout": "IPY_MODEL_cd17545fcf454cb5a191bfb48a80b2ee",
            "_model_module": "@jupyter-widgets/controls",
            "children": [
              "IPY_MODEL_1cd7cb6559ab4a759ef5d26149170e96",
              "IPY_MODEL_ab0df809f84e44c3a75331705f01a9e0",
              "IPY_MODEL_9ddf06c4be5048118d023c607dfd7272"
            ]
          }
        },
        "cd17545fcf454cb5a191bfb48a80b2ee": {
          "model_module": "@jupyter-widgets/base",
          "model_name": "LayoutModel",
          "model_module_version": "1.2.0",
          "state": {
            "_view_name": "LayoutView",
            "grid_template_rows": null,
            "right": null,
            "justify_content": null,
            "_view_module": "@jupyter-widgets/base",
            "overflow": null,
            "_model_module_version": "1.2.0",
            "_view_count": null,
            "flex_flow": null,
            "width": null,
            "min_width": null,
            "border": null,
            "align_items": null,
            "bottom": null,
            "_model_module": "@jupyter-widgets/base",
            "top": null,
            "grid_column": null,
            "overflow_y": null,
            "overflow_x": null,
            "grid_auto_flow": null,
            "grid_area": null,
            "grid_template_columns": null,
            "flex": null,
            "_model_name": "LayoutModel",
            "justify_items": null,
            "grid_row": null,
            "max_height": null,
            "align_content": null,
            "visibility": null,
            "align_self": null,
            "height": null,
            "min_height": null,
            "padding": null,
            "grid_auto_rows": null,
            "grid_gap": null,
            "max_width": null,
            "order": null,
            "_view_module_version": "1.2.0",
            "grid_template_areas": null,
            "object_position": null,
            "object_fit": null,
            "grid_auto_columns": null,
            "margin": null,
            "display": null,
            "left": null
          }
        },
        "1cd7cb6559ab4a759ef5d26149170e96": {
          "model_module": "@jupyter-widgets/controls",
          "model_name": "HTMLModel",
          "model_module_version": "1.5.0",
          "state": {
            "_view_name": "HTMLView",
            "style": "IPY_MODEL_1adebbaf33474219a1bc3c38e60ab29e",
            "_dom_classes": [],
            "description": "",
            "_model_name": "HTMLModel",
            "placeholder": "​",
            "_view_module": "@jupyter-widgets/controls",
            "_model_module_version": "1.5.0",
            "value": " 62%",
            "_view_count": null,
            "_view_module_version": "1.5.0",
            "description_tooltip": null,
            "_model_module": "@jupyter-widgets/controls",
            "layout": "IPY_MODEL_3624a2d737cc426aa601d3e74f721135"
          }
        },
        "ab0df809f84e44c3a75331705f01a9e0": {
          "model_module": "@jupyter-widgets/controls",
          "model_name": "FloatProgressModel",
          "model_module_version": "1.5.0",
          "state": {
            "_view_name": "ProgressView",
            "style": "IPY_MODEL_5331ca3e8c4a4478b64f09b0d52247b9",
            "_dom_classes": [],
            "description": "",
            "_model_name": "FloatProgressModel",
            "bar_style": "",
            "max": 8,
            "_view_module": "@jupyter-widgets/controls",
            "_model_module_version": "1.5.0",
            "value": 5,
            "_view_count": null,
            "_view_module_version": "1.5.0",
            "orientation": "horizontal",
            "min": 0,
            "description_tooltip": null,
            "_model_module": "@jupyter-widgets/controls",
            "layout": "IPY_MODEL_0e3374cb397645baab361626bd111c59"
          }
        },
        "9ddf06c4be5048118d023c607dfd7272": {
          "model_module": "@jupyter-widgets/controls",
          "model_name": "HTMLModel",
          "model_module_version": "1.5.0",
          "state": {
            "_view_name": "HTMLView",
            "style": "IPY_MODEL_925a3c4b6e834a77975a6e79aae8cac5",
            "_dom_classes": [],
            "description": "",
            "_model_name": "HTMLModel",
            "placeholder": "​",
            "_view_module": "@jupyter-widgets/controls",
            "_model_module_version": "1.5.0",
            "value": " 5/8 [00:24&lt;00:14,  4.84s/it]",
            "_view_count": null,
            "_view_module_version": "1.5.0",
            "description_tooltip": null,
            "_model_module": "@jupyter-widgets/controls",
            "layout": "IPY_MODEL_b07f9216918f435c8fa8f234982ebce9"
          }
        },
        "1adebbaf33474219a1bc3c38e60ab29e": {
          "model_module": "@jupyter-widgets/controls",
          "model_name": "DescriptionStyleModel",
          "model_module_version": "1.5.0",
          "state": {
            "_view_name": "StyleView",
            "_model_name": "DescriptionStyleModel",
            "description_width": "",
            "_view_module": "@jupyter-widgets/base",
            "_model_module_version": "1.5.0",
            "_view_count": null,
            "_view_module_version": "1.2.0",
            "_model_module": "@jupyter-widgets/controls"
          }
        },
        "3624a2d737cc426aa601d3e74f721135": {
          "model_module": "@jupyter-widgets/base",
          "model_name": "LayoutModel",
          "model_module_version": "1.2.0",
          "state": {
            "_view_name": "LayoutView",
            "grid_template_rows": null,
            "right": null,
            "justify_content": null,
            "_view_module": "@jupyter-widgets/base",
            "overflow": null,
            "_model_module_version": "1.2.0",
            "_view_count": null,
            "flex_flow": null,
            "width": null,
            "min_width": null,
            "border": null,
            "align_items": null,
            "bottom": null,
            "_model_module": "@jupyter-widgets/base",
            "top": null,
            "grid_column": null,
            "overflow_y": null,
            "overflow_x": null,
            "grid_auto_flow": null,
            "grid_area": null,
            "grid_template_columns": null,
            "flex": null,
            "_model_name": "LayoutModel",
            "justify_items": null,
            "grid_row": null,
            "max_height": null,
            "align_content": null,
            "visibility": null,
            "align_self": null,
            "height": null,
            "min_height": null,
            "padding": null,
            "grid_auto_rows": null,
            "grid_gap": null,
            "max_width": null,
            "order": null,
            "_view_module_version": "1.2.0",
            "grid_template_areas": null,
            "object_position": null,
            "object_fit": null,
            "grid_auto_columns": null,
            "margin": null,
            "display": null,
            "left": null
          }
        },
        "5331ca3e8c4a4478b64f09b0d52247b9": {
          "model_module": "@jupyter-widgets/controls",
          "model_name": "ProgressStyleModel",
          "model_module_version": "1.5.0",
          "state": {
            "_view_name": "StyleView",
            "_model_name": "ProgressStyleModel",
            "description_width": "",
            "_view_module": "@jupyter-widgets/base",
            "_model_module_version": "1.5.0",
            "_view_count": null,
            "_view_module_version": "1.2.0",
            "bar_color": null,
            "_model_module": "@jupyter-widgets/controls"
          }
        },
        "0e3374cb397645baab361626bd111c59": {
          "model_module": "@jupyter-widgets/base",
          "model_name": "LayoutModel",
          "model_module_version": "1.2.0",
          "state": {
            "_view_name": "LayoutView",
            "grid_template_rows": null,
            "right": null,
            "justify_content": null,
            "_view_module": "@jupyter-widgets/base",
            "overflow": null,
            "_model_module_version": "1.2.0",
            "_view_count": null,
            "flex_flow": null,
            "width": null,
            "min_width": null,
            "border": null,
            "align_items": null,
            "bottom": null,
            "_model_module": "@jupyter-widgets/base",
            "top": null,
            "grid_column": null,
            "overflow_y": null,
            "overflow_x": null,
            "grid_auto_flow": null,
            "grid_area": null,
            "grid_template_columns": null,
            "flex": null,
            "_model_name": "LayoutModel",
            "justify_items": null,
            "grid_row": null,
            "max_height": null,
            "align_content": null,
            "visibility": null,
            "align_self": null,
            "height": null,
            "min_height": null,
            "padding": null,
            "grid_auto_rows": null,
            "grid_gap": null,
            "max_width": null,
            "order": null,
            "_view_module_version": "1.2.0",
            "grid_template_areas": null,
            "object_position": null,
            "object_fit": null,
            "grid_auto_columns": null,
            "margin": null,
            "display": null,
            "left": null
          }
        },
        "925a3c4b6e834a77975a6e79aae8cac5": {
          "model_module": "@jupyter-widgets/controls",
          "model_name": "DescriptionStyleModel",
          "model_module_version": "1.5.0",
          "state": {
            "_view_name": "StyleView",
            "_model_name": "DescriptionStyleModel",
            "description_width": "",
            "_view_module": "@jupyter-widgets/base",
            "_model_module_version": "1.5.0",
            "_view_count": null,
            "_view_module_version": "1.2.0",
            "_model_module": "@jupyter-widgets/controls"
          }
        },
        "b07f9216918f435c8fa8f234982ebce9": {
          "model_module": "@jupyter-widgets/base",
          "model_name": "LayoutModel",
          "model_module_version": "1.2.0",
          "state": {
            "_view_name": "LayoutView",
            "grid_template_rows": null,
            "right": null,
            "justify_content": null,
            "_view_module": "@jupyter-widgets/base",
            "overflow": null,
            "_model_module_version": "1.2.0",
            "_view_count": null,
            "flex_flow": null,
            "width": null,
            "min_width": null,
            "border": null,
            "align_items": null,
            "bottom": null,
            "_model_module": "@jupyter-widgets/base",
            "top": null,
            "grid_column": null,
            "overflow_y": null,
            "overflow_x": null,
            "grid_auto_flow": null,
            "grid_area": null,
            "grid_template_columns": null,
            "flex": null,
            "_model_name": "LayoutModel",
            "justify_items": null,
            "grid_row": null,
            "max_height": null,
            "align_content": null,
            "visibility": null,
            "align_self": null,
            "height": null,
            "min_height": null,
            "padding": null,
            "grid_auto_rows": null,
            "grid_gap": null,
            "max_width": null,
            "order": null,
            "_view_module_version": "1.2.0",
            "grid_template_areas": null,
            "object_position": null,
            "object_fit": null,
            "grid_auto_columns": null,
            "margin": null,
            "display": null,
            "left": null
          }
        }
      }
    }
  },
  "cells": [
    {
      "cell_type": "markdown",
      "metadata": {
        "id": "view-in-github",
        "colab_type": "text"
      },
      "source": [
        "<a href=\"https://colab.research.google.com/github/hamojb/AD_research/blob/main/colab_playaround.ipynb\" target=\"_parent\"><img src=\"https://colab.research.google.com/assets/colab-badge.svg\" alt=\"Open In Colab\"/></a>"
      ]
    },
    {
      "cell_type": "code",
      "metadata": {
        "id": "sSMWh5bTimA-"
      },
      "source": [
        "import os\n",
        "import numpy as np\n",
        "import pandas as pd\n",
        "import matplotlib.pyplot as plt \n",
        "from nibabel.testing import data_path\n",
        "import tensorflow as tf\n",
        "import nibabel as nib\n",
        "import os, psutil\n",
        "from collections import Counter\n",
        "import nibabel as nib\n",
        "from scipy import ndimage\n",
        "from tqdm.notebook import tqdm, trange\n",
        "import time\n",
        "import os\n",
        "import zipfile\n",
        "import numpy as np\n",
        "import tensorflow as tf\n",
        "from tensorflow import keras\n",
        "from tensorflow.keras import layers\n",
        "from tensorflow.keras.preprocessing.image import ImageDataGenerator"
      ],
      "execution_count": null,
      "outputs": []
    },
    {
      "cell_type": "code",
      "metadata": {
        "colab": {
          "base_uri": "https://localhost:8080/",
          "height": 35
        },
        "id": "kymLR49XDffI",
        "outputId": "084059ed-5793-45fb-9b73-758b6fecf97a"
      },
      "source": [
        "tf.test.gpu_device_name()"
      ],
      "execution_count": null,
      "outputs": [
        {
          "output_type": "execute_result",
          "data": {
            "application/vnd.google.colaboratory.intrinsic+json": {
              "type": "string"
            },
            "text/plain": [
              "'/device:GPU:0'"
            ]
          },
          "metadata": {
            "tags": []
          },
          "execution_count": 2
        }
      ]
    },
    {
      "cell_type": "code",
      "metadata": {
        "colab": {
          "base_uri": "https://localhost:8080/"
        },
        "id": "rJP9-nfyb2mw",
        "outputId": "4a194835-fbe3-44f7-cc92-0645ad8f4ec4"
      },
      "source": [
        "from tensorflow.python.client import device_lib\n",
        "device_lib.list_local_devices()"
      ],
      "execution_count": null,
      "outputs": [
        {
          "output_type": "execute_result",
          "data": {
            "text/plain": [
              "[name: \"/device:CPU:0\"\n",
              " device_type: \"CPU\"\n",
              " memory_limit: 268435456\n",
              " locality {\n",
              " }\n",
              " incarnation: 8936124745594846621, name: \"/device:GPU:0\"\n",
              " device_type: \"GPU\"\n",
              " memory_limit: 11345264640\n",
              " locality {\n",
              "   bus_id: 1\n",
              "   links {\n",
              "   }\n",
              " }\n",
              " incarnation: 5523776392945799393\n",
              " physical_device_desc: \"device: 0, name: Tesla K80, pci bus id: 0000:00:04.0, compute capability: 3.7\"]"
            ]
          },
          "metadata": {
            "tags": []
          },
          "execution_count": 3
        }
      ]
    },
    {
      "cell_type": "markdown",
      "metadata": {
        "id": "lvC1Wkl_i06t"
      },
      "source": [
        "# Define Helper Functions\n",
        "\n",
        "We define a number of functions that will be required in reading and re-structuring the data before we build our CNN models. "
      ]
    },
    {
      "cell_type": "code",
      "metadata": {
        "id": "7p5HvlDESIdH"
      },
      "source": [
        "def read_nifti_file(filepath):\n",
        "    \"\"\"Read and load volume\"\"\"\n",
        "    # Read file\n",
        "    scan = nib.load(filepath)\n",
        "    # Get raw data\n",
        "    scan = scan.get_fdata()\n",
        "    return scan\n",
        "\n",
        "\n",
        "def normalize(volume):\n",
        "    \"\"\"Normalize the volume\"\"\"\n",
        "    min = -1000\n",
        "    max = 400\n",
        "    volume[volume < min] = min\n",
        "    volume[volume > max] = max\n",
        "    volume = (volume - min) / (max - min)\n",
        "    volume = volume.astype(\"float32\")\n",
        "    return volume\n",
        "\n",
        "\n",
        "def resize_volume(img):\n",
        "    \"\"\"Resize across z-axis\"\"\"\n",
        "    # Set the desired depth\n",
        "    desired_depth = 224\n",
        "    desired_width = 224\n",
        "    desired_height = 224\n",
        "    # Get current depth\n",
        "    current_depth = img.shape[-1]\n",
        "    current_width = img.shape[0]\n",
        "    current_height = img.shape[1]\n",
        "    # Compute depth factor\n",
        "    depth = current_depth / desired_depth\n",
        "    width = current_width / desired_width\n",
        "    height = current_height / desired_height\n",
        "    depth_factor = 1 / depth\n",
        "    width_factor = 1 / width\n",
        "    height_factor = 1 / height\n",
        "    # Rotate\n",
        "    img = ndimage.rotate(img, 90, reshape=False)\n",
        "    # Resize across z-axis\n",
        "    img = ndimage.zoom(img, (width_factor, height_factor, depth_factor), order=1)\n",
        "    return img\n",
        "\n",
        "\n",
        "def process_scan(path):\n",
        "    \"\"\"Read and resize volume\"\"\"\n",
        "    # Read scan\n",
        "    volume = read_nifti_file(path)\n",
        "    # Normalize\n",
        "    volume = normalize(volume)\n",
        "    # Resize width, height and depth\n",
        "    volume = resize_volume(volume)\n",
        "    return volume\n",
        "\n",
        "def show_slices(slices, col = None):\n",
        "  \"\"\" Function to display row of image slices \"\"\"\n",
        "  fig, axes = plt.subplots(1, len(slices))\n",
        "  for i, slice in enumerate(slices):\n",
        "      axes[i].imshow(slice.T, cmap=col, origin=\"lower\")\n",
        "  return\n",
        "\n",
        "# def read_data(data_path: str): \n",
        "#   \"\"\" Function to read in data of each brain scan \"\"\"\n",
        "#   temp_path = os.path.join(data_path)\n",
        "#   temp_img = nib.load(temp_path)\n",
        "#   # return temp_img\n",
        "#   temp_data = temp_img.get_fdata()\n",
        "#   return temp_data\n",
        "\n",
        "\n",
        "\n",
        "# def produce_image(data_path: str): \n",
        "#   \"\"\" Function to read in data of each brain scan \"\"\"\n",
        "#   temp_path = os.path.join(data_path)\n",
        "#   temp_img = nib.load(temp_path)\n",
        "#   return temp_img\n",
        "\n",
        "# def populate_images(oasis_dir):#, df):\n",
        "#   \"\"\" Function to populate data \"\"\" \n",
        "#   data = []\n",
        "#   images = []\n",
        "#   filenames = []\n",
        "#   for filename in os.listdir(oasis_dir):\n",
        "#     print(filename)\n",
        "#     # if file_str in df\n",
        "#       # new_data, img = read_data(oasis_dir + filename)\n",
        "#       # data.append(new_data)\n",
        "#       # images.append(img)\n",
        "#   return data, images, filenames\n",
        "\n",
        "# def populate_images(oasis_dir, train_val_test):\n",
        "#   \"\"\" Function to populate data \"\"\" \n",
        "#   ret_df = {}\n",
        "#   for filename in os.listdir(oasis_dir):\n",
        "#     new_str = filename.split(\".\")[0].split(\"_\")[0]\n",
        "#     scan = filename.split(\".\")[0]\n",
        "#     if new_str in train_val_test:\n",
        "#       new_data = read_data(oasis_dir + filename)\n",
        "#       ret_df[scan] = new_data\n",
        "#     else: \n",
        "#       continue\n",
        "    \n",
        "#   return ret_df\n",
        "\n",
        "def match_data(scan_data, diagnosis_data): \n",
        "  empty_df = pd.DataFrame()\n",
        "  scan_patients = list(set(scan_data.Subject.values))\n",
        "  for patient in scan_patients:\n",
        "    temp_scans = scan_data[scan_data['Subject'] == patient]\n",
        "    temp_scans = temp_scans.sort_values('ID')\n",
        "    temp_diag = diagnosis_data[diagnosis_data['Subject'] == patient]\n",
        "    temp_diag = temp_diag.sort_values('ID')\n",
        "    test = pd.merge_asof(temp_scans, temp_diag, on=\"ID\", allow_exact_matches=True, direction = \"forward\")\n",
        "    empty_df = empty_df.append(test)\n",
        "  empty_df = empty_df.drop(columns = ['Inserted_x', 'Inserted_y', 'Subject_y', 'ageAtEntry'])\n",
        "  empty_df = empty_df.rename(columns = {\"Subject_x\":\"Subject\",\"FS_FSDATA ID\":\"MRI_ID\"})\n",
        "  empty_df = empty_df.reset_index().drop(columns = [\"index\"])\n",
        "  empty_df = empty_df.dropna()\n",
        "  return empty_df\n",
        "\n",
        "import random\n",
        "\n",
        "from scipy import ndimage\n",
        "\n",
        "\n",
        "@tf.function\n",
        "def rotate(volume):\n",
        "    \"\"\"Rotate the volume by a few degrees\"\"\"\n",
        "\n",
        "    def scipy_rotate(volume):\n",
        "        # define some rotation angles\n",
        "        angles = [-20, -10, -5, 5, 10, 20]\n",
        "        # pick angles at random\n",
        "        angle = random.choice(angles)\n",
        "        # rotate volume\n",
        "        volume = ndimage.rotate(volume, angle, reshape=False)\n",
        "        volume[volume < 0] = 0\n",
        "        volume[volume > 1] = 1\n",
        "        return volume\n",
        "\n",
        "    augmented_volume = tf.numpy_function(scipy_rotate, [volume], tf.float32)\n",
        "    return augmented_volume\n",
        "\n",
        "\n",
        "def train_preprocessing(volume, label):\n",
        "    \"\"\"Process training data by rotating and adding a channel.\"\"\"\n",
        "    # Rotate volume\n",
        "    volume = rotate(volume)\n",
        "    volume = tf.expand_dims(volume, axis=3)\n",
        "    return volume, label\n",
        "\n",
        "\n",
        "def validation_preprocessing(volume, label):\n",
        "    \"\"\"Process validation data by only adding a channel.\"\"\"\n",
        "    volume = tf.expand_dims(volume, axis=3)\n",
        "    return volume, label"
      ],
      "execution_count": null,
      "outputs": []
    },
    {
      "cell_type": "markdown",
      "metadata": {
        "id": "rwPrxUngtUSO"
      },
      "source": [
        "Quick demonstation on how to read the data in using the `nibabel` package"
      ]
    },
    {
      "cell_type": "code",
      "metadata": {
        "id": "PxwFfu6jooVC"
      },
      "source": [
        "path = os.path.join(\"/content/drive/MyDrive/oasis_original/OAS30001_Freesurfer53_d0129.mgz.nii.gz\")\n",
        "img = nib.load(path)\n",
        "data = img.get_fdata()"
      ],
      "execution_count": null,
      "outputs": []
    },
    {
      "cell_type": "code",
      "metadata": {
        "colab": {
          "base_uri": "https://localhost:8080/",
          "height": 146
        },
        "id": "FanObE-3RRKw",
        "outputId": "1487fbf6-c078-4ed6-d422-3ef6fdb59c37"
      },
      "source": [
        "slice_0 = data[128, :, :]\n",
        "slice_1 = data[:, 128, :]\n",
        "slice_2 = data[:, :, 128]\n",
        "show_slices([slice_0, slice_1, slice_2], \"gray\")"
      ],
      "execution_count": null,
      "outputs": [
        {
          "output_type": "display_data",
          "data": {
            "image/png": "[encoded data removed]",
            "text/plain": [
              "<Figure size 432x288 with 3 Axes>"
            ]
          },
          "metadata": {
            "tags": []
          }
        }
      ]
    },
    {
      "cell_type": "markdown",
      "metadata": {
        "id": "ww0x14fpi9Ei"
      },
      "source": [
        "Define functions to read all data in from `oasis_originals`. \n",
        "\n",
        "# Read data and store in variable. \n",
        "\n",
        "We initially look to define the original data frame that we will be working in. This requires linking the CDR scores with each scan. There are a few complexities in this process. Most notably: The \"days\" section of our MRI ID's do not match the \"days\" for the CDR score. To counter this we have made the assumption that for each patient, it is safe to say that closest diagnosis following an MRI scan is the corresponding diagnosis to said scan. \n",
        "\n",
        "Following this, we have begun working on reading our data in according to a number of set rules. Since we have longitudinal data, we must ensure that no patient exists across different training/validation/test sets (Training and non-training being most crucial). \n",
        "\n",
        "There are other requirements and these have been documented throughout the process. \n",
        "\n",
        "### Clinical Data (Contains CDR score)"
      ]
    },
    {
      "cell_type": "code",
      "metadata": {
        "id": "04J0X9hk6cPY"
      },
      "source": [
        "clinical_data = pd.read_csv(\"/content/drive/MyDrive/extra_data/clinical_data.csv\")\n",
        "clinical_data['ID'] = clinical_data['ADRC_ADRCCLINICALDATA ID'].str.split('_ClinicalData_', 1, expand=True)[1]\n",
        "clinical_data = clinical_data.drop(columns = ['ADRC_ADRCCLINICALDATA ID', 'Date', 'Subject.1', 'id'])\n",
        "clinical_data['Inserted'] = pd.to_datetime(clinical_data['Inserted'])\n",
        "clinical_data['ID'] = clinical_data['ID'].str.extract('(\\d+)', expand=False).astype(int)"
      ],
      "execution_count": null,
      "outputs": []
    },
    {
      "cell_type": "code",
      "metadata": {
        "colab": {
          "base_uri": "https://localhost:8080/",
          "height": 420
        },
        "id": "YacGM4POJUU0",
        "outputId": "fa109ecf-d86c-41e4-ab61-56eb0bf32bd0"
      },
      "source": [
        "clinical_data"
      ],
      "execution_count": null,
      "outputs": [
        {
          "output_type": "execute_result",
          "data": {
            "text/html": [
              "<div>\n",
              "<style scoped>\n",
              "    .dataframe tbody tr th:only-of-type {\n",
              "        vertical-align: middle;\n",
              "    }\n",
              "\n",
              "    .dataframe tbody tr th {\n",
              "        vertical-align: top;\n",
              "    }\n",
              "\n",
              "    .dataframe thead th {\n",
              "        text-align: right;\n",
              "    }\n",
              "</style>\n",
              "<table border=\"1\" class=\"dataframe\">\n",
              "  <thead>\n",
              "    <tr style=\"text-align: right;\">\n",
              "      <th></th>\n",
              "      <th>Subject</th>\n",
              "      <th>ageAtEntry</th>\n",
              "      <th>cdr</th>\n",
              "      <th>Inserted</th>\n",
              "      <th>ID</th>\n",
              "    </tr>\n",
              "  </thead>\n",
              "  <tbody>\n",
              "    <tr>\n",
              "      <th>0</th>\n",
              "      <td>OAS30001</td>\n",
              "      <td>65.149895</td>\n",
              "      <td>0.0</td>\n",
              "      <td>2017-12-20 10:54:32.956</td>\n",
              "      <td>0</td>\n",
              "    </tr>\n",
              "    <tr>\n",
              "      <th>1</th>\n",
              "      <td>OAS30001</td>\n",
              "      <td>65.149895</td>\n",
              "      <td>0.0</td>\n",
              "      <td>2017-12-20 10:54:33.466</td>\n",
              "      <td>339</td>\n",
              "    </tr>\n",
              "    <tr>\n",
              "      <th>2</th>\n",
              "      <td>OAS30001</td>\n",
              "      <td>65.149895</td>\n",
              "      <td>0.0</td>\n",
              "      <td>2017-12-20 10:54:33.673</td>\n",
              "      <td>722</td>\n",
              "    </tr>\n",
              "    <tr>\n",
              "      <th>3</th>\n",
              "      <td>OAS30001</td>\n",
              "      <td>65.149895</td>\n",
              "      <td>0.0</td>\n",
              "      <td>2017-12-20 10:54:33.891</td>\n",
              "      <td>1106</td>\n",
              "    </tr>\n",
              "    <tr>\n",
              "      <th>4</th>\n",
              "      <td>OAS30001</td>\n",
              "      <td>65.149895</td>\n",
              "      <td>0.0</td>\n",
              "      <td>2017-12-20 10:54:34.117</td>\n",
              "      <td>1456</td>\n",
              "    </tr>\n",
              "    <tr>\n",
              "      <th>...</th>\n",
              "      <td>...</td>\n",
              "      <td>...</td>\n",
              "      <td>...</td>\n",
              "      <td>...</td>\n",
              "      <td>...</td>\n",
              "    </tr>\n",
              "    <tr>\n",
              "      <th>6219</th>\n",
              "      <td>OAS31172</td>\n",
              "      <td>70.902120</td>\n",
              "      <td>0.0</td>\n",
              "      <td>2017-12-20 14:50:44.860</td>\n",
              "      <td>1215</td>\n",
              "    </tr>\n",
              "    <tr>\n",
              "      <th>6220</th>\n",
              "      <td>OAS31172</td>\n",
              "      <td>70.902120</td>\n",
              "      <td>0.0</td>\n",
              "      <td>2017-12-20 14:50:45.131</td>\n",
              "      <td>1565</td>\n",
              "    </tr>\n",
              "    <tr>\n",
              "      <th>6221</th>\n",
              "      <td>OAS31172</td>\n",
              "      <td>70.902120</td>\n",
              "      <td>0.0</td>\n",
              "      <td>2017-12-20 14:50:45.404</td>\n",
              "      <td>1908</td>\n",
              "    </tr>\n",
              "    <tr>\n",
              "      <th>6222</th>\n",
              "      <td>OAS31172</td>\n",
              "      <td>70.902120</td>\n",
              "      <td>0.0</td>\n",
              "      <td>2017-12-20 14:50:45.679</td>\n",
              "      <td>2816</td>\n",
              "    </tr>\n",
              "    <tr>\n",
              "      <th>6223</th>\n",
              "      <td>OAS31172</td>\n",
              "      <td>70.902120</td>\n",
              "      <td>0.0</td>\n",
              "      <td>2017-12-20 14:50:45.983</td>\n",
              "      <td>3294</td>\n",
              "    </tr>\n",
              "  </tbody>\n",
              "</table>\n",
              "<p>6224 rows × 5 columns</p>\n",
              "</div>"
            ],
            "text/plain": [
              "       Subject  ageAtEntry  cdr                Inserted    ID\n",
              "0     OAS30001   65.149895  0.0 2017-12-20 10:54:32.956     0\n",
              "1     OAS30001   65.149895  0.0 2017-12-20 10:54:33.466   339\n",
              "2     OAS30001   65.149895  0.0 2017-12-20 10:54:33.673   722\n",
              "3     OAS30001   65.149895  0.0 2017-12-20 10:54:33.891  1106\n",
              "4     OAS30001   65.149895  0.0 2017-12-20 10:54:34.117  1456\n",
              "...        ...         ...  ...                     ...   ...\n",
              "6219  OAS31172   70.902120  0.0 2017-12-20 14:50:44.860  1215\n",
              "6220  OAS31172   70.902120  0.0 2017-12-20 14:50:45.131  1565\n",
              "6221  OAS31172   70.902120  0.0 2017-12-20 14:50:45.404  1908\n",
              "6222  OAS31172   70.902120  0.0 2017-12-20 14:50:45.679  2816\n",
              "6223  OAS31172   70.902120  0.0 2017-12-20 14:50:45.983  3294\n",
              "\n",
              "[6224 rows x 5 columns]"
            ]
          },
          "metadata": {
            "tags": []
          },
          "execution_count": 8
        }
      ]
    },
    {
      "cell_type": "markdown",
      "metadata": {
        "id": "Bw5Clo2orYpV"
      },
      "source": [
        "### Scan Data (contains both scan information and the scan itself)"
      ]
    },
    {
      "cell_type": "code",
      "metadata": {
        "id": "g16kf9FQMPQO"
      },
      "source": [
        "scan_info = pd.read_csv(\"/content/drive/MyDrive/extra_data/freesurfers_mri_info.csv\")\n",
        "scan_info['ID'] = scan_info['FS_FSDATA ID'].str.split('_Freesurfer', 1, expand = True)[1]\n",
        "scan_info = scan_info.drop(columns = ['Session', 'FS Date'])\n",
        "scan_info.ID = scan_info.ID.str[3:]\n",
        "scan_info['Inserted'] = pd.to_datetime(scan_info['Inserted'])\n",
        "scan_info['ID'] = scan_info['ID'].str.extract('(\\d+)', expand=False).astype(int)"
      ],
      "execution_count": null,
      "outputs": []
    },
    {
      "cell_type": "code",
      "metadata": {
        "colab": {
          "base_uri": "https://localhost:8080/",
          "height": 420
        },
        "id": "jwkFopA2JVk2",
        "outputId": "33ab1923-f8e8-4d68-97a4-f3c9f2da565f"
      },
      "source": [
        "scan_info"
      ],
      "execution_count": null,
      "outputs": [
        {
          "output_type": "execute_result",
          "data": {
            "text/html": [
              "<div>\n",
              "<style scoped>\n",
              "    .dataframe tbody tr th:only-of-type {\n",
              "        vertical-align: middle;\n",
              "    }\n",
              "\n",
              "    .dataframe tbody tr th {\n",
              "        vertical-align: top;\n",
              "    }\n",
              "\n",
              "    .dataframe thead th {\n",
              "        text-align: right;\n",
              "    }\n",
              "</style>\n",
              "<table border=\"1\" class=\"dataframe\">\n",
              "  <thead>\n",
              "    <tr style=\"text-align: right;\">\n",
              "      <th></th>\n",
              "      <th>FS_FSDATA ID</th>\n",
              "      <th>Subject</th>\n",
              "      <th>Inserted</th>\n",
              "      <th>ID</th>\n",
              "    </tr>\n",
              "  </thead>\n",
              "  <tbody>\n",
              "    <tr>\n",
              "      <th>0</th>\n",
              "      <td>OAS30001_Freesurfer53_d0129</td>\n",
              "      <td>OAS30001</td>\n",
              "      <td>2017-11-15 13:26:34.150</td>\n",
              "      <td>129</td>\n",
              "    </tr>\n",
              "    <tr>\n",
              "      <th>1</th>\n",
              "      <td>OAS30001_Freesurfer53_d0757</td>\n",
              "      <td>OAS30001</td>\n",
              "      <td>2017-12-13 13:44:44.891</td>\n",
              "      <td>757</td>\n",
              "    </tr>\n",
              "    <tr>\n",
              "      <th>2</th>\n",
              "      <td>OAS30001_Freesurfer53_d2430</td>\n",
              "      <td>OAS30001</td>\n",
              "      <td>2017-11-15 11:10:13.939</td>\n",
              "      <td>2430</td>\n",
              "    </tr>\n",
              "    <tr>\n",
              "      <th>3</th>\n",
              "      <td>OAS30001_Freesurfer53_d3132</td>\n",
              "      <td>OAS30001</td>\n",
              "      <td>2017-10-20 12:44:27.928</td>\n",
              "      <td>3132</td>\n",
              "    </tr>\n",
              "    <tr>\n",
              "      <th>4</th>\n",
              "      <td>OAS30002_Freesurfer53_d0653</td>\n",
              "      <td>OAS30002</td>\n",
              "      <td>2017-11-10 12:45:42.205</td>\n",
              "      <td>653</td>\n",
              "    </tr>\n",
              "    <tr>\n",
              "      <th>...</th>\n",
              "      <td>...</td>\n",
              "      <td>...</td>\n",
              "      <td>...</td>\n",
              "      <td>...</td>\n",
              "    </tr>\n",
              "    <tr>\n",
              "      <th>2042</th>\n",
              "      <td>OAS31168_Freesurfer53_d2526</td>\n",
              "      <td>OAS31168</td>\n",
              "      <td>2017-11-09 14:22:52.248</td>\n",
              "      <td>2526</td>\n",
              "    </tr>\n",
              "    <tr>\n",
              "      <th>2043</th>\n",
              "      <td>OAS31169_Freesurfer53_d0620</td>\n",
              "      <td>OAS31169</td>\n",
              "      <td>2017-10-18 15:15:06.880</td>\n",
              "      <td>620</td>\n",
              "    </tr>\n",
              "    <tr>\n",
              "      <th>2044</th>\n",
              "      <td>OAS31170_Freesurfer53_d2410</td>\n",
              "      <td>OAS31170</td>\n",
              "      <td>2017-10-18 15:15:06.574</td>\n",
              "      <td>2410</td>\n",
              "    </tr>\n",
              "    <tr>\n",
              "      <th>2045</th>\n",
              "      <td>OAS31172_Freesurfer53_d0407</td>\n",
              "      <td>OAS31172</td>\n",
              "      <td>2017-10-18 15:15:06.817</td>\n",
              "      <td>407</td>\n",
              "    </tr>\n",
              "    <tr>\n",
              "      <th>2046</th>\n",
              "      <td>OAS31172_Freesurfer53_d1717</td>\n",
              "      <td>OAS31172</td>\n",
              "      <td>2017-10-18 15:15:06.584</td>\n",
              "      <td>1717</td>\n",
              "    </tr>\n",
              "  </tbody>\n",
              "</table>\n",
              "<p>2047 rows × 4 columns</p>\n",
              "</div>"
            ],
            "text/plain": [
              "                     FS_FSDATA ID   Subject                Inserted    ID\n",
              "0     OAS30001_Freesurfer53_d0129  OAS30001 2017-11-15 13:26:34.150   129\n",
              "1     OAS30001_Freesurfer53_d0757  OAS30001 2017-12-13 13:44:44.891   757\n",
              "2     OAS30001_Freesurfer53_d2430  OAS30001 2017-11-15 11:10:13.939  2430\n",
              "3     OAS30001_Freesurfer53_d3132  OAS30001 2017-10-20 12:44:27.928  3132\n",
              "4     OAS30002_Freesurfer53_d0653  OAS30002 2017-11-10 12:45:42.205   653\n",
              "...                           ...       ...                     ...   ...\n",
              "2042  OAS31168_Freesurfer53_d2526  OAS31168 2017-11-09 14:22:52.248  2526\n",
              "2043  OAS31169_Freesurfer53_d0620  OAS31169 2017-10-18 15:15:06.880   620\n",
              "2044  OAS31170_Freesurfer53_d2410  OAS31170 2017-10-18 15:15:06.574  2410\n",
              "2045  OAS31172_Freesurfer53_d0407  OAS31172 2017-10-18 15:15:06.817   407\n",
              "2046  OAS31172_Freesurfer53_d1717  OAS31172 2017-10-18 15:15:06.584  1717\n",
              "\n",
              "[2047 rows x 4 columns]"
            ]
          },
          "metadata": {
            "tags": []
          },
          "execution_count": 10
        }
      ]
    },
    {
      "cell_type": "markdown",
      "metadata": {
        "id": "-43ZgXlvre4P"
      },
      "source": [
        "### Match Clinical and Scan Data\n",
        "\n",
        "Here is where we match the data according the previously specified assumption. To debug code see the `Helper Function` section. "
      ]
    },
    {
      "cell_type": "code",
      "metadata": {
        "colab": {
          "base_uri": "https://localhost:8080/",
          "height": 420
        },
        "id": "AhNiWE0gJn0K",
        "outputId": "acdb4bfc-7b10-4368-9eec-1308af71970b"
      },
      "source": [
        "scan_and_diag = match_data(scan_info, clinical_data)\n",
        "scans_sorted = scan_and_diag.sort_values([\"Subject\", \"ID\"]).reset_index().drop(columns = [\"index\", \"ID\"])\n",
        "scans_sorted"
      ],
      "execution_count": null,
      "outputs": [
        {
          "output_type": "execute_result",
          "data": {
            "text/html": [
              "<div>\n",
              "<style scoped>\n",
              "    .dataframe tbody tr th:only-of-type {\n",
              "        vertical-align: middle;\n",
              "    }\n",
              "\n",
              "    .dataframe tbody tr th {\n",
              "        vertical-align: top;\n",
              "    }\n",
              "\n",
              "    .dataframe thead th {\n",
              "        text-align: right;\n",
              "    }\n",
              "</style>\n",
              "<table border=\"1\" class=\"dataframe\">\n",
              "  <thead>\n",
              "    <tr style=\"text-align: right;\">\n",
              "      <th></th>\n",
              "      <th>MRI_ID</th>\n",
              "      <th>Subject</th>\n",
              "      <th>cdr</th>\n",
              "    </tr>\n",
              "  </thead>\n",
              "  <tbody>\n",
              "    <tr>\n",
              "      <th>0</th>\n",
              "      <td>OAS30001_Freesurfer53_d0129</td>\n",
              "      <td>OAS30001</td>\n",
              "      <td>0.0</td>\n",
              "    </tr>\n",
              "    <tr>\n",
              "      <th>1</th>\n",
              "      <td>OAS30001_Freesurfer53_d0757</td>\n",
              "      <td>OAS30001</td>\n",
              "      <td>0.0</td>\n",
              "    </tr>\n",
              "    <tr>\n",
              "      <th>2</th>\n",
              "      <td>OAS30001_Freesurfer53_d2430</td>\n",
              "      <td>OAS30001</td>\n",
              "      <td>0.0</td>\n",
              "    </tr>\n",
              "    <tr>\n",
              "      <th>3</th>\n",
              "      <td>OAS30001_Freesurfer53_d3132</td>\n",
              "      <td>OAS30001</td>\n",
              "      <td>0.0</td>\n",
              "    </tr>\n",
              "    <tr>\n",
              "      <th>4</th>\n",
              "      <td>OAS30002_Freesurfer53_d0653</td>\n",
              "      <td>OAS30002</td>\n",
              "      <td>0.0</td>\n",
              "    </tr>\n",
              "    <tr>\n",
              "      <th>...</th>\n",
              "      <td>...</td>\n",
              "      <td>...</td>\n",
              "      <td>...</td>\n",
              "    </tr>\n",
              "    <tr>\n",
              "      <th>1824</th>\n",
              "      <td>OAS31168_Freesurfer53_d2526</td>\n",
              "      <td>OAS31168</td>\n",
              "      <td>0.0</td>\n",
              "    </tr>\n",
              "    <tr>\n",
              "      <th>1825</th>\n",
              "      <td>OAS31169_Freesurfer53_d0620</td>\n",
              "      <td>OAS31169</td>\n",
              "      <td>0.5</td>\n",
              "    </tr>\n",
              "    <tr>\n",
              "      <th>1826</th>\n",
              "      <td>OAS31170_Freesurfer53_d2410</td>\n",
              "      <td>OAS31170</td>\n",
              "      <td>1.0</td>\n",
              "    </tr>\n",
              "    <tr>\n",
              "      <th>1827</th>\n",
              "      <td>OAS31172_Freesurfer53_d0407</td>\n",
              "      <td>OAS31172</td>\n",
              "      <td>0.0</td>\n",
              "    </tr>\n",
              "    <tr>\n",
              "      <th>1828</th>\n",
              "      <td>OAS31172_Freesurfer53_d1717</td>\n",
              "      <td>OAS31172</td>\n",
              "      <td>0.0</td>\n",
              "    </tr>\n",
              "  </tbody>\n",
              "</table>\n",
              "<p>1829 rows × 3 columns</p>\n",
              "</div>"
            ],
            "text/plain": [
              "                           MRI_ID   Subject  cdr\n",
              "0     OAS30001_Freesurfer53_d0129  OAS30001  0.0\n",
              "1     OAS30001_Freesurfer53_d0757  OAS30001  0.0\n",
              "2     OAS30001_Freesurfer53_d2430  OAS30001  0.0\n",
              "3     OAS30001_Freesurfer53_d3132  OAS30001  0.0\n",
              "4     OAS30002_Freesurfer53_d0653  OAS30002  0.0\n",
              "...                           ...       ...  ...\n",
              "1824  OAS31168_Freesurfer53_d2526  OAS31168  0.0\n",
              "1825  OAS31169_Freesurfer53_d0620  OAS31169  0.5\n",
              "1826  OAS31170_Freesurfer53_d2410  OAS31170  1.0\n",
              "1827  OAS31172_Freesurfer53_d0407  OAS31172  0.0\n",
              "1828  OAS31172_Freesurfer53_d1717  OAS31172  0.0\n",
              "\n",
              "[1829 rows x 3 columns]"
            ]
          },
          "metadata": {
            "tags": []
          },
          "execution_count": 11
        }
      ]
    },
    {
      "cell_type": "markdown",
      "metadata": {
        "id": "bJCHuBxQsrkk"
      },
      "source": [
        "This `ALTERNATIVE_CASE` part isn't exactly necessary. I was initially tossing up between leaving the CDR scores as the raw number for an output but have decided that 'HC', 'MCI' and 'AD' are better classifiers (not that it matters, at all)."
      ]
    },
    {
      "cell_type": "code",
      "metadata": {
        "colab": {
          "base_uri": "https://localhost:8080/",
          "height": 420
        },
        "id": "6Q2ipJcFVpVK",
        "outputId": "7f746cb8-4889-4de5-a11d-0ceb59f06d5a"
      },
      "source": [
        "ALTERNATIVE_CASE = True\n",
        "if ALTERNATIVE_CASE: \n",
        "  scans_sorted['cdr'] = scans_sorted['cdr'].astype(str).replace({'0.0':'HC', '0.5': 'MCI', '1.0': 'AD', '2.0': 'AD', '3.0': 'AD'})\n",
        "scans_sorted"
      ],
      "execution_count": null,
      "outputs": [
        {
          "output_type": "execute_result",
          "data": {
            "text/html": [
              "<div>\n",
              "<style scoped>\n",
              "    .dataframe tbody tr th:only-of-type {\n",
              "        vertical-align: middle;\n",
              "    }\n",
              "\n",
              "    .dataframe tbody tr th {\n",
              "        vertical-align: top;\n",
              "    }\n",
              "\n",
              "    .dataframe thead th {\n",
              "        text-align: right;\n",
              "    }\n",
              "</style>\n",
              "<table border=\"1\" class=\"dataframe\">\n",
              "  <thead>\n",
              "    <tr style=\"text-align: right;\">\n",
              "      <th></th>\n",
              "      <th>MRI_ID</th>\n",
              "      <th>Subject</th>\n",
              "      <th>cdr</th>\n",
              "    </tr>\n",
              "  </thead>\n",
              "  <tbody>\n",
              "    <tr>\n",
              "      <th>0</th>\n",
              "      <td>OAS30001_Freesurfer53_d0129</td>\n",
              "      <td>OAS30001</td>\n",
              "      <td>HC</td>\n",
              "    </tr>\n",
              "    <tr>\n",
              "      <th>1</th>\n",
              "      <td>OAS30001_Freesurfer53_d0757</td>\n",
              "      <td>OAS30001</td>\n",
              "      <td>HC</td>\n",
              "    </tr>\n",
              "    <tr>\n",
              "      <th>2</th>\n",
              "      <td>OAS30001_Freesurfer53_d2430</td>\n",
              "      <td>OAS30001</td>\n",
              "      <td>HC</td>\n",
              "    </tr>\n",
              "    <tr>\n",
              "      <th>3</th>\n",
              "      <td>OAS30001_Freesurfer53_d3132</td>\n",
              "      <td>OAS30001</td>\n",
              "      <td>HC</td>\n",
              "    </tr>\n",
              "    <tr>\n",
              "      <th>4</th>\n",
              "      <td>OAS30002_Freesurfer53_d0653</td>\n",
              "      <td>OAS30002</td>\n",
              "      <td>HC</td>\n",
              "    </tr>\n",
              "    <tr>\n",
              "      <th>...</th>\n",
              "      <td>...</td>\n",
              "      <td>...</td>\n",
              "      <td>...</td>\n",
              "    </tr>\n",
              "    <tr>\n",
              "      <th>1824</th>\n",
              "      <td>OAS31168_Freesurfer53_d2526</td>\n",
              "      <td>OAS31168</td>\n",
              "      <td>HC</td>\n",
              "    </tr>\n",
              "    <tr>\n",
              "      <th>1825</th>\n",
              "      <td>OAS31169_Freesurfer53_d0620</td>\n",
              "      <td>OAS31169</td>\n",
              "      <td>MCI</td>\n",
              "    </tr>\n",
              "    <tr>\n",
              "      <th>1826</th>\n",
              "      <td>OAS31170_Freesurfer53_d2410</td>\n",
              "      <td>OAS31170</td>\n",
              "      <td>AD</td>\n",
              "    </tr>\n",
              "    <tr>\n",
              "      <th>1827</th>\n",
              "      <td>OAS31172_Freesurfer53_d0407</td>\n",
              "      <td>OAS31172</td>\n",
              "      <td>HC</td>\n",
              "    </tr>\n",
              "    <tr>\n",
              "      <th>1828</th>\n",
              "      <td>OAS31172_Freesurfer53_d1717</td>\n",
              "      <td>OAS31172</td>\n",
              "      <td>HC</td>\n",
              "    </tr>\n",
              "  </tbody>\n",
              "</table>\n",
              "<p>1829 rows × 3 columns</p>\n",
              "</div>"
            ],
            "text/plain": [
              "                           MRI_ID   Subject  cdr\n",
              "0     OAS30001_Freesurfer53_d0129  OAS30001   HC\n",
              "1     OAS30001_Freesurfer53_d0757  OAS30001   HC\n",
              "2     OAS30001_Freesurfer53_d2430  OAS30001   HC\n",
              "3     OAS30001_Freesurfer53_d3132  OAS30001   HC\n",
              "4     OAS30002_Freesurfer53_d0653  OAS30002   HC\n",
              "...                           ...       ...  ...\n",
              "1824  OAS31168_Freesurfer53_d2526  OAS31168   HC\n",
              "1825  OAS31169_Freesurfer53_d0620  OAS31169  MCI\n",
              "1826  OAS31170_Freesurfer53_d2410  OAS31170   AD\n",
              "1827  OAS31172_Freesurfer53_d0407  OAS31172   HC\n",
              "1828  OAS31172_Freesurfer53_d1717  OAS31172   HC\n",
              "\n",
              "[1829 rows x 3 columns]"
            ]
          },
          "metadata": {
            "tags": []
          },
          "execution_count": 12
        }
      ]
    },
    {
      "cell_type": "markdown",
      "metadata": {
        "id": "YeJ3gxa8Ja68"
      },
      "source": [
        "### Populating scan and label lists \n",
        "\n",
        "We now have a full data set containing the MRI_ID, Subject and their CDR score. From here, we will begin to populate the data set with scans and labels. The following steps get quite tricky given the previously mentioned specifications. \n",
        "\n",
        "We will first obtain a list of the scans that exist within our repository as there are some scans in the above data frame which do not exist in the original data and can, obviously, not be used to train or test the model. \n"
      ]
    },
    {
      "cell_type": "code",
      "metadata": {
        "id": "scENkrWR_Wzu"
      },
      "source": [
        "lst_scans = list(os.listdir(r'/content/drive/MyDrive/oasis_original/'))\n",
        "our_scans =[] \n",
        "for i in lst_scans: \n",
        "  our_scans.append(i.split('.')[0])"
      ],
      "execution_count": null,
      "outputs": []
    },
    {
      "cell_type": "markdown",
      "metadata": {
        "id": "SfbdunGz0TBx"
      },
      "source": [
        "We know it runs now... as such, I will just run everything on the first 10% of the data. To run it on all the data just remove the cell below. "
      ]
    },
    {
      "cell_type": "code",
      "metadata": {
        "id": "RfQjrG3D0ZXN"
      },
      "source": [
        "our_scans = our_scans[:int(.05*len(our_scans))]"
      ],
      "execution_count": null,
      "outputs": []
    },
    {
      "cell_type": "code",
      "metadata": {
        "colab": {
          "base_uri": "https://localhost:8080/"
        },
        "id": "OOddwJO2G0H4",
        "outputId": "f3de611b-7576-4246-c7bb-acdb6e78a998"
      },
      "source": [
        "copy_scans_sorted = scans_sorted.copy()\n",
        "copy_scans_sorted = copy_scans_sorted[copy_scans_sorted['MRI_ID'].isin(our_scans)]\n",
        "copy_scans_sorted['MRI_ID'] = '/content/drive/MyDrive/oasis_original/' + copy_scans_sorted['MRI_ID'] + \".mgz.nii.gz\"\n",
        "cdr_HC = copy_scans_sorted[copy_scans_sorted['cdr'] == 'HC']\n",
        "cdr_MCI = copy_scans_sorted[copy_scans_sorted['cdr'] == 'MCI']\n",
        "cdr_AD = copy_scans_sorted[copy_scans_sorted['cdr'] == 'AD']\n",
        "\n",
        "HC_scan_paths = list(cdr_HC['MRI_ID'].values)\n",
        "MCI_scan_paths = list(cdr_MCI['MRI_ID'].values)\n",
        "AD_scan_paths = list(cdr_AD['MRI_ID'].values)\n",
        "\n",
        "print(\"MRI scans of AD cases: {}\".format(str(len(AD_scan_paths))))\n",
        "print(\"MRI scans of MCI cases: {}\".format(str(len(MCI_scan_paths))))\n",
        "print(\"MRI scans of HC cases: {}\".format(str(len(HC_scan_paths))))"
      ],
      "execution_count": null,
      "outputs": [
        {
          "output_type": "stream",
          "text": [
            "MRI scans of AD cases: 3\n",
            "MRI scans of MCI cases: 12\n",
            "MRI scans of HC cases: 75\n"
          ],
          "name": "stdout"
        }
      ]
    },
    {
      "cell_type": "markdown",
      "metadata": {
        "id": "XT0wSJ0MOq0M"
      },
      "source": [
        "We see we have x AD, y MCI a z HC cases; however, we need to determine how many subjects we have of each too. As such we will split the data on the subjects rather than the scan itself. This ensures that we will not violate the requirements from previously. "
      ]
    },
    {
      "cell_type": "code",
      "metadata": {
        "colab": {
          "base_uri": "https://localhost:8080/"
        },
        "id": "ImP6zzPdG0KY",
        "outputId": "f1e6acb8-ed87-4d86-8547-062cd9bd6b47"
      },
      "source": [
        "from random import shuffle\n",
        "subj_ids = list(set(copy_scans_sorted[\"Subject\"]))\n",
        "shuffle(subj_ids)\n",
        "len(subj_ids)"
      ],
      "execution_count": null,
      "outputs": [
        {
          "output_type": "execute_result",
          "data": {
            "text/plain": [
              "45"
            ]
          },
          "metadata": {
            "tags": []
          },
          "execution_count": 16
        }
      ]
    },
    {
      "cell_type": "code",
      "metadata": {
        "colab": {
          "base_uri": "https://localhost:8080/"
        },
        "id": "HmFzD6ycQyiL",
        "outputId": "0d128277-b435-4cc9-9a24-d62531c92c6a"
      },
      "source": [
        "train_num_subs = int(len(subj_ids)*.6)\n",
        "valid_num_subs = int(len(subj_ids)*.2)\n",
        "test_num_subs = int(len(subj_ids)*.2)\n",
        "print(\"Desired training patients: {}\".format(train_num_subs))\n",
        "print(\"Desired validation patients: {}\".format(valid_num_subs))\n",
        "print(\"Desired test patients: {}\".format(test_num_subs))"
      ],
      "execution_count": null,
      "outputs": [
        {
          "output_type": "stream",
          "text": [
            "Desired training patients: 27\n",
            "Desired validation patients: 9\n",
            "Desired test patients: 9\n"
          ],
          "name": "stdout"
        }
      ]
    },
    {
      "cell_type": "code",
      "metadata": {
        "id": "awEmhABUSdfF"
      },
      "source": [
        "ad_subjs = cdr_AD.Subject.values\n",
        "use_this_val = len(list(set(ad_subjs)))"
      ],
      "execution_count": null,
      "outputs": []
    },
    {
      "cell_type": "markdown",
      "metadata": {
        "id": "HfUCbwQ8nIkR"
      },
      "source": [
        "Next, we ensure that we always have AD cases even when using a subset of the data. "
      ]
    },
    {
      "cell_type": "code",
      "metadata": {
        "id": "cCMA9FSGScUX"
      },
      "source": [
        "training_subjs = list(ad_subjs[:int(use_this_val * 0.6)])\n",
        "validation_subjs = list(ad_subjs[int(use_this_val * 0.6):int(use_this_val * 0.8)])\n",
        "test_subjs = list(ad_subjs[int(use_this_val * 0.8):])"
      ],
      "execution_count": null,
      "outputs": []
    },
    {
      "cell_type": "code",
      "metadata": {
        "id": "hV6HwTPpScWo"
      },
      "source": [
        "union = list(set().union(training_subjs, validation_subjs, test_subjs)) \n",
        "for i in subj_ids: \n",
        "  if i not in union: \n",
        "    if len(test_subjs) < test_num_subs: \n",
        "      test_subjs.append(i)\n",
        "    elif len(validation_subjs) < valid_num_subs: \n",
        "      validation_subjs.append(i)\n",
        "    else: \n",
        "      training_subjs.append(i)\n",
        "    union.append(i)"
      ],
      "execution_count": null,
      "outputs": []
    },
    {
      "cell_type": "code",
      "metadata": {
        "id": "5TW65VBDScb_"
      },
      "source": [
        "cdr_HC = copy_scans_sorted[copy_scans_sorted['cdr'] == 'HC']\n",
        "cdr_MCI = copy_scans_sorted[copy_scans_sorted['cdr'] == 'MCI']\n",
        "cdr_AD = copy_scans_sorted[copy_scans_sorted['cdr'] == 'AD']"
      ],
      "execution_count": null,
      "outputs": []
    },
    {
      "cell_type": "code",
      "metadata": {
        "id": "6w_I3i-HScew"
      },
      "source": [
        "training_data = copy_scans_sorted[copy_scans_sorted['Subject'].isin(training_subjs)]\n",
        "validation_data = copy_scans_sorted[copy_scans_sorted['Subject'].isin(validation_subjs)]\n",
        "test_data = copy_scans_sorted[copy_scans_sorted['Subject'].isin(test_subjs)]"
      ],
      "execution_count": null,
      "outputs": []
    },
    {
      "cell_type": "code",
      "metadata": {
        "id": "RucpD19yG0M-"
      },
      "source": [
        "def return_scan_paths(data, data_def:str):\n",
        "  cdr_HC = data[data['cdr'] == 'HC']\n",
        "  cdr_MCI = data[data['cdr'] == 'MCI']\n",
        "  cdr_AD = data[data['cdr'] == 'AD']\n",
        "\n",
        "  HC_scan_paths = list(cdr_HC['MRI_ID'].values)\n",
        "  MCI_scan_paths = list(cdr_MCI['MRI_ID'].values)\n",
        "  AD_scan_paths = list(cdr_AD['MRI_ID'].values)\n",
        "\n",
        "  print(\"MRI scans of AD cases in {} data: {}\".format(data_def, str(len(AD_scan_paths))))\n",
        "  print(\"MRI scans of MCI cases in {} data: {}\".format(data_def, str(len(MCI_scan_paths))))\n",
        "  print(\"MRI scans of HC cases in {} data: {}\".format(data_def, str(len(HC_scan_paths))))\n",
        "  return HC_scan_paths, MCI_scan_paths, AD_scan_paths"
      ],
      "execution_count": null,
      "outputs": []
    },
    {
      "cell_type": "code",
      "metadata": {
        "colab": {
          "base_uri": "https://localhost:8080/"
        },
        "id": "v0eZUZ1JG0PP",
        "outputId": "f0f2ef34-1a27-41d4-bcd3-1e98987fd2a2"
      },
      "source": [
        "train_HC, train_MCI, train_AD = return_scan_paths(training_data, 'training')"
      ],
      "execution_count": null,
      "outputs": [
        {
          "output_type": "stream",
          "text": [
            "MRI scans of AD cases in training data: 1\n",
            "MRI scans of MCI cases in training data: 5\n",
            "MRI scans of HC cases in training data: 49\n"
          ],
          "name": "stdout"
        }
      ]
    },
    {
      "cell_type": "code",
      "metadata": {
        "colab": {
          "base_uri": "https://localhost:8080/"
        },
        "id": "zCO-y0DlNal5",
        "outputId": "f43b8b1e-e3ee-439f-809f-d29f09f36647"
      },
      "source": [
        "val_HC, val_MCI, val_AD = return_scan_paths(validation_data, 'validation')"
      ],
      "execution_count": null,
      "outputs": [
        {
          "output_type": "stream",
          "text": [
            "MRI scans of AD cases in validation data: 1\n",
            "MRI scans of MCI cases in validation data: 2\n",
            "MRI scans of HC cases in validation data: 18\n"
          ],
          "name": "stdout"
        }
      ]
    },
    {
      "cell_type": "code",
      "metadata": {
        "colab": {
          "base_uri": "https://localhost:8080/"
        },
        "id": "vWcjy9K1hg5w",
        "outputId": "8cebeb10-b9b8-43e8-8f31-3e834bce6533"
      },
      "source": [
        "test_HC, test_MCI, test_AD = return_scan_paths(test_data, 'test')"
      ],
      "execution_count": null,
      "outputs": [
        {
          "output_type": "stream",
          "text": [
            "MRI scans of AD cases in test data: 1\n",
            "MRI scans of MCI cases in test data: 5\n",
            "MRI scans of HC cases in test data: 8\n"
          ],
          "name": "stdout"
        }
      ]
    },
    {
      "cell_type": "code",
      "metadata": {
        "id": "EWQWGm9EkqHR"
      },
      "source": [
        "def split_HC(lst): \n",
        "  return lst[:int(len(lst) * 5)]\n",
        "train_HC = split_HC(train_HC)\n",
        "val_HC = split_HC(val_HC)\n"
      ],
      "execution_count": null,
      "outputs": []
    },
    {
      "cell_type": "code",
      "metadata": {
        "id": "knkKPWfvxg6F"
      },
      "source": [
        "def return_labels(data):\n",
        "  cdr_HC = data[data['cdr'] == 'HC']\n",
        "  cdr_MCI = data[data['cdr'] == 'MCI']\n",
        "  cdr_AD = data[data['cdr'] == 'AD']\n",
        "\n",
        "  HC_labels = list(cdr_HC['cdr'].values)\n",
        "  MCI_labels = list(cdr_MCI['cdr'].values)\n",
        "  AD_labels = list(cdr_AD['cdr'].values)\n",
        "  ydata = np.concatenate((HC_labels, MCI_labels, AD_labels))\n",
        "  dummies = pd.get_dummies(ydata, columns=[\"Bridge_Types\"], prefix=[\"Type_is\"] )\n",
        "  return HC_labels, MCI_labels, AD_labels"
      ],
      "execution_count": null,
      "outputs": []
    },
    {
      "cell_type": "markdown",
      "metadata": {
        "id": "2LPDk4EGuDwI"
      },
      "source": [
        "These may already exist; they do not take too long to run if they do so I am just leaving this code in here for now. No harm done. "
      ]
    },
    {
      "cell_type": "code",
      "metadata": {
        "id": "EwW1xj6QDPzj"
      },
      "source": [
        "# !pip install tqdm\n",
        "# !pip install ipywidgets"
      ],
      "execution_count": null,
      "outputs": []
    },
    {
      "cell_type": "markdown",
      "metadata": {
        "id": "LH0xaRMkuUva"
      },
      "source": [
        "We (finally) populate our data. This takes a bloody age do be prepared to sit there and try and run this over night if possible. Once it is working we will use subsets of this to speed it all up. "
      ]
    },
    {
      "cell_type": "code",
      "metadata": {
        "colab": {
          "background_save": true,
          "base_uri": "https://localhost:8080/",
          "height": 49,
          "referenced_widgets": [
            "57a76f6032504160942ff57b030b8fae",
            "f4f7b45c8d254d659826b3f31cde58e7",
            "72fd4712c54846e1b0231ea2a9d3d6d3",
            "a6b9b045b2a44bd781a542309d2407cd",
            "23be1283ac054c2ea6e5351a3e6d3e4b",
            "2621a6b4e79541d29955d2f23fea4e61",
            "332ed980517a4a6a90bab730f0832171",
            "7305056ca7154da7858a4f71184e5663",
            "d56e30bd6f03475080ba81953bbad33a",
            "41397ba0f74f4bae9a5707c41a3ee9a4",
            "585c930f8ffb49be877bb39d85618803",
            "2ee6c98affac46f0a4218ee73c88c12c",
            "4729129637c54490b57264ef77903946"
          ]
        },
        "id": "xi9WyFb3hjdT",
        "outputId": "da577499-7cec-470a-fdd6-041ad6329d19"
      },
      "source": [
        "train_HC_scans = np.array([process_scan(path) for path in tqdm(train_HC)])\n",
        "train_MCI_scans = np.array([process_scan(path) for path in tqdm(train_MCI)])\n",
        "train_AD_scans = np.array([process_scan(path) for path in tqdm(train_AD)])\n",
        "x_train = np.concatenate((train_HC_scans, train_MCI_scans, train_AD_scans))\n",
        "\n",
        "y_train = return_labels(training_data)"
      ],
      "execution_count": null,
      "outputs": [
        {
          "output_type": "display_data",
          "data": {
            "application/vnd.jupyter.widget-view+json": {
              "model_id": "57a76f6032504160942ff57b030b8fae",
              "version_major": 2,
              "version_minor": 0
            },
            "text/plain": [
              "  0%|          | 0/49 [00:00<?, ?it/s]"
            ]
          },
          "metadata": {
            "tags": []
          }
        },
        {
          "output_type": "display_data",
          "data": {
            "application/vnd.jupyter.widget-view+json": {
              "model_id": "2ee6c98affac46f0a4218ee73c88c12c",
              "version_major": 2,
              "version_minor": 0
            },
            "text/plain": [
              "  0%|          | 0/5 [00:00<?, ?it/s]"
            ]
          },
          "metadata": {
            "tags": []
          }
        },
        {
          "output_type": "display_data",
          "data": {
            "application/vnd.jupyter.widget-view+json": {
              "model_id": "4729129637c54490b57264ef77903946",
              "version_major": 2,
              "version_minor": 0
            },
            "text/plain": [
              "  0%|          | 0/1 [00:00<?, ?it/s]"
            ]
          },
          "metadata": {
            "tags": []
          }
        }
      ]
    },
    {
      "cell_type": "code",
      "metadata": {
        "id": "FmXhkknEh7Nh",
        "colab": {
          "base_uri": "https://localhost:8080/",
          "height": 98,
          "referenced_widgets": [
            "95bc73b643824e7099634095fe4cb783",
            "e5168fb45b3044e9a9641c1bbf1d9a1f",
            "4795170ffb5246e4a4660fed750b698c",
            "921c31a070df4790bc54776be1119df3",
            "6223c6b987654da5a15e62e82453558f",
            "e0f593d6c5b942fb848ea914a6e5ed38",
            "e717156111144eb2964066198df0f2ec",
            "366f2dfec99949efbe64df049314b37f",
            "8db1faf1febe49d99fc86e8381afd572",
            "b1fc28cbf1464bdbbfa429e2b47d48a5",
            "904390fb333142408b26714d1afdd109",
            "bfebcaa92cd8467fa9deffa68d641371",
            "d66536dfcdfc447f9b16080c109a0d08",
            "67888b652adc44b4ad66a7f973a90090",
            "baf7564409134f55a6596a5156e363cd",
            "58e36c28c4a041729090bf4f0f52ed0f",
            "1b9c7bddc10e44d3b826ba375a748e36",
            "c87c3a0fc3b34c5d85351082cbcb56c3",
            "519995359ce0400394ce406d4df8eb91",
            "d5a5b0c5cd214333b3c9064c673e9324",
            "e07a3c814e7d46d396941d50846aa12d",
            "40416e7cf49947818751249688caef01",
            "5c03ce349e4d4e99b07f715206da7f36"
          ]
        },
        "outputId": "40993a7e-b851-4c36-e170-b3a12d9cee76"
      },
      "source": [
        "val_HC_scans = np.array([process_scan(path) for path in tqdm(val_HC)])\n",
        "val_MCI_scans = np.array([process_scan(path) for path in tqdm(val_MCI)])\n",
        "val_AD_scans = np.array([process_scan(path) for path in tqdm(val_AD)])\n",
        "x_val = np.concatenate((val_HC_scans, val_MCI_scans, val_AD_scans))\n",
        "\n",
        "y_val = return_labels(validation_data)"
      ],
      "execution_count": 31,
      "outputs": [
        {
          "output_type": "display_data",
          "data": {
            "application/vnd.jupyter.widget-view+json": {
              "model_id": "95bc73b643824e7099634095fe4cb783",
              "version_major": 2,
              "version_minor": 0
            },
            "text/plain": [
              "  0%|          | 0/18 [00:00<?, ?it/s]"
            ]
          },
          "metadata": {
            "tags": []
          }
        },
        {
          "output_type": "display_data",
          "data": {
            "application/vnd.jupyter.widget-view+json": {
              "model_id": "e5168fb45b3044e9a9641c1bbf1d9a1f",
              "version_minor": 0,
              "version_major": 2
            },
            "text/plain": [
              "  0%|          | 0/2 [00:00<?, ?it/s]"
            ]
          },
          "metadata": {
            "tags": []
          }
        },
        {
          "output_type": "display_data",
          "data": {
            "application/vnd.jupyter.widget-view+json": {
              "model_id": "d66536dfcdfc447f9b16080c109a0d08",
              "version_minor": 0,
              "version_major": 2
            },
            "text/plain": [
              "  0%|          | 0/1 [00:00<?, ?it/s]"
            ]
          },
          "metadata": {
            "tags": []
          }
        }
      ]
    },
    {
      "cell_type": "code",
      "metadata": {
        "id": "KHZ1aHMbjVqg",
        "colab": {
          "base_uri": "https://localhost:8080/",
          "height": 49,
          "referenced_widgets": [
            "bf7bec5fe5b74648b183b6ff463c1441",
            "cd17545fcf454cb5a191bfb48a80b2ee",
            "1cd7cb6559ab4a759ef5d26149170e96",
            "ab0df809f84e44c3a75331705f01a9e0",
            "9ddf06c4be5048118d023c607dfd7272",
            "1adebbaf33474219a1bc3c38e60ab29e",
            "3624a2d737cc426aa601d3e74f721135",
            "5331ca3e8c4a4478b64f09b0d52247b9",
            "0e3374cb397645baab361626bd111c59",
            "925a3c4b6e834a77975a6e79aae8cac5",
            "b07f9216918f435c8fa8f234982ebce9"
          ]
        },
        "outputId": "5b40c0c3-048f-4976-90c5-599d9226f5ea"
      },
      "source": [
        "test_HC_scans = np.array([process_scan(path) for path in tqdm(test_HC)])\n",
        "test_MCI_scans = np.array([process_scan(path) for path in tqdm(test_MCI)])\n",
        "test_AD_scans = np.array([process_scan(path) for path in tqdm(test_AD)])\n",
        "x_test = np.concatenate((test_HC_scans, test_MCI_scans, test_AD_scans))\n",
        "\n",
        "y_test = return_labels(test_data)"
      ],
      "execution_count": null,
      "outputs": [
        {
          "output_type": "display_data",
          "data": {
            "application/vnd.jupyter.widget-view+json": {
              "model_id": "bf7bec5fe5b74648b183b6ff463c1441",
              "version_minor": 0,
              "version_major": 2
            },
            "text/plain": [
              "  0%|          | 0/8 [00:00<?, ?it/s]"
            ]
          },
          "metadata": {
            "tags": []
          }
        }
      ]
    },
    {
      "cell_type": "code",
      "metadata": {
        "id": "0dPjAoMn6qC7"
      },
      "source": [
        "y_train = [item for sublist in y_train for item in sublist]\n",
        "y_val = [item for sublist in y_val for item in sublist]\n",
        "y_test = [item for sublist in y_test for item in sublist]\n",
        "\n",
        "len(y_train)"
      ],
      "execution_count": null,
      "outputs": []
    },
    {
      "cell_type": "markdown",
      "metadata": {
        "id": "uwrJpwVHDUEK"
      },
      "source": [
        "We now need to add label encoders for each of the values since we have multiclass labels. I believe 0 = AD, 1 = HC, 2 = MCI but will need to confirm and this may change based on different iterations. (On that note, I will need to set a seed to ensure that we always randomly shuffle the numbers in the same way because everything is so random at the moment). "
      ]
    },
    {
      "cell_type": "code",
      "metadata": {
        "id": "cR6FrIMn6m3u"
      },
      "source": [
        "from sklearn.preprocessing import LabelEncoder\n",
        "label_encoder = LabelEncoder()\n",
        "y_train = np.array(label_encoder.fit_transform(y_train))\n",
        "y_val = np.array(label_encoder.fit_transform(y_val))\n",
        "y_test = np.array(label_encoder.fit_transform(y_test))"
      ],
      "execution_count": null,
      "outputs": []
    },
    {
      "cell_type": "code",
      "metadata": {
        "id": "HLDZr2N9ReHE"
      },
      "source": [
        "import torch \n",
        "from torch.utils.data import TensorDataset, DataLoader\n",
        "\n",
        "tens_x_train = torch.Tensor(x_train)\n",
        "tens_y_train = torch.Tensor(y_train)\n",
        "\n",
        "tens_x_val = torch.Tensor(x_val)\n",
        "tens_y_val = torch.Tensor(y_val)\n",
        "\n",
        "train_ds2 = TensorDataset(tens_x_train, tens_y_train)\n",
        "val_ds2 = TensorDataset(tens_x_val, tens_y_val)"
      ],
      "execution_count": null,
      "outputs": []
    },
    {
      "cell_type": "code",
      "metadata": {
        "id": "XmP3DJa3727C"
      },
      "source": [
        "!pip install datasets \n",
        "from datasets import Dataset \n",
        "train_dict = {'img': x_train, \n",
        "              'labels':y_train}\n",
        "val_dict = {'img': x_val, \n",
        "              'labels':y_val}\n",
        "test_dict = {'img': x_train, \n",
        "              'labels':y_train}\n",
        "train_ds = Dataset.from_dict(train_dict)\n",
        "val_ds = Dataset.from_dict(val_dict)\n",
        "test_ds = Dataset.from_dict(test_dict)"
      ],
      "execution_count": null,
      "outputs": []
    },
    {
      "cell_type": "code",
      "metadata": {
        "id": "wyUiO-6RL925"
      },
      "source": [
        "train_ds"
      ],
      "execution_count": null,
      "outputs": []
    },
    {
      "cell_type": "code",
      "metadata": {
        "id": "dVYlpyEr73Sd"
      },
      "source": [
        "del train_dict, val_dict, test_dict"
      ],
      "execution_count": null,
      "outputs": []
    },
    {
      "cell_type": "code",
      "metadata": {
        "id": "gZjypIOwm5vB"
      },
      "source": [
        "train_loader = tf.data.Dataset.from_tensor_slices((x_train, y_train))\n",
        "validation_loader = tf.data.Dataset.from_tensor_slices((x_val, y_val))\n",
        "\n",
        "batch_size = 5\n",
        "# Augment the on the fly during training.\n",
        "train_dataset = (\n",
        "    train_loader.shuffle(len(x_train))\n",
        "    .map(train_preprocessing)\n",
        "    .batch(batch_size)\n",
        "    .prefetch(2)\n",
        ")\n",
        "# Only rescale.\n",
        "validation_dataset = (\n",
        "    validation_loader.shuffle(len(x_val))\n",
        "    .map(validation_preprocessing)\n",
        "    .batch(batch_size)\n",
        "    .prefetch(2)\n",
        ")"
      ],
      "execution_count": null,
      "outputs": []
    },
    {
      "cell_type": "code",
      "metadata": {
        "id": "BgnFU462m9j2"
      },
      "source": [
        "import matplotlib.pyplot as plt\n",
        "\n",
        "data = train_dataset.take(1)\n",
        "images, labels = list(data)[0]\n",
        "images = images.numpy()\n",
        "image = images[0]\n",
        "print(\"Dimension of new preprocessed MRI scan is:\", image.shape)\n",
        "plt.imshow(np.squeeze(image[:, :, 20]))"
      ],
      "execution_count": null,
      "outputs": []
    },
    {
      "cell_type": "code",
      "metadata": {
        "id": "WAh_N8qrnADK"
      },
      "source": [
        "# def plot_slices(num_rows, num_columns, width, height, data):\n",
        "#     data = np.rot90(np.array(data))\n",
        "#     data = np.transpose(data)\n",
        "#     data = np.reshape(data, (num_rows, num_columns, width, height))\n",
        "#     rows_data, columns_data = data.shape[0], data.shape[1]\n",
        "#     heights = [slc[0].shape[0] for slc in data]\n",
        "#     widths = [slc.shape[1] for slc in data[0]]\n",
        "#     fig_width = 12.0\n",
        "#     fig_height = fig_width * sum(heights) / sum(widths)\n",
        "#     f, axarr = plt.subplots(\n",
        "#         rows_data,\n",
        "#         columns_data,\n",
        "#         figsize=(fig_width, fig_height),\n",
        "#         gridspec_kw={\"height_ratios\": heights},\n",
        "#     )\n",
        "#     for i in range(rows_data):\n",
        "#         for j in range(columns_data):\n",
        "#             axarr[i, j].imshow(data[i][j], cmap=\"gray\")\n",
        "#             axarr[i, j].axis(\"off\")\n",
        "#     plt.subplots_adjust(wspace=0, hspace=0, left=0, right=1, bottom=0, top=1)\n",
        "#     plt.show()\n",
        "\n",
        "\n",
        "# # Visualize montage of slices.\n",
        "# # 4 rows and 10 columns for 100 slices of the MRI scan.\n",
        "# plot_slices(4, 10, 128, 128, image[:, :, :32])"
      ],
      "execution_count": null,
      "outputs": []
    },
    {
      "cell_type": "code",
      "metadata": {
        "id": "omqMXf6HdK6y"
      },
      "source": [
        "image.shape"
      ],
      "execution_count": null,
      "outputs": []
    },
    {
      "cell_type": "code",
      "metadata": {
        "id": "VRKCRrMsnDyh"
      },
      "source": [
        "def benchmark_model(width=128, height=128, depth=64):\n",
        "    \"\"\"Build a 3D convolutional neural network model.\n",
        "    \n",
        "    Although this will not be a baseline model as such, this is more just \n",
        "    to test whether or not the data is structured in such a wway that we know\n",
        "    subsequent models will run.\"\"\"\n",
        "\n",
        "    inputs = keras.Input((width, height, depth, 1))\n",
        "\n",
        "    x = layers.Conv3D(filters=64, kernel_size=3, activation=\"relu\")(inputs)\n",
        "    x = layers.MaxPool3D(pool_size=2)(x)\n",
        "    x = layers.BatchNormalization()(x)\n",
        "\n",
        "    x = layers.Conv3D(filters=64, kernel_size=3, activation=\"relu\")(x)\n",
        "    x = layers.MaxPool3D(pool_size=2)(x)\n",
        "    x = layers.BatchNormalization()(x)\n",
        "\n",
        "    x = layers.Conv3D(filters=128, kernel_size=3, activation=\"relu\")(x)\n",
        "    x = layers.MaxPool3D(pool_size=2)(x)\n",
        "    x = layers.BatchNormalization()(x)\n",
        "\n",
        "    x = layers.Conv3D(filters=256, kernel_size=3, activation=\"relu\")(x)\n",
        "    x = layers.MaxPool3D(pool_size=2)(x)\n",
        "    x = layers.BatchNormalization()(x)\n",
        "\n",
        "    x = layers.GlobalAveragePooling3D()(x)\n",
        "    x = layers.Dense(units=512, activation=\"relu\")(x)\n",
        "    x = layers.Dropout(0.3)(x)\n",
        "\n",
        "    outputs = layers.Dense(units=1, activation=\"sigmoid\")(x)\n",
        "\n",
        "    # Define the model.\n",
        "    model = keras.Model(inputs, outputs, name=\"3dcnn\")\n",
        "    return model\n",
        "# Build model.\n",
        "benchmark = benchmark_model(width=128, height=128, depth=64)\n",
        "benchmark.summary()"
      ],
      "execution_count": null,
      "outputs": []
    },
    {
      "cell_type": "code",
      "metadata": {
        "id": "F2xupPujnGJm"
      },
      "source": [
        "run = False\n",
        "if run: \n",
        "  initial_learning_rate = 0.0001\n",
        "  lr_schedule = keras.optimizers.schedules.ExponentialDecay(\n",
        "      initial_learning_rate, decay_steps=100000, decay_rate=0.96, staircase=True\n",
        "  )\n",
        "  benchmark.compile(\n",
        "      loss=\"binary_crossentropy\",\n",
        "      optimizer=keras.optimizers.Adam(learning_rate=lr_schedule),\n",
        "      metrics=[\"acc\"],\n",
        "  )\n",
        "\n",
        "  # Define callbacks.\n",
        "  checkpoint_cb = keras.callbacks.ModelCheckpoint(\n",
        "      \"3d_image_classification.h5\", save_best_only=True\n",
        "  )\n",
        "  early_stopping_cb = keras.callbacks.EarlyStopping(monitor=\"val_acc\", patience=15)\n",
        "\n",
        "  # Train the model, doing validation at the end of each epoch\n",
        "  epochs = 100\n",
        "  benchmark.fit(\n",
        "      train_dataset,\n",
        "      validation_data=validation_dataset,\n",
        "      epochs=epochs,\n",
        "      shuffle=True,\n",
        "      verbose=2,\n",
        "      callbacks=[checkpoint_cb, early_stopping_cb],\n",
        "  )\n",
        "\n",
        "  benchmark.load_weights(\"3d_image_classification.h5\")\n",
        "  val_preds = []\n",
        "  for i in range(len(x_val)): \n",
        "    val_preds.append(benchmark.predict(np.expand_dims(x_val[i], axis=0))[0])\n",
        "  val_preds"
      ],
      "execution_count": null,
      "outputs": []
    },
    {
      "cell_type": "code",
      "metadata": {
        "id": "yO2o4WqnnIid"
      },
      "source": [
        "if run: \n",
        "  fig, ax = plt.subplots(1, 2, figsize=(20, 3))\n",
        "  ax = ax.ravel()\n",
        "\n",
        "  for i, metric in enumerate([\"acc\", \"loss\"]):\n",
        "      ax[i].plot(benchmark.history.history[metric])\n",
        "      ax[i].plot(benchmark.history.history[\"val_\" + metric])\n",
        "      ax[i].set_title(\"Model {}\".format(metric))\n",
        "      ax[i].set_xlabel(\"epochs\")\n",
        "      ax[i].set_ylabel(metric)\n",
        "      ax[i].legend([\"train\", \"val\"])"
      ],
      "execution_count": null,
      "outputs": []
    },
    {
      "cell_type": "code",
      "metadata": {
        "id": "Wt2LpsRJNP7p"
      },
      "source": [
        "# !pip install transformers \n",
        "# from transformers import DeiTForImageClassification\n",
        "# import torch \n",
        "\n",
        "# device = torch.device('cuda' if torch.cuda.is_available() else 'cpu')\n",
        "\n",
        "# model = DeiTForImageClassification.from_pretrained('facebook/deit-base-patch16-224')\n",
        "# model.eval()\n",
        "# model.to(device)"
      ],
      "execution_count": null,
      "outputs": []
    },
    {
      "cell_type": "code",
      "metadata": {
        "id": "nPU4gzPCNQB4"
      },
      "source": [
        "!pip install transformers"
      ],
      "execution_count": null,
      "outputs": []
    },
    {
      "cell_type": "code",
      "metadata": {
        "id": "Cq3A8Tx913kQ"
      },
      "source": [
        "from transformers import DeiTModel\n",
        "from transformers.modeling_outputs import SequenceClassifierOutput\n",
        "import torch.nn as nn\n",
        "import torch.nn.functional as F\n",
        "\n",
        "class DeiTForImageClassification(nn.Module):\n",
        "    def __init__(self, num_labels=3):\n",
        "        super(DeiTForImageClassification, self).__init__()\n",
        "        self.deit = DeiTModel.from_pretrained('facebook/deit-small-patch16-224')\n",
        "        self.dropout = nn.Dropout(0.1)\n",
        "        self.classifier = nn.Linear(self.deit.config.hidden_size, num_labels)\n",
        "        self.num_labels = num_labels\n",
        "\n",
        "    def forward(self, pixel_values, labels):\n",
        "        outputs = self.deit(pixel_values=pixel_values)\n",
        "        output = self.dropout(outputs.last_hidden_state[:,0])\n",
        "        logits = self.classifier(output)\n",
        "\n",
        "        loss = None\n",
        "        if labels is not None:\n",
        "          loss_fct = nn.CrossEntropyLoss()\n",
        "          loss = loss_fct(logits.view(-1, self.num_labels), labels.view(-1))\n",
        "        if loss is not None:\n",
        "          return logits, loss.item()\n",
        "        else:\n",
        "          return logits, None"
      ],
      "execution_count": null,
      "outputs": []
    },
    {
      "cell_type": "code",
      "metadata": {
        "id": "wUk8deq413rJ"
      },
      "source": [
        "EPOCHS = 3\n",
        "BATCH_SIZE = 2\n",
        "LEARNING_RATE = 2e-5"
      ],
      "execution_count": null,
      "outputs": []
    },
    {
      "cell_type": "code",
      "metadata": {
        "id": "eTUFIJ3n13vP"
      },
      "source": [
        "from transformers import DeiTFeatureExtractor\n",
        "import torch.nn as nn\n",
        "import torch\n",
        "# Define Model\n",
        "model = DeiTForImageClassification(len(train_ds['labels']))   \n",
        "# Feature Extractor\n",
        "feature_extractor = DeiTFeatureExtractor.from_pretrained('facebook/deit-small-patch16-224')\n",
        "# Adam Optimizer\n",
        "optimizer = torch.optim.Adam(model.parameters(), lr=LEARNING_RATE)\n",
        "# Cross Entropy Loss\n",
        "loss_func = nn.CrossEntropyLoss()\n",
        "# Use GPU if available  \n",
        "device = torch.device('cuda' if torch.cuda.is_available() else 'cpu') \n",
        "if torch.cuda.is_available():\n",
        "    model.cuda() "
      ],
      "execution_count": null,
      "outputs": []
    },
    {
      "cell_type": "code",
      "metadata": {
        "id": "uNOpQr4m131C"
      },
      "source": [
        "import torch.utils.data as data\n",
        "from torch.autograd import Variable\n",
        "import numpy as np\n",
        "\n",
        "print(\"Number of train samples: \", len(train_ds2))\n",
        "print(\"Number of test samples: \", len(val_ds2))\n",
        "# print(\"Detected Classes are: \", train_ds.class_to_idx) \n",
        "\n",
        "train_loader = data.DataLoader(train_ds2, batch_size=BATCH_SIZE, shuffle=True,  num_workers=1)\n",
        "test_loader  = data.DataLoader(val_ds2, batch_size=BATCH_SIZE, shuffle=True, num_workers=1) \n",
        "\n",
        "print(train_loader)\n",
        "\n",
        "# Train the model\n",
        "for epoch in range(EPOCHS):        \n",
        "  for step, (x, y) in enumerate(train_loader):\n",
        "    # Change input array into list with each batch being one element\n",
        "    x = np.split(np.squeeze(np.array(x)), BATCH_SIZE)\n",
        "    # Remove unecessary dimension\n",
        "    for index, array in enumerate(x):\n",
        "      x[index] = np.squeeze(array)\n",
        "    # Apply feature extractor, stack back into 1 tensor and then convert to tensor\n",
        "    # x = torch.tensor(np.stack(feature_extractor(x)['pixel_values'], axis=0))\n",
        "    # Send to GPU if available\n",
        "    x = torch.tensor(x)\n",
        "    x, y  = x.to(device), y.to(device)\n",
        "    b_x = Variable(x)   # batch x (image)\n",
        "    b_y = Variable(y)   # batch y (target)\n",
        "    # Feed through model\n",
        "    output, loss = model(b_x, None)\n",
        "    # Calculate loss\n",
        "    if loss is None: \n",
        "      loss = loss_func(output, b_y)   \n",
        "      optimizer.zero_grad()           \n",
        "      loss.backward()                 \n",
        "      optimizer.step()\n",
        "\n",
        "    if step % 50 == 0:\n",
        "      # Get the next batch for testing purposes\n",
        "      test = next(iter(test_loader))\n",
        "      test_x = test[0]\n",
        "      # Reshape and get feature matrices as needed\n",
        "      test_x = np.split(np.squeeze(np.array(test_x)), BATCH_SIZE)\n",
        "      for index, array in enumerate(test_x):\n",
        "        test_x[index] = np.squeeze(array)\n",
        "      test_x = torch.tensor(np.stack(feature_extractor(test_x)['pixel_values'], axis=0))\n",
        "      # Send to appropirate computing device\n",
        "      test_x = test_x.to(device)\n",
        "      test_y = test[1].to(device)\n",
        "      # Get output (+ respective class) and compare to target\n",
        "      test_output, loss = model(test_x, test_y)\n",
        "      test_output = test_output.argmax(1)\n",
        "      # Calculate Accuracy\n",
        "      accuracy = (test_output == test_y).sum().item() / BATCH_SIZE\n",
        "      print('Epoch: ', epoch, '| train loss: %.4f' % loss, '| test accuracy: %.2f' % accuracy)"
      ],
      "execution_count": null,
      "outputs": []
    },
    {
      "cell_type": "code",
      "metadata": {
        "id": "u1jI9nYn135x"
      },
      "source": [
        "import matplotlib.pyplot as plt\n",
        "import numpy as np\n",
        "\n",
        "EVAL_BATCH = 1\n",
        "eval_loader  = data.DataLoader(val_ds, batch_size=EVAL_BATCH, shuffle=True, num_workers=1) \n",
        "# Disable grad\n",
        "with torch.no_grad():\n",
        "    \n",
        "  inputs, target = next(iter(eval_loader))\n",
        "  # Reshape and get feature matrices as needed\n",
        "  print(inputs.shape)\n",
        "  inputs = inputs[0].permute(1, 2, 0)\n",
        "  # Save original Input\n",
        "  originalInput = inputs\n",
        "  for index, array in enumerate(inputs):\n",
        "    inputs[index] = np.squeeze(array)\n",
        "  inputs = torch.tensor(np.stack(feature_extractor(inputs)['pixel_values'], axis=0))\n",
        "\n",
        "  # Send to appropriate computing device\n",
        "  inputs = inputs.to(device)\n",
        "  target = target.to(device)\n",
        " \n",
        "  # Generate prediction\n",
        "  prediction, loss = model(inputs, target)\n",
        "    \n",
        "  # Predicted class value using argmax\n",
        "  predicted_class = np.argmax(prediction.cpu())\n",
        "  value_predicted = list(valid_ds.class_to_idx.keys())[list(valid_ds['labels'].values()).index(predicted_class)]\n",
        "  value_target = list(valid_ds.class_to_idx.keys())[list(valid_ds['labels'].values()).index(target)]\n",
        "        \n",
        "  # Show result\n",
        "  plt.imshow(originalInput)\n",
        "  plt.xlim(224,0)\n",
        "  plt.ylim(224,0)\n",
        "  plt.title(f'Prediction: {value_predicted} - Actual target: {value_target}')\n",
        "  plt.show()"
      ],
      "execution_count": null,
      "outputs": []
    },
    {
      "cell_type": "code",
      "metadata": {
        "id": "eTf5TJ3p13-l"
      },
      "source": [
        "torch.save(model, '/content/model.pt')"
      ],
      "execution_count": null,
      "outputs": []
    },
    {
      "cell_type": "code",
      "metadata": {
        "id": "xCMg27hi14Fj"
      },
      "source": [
        "from google.colab import drive\n",
        "drive.mount('/content/gdrive')\n",
        "\n",
        "%cp /content/model.pt /content/gdrive/My\\ Drive"
      ],
      "execution_count": null,
      "outputs": []
    },
    {
      "cell_type": "code",
      "metadata": {
        "id": "nm37Nm5o14LO"
      },
      "source": [
        "MODEL_PATH = '/content/model.pt'\n",
        "model = torch.load(MODEL_PATH)\n",
        "model.eval()"
      ],
      "execution_count": null,
      "outputs": []
    },
    {
      "cell_type": "code",
      "metadata": {
        "id": "jJ3xqhVZ14QD"
      },
      "source": [
        ""
      ],
      "execution_count": null,
      "outputs": []
    },
    {
      "cell_type": "code",
      "metadata": {
        "id": "-NTDqNcE59lC"
      },
      "source": [
        ""
      ],
      "execution_count": null,
      "outputs": []
    },
    {
      "cell_type": "code",
      "metadata": {
        "id": "YeIv61ce59pV"
      },
      "source": [
        ""
      ],
      "execution_count": null,
      "outputs": []
    },
    {
      "cell_type": "code",
      "metadata": {
        "id": "9JR3S2Vq59uI"
      },
      "source": [
        ""
      ],
      "execution_count": null,
      "outputs": []
    },
    {
      "cell_type": "code",
      "metadata": {
        "id": "w0AiONJJ595B"
      },
      "source": [
        ""
      ],
      "execution_count": null,
      "outputs": []
    },
    {
      "cell_type": "code",
      "metadata": {
        "id": "8l2M7StxNQMt"
      },
      "source": [
        "# from transformers import DeiTModel\n",
        "# import torch.nn as nn\n",
        "# class DeiTForImageClassification2(nn.Module):\n",
        "\n",
        "#     def __init__(self, num_labels=3):\n",
        "\n",
        "#         super(DeiTForImageClassification2, self).__init__()\n",
        "#         self.deit = DeiTModel.from_pretrained('facebook/deit-small-patch16-224')\n",
        "#         self.classifier = nn.Linear(self.deit.config.hidden_size, num_labels)\n",
        "#         self.num_labels = num_labels\n",
        "\n",
        "#     def forward(self, pixel_values, labels):\n",
        "\n",
        "#         outputs = self.deit(pixel_values=pixel_values)\n",
        "#         logits = self.classifier(output)\n",
        "#         loss = None\n",
        "        \n",
        "#         if labels is not None:\n",
        "\n",
        "#           loss_fct = nn.CrossEntropyLoss()\n",
        "#           loss = loss_fct(logits.view(-1, self.num_labels), labels.view(-1))\n",
        "\n",
        "#         return SequenceClassifierOutput(\n",
        "#             loss=loss,\n",
        "#             logits=logits,\n",
        "#             hidden_states=outputs.hidden_states,\n",
        "#             attentions=outputs.attentions,\n",
        "#         )"
      ],
      "execution_count": null,
      "outputs": []
    },
    {
      "cell_type": "code",
      "metadata": {
        "id": "0JM2yROTJrXb"
      },
      "source": [
        "# from transformers import DeiTFeatureExtractor, ViTModel, DeiTForImageClassification, TrainingArguments, Trainer, \\\n",
        "#     default_data_collator, EarlyStoppingCallback\n",
        "# import tensorflow_datasets as tfds\n",
        "# from datasets import load_dataset, load_metric, Features, ClassLabel, Array3D"
      ],
      "execution_count": null,
      "outputs": []
    },
    {
      "cell_type": "code",
      "metadata": {
        "id": "0y-uVmpMNQSq"
      },
      "source": [
        "# args = TrainingArguments(\n",
        "#     'test_deit',\n",
        "#     evaluation_strategy=\"epoch\",\n",
        "#     learning_rate=2e-5,\n",
        "#     per_device_train_batch_size=5,\n",
        "#     per_device_eval_batch_size=2,\n",
        "#     num_train_epochs=1,\n",
        "#     weight_decay=0.01,\n",
        "#     load_best_model_at_end=False,\n",
        "#     metric_for_best_model=\"accuracy\",\n",
        "#     logging_dir='logs',\n",
        "# )\n",
        "# model = DeiTForImageClassification2()\n",
        "# def compute_metrics(eval_pred):\n",
        "#     predictions, labels = eval_pred\n",
        "#     predictions = np.argmax(predictions, axis=1)\n",
        "#     return load_metric(\"accuracy\").compute(predictions=predictions, references=labels)\n",
        "\n",
        "# feature_extractor = DeiTFeatureExtractor.from_pretrained('facebook/deit-small-patch16-224')\n",
        "# data_collator = default_data_collator\n",
        "\n",
        "\n",
        "# # im = Image.fromarray((x * 255).astype(np.uint8))\n",
        "# # random_array = np.random.random_sample(content_array.shape) * 255\n",
        "# # random_array = random_array.astype(np.uint8)\n",
        "\n",
        "# def preprocess_images(examples):\n",
        "#     images = examples['img']\n",
        "#     images = [np.array(image * 255, dtype=np.uint8) for image in images]\n",
        "#     images = [np.moveaxis(image, source=-1, destination=0) for image in images]\n",
        "#     inputs = feature_extractor(images=images)\n",
        "#     examples['pixel_values'] = inputs['pixel_values']\n",
        "#     return examples\n",
        "\n",
        "# features = Features({\n",
        "#     'labels': ClassLabel(\n",
        "#         names=['HC', 'MCI', 'AD']),\n",
        "#     'img': Array3D(dtype=\"int64\", shape=(3, 32, 32)),\n",
        "#     'pixel_values': Array3D(dtype=\"float32\", shape=(3, 32, 224)),\n",
        "# })\n",
        "\n",
        "\n",
        "# preprocessed_train_ds = train_ds.map(preprocess_images, batched = True, features=features)\n",
        "# preprocessed_val_ds = val_ds.map(preprocess_images, batched = True, features=features)\n",
        "# # preprocessed_test_ds = test_ds.map(preprocess_images, batched=True, features=features)\n",
        "\n",
        "\n",
        "# trainer = Trainer(\n",
        "#     model,\n",
        "#     args,\n",
        "#     train_dataset=train_ds,\n",
        "#     eval_dataset=val_ds,\n",
        "#     data_collator=data_collator,\n",
        "#     compute_metrics=compute_metrics\n",
        "# )\n",
        "\n",
        "# trainer.train()\n",
        "\n",
        "# outputs = trainer.predict(preprocessed_val_ds)"
      ],
      "execution_count": null,
      "outputs": []
    },
    {
      "cell_type": "code",
      "metadata": {
        "id": "M8grGU3b4NMO"
      },
      "source": [
        "# outputs"
      ],
      "execution_count": null,
      "outputs": []
    },
    {
      "cell_type": "code",
      "metadata": {
        "id": "iXum8eiXsU8L"
      },
      "source": [
        "# model = torch.hub.load('facebookresearch/deit:main', 'deit_base_patch16_224', pretrained=True)\n",
        "# model.summary()"
      ],
      "execution_count": null,
      "outputs": []
    },
    {
      "cell_type": "code",
      "metadata": {
        "id": "C3zfciBx3dmD"
      },
      "source": [
        "# def remove_head(feature_extractor_model):\n",
        "#     model_input = feature_extractor_model.input\n",
        "#     # model_input = keras.Input(shape=(128, 128, 64))\n",
        "#     output = feature_extractor_model.get_layer(name='avg_pool').output\n",
        "#     model = tf.keras.Model(inputs=model_input, outputs=output)\n",
        "#     return model"
      ],
      "execution_count": null,
      "outputs": []
    },
    {
      "cell_type": "code",
      "metadata": {
        "id": "8uL8RuDb37GW"
      },
      "source": [
        "# from tensorflow.keras.models import  Sequential, Model\n",
        "# from tensorflow.keras.layers import Dense, Flatten, Conv2D, MaxPooling2D\n",
        "# from tensorflow.keras.layers import Dropout, BatchNormalization\n",
        "\n",
        "# def add_new_classifier_head(feature_extractor_model):\n",
        "#     model = Sequential([\n",
        "#         feature_extractor_model,\n",
        "#         Dense(128, activation='relu'),\n",
        "#         Dropout(.5),\n",
        "#         Dense(y_train.shape[0], activation='softmax')\n",
        "#     ])\n",
        "    \n",
        "#     return model"
      ],
      "execution_count": null,
      "outputs": []
    },
    {
      "cell_type": "code",
      "metadata": {
        "id": "PW9sR8KR38El"
      },
      "source": [
        "# new_model = add_new_classifier_head(feature_extractor)\n",
        "# new_model.summary()"
      ],
      "execution_count": null,
      "outputs": []
    },
    {
      "cell_type": "code",
      "metadata": {
        "id": "tQWTdmRs3_1V"
      },
      "source": [
        "# def freeze_pretrained_weights(model):\n",
        "#     model.get_layer(name='xception').trainable=False\n",
        "    \n",
        "#     model.compile(optimizer='adam',\n",
        "#                  loss='categorical_crossentropy',\n",
        "#                  metrics=['accuracy'])\n",
        "#     return model"
      ],
      "execution_count": null,
      "outputs": []
    },
    {
      "cell_type": "code",
      "metadata": {
        "id": "TIFqBQ6U3_4B"
      },
      "source": [
        "# frozen_new_model = freeze_pretrained_weights(new_model)\n",
        "# frozen_new_model.summary()"
      ],
      "execution_count": null,
      "outputs": []
    },
    {
      "cell_type": "code",
      "metadata": {
        "id": "9QDeBoS13_6i"
      },
      "source": [
        "# def train_model(model, train_gen, valid_gen, epochs):\n",
        "#     train_steps_per_epoch = len(train_gen) // len(train_gen)\n",
        "#     val_steps = len(valid_gen) // len(valid_gen)\n",
        "    \n",
        "#     history = model.fit(train_gen, \n",
        "#                         steps_per_epoch = train_steps_per_epoch,\n",
        "#                         epochs=epochs,\n",
        "#                         validation_data=valid_gen)\n",
        "    \n",
        "#     return history"
      ],
      "execution_count": null,
      "outputs": []
    },
    {
      "cell_type": "code",
      "metadata": {
        "id": "hKZOG28ZYwFz"
      },
      "source": [
        "# frozen_new_model"
      ],
      "execution_count": null,
      "outputs": []
    },
    {
      "cell_type": "code",
      "metadata": {
        "id": "xyNJaAUV3_9M"
      },
      "source": [
        "# history_frozen_new_model = train_model(frozen_new_model, train_dataset, validation_dataset, 50)"
      ],
      "execution_count": null,
      "outputs": []
    },
    {
      "cell_type": "code",
      "metadata": {
        "id": "398VhN_A4AAF"
      },
      "source": [
        "\n",
        "# plt.figure(figsize=(15,5))\n",
        "# plt.subplot(121)\n",
        "# plt.plot(history_frozen_new_model.history['accuracy'])\n",
        "# plt.plot(history_frozen_new_model.history['val_accuracy'])\n",
        "# plt.title('Accuracy vs. epochs')\n",
        "# plt.ylabel('Accuracy')\n",
        "# plt.xlabel('Epoch')\n",
        "# plt.legend(['Training', 'Validation'], loc='lower right')\n",
        "\n",
        "# plt.subplot(122)\n",
        "# plt.plot(history_frozen_new_model.history['loss'])\n",
        "# plt.plot(history_frozen_new_model.history['val_loss'])\n",
        "# plt.title('Loss vs. epochs')\n",
        "# plt.ylabel('Loss')\n",
        "# plt.xlabel('Epoch')\n",
        "# plt.legend(['Training', 'Validation'], loc='upper right')\n",
        "# plt.show()"
      ],
      "execution_count": null,
      "outputs": []
    },
    {
      "cell_type": "code",
      "metadata": {
        "id": "4yJ1gw6o4ADb"
      },
      "source": [
        "# test_generator = get_generator(image_gen_test, directory_test)\n",
        "# new_model_test_loss, new_model_test_acc = frozen_new_model.evaluate(validation_dataset, steps=test_steps)\n",
        "# print('\\nTest dataset')\n",
        "# print(\"Loss: {}\".format(new_model_test_loss))\n",
        "# print(\"Accuracy: {}\".format(new_model_test_acc))"
      ],
      "execution_count": null,
      "outputs": []
    },
    {
      "cell_type": "code",
      "metadata": {
        "id": "h79-8FHi4AFg"
      },
      "source": [
        ""
      ],
      "execution_count": null,
      "outputs": []
    },
    {
      "cell_type": "code",
      "metadata": {
        "id": "yNxawZH77GCf"
      },
      "source": [
        ""
      ],
      "execution_count": null,
      "outputs": []
    },
    {
      "cell_type": "code",
      "metadata": {
        "id": "bCHee5x-7GFi"
      },
      "source": [
        "# def get_ImageDataGenerator_augmented(validation_split=None):\n",
        "#     image_generator = ImageDataGenerator(rescale=(1/255.),\n",
        "#                                         rotation_range=40,\n",
        "#                                         width_shift_range=0.2,\n",
        "#                                         height_shift_range=0.2,\n",
        "#                                         shear_range=0.2,\n",
        "#                                         zoom_range=0.1,\n",
        "#                                         brightness_range=[0.8,1.2],\n",
        "#                                         horizontal_flip=True,\n",
        "#                                         validation_split=validation_split)\n",
        "#     return image_generator"
      ],
      "execution_count": null,
      "outputs": []
    },
    {
      "cell_type": "code",
      "metadata": {
        "id": "S4fhi_uo7ILG"
      },
      "source": [
        "# from tensorflow.keras.preprocessing.image import ImageDataGenerator\n",
        "# image_gen_train_aug = get_ImageDataGenerator_augmented(validation_split=0.2)\n",
        "# train_generator_aug = get_generator(image_gen_train_aug, directory_train, train_valid='training', seed=1)\n",
        "# validation_generator_aug = get_generator(image_gen_train_aug, directory_train, train_valid='validation')\n",
        "# train_generator = get_generator(image_gen_train, directory_train, train_valid='training', seed=1)\n",
        "# batch = next(train_generator)\n",
        "# batch_images = np.array(batch[0])\n",
        "# batch_labels = np.array(batch[1])\n",
        "\n",
        "# aug_batch = next(train_generator_aug)\n",
        "# aug_batch_images = np.array(aug_batch[0])\n",
        "# aug_batch_labels = np.array(aug_batch[1])\n",
        "\n",
        "# plt.figure(figsize=(16,5))\n",
        "# plt.suptitle(\"original images\", fontsize=16)\n",
        "# for n, i in enumerate(np.arange(10)):\n",
        "#     ax = plt.subplot(2, 5, n+1)\n",
        "#     plt.imshow(batch_images[i])\n",
        "#     plt.title(target_labels[np.where(batch_labels[i]==1)[0][0]])\n",
        "#     plt.axis('off')\n",
        "# plt.figure(figsize=(16,5))\n",
        "# plt.suptitle(\"Augmented images\", fontsize=16)\n",
        "# for n, i in enumerate(np.arange(10)):\n",
        "#     ax = plt.subplot(2, 5, n+1)\n",
        "#     plt.imshow(aug_batch_images[i])\n",
        "#     plt.title(target_labels[np.where(batch_labels[i]==1)[0][0]])\n",
        "#     plt.axis('off')"
      ],
      "execution_count": null,
      "outputs": []
    },
    {
      "cell_type": "code",
      "metadata": {
        "id": "KZb6rL577SDB"
      },
      "source": [
        "# train_generator_aug = get_generator(image_gen_train_aug, directory_train, train_valid='training')\n",
        "# benchmark_model_aug = benchmark_model\n",
        "# history_augmented = train_model(benchmark_model_aug, train_generator_aug, validation_generator_aug, epochs=150)\n"
      ],
      "execution_count": null,
      "outputs": []
    },
    {
      "cell_type": "code",
      "metadata": {
        "id": "yO61NK957Wpg"
      },
      "source": [
        "!pip install timm\n",
        "import torch\n",
        "import timm\n",
        "import torchvision.transforms as transforms\n",
        "from timm.data.constants import IMAGENET_DEFAULT_MEAN, IMAGENET_DEFAULT_STD\n",
        "model = torch.hub.load('facebookresearch/deit:main', 'deit_base_patch16_224', pretrained=True)\n",
        "model.eval();"
      ],
      "execution_count": null,
      "outputs": []
    },
    {
      "cell_type": "code",
      "metadata": {
        "id": "vSPVndwldv7E"
      },
      "source": [
        "transform = transforms.Compose([\n",
        "    transforms.Resize(256, interpolation=3),\n",
        "    transforms.CenterCrop(224),\n",
        "    transforms.ToTensor(),\n",
        "    transforms.Normalize(IMAGENET_DEFAULT_MEAN, IMAGENET_DEFAULT_STD),\n",
        "])"
      ],
      "execution_count": null,
      "outputs": []
    },
    {
      "cell_type": "code",
      "metadata": {
        "id": "Pxkul0nGehiM"
      },
      "source": [
        "scripted_model = torch.jit.script(model)\n",
        "scripted_model.save(\"fbdeit_scripted.pt\")"
      ],
      "execution_count": null,
      "outputs": []
    },
    {
      "cell_type": "code",
      "metadata": {
        "id": "nDxN00crfNgx"
      },
      "source": [
        "backend = \"fbgemm\" # replaced with qnnpack causing much worse inference speed for quantized model on this notebook\n",
        "model.qconfig = torch.quantization.get_default_qconfig(backend)\n",
        "torch.backends.quantized.engine = backend\n",
        "\n",
        "quantized_model = torch.quantization.quantize_dynamic(model, qconfig_spec={torch.nn.Linear}, dtype=torch.qint8)\n",
        "scripted_quantized_model = torch.jit.script(quantized_model)\n",
        "scripted_quantized_model.save(\"fbdeit_scripted_quantized.pt\")"
      ],
      "execution_count": null,
      "outputs": []
    },
    {
      "cell_type": "code",
      "metadata": {
        "id": "IvWmb8dDfSx3"
      },
      "source": [
        "from torch.utils.mobile_optimizer import optimize_for_mobile\n",
        "optimized_scripted_quantized_model = optimize_for_mobile(scripted_quantized_model)\n",
        "optimized_scripted_quantized_model.save(\"fbdeit_optimized_scripted_quantized.pt\")"
      ],
      "execution_count": null,
      "outputs": []
    },
    {
      "cell_type": "code",
      "metadata": {
        "id": "Wa_0bFyGfX_i"
      },
      "source": [
        "model.fit_generator()"
      ],
      "execution_count": null,
      "outputs": []
    }
  ]
}